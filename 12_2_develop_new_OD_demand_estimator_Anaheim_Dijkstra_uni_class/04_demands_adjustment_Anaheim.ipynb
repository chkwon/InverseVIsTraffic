{
 "cells": [
  {
   "cell_type": "code",
   "execution_count": 1,
   "metadata": {
    "collapsed": false
   },
   "outputs": [],
   "source": [
    "using PyCall\n",
    "unshift!(PyVector(pyimport(\"sys\")[\"path\"]), \"\");\n",
    "@pyimport Compute_Jacobian_Anaheim"
   ]
  },
  {
   "cell_type": "code",
   "execution_count": 2,
   "metadata": {
    "collapsed": false
   },
   "outputs": [],
   "source": [
    "numNodes = Compute_Jacobian_Anaheim.numNodes;\n",
    "numLinks = Compute_Jacobian_Anaheim.numLinks;\n",
    "numODpairs = Compute_Jacobian_Anaheim.numODpairs;\n",
    "numZones = Compute_Jacobian_Anaheim.numZones;\n",
    "od_pairs = Compute_Jacobian_Anaheim.od_pairs;\n",
    "link_list_js = Compute_Jacobian_Anaheim.link_list_js;\n",
    "link_length_list = Compute_Jacobian_Anaheim.link_length_list;"
   ]
  },
  {
   "cell_type": "code",
   "execution_count": 3,
   "metadata": {
    "collapsed": false
   },
   "outputs": [
    {
     "name": "stderr",
     "output_type": "stream",
     "text": [
      "WARNING: Method definition (::Type{Graphs.KeyVertex})(Int64, #K<:Any) in module Graphs at /home/jzh/.julia/v0.5/Graphs/src/common.jl:12 overwritten at /home/jzh/.julia/v0.5/Graphs/src/common.jl:16.\n",
      "WARNING: Method definition (::Type{Graphs.Edge})(Int64, #V<:Any, #V<:Any) in module Graphs at /home/jzh/.julia/v0.5/Graphs/src/common.jl:54 overwritten at /home/jzh/.julia/v0.5/Graphs/src/common.jl:60.\n",
      "WARNING: Method definition (::Type{Graphs.ExEdge})(Int64, #V<:Any, #V<:Any, Base.Dict{String, Any}) in module Graphs at /home/jzh/.julia/v0.5/Graphs/src/common.jl:72 overwritten at /home/jzh/.julia/v0.5/Graphs/src/common.jl:83.\n",
      "WARNING: Method definition (::Type{Graphs.TargetIterator})(#G<:Graphs.AbstractGraph, #EList<:Any) in module Graphs at /home/jzh/.julia/v0.5/Graphs/src/common.jl:123 overwritten at /home/jzh/.julia/v0.5/Graphs/src/common.jl:127.\n",
      "WARNING: Method definition (::Type{Graphs.SourceIterator})(#G<:Graphs.AbstractGraph, #EList<:Any) in module Graphs at /home/jzh/.julia/v0.5/Graphs/src/common.jl:141 overwritten at /home/jzh/.julia/v0.5/Graphs/src/common.jl:145.\n",
      "WARNING: Method definition edge_property_requirement(Graphs.AbstractEdgePropertyInspector{#T<:Any}, Graphs.AbstractGraph{#V<:Any, E<:Any}) in module Graphs at /home/jzh/.julia/v0.5/Graphs/src/common.jl:164 overwritten at /home/jzh/.julia/v0.5/Graphs/src/common.jl:179.\n",
      "WARNING: Method definition vertex_index(#V<:Union{Graphs.KeyVertex, Graphs.ExVertex}, Graphs.GenericGraph{#V<:Union{Graphs.KeyVertex, Graphs.ExVertex}, E<:Any, VList<:Any, EList<:Any, IncList<:Any}) in module Graphs at /home/jzh/.julia/v0.5/Graphs/src/graph.jl:65 overwritten at /home/jzh/.julia/v0.5/Graphs/src/graph.jl:67.\n",
      "WARNING: Method definition (::Type{Graphs.GDistanceVisitor})(#G<:Graphs.AbstractGraph, #DMap<:Any) in module Graphs at /home/jzh/.julia/v0.5/Graphs/src/breadth_first_visit.jl:107 overwritten at /home/jzh/.julia/v0.5/Graphs/src/breadth_first_visit.jl:111.\n"
     ]
    }
   ],
   "source": [
    "include(\"../Julia_files/initia_data.jl\");\n",
    "include(\"../Julia_files/load_network_uni_class.jl\");\n",
    "include(\"prepare_data_Anaheim.jl\");\n",
    "include(\"extract_data_Anaheim.jl\");\n",
    "include(\"../Julia_files/tap_MSA.jl\");\n",
    "include(\"../Julia_files/inverseVI.jl\");\n",
    "include(\"../Julia_files/demands_adjustment_gradi.jl\");"
   ]
  },
  {
   "cell_type": "code",
   "execution_count": 4,
   "metadata": {
    "collapsed": false
   },
   "outputs": [
    {
     "data": {
      "text/plain": [
       "Dict{Any,Any} with 2 entries:\n",
       "  0 => Dict{Any,Any}(Pair{Any,Any}((8,23),1.0),Pair{Any,Any}((21,13),21.9),Pair…\n",
       "  1 => Dict{Any,Any}(Pair{Any,Any}((8,23),1.04623),Pair{Any,Any}((21,13),17.673…"
      ]
     },
     "execution_count": 4,
     "metadata": {},
     "output_type": "execute_result"
    }
   ],
   "source": [
    "demandsDict"
   ]
  },
  {
   "cell_type": "code",
   "execution_count": 5,
   "metadata": {
    "collapsed": false
   },
   "outputs": [],
   "source": [
    "demandsDiffDict[1] = norm(demandsDicToVec(demandsDict[1]) - demandsDicToVec(demandsDict[0]))/\n",
    "                     norm(demandsDicToVec(demandsDict[0]));"
   ]
  },
  {
   "cell_type": "code",
   "execution_count": 6,
   "metadata": {
    "collapsed": false
   },
   "outputs": [],
   "source": [
    "fcoeffs = [1, 0, 0, 0, .15];\n",
    "\n",
    "# get observed flow vector (corresponding to ground truth demands and ground truth costs)\n",
    "tapFlowDicDict[0], tapFlowVecDict[0] = tapMSA(demandsDict[0], fcoeffs);"
   ]
  },
  {
   "cell_type": "code",
   "execution_count": 7,
   "metadata": {
    "collapsed": false
   },
   "outputs": [
    {
     "data": {
      "text/plain": [
       "Dict{Any,Any} with 914 entries:\n",
       "  (71,255)  => Arc(71,255,1800.0,0.5,2256.86)\n",
       "  (323,324) => Arc(323,324,5400.0,0.5,1101.68)\n",
       "  (354,353) => Arc(354,353,5400.0,1.0,8.1826)\n",
       "  (60,230)  => Arc(60,230,9000.0,0.333333,2184.31)\n",
       "  (223,346) => Arc(223,346,1800.0,0.5,1407.46)\n",
       "  (147,146) => Arc(147,146,7200.0,0.763321,3563.88)\n",
       "  (337,33)  => Arc(337,33,12600.0,0.149068,6581.72)\n",
       "  (366,365) => Arc(366,365,5400.0,0.5,1008.7)\n",
       "  (390,375) => Arc(390,375,5400.0,2.0,0.0)\n",
       "  (315,316) => Arc(315,316,5400.0,2.57992,0.0)\n",
       "  (198,197) => Arc(198,197,7200.0,0.152623,6072.44)\n",
       "  (333,334) => Arc(333,334,5400.0,0.420076,1501.87)\n",
       "  (367,368) => Arc(367,368,5400.0,0.720076,132.977)\n",
       "  (244,339) => Arc(244,339,1800.0,0.5,1770.03)\n",
       "  (274,41)  => Arc(274,41,5400.0,1.0,0.0)\n",
       "  (225,330) => Arc(225,330,1800.0,0.5,997.887)\n",
       "  (49,369)  => Arc(49,369,5400.0,1.0,0.0)\n",
       "  (274,275) => Arc(274,275,5400.0,2.0,501.6)\n",
       "  (15,254)  => Arc(15,254,5400.0,1.0,407.1)\n",
       "  (226,225) => Arc(226,225,9000.0,0.937836,5169.63)\n",
       "  (218,392) => Arc(218,392,1800.0,0.5,430.737)\n",
       "  (323,322) => Arc(323,322,5400.0,2.0,1692.6)\n",
       "  (203,202) => Arc(203,202,7200.0,0.272615,3707.63)\n",
       "  (367,384) => Arc(367,384,5400.0,2.27992,0.0)\n",
       "  (135,298) => Arc(135,298,1800.0,0.5,468.043)\n",
       "  ⋮         => ⋮"
      ]
     },
     "execution_count": 7,
     "metadata": {},
     "output_type": "execute_result"
    }
   ],
   "source": [
    "# get arcs data corresponding to ground truth demands and flows\n",
    "arcsDict[0] = observFlow(\"./benchmark_data/Anaheim_net.txt\", tapFlowDicDict[0])"
   ]
  },
  {
   "cell_type": "code",
   "execution_count": 8,
   "metadata": {
    "collapsed": false
   },
   "outputs": [],
   "source": [
    "deg = 6\n",
    "c = 3.5\n",
    "lam = 1.\n",
    "\n",
    "coeffs_dict[(deg, c, lam, 1)], objInvVIDict[1] = train(lam, deg, c, demandsDict[1], arcsDict[0]);"
   ]
  },
  {
   "cell_type": "code",
   "execution_count": 9,
   "metadata": {
    "collapsed": false
   },
   "outputs": [],
   "source": [
    "# get initial flow vector (corresponding to initial demands)\n",
    "tapFlowDicDict[1], tapFlowVecDict[1] = tapMSA(demandsDict[1], coeffs_dict[(deg, c, lam, 1)]);\n",
    "\n",
    "demandsVecDict[0] = demandsDicToVec(demandsDict[0]);"
   ]
  },
  {
   "cell_type": "code",
   "execution_count": 10,
   "metadata": {
    "collapsed": false
   },
   "outputs": [
    {
     "data": {
      "text/plain": [
       "1"
      ]
     },
     "execution_count": 10,
     "metadata": {},
     "output_type": "execute_result"
    }
   ],
   "source": [
    "# weight parameters\n",
    "gamma1 = 10^4\n",
    "gamma2 = 1"
   ]
  },
  {
   "cell_type": "code",
   "execution_count": 11,
   "metadata": {
    "collapsed": false
   },
   "outputs": [],
   "source": [
    "demandsVecDict[1] = demandsDicToVec(demandsDict[1]);\n",
    "objFunDict[1] = objF(gamma1, gamma2, demandsVecDict[1], demandsVecDict[0], coeffs_dict[(deg, c, lam, 1)]);"
   ]
  },
  {
   "cell_type": "code",
   "execution_count": 12,
   "metadata": {
    "collapsed": false
   },
   "outputs": [],
   "source": [
    "# get arcs data corresponding to initial demands and flows\n",
    "arcsDict[1] = observFlow(\"./benchmark_data/Anaheim_net.txt\", tapFlowDicDict[1]);"
   ]
  },
  {
   "cell_type": "code",
   "execution_count": 13,
   "metadata": {
    "collapsed": false
   },
   "outputs": [],
   "source": [
    "linkCostDicDict[1] = tapFlowVecToLinkCostDict(tapFlowVecDict[1], coeffs_dict[(deg, c, lam, 1)]);"
   ]
  },
  {
   "cell_type": "code",
   "execution_count": 14,
   "metadata": {
    "collapsed": false
   },
   "outputs": [
    {
     "data": {
      "text/plain": [
       "(1.1351581233173327,5280.0)"
      ]
     },
     "execution_count": 14,
     "metadata": {},
     "output_type": "execute_result"
    }
   ],
   "source": [
    "linkCostDicDict[1][\"0\"], link_length_list[1]"
   ]
  },
  {
   "cell_type": "code",
   "execution_count": 15,
   "metadata": {
    "collapsed": false
   },
   "outputs": [],
   "source": [
    "jacobiSpiessDict[1] = Compute_Jacobian_Anaheim.jacobianSpiess(numNodes, numLinks, numODpairs, od_pairs, \n",
    "                                              link_list_js, [linkCostDicDict[1][\"$(i)\"] for i=0:numLinks-1]);"
   ]
  },
  {
   "cell_type": "code",
   "execution_count": 16,
   "metadata": {
    "collapsed": true
   },
   "outputs": [],
   "source": [
    "# maximum number of iterations\n",
    "N = 100;  \n",
    "\n",
    "# Armijo rule parameters\n",
    "rho = 2;\n",
    "M = 10;\n",
    "\n",
    "# search direction parameter\n",
    "epsilon_1 = 0;\n",
    "\n",
    "# stop criterion parameter\n",
    "epsilon_2 = 1e-8;"
   ]
  },
  {
   "cell_type": "code",
   "execution_count": 17,
   "metadata": {
    "collapsed": false
   },
   "outputs": [],
   "source": [
    "for l = 1:N\n",
    "    \n",
    "    jacobDict[l] = jacobiSpiessDict[l]\n",
    "    \n",
    "    demandsVecDict[l] = demandsDicToVec(demandsDict[l]);\n",
    "\n",
    "    descDirecDict[l] = descDirec(gamma1, gamma2, demandsVecDict[l], demandsVecDict[0], tapFlowVecDict[l], \n",
    "        tapFlowVecDict[0], jacobDict[l], numODpairs, numLinks);\n",
    "\n",
    "    searchDirecDict[l] = searchDirec(demandsVecDict[l], descDirecDict[l], epsilon_1);\n",
    "\n",
    "    thetaMaxDict[l] = thetaMax(demandsVecDict[l], searchDirecDict[l]);\n",
    "\n",
    "    demandsVecDict[l+1] = similar(demandsVecDict[0]);\n",
    "    \n",
    "    demandsVecDict[l+1], objFunDict[l+1] = armijo(gamma1, gamma2, objFunDict[l], demandsVecDict[l], \n",
    "        demandsVecDict[0], coeffs_dict[(deg, c, lam, l)], searchDirecDict[l], thetaMaxDict[l], rho, M);\n",
    "            \n",
    "    demandsDict[l+1] = demandsVecToDic(demandsVecDict[l+1]);\n",
    "    \n",
    "    tapFlowDicDict[l+1], tapFlowVecDict[l+1] = tapMSA(demandsDict[l+1], coeffs_dict[(deg, c, lam, l)]);\n",
    "        \n",
    "    arcsDict[l+1] = observFlow(\"./benchmark_data/Anaheim_net.txt\", tapFlowDicDict[l+1]);\n",
    "        \n",
    "#     coeffs_dict[(deg, c, lam, l+1)], objInvVIDict[l+1] = train(lam, deg, c, demandsDict[l+1], arcsDict[l+1]);\n",
    "    coeffs_dict[(deg, c, lam, l+1)], objInvVIDict[l+1] = train(lam, deg, c, demandsDict[l+1], arcsDict[0]);\n",
    "    \n",
    "    objFunTmp = objF(gamma1, gamma2, demandsVecDict[l+1], demandsVecDict[0], \n",
    "        coeffs_dict[(deg, c, lam, l+1)])\n",
    "    \n",
    "    if objFunTmp > objFunDict[l+1]\n",
    "        coeffs_dict[(deg, c, lam, l+1)] = coeffs_dict[(deg, c, lam, l)]\n",
    "    end\n",
    "\n",
    "    linkCostDicDict[l+1] = tapFlowVecToLinkCostDict(tapFlowVecDict[l+1], coeffs_dict[(deg, c, lam, l+1)]);\n",
    "    \n",
    "    jacobiSpiessDict[l+1] = Compute_Jacobian_Anaheim.jacobianSpiess(numNodes, numLinks, numODpairs, od_pairs, \n",
    "                                              link_list_js, [linkCostDicDict[l+1][\"$(i)\"] for i=0:numLinks-1]);\n",
    "        \n",
    "    demandsDiffDict[l+1] = norm(demandsVecDict[l+1] - demandsVecDict[0]) / norm(demandsVecDict[0]);\n",
    "    \n",
    "    # stopping criterion\n",
    "    if (objFunDict[l] - objFunDict[l+1]) / objFunDict[1] < epsilon_2\n",
    "        break\n",
    "    end\n",
    "        \n",
    "end"
   ]
  },
  {
   "cell_type": "code",
   "execution_count": 18,
   "metadata": {
    "collapsed": false
   },
   "outputs": [],
   "source": [
    "# update plots based on convergence rate\n",
    "N = length(objFunDict)\n",
    "\n",
    "# normalize objective function value\n",
    "for l = 1:N\n",
    "    norObjFunDict[l] = objFunDict[l] / objFunDict[1];\n",
    "end"
   ]
  },
  {
   "cell_type": "code",
   "execution_count": 19,
   "metadata": {
    "collapsed": false
   },
   "outputs": [
    {
     "data": {
      "text/plain": [
       "Dict{Any,Any} with 13 entries:\n",
       "  2  => [1370.45,407.645,860.15,355.525,544.034,432.969,1.0944,56.7749,75.5713,…\n",
       "  11 => [1365.9,407.399,861.404,354.408,545.1,431.499,0.999251,56.7991,75.2991,…\n",
       "  0  => [1365.9,407.4,861.4,354.4,545.1,431.5,1.0,56.8,75.3,1.0  …  18.6,27.2,5…\n",
       "  7  => [1365.9,407.402,861.401,354.412,545.097,431.499,1.00047,56.8002,75.2996…\n",
       "  9  => [1365.9,407.401,861.402,354.407,545.098,431.499,0.999151,56.7993,75.299…\n",
       "  10 => [1365.9,407.399,861.406,354.409,545.101,431.499,0.99925,56.799,75.299,0…\n",
       "  8  => [1365.9,407.402,861.401,354.411,545.098,431.499,1.00019,56.8001,75.2996…\n",
       "  6  => [1365.9,407.403,861.4,354.412,545.097,431.499,1.00056,56.8003,75.2997,0…\n",
       "  4  => [1365.81,407.318,861.524,354.257,545.133,431.495,0.943821,56.7682,75.29…\n",
       "  3  => [1365.47,407.283,861.608,354.132,545.189,431.276,0.916652,56.7538,75.26…\n",
       "  5  => [1365.88,407.377,861.437,354.376,545.113,431.502,0.988282,56.7943,75.30…\n",
       "  12 => [1365.9,407.399,861.404,354.408,545.1,431.499,0.999251,56.7991,75.2991,…\n",
       "  1  => [1159.75,402.196,935.174,315.138,600.099,366.826,1.08959,62.1421,66.297…"
      ]
     },
     "execution_count": 19,
     "metadata": {},
     "output_type": "execute_result"
    }
   ],
   "source": [
    "demandsVecDict"
   ]
  },
  {
   "cell_type": "code",
   "execution_count": 20,
   "metadata": {
    "collapsed": false,
    "scrolled": true
   },
   "outputs": [
    {
     "data": {
      "text/plain": [
       "Dict{Any,Any} with 12 entries:\n",
       "  2  => 0.00127491\n",
       "  11 => 4.8287e-5\n",
       "  7  => 4.8675e-5\n",
       "  9  => 4.83916e-5\n",
       "  10 => 4.83168e-5\n",
       "  8  => 4.85955e-5\n",
       "  6  => 4.87402e-5\n",
       "  4  => 6.67213e-5\n",
       "  3  => 0.00073476\n",
       "  5  => 4.96881e-5\n",
       "  12 => 4.8287e-5\n",
       "  1  => 1.0"
      ]
     },
     "execution_count": 20,
     "metadata": {},
     "output_type": "execute_result"
    }
   ],
   "source": [
    "norObjFunDict"
   ]
  },
  {
   "cell_type": "code",
   "execution_count": 21,
   "metadata": {
    "collapsed": false,
    "scrolled": true
   },
   "outputs": [
    {
     "data": {
      "text/plain": [
       "Dict{Any,Any} with 12 entries:\n",
       "  (6,3.5,1.0,10) => [1.0,0.00779615,-0.0517566,0.0987645,0.0781875,0.0160186,0.…\n",
       "  (6,3.5,1.0,12) => [1.0,0.0077961,-0.0517564,0.0987641,0.0781878,0.0160185,0.0…\n",
       "  (6,3.5,1.0,9)  => [1.0,0.00779615,-0.0517566,0.0987645,0.0781875,0.0160186,0.…\n",
       "  (6,3.5,1.0,2)  => [1.0,0.00876042,-0.0500904,0.0782839,0.0750762,0.00825445,-…\n",
       "  (6,3.5,1.0,7)  => [1.0,0.00779614,-0.0517566,0.0987646,0.0781874,0.0160186,0.…\n",
       "  (6,3.5,1.0,4)  => [1.0,0.00778294,-0.0516876,0.0986447,0.0782684,0.0160027,0.…\n",
       "  (6,3.5,1.0,3)  => [1.0,0.00776636,-0.0515996,0.0984851,0.0783848,0.0159733,0.…\n",
       "  (6,3.5,1.0,6)  => [1.0,0.00779612,-0.0517565,0.0987644,0.0781875,0.0160186,0.…\n",
       "  (6,3.5,1.0,1)  => [1.0,0.00876042,-0.0500904,0.0782839,0.0750762,0.00825445,-…\n",
       "  (6,3.5,1.0,8)  => [1.0,0.00779615,-0.0517566,0.0987645,0.0781875,0.0160186,0.…\n",
       "  (6,3.5,1.0,5)  => [1.0,0.00778294,-0.0516876,0.0986447,0.0782684,0.0160027,0.…\n",
       "  (6,3.5,1.0,11) => [1.0,0.0077961,-0.0517564,0.0987641,0.0781878,0.0160185,0.0…"
      ]
     },
     "execution_count": 21,
     "metadata": {},
     "output_type": "execute_result"
    }
   ],
   "source": [
    "coeffs_dict"
   ]
  },
  {
   "cell_type": "code",
   "execution_count": 22,
   "metadata": {
    "collapsed": true
   },
   "outputs": [],
   "source": [
    "outfile = open(\"./results/norObjFunDict_$(gamma1)_$(gamma2).json\", \"w\")\n",
    "\n",
    "JSON.print(outfile, norObjFunDict)\n",
    "\n",
    "close(outfile)"
   ]
  },
  {
   "cell_type": "code",
   "execution_count": 23,
   "metadata": {
    "collapsed": true
   },
   "outputs": [],
   "source": [
    "outfile = open(\"./results/demandsDiffDict_$(gamma1)_$(gamma2).json\", \"w\")\n",
    "\n",
    "JSON.print(outfile, demandsDiffDict)\n",
    "\n",
    "close(outfile)"
   ]
  },
  {
   "cell_type": "code",
   "execution_count": 24,
   "metadata": {
    "collapsed": true
   },
   "outputs": [],
   "source": [
    "outfile = open(\"./results/objInvVIDict_$(gamma1)_$(gamma2).json\", \"w\")\n",
    "\n",
    "JSON.print(outfile, objInvVIDict)\n",
    "\n",
    "close(outfile)"
   ]
  },
  {
   "cell_type": "code",
   "execution_count": 25,
   "metadata": {
    "collapsed": true
   },
   "outputs": [],
   "source": [
    "outfile = open(\"./results/coeffs_dict_$(gamma1)_$(gamma2).json\", \"w\")\n",
    "\n",
    "JSON.print(outfile, coeffs_dict)\n",
    "\n",
    "close(outfile)"
   ]
  },
  {
   "cell_type": "code",
   "execution_count": 26,
   "metadata": {
    "collapsed": true
   },
   "outputs": [],
   "source": [
    "outfile = open(\"./results/demandsVecDict_$(gamma1)_$(gamma2).json\", \"w\")\n",
    "\n",
    "JSON.print(outfile, demandsVecDict)\n",
    "\n",
    "close(outfile)"
   ]
  },
  {
   "cell_type": "code",
   "execution_count": 27,
   "metadata": {
    "collapsed": true
   },
   "outputs": [],
   "source": [
    "outfile = open(\"./results/demandsDict_$(gamma1)_$(gamma2).json\", \"w\")\n",
    "\n",
    "JSON.print(outfile, demandsDict)\n",
    "\n",
    "close(outfile)"
   ]
  },
  {
   "cell_type": "code",
   "execution_count": 28,
   "metadata": {
    "collapsed": true
   },
   "outputs": [],
   "source": [
    "outfile = open(\"./results/tapFlowDicDict_$(gamma1)_$(gamma2).json\", \"w\")\n",
    "\n",
    "JSON.print(outfile, tapFlowDicDict)\n",
    "\n",
    "close(outfile)"
   ]
  },
  {
   "cell_type": "code",
   "execution_count": 29,
   "metadata": {
    "collapsed": true
   },
   "outputs": [],
   "source": [
    "outfile = open(\"./results/tapFlowVecDict_$(gamma1)_$(gamma2).json\", \"w\")\n",
    "\n",
    "JSON.print(outfile, tapFlowVecDict)\n",
    "\n",
    "close(outfile)"
   ]
  },
  {
   "cell_type": "code",
   "execution_count": null,
   "metadata": {
    "collapsed": true
   },
   "outputs": [],
   "source": []
  }
 ],
 "metadata": {
  "kernelspec": {
   "display_name": "Julia 0.5.0",
   "language": "julia",
   "name": "julia-0.5"
  },
  "language_info": {
   "file_extension": ".jl",
   "mimetype": "application/julia",
   "name": "julia",
   "version": "0.5.0"
  }
 },
 "nbformat": 4,
 "nbformat_minor": 0
}
