{
 "cells": [
  {
   "cell_type": "code",
   "execution_count": 1,
   "metadata": {},
   "outputs": [
    {
     "name": "stdout",
     "output_type": "stream",
     "text": [
      "No dicts found; please check load_dicts...\n"
     ]
    }
   ],
   "source": [
    "%run ../Python_files/util.py"
   ]
  },
  {
   "cell_type": "code",
   "execution_count": 2,
   "metadata": {
    "collapsed": true
   },
   "outputs": [],
   "source": [
    "node_neighbors_dict = {}\n",
    "\n",
    "node_neighbors_dict['1'] = [2, 3]\n",
    "node_neighbors_dict['2'] = [1, 3, 4]\n",
    "node_neighbors_dict['3'] = [1, 2, 5, 6]\n",
    "node_neighbors_dict['4'] = [2, 5, 8]\n",
    "node_neighbors_dict['5'] = [3, 4, 6, 7]\n",
    "node_neighbors_dict['6'] = [3, 5, 7]\n",
    "node_neighbors_dict['7'] = [5, 6, 8]\n",
    "node_neighbors_dict['8'] = [4, 7]"
   ]
  },
  {
   "cell_type": "code",
   "execution_count": 3,
   "metadata": {
    "collapsed": true
   },
   "outputs": [],
   "source": [
    "od_pairs = []\n",
    "for i in range(9)[1:]:\n",
    "    for j in range(9)[1:]:\n",
    "        if i != j:\n",
    "            od_pairs.append([i, j])"
   ]
  },
  {
   "cell_type": "code",
   "execution_count": 4,
   "metadata": {},
   "outputs": [
    {
     "data": {
      "text/plain": [
       "[[1, 2],\n",
       " [1, 3],\n",
       " [1, 4],\n",
       " [1, 5],\n",
       " [1, 6],\n",
       " [1, 7],\n",
       " [1, 8],\n",
       " [2, 1],\n",
       " [2, 3],\n",
       " [2, 4],\n",
       " [2, 5],\n",
       " [2, 6],\n",
       " [2, 7],\n",
       " [2, 8],\n",
       " [3, 1],\n",
       " [3, 2],\n",
       " [3, 4],\n",
       " [3, 5],\n",
       " [3, 6],\n",
       " [3, 7],\n",
       " [3, 8],\n",
       " [4, 1],\n",
       " [4, 2],\n",
       " [4, 3],\n",
       " [4, 5],\n",
       " [4, 6],\n",
       " [4, 7],\n",
       " [4, 8],\n",
       " [5, 1],\n",
       " [5, 2],\n",
       " [5, 3],\n",
       " [5, 4],\n",
       " [5, 6],\n",
       " [5, 7],\n",
       " [5, 8],\n",
       " [6, 1],\n",
       " [6, 2],\n",
       " [6, 3],\n",
       " [6, 4],\n",
       " [6, 5],\n",
       " [6, 7],\n",
       " [6, 8],\n",
       " [7, 1],\n",
       " [7, 2],\n",
       " [7, 3],\n",
       " [7, 4],\n",
       " [7, 5],\n",
       " [7, 6],\n",
       " [7, 8],\n",
       " [8, 1],\n",
       " [8, 2],\n",
       " [8, 3],\n",
       " [8, 4],\n",
       " [8, 5],\n",
       " [8, 6],\n",
       " [8, 7]]"
      ]
     },
     "execution_count": 4,
     "metadata": {},
     "output_type": "execute_result"
    }
   ],
   "source": [
    "od_pairs"
   ]
  },
  {
   "cell_type": "code",
   "execution_count": 5,
   "metadata": {},
   "outputs": [],
   "source": [
    "import json\n",
    "\n",
    "with open('../temp_files/link_length_dict_MA.json', 'r') as json_file:\n",
    "    link_length_dict = json.load(json_file)"
   ]
  },
  {
   "cell_type": "code",
   "execution_count": 6,
   "metadata": {},
   "outputs": [
    {
     "data": {
      "text/plain": [
       "{u'0': 21.485922426146935,\n",
       " u'1': 22.83528621404672,\n",
       " u'10': 12.877906054446688,\n",
       " u'11': 12.937426500746488,\n",
       " u'12': 16.937195032523533,\n",
       " u'13': 17.16259431586474,\n",
       " u'14': 10.770853345153691,\n",
       " u'15': 10.681694627287877,\n",
       " u'16': 24.43531455794137,\n",
       " u'17': 24.36731206452414,\n",
       " u'18': 12.50835831654928,\n",
       " u'19': 12.33527275744721,\n",
       " u'2': 32.02562773881377,\n",
       " u'20': 16.50791708359106,\n",
       " u'21': 16.299241593254592,\n",
       " u'22': 13.920130127329351,\n",
       " u'23': 14.194653045839052,\n",
       " u'3': 32.70389230340661,\n",
       " u'4': 10.077340795420966,\n",
       " u'5': 11.97811293023347,\n",
       " u'6': 37.63461529833393,\n",
       " u'7': 38.66741121038666,\n",
       " u'8': 16.215435794797198,\n",
       " u'9': 16.796114242202183}"
      ]
     },
     "execution_count": 6,
     "metadata": {},
     "output_type": "execute_result"
    }
   ],
   "source": [
    "link_length_dict"
   ]
  },
  {
   "cell_type": "code",
   "execution_count": 7,
   "metadata": {
    "collapsed": true
   },
   "outputs": [],
   "source": [
    "OD_pair_label_dict = zload('../temp_files/OD_pair_label_dict__MA.pkz')"
   ]
  },
  {
   "cell_type": "code",
   "execution_count": 8,
   "metadata": {},
   "outputs": [],
   "source": [
    "link_label_dict = zload('../temp_files/link_label_dict_MA.pkz')\n",
    "link_label_dict_ = zload('../temp_files/link_label_dict_MA_.pkz')"
   ]
  },
  {
   "cell_type": "code",
   "execution_count": 9,
   "metadata": {
    "collapsed": true
   },
   "outputs": [],
   "source": [
    "# compute length of a route\n",
    "def routeLength(route):\n",
    "    link_list = []\n",
    "    node_list = []\n",
    "    for i in route.split('->'):\n",
    "        node_list.append(int(i))\n",
    "    for i in range(len(node_list))[:-1]:\n",
    "        link_list.append('%d->%d' %(node_list[i], node_list[i+1]))\n",
    "    length_of_route = sum([link_length_dict[str(link_label_dict_[link])] for link in link_list])\n",
    "    return length_of_route"
   ]
  },
  {
   "cell_type": "code",
   "execution_count": 12,
   "metadata": {},
   "outputs": [],
   "source": [
    "with open('../temp_files/path_link_incidence_MA_CDC.txt', 'w') as the_file:\n",
    "    routes = {}\n",
    "    route_idx = 0\n",
    "    for od in od_pairs:\n",
    "        origi = od[0]\n",
    "        desti = od[1]\n",
    "        the_file.write('O-D pair (%s, %s):\\n'%(origi, desti))\n",
    "        route_list = []\n",
    "        if desti in node_neighbors_dict[str(origi)]:\n",
    "            route_list.append('%s->%s\\n'%(origi,desti))\n",
    "        for i in node_neighbors_dict[str(origi)]:\n",
    "            if i in node_neighbors_dict[str(desti)]:\n",
    "                flag = [origi, i, desti]\n",
    "                if len(set(flag)) == len(flag):\n",
    "                    route_list.append('%s->%s->%s\\n'%(origi,i,desti))\n",
    "            for j in node_neighbors_dict[str(i)]:\n",
    "                if j in node_neighbors_dict[str(desti)]:\n",
    "                    flag = [origi, i, j, desti]\n",
    "                    if len(set(flag)) == len(flag):\n",
    "                        route_list.append('%s->%s->%s->%s\\n'%(origi,i,j,desti))\n",
    "                for k in node_neighbors_dict[str(j)]:\n",
    "                    if k in node_neighbors_dict[str(desti)]:\n",
    "                        flag = [origi, i, j, k, desti]\n",
    "                        if len(set(flag)) == len(flag):\n",
    "                            route_list.append('%s->%s->%s->%s->%s\\n'%(origi,i,j,k,desti))\n",
    "                    for l in node_neighbors_dict[str(k)]:\n",
    "                        if l in node_neighbors_dict[str(desti)]:\n",
    "                            flag = [origi, i, j, k, l, desti]\n",
    "                            if len(set(flag)) == len(flag):\n",
    "                                route_list.append('%s->%s->%s->%s->%s->%s\\n'%(origi,i,j,k,l,desti))    \n",
    "                        for m in node_neighbors_dict[str(l)]:\n",
    "                            if m in node_neighbors_dict[str(desti)]:\n",
    "                                flag = [origi, i, j, k, l, m, desti]\n",
    "                                if len(set(flag)) == len(flag):\n",
    "                                    route_list.append('%s->%s->%s->%s->%s->%s->%s\\n'%(origi,i,j,k,l,m,desti))  \n",
    "                            for n in node_neighbors_dict[str(m)]:\n",
    "                                if n in node_neighbors_dict[str(desti)]:\n",
    "                                    flag = [origi, i, j, k, l, m, n, desti]\n",
    "                                    if len(set(flag)) == len(flag):\n",
    "                                        route_list.append('%s->%s->%s->%s->%s->%s->%s->%s\\n'%(origi,i,j,k,l,m,n,desti))\n",
    "                                for o in node_neighbors_dict[str(n)]:\n",
    "                                    if o in node_neighbors_dict[str(desti)]:\n",
    "                                        flag = [origi, i, j, k, l, m, n, o, desti]\n",
    "                                        if len(set(flag)) == len(flag):\n",
    "                                            route_list.append('%s->%s->%s->%s->%s->%s->%s->%s->%s\\n'%(origi,i,j,k,l,m,n,o,desti))\n",
    "                                    for p in node_neighbors_dict[str(o)]:\n",
    "                                        if p in node_neighbors_dict[str(desti)]:\n",
    "                                            flag = [origi, i, j, k, l, m, n, o, p, desti]\n",
    "                                            if len(set(flag)) == len(flag):\n",
    "                                                route_list.append('%s->%s->%s->%s->%s->%s->%s->%s->%s->%s\\n'%(origi,i,j,k,l,m,n,o,p,desti))\n",
    "                                                for q in node_neighbors_dict[str(p)]:\n",
    "                                                    if q in node_neighbors_dict[str(desti)]:\n",
    "                                                        flag = [origi, i, j, k, l, m, n, o, p, q, desti]\n",
    "                                                        if len(set(flag)) == len(flag):\n",
    "                                                            route_list.append('%s->%s->%s->%s->%s->%s->%s->%s->%s->%s->%s\\n'%(origi,i,j,k,l,m,n,o,p,q,desti))\n",
    "        route_length_list = np.array([routeLength(route) for route in route_list])\n",
    "#         print(route_length_list)\n",
    "#         assert(1 == 2)\n",
    "\n",
    "        min_len = min(route_length_list)\n",
    "\n",
    "        refined_route_list = []\n",
    "        \n",
    "        number_of_routes_per_OD_pair = 3\n",
    "        if len(route_list) <= number_of_routes_per_OD_pair:\n",
    "            refined_route_list = route_list\n",
    "        else:\n",
    "            refined_idx_list = [np.argsort(route_length_list)[i] for i in range(number_of_routes_per_OD_pair)]\n",
    "            refined_route_list = [route_list[idx] for idx in refined_idx_list]\n",
    "\n",
    "        refined_route_list_ = []\n",
    "        for route in refined_route_list:\n",
    "            if routeLength(route) <= 1.5 * min_len:\n",
    "                refined_route_list_ += route,\n",
    "\n",
    "        for route in refined_route_list_:\n",
    "            the_file.write(route)\n",
    "            routes[route_idx] = route\n",
    "            route_idx += 1\n",
    "            \n",
    "        the_file.write('\\n')"
   ]
  },
  {
   "cell_type": "code",
   "execution_count": 13,
   "metadata": {},
   "outputs": [
    {
     "data": {
      "text/plain": [
       "{0: '1->2\\n',\n",
       " 1: '1->2->3\\n',\n",
       " 2: '1->3\\n',\n",
       " 3: '1->2->4\\n',\n",
       " 4: '1->2->3->5->4\\n',\n",
       " 5: '1->3->5->4\\n',\n",
       " 6: '1->2->3->5\\n',\n",
       " 7: '1->3->5\\n',\n",
       " 8: '1->2->3->6->5\\n',\n",
       " 9: '1->2->3->6\\n',\n",
       " 10: '1->3->6\\n',\n",
       " 11: '1->2->3->5->6\\n',\n",
       " 12: '1->2->3->5->7\\n',\n",
       " 13: '1->3->5->7\\n',\n",
       " 14: '1->2->3->6->7\\n',\n",
       " 15: '1->2->3->5->7->8\\n',\n",
       " 16: '1->3->5->7->8\\n',\n",
       " 17: '1->2->3->6->7->8\\n',\n",
       " 18: '2->1\\n',\n",
       " 19: '2->3\\n',\n",
       " 20: '2->4\\n',\n",
       " 21: '2->3->5->4\\n',\n",
       " 22: '2->3->6->5->4\\n',\n",
       " 23: '2->3->5\\n',\n",
       " 24: '2->3->6->5\\n',\n",
       " 25: '2->3->6\\n',\n",
       " 26: '2->3->5->7\\n',\n",
       " 27: '2->3->6->7\\n',\n",
       " 28: '2->3->6->5->7\\n',\n",
       " 29: '2->3->5->7->8\\n',\n",
       " 30: '2->3->6->7->8\\n',\n",
       " 31: '2->3->6->5->7->8\\n',\n",
       " 32: '3->1\\n',\n",
       " 33: '3->2->1\\n',\n",
       " 34: '3->2\\n',\n",
       " 35: '3->5->4\\n',\n",
       " 36: '3->6->5->4\\n',\n",
       " 37: '3->2->4\\n',\n",
       " 38: '3->5\\n',\n",
       " 39: '3->6->5\\n',\n",
       " 40: '3->6\\n',\n",
       " 41: '3->5->7\\n',\n",
       " 42: '3->6->7\\n',\n",
       " 43: '3->6->5->7\\n',\n",
       " 44: '3->5->7->8\\n',\n",
       " 45: '3->6->7->8\\n',\n",
       " 46: '3->6->5->7->8\\n',\n",
       " 47: '4->2->1\\n',\n",
       " 48: '4->5->3->1\\n',\n",
       " 49: '4->5->3->2->1\\n',\n",
       " 50: '4->2\\n',\n",
       " 51: '4->5->3->2\\n',\n",
       " 52: '4->5->6->3->2\\n',\n",
       " 53: '4->5->3\\n',\n",
       " 54: '4->5->6->3\\n',\n",
       " 55: '4->2->3\\n',\n",
       " 56: '4->5\\n',\n",
       " 57: '4->5->6\\n',\n",
       " 58: '4->5->7\\n',\n",
       " 59: '4->8->7\\n',\n",
       " 60: '4->8\\n',\n",
       " 61: '5->3->1\\n',\n",
       " 62: '5->3->2->1\\n',\n",
       " 63: '5->6->3->1\\n',\n",
       " 64: '5->3->2\\n',\n",
       " 65: '5->6->3->2\\n',\n",
       " 66: '5->3\\n',\n",
       " 67: '5->6->3\\n',\n",
       " 68: '5->4\\n',\n",
       " 69: '5->6\\n',\n",
       " 70: '5->7\\n',\n",
       " 71: '5->7->8\\n',\n",
       " 72: '6->3->1\\n',\n",
       " 73: '6->3->2->1\\n',\n",
       " 74: '6->5->3->1\\n',\n",
       " 75: '6->3->2\\n',\n",
       " 76: '6->3\\n',\n",
       " 77: '6->5->4\\n',\n",
       " 78: '6->5\\n',\n",
       " 79: '6->7\\n',\n",
       " 80: '6->5->7\\n',\n",
       " 81: '6->7->8\\n',\n",
       " 82: '6->5->7->8\\n',\n",
       " 83: '7->5->3->1\\n',\n",
       " 84: '7->6->3->1\\n',\n",
       " 85: '7->5->3->2->1\\n',\n",
       " 86: '7->5->3->2\\n',\n",
       " 87: '7->6->3->2\\n',\n",
       " 88: '7->5->6->3->2\\n',\n",
       " 89: '7->5->3\\n',\n",
       " 90: '7->6->3\\n',\n",
       " 91: '7->5->6->3\\n',\n",
       " 92: '7->5->4\\n',\n",
       " 93: '7->8->4\\n',\n",
       " 94: '7->6->5->4\\n',\n",
       " 95: '7->5\\n',\n",
       " 96: '7->6\\n',\n",
       " 97: '7->5->6\\n',\n",
       " 98: '7->8\\n',\n",
       " 99: '8->7->5->3->1\\n',\n",
       " 100: '8->7->6->3->1\\n',\n",
       " 101: '8->7->5->3->2->1\\n',\n",
       " 102: '8->7->5->3->2\\n',\n",
       " 103: '8->7->6->3->2\\n',\n",
       " 104: '8->7->5->6->3->2\\n',\n",
       " 105: '8->7->5->3\\n',\n",
       " 106: '8->7->6->3\\n',\n",
       " 107: '8->7->5->6->3\\n',\n",
       " 108: '8->4\\n',\n",
       " 109: '8->7->5\\n',\n",
       " 110: '8->7->6\\n',\n",
       " 111: '8->7->5->6\\n',\n",
       " 112: '8->7\\n'}"
      ]
     },
     "execution_count": 13,
     "metadata": {},
     "output_type": "execute_result"
    }
   ],
   "source": [
    "routes"
   ]
  },
  {
   "cell_type": "code",
   "execution_count": 14,
   "metadata": {
    "collapsed": true
   },
   "outputs": [],
   "source": [
    "route_lens = {}\n",
    "for idx in routes.keys():\n",
    "    route_lens[idx+1] = routeLength(routes[idx])"
   ]
  },
  {
   "cell_type": "code",
   "execution_count": 15,
   "metadata": {},
   "outputs": [
    {
     "data": {
      "text/plain": [
       "{1: 21.485922426146935,\n",
       " 2: 31.5632632215679,\n",
       " 3: 32.02562773881377,\n",
       " 4: 59.12053772448086,\n",
       " 5: 64.94129333222983,\n",
       " 6: 65.4036578494757,\n",
       " 7: 47.778699016365096,\n",
       " 8: 48.24106353361097,\n",
       " 9: 55.122863903302466,\n",
       " 10: 44.44116927601459,\n",
       " 11: 44.90353379326046,\n",
       " 12: 58.549552361518785,\n",
       " 13: 60.28705733291437,\n",
       " 14: 60.749421850160246,\n",
       " 15: 60.94908635960565,\n",
       " 16: 74.20718746024372,\n",
       " 17: 74.66955197748959,\n",
       " 18: 74.869216486935,\n",
       " 19: 22.83528621404672,\n",
       " 20: 10.077340795420966,\n",
       " 21: 37.63461529833393,\n",
       " 22: 43.455370906082905,\n",
       " 23: 50.79953579302027,\n",
       " 24: 26.292776590218164,\n",
       " 25: 33.63694147715553,\n",
       " 26: 22.955246849867656,\n",
       " 27: 38.801134906767444,\n",
       " 28: 39.463163933458716,\n",
       " 29: 46.14529979370481,\n",
       " 30: 52.721265034096795,\n",
       " 31: 53.38329406078807,\n",
       " 32: 60.06542992103416,\n",
       " 33: 32.70389230340661,\n",
       " 34: 34.81339914428019,\n",
       " 35: 11.97811293023347,\n",
       " 36: 33.37803011066194,\n",
       " 37: 40.7221949975993,\n",
       " 38: 49.6127282285674,\n",
       " 39: 16.215435794797198,\n",
       " 40: 23.559600681734565,\n",
       " 41: 12.877906054446688,\n",
       " 42: 28.72379411134648,\n",
       " 43: 29.38582313803775,\n",
       " 44: 36.06795899828384,\n",
       " 45: 42.64392423867583,\n",
       " 46: 43.3059532653671,\n",
       " 47: 49.98808912561319,\n",
       " 48: 61.50269742443338,\n",
       " 49: 66.43720157813232,\n",
       " 50: 68.54670841900591,\n",
       " 51: 38.66741121038666,\n",
       " 52: 45.711422204959185,\n",
       " 53: 52.623587808657184,\n",
       " 54: 33.73330927472571,\n",
       " 55: 40.64547487842371,\n",
       " 56: 48.74475200580763,\n",
       " 57: 16.937195032523533,\n",
       " 58: 27.708048377677223,\n",
       " 59: 29.445553349072814,\n",
       " 60: 38.62996760378042,\n",
       " 61: 24.43531455794137,\n",
       " 62: 49.5000065456088,\n",
       " 63: 51.60951338648238,\n",
       " 64: 56.41217214930679,\n",
       " 65: 28.77422717243565,\n",
       " 66: 35.68639277613365,\n",
       " 67: 16.796114242202183,\n",
       " 68: 23.70827984590018,\n",
       " 69: 17.16259431586474,\n",
       " 70: 10.770853345153691,\n",
       " 71: 12.50835831654928,\n",
       " 72: 26.42848844387863,\n",
       " 73: 45.6413188041531,\n",
       " 74: 47.75082564502668,\n",
       " 75: 60.18170117289667,\n",
       " 76: 24.91553943097996,\n",
       " 77: 12.937426500746488,\n",
       " 78: 27.84428894315262,\n",
       " 79: 10.681694627287877,\n",
       " 80: 16.50791708359106,\n",
       " 81: 23.19005294383716,\n",
       " 82: 30.42804721092041,\n",
       " 83: 37.11018307116651,\n",
       " 84: 61.835279303056005,\n",
       " 85: 61.940560397407694,\n",
       " 86: 63.94478614392959,\n",
       " 87: 41.109499929882865,\n",
       " 88: 41.214781024234554,\n",
       " 89: 48.021665533580865,\n",
       " 90: 29.131386999649393,\n",
       " 91: 29.236668094001082,\n",
       " 92: 36.04355260334739,\n",
       " 93: 29.49786707331195,\n",
       " 94: 38.287442191853486,\n",
       " 95: 44.14353053640721,\n",
       " 96: 12.33527275744721,\n",
       " 97: 16.299241593254592,\n",
       " 98: 23.106126102600903,\n",
       " 99: 13.920130127329351,\n",
       " 100: 76.02993234889504,\n",
       " 101: 76.13521344324676,\n",
       " 102: 78.13943918976864,\n",
       " 103: 55.30415297572191,\n",
       " 104: 55.40943407007361,\n",
       " 105: 62.21631857941991,\n",
       " 106: 43.32604004548844,\n",
       " 107: 43.431321139840136,\n",
       " 108: 50.23820564918644,\n",
       " 109: 24.36731206452414,\n",
       " 110: 26.52992580328626,\n",
       " 111: 30.493894639093647,\n",
       " 112: 37.30077914843995,\n",
       " 113: 14.194653045839052}"
      ]
     },
     "execution_count": 15,
     "metadata": {},
     "output_type": "execute_result"
    }
   ],
   "source": [
    "route_lens"
   ]
  },
  {
   "cell_type": "code",
   "execution_count": 16,
   "metadata": {
    "collapsed": true
   },
   "outputs": [],
   "source": [
    "with open('../temp_files/route_lens_MA.json', 'w') as json_file:\n",
    "    json.dump(route_lens, json_file)"
   ]
  },
  {
   "cell_type": "code",
   "execution_count": 17,
   "metadata": {
    "collapsed": true
   },
   "outputs": [],
   "source": [
    "with open('../temp_files/routes_MA.json', 'w') as json_file:\n",
    "    json.dump(routes, json_file)"
   ]
  },
  {
   "cell_type": "code",
   "execution_count": null,
   "metadata": {
    "collapsed": true
   },
   "outputs": [],
   "source": []
  }
 ],
 "metadata": {
  "anaconda-cloud": {},
  "kernelspec": {
   "display_name": "Python 2",
   "language": "python",
   "name": "python2"
  },
  "language_info": {
   "codemirror_mode": {
    "name": "ipython",
    "version": 2
   },
   "file_extension": ".py",
   "mimetype": "text/x-python",
   "name": "python",
   "nbconvert_exporter": "python",
   "pygments_lexer": "ipython2",
   "version": "2.7.13"
  }
 },
 "nbformat": 4,
 "nbformat_minor": 1
}
