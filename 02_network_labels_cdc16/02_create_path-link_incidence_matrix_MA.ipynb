{
 "cells": [
  {
   "cell_type": "code",
   "execution_count": 1,
   "metadata": {
    "collapsed": true
   },
   "outputs": [],
   "source": [
    "%run ../Python_files/create_path_link_incidence_matrix_MA_cdc.py\n",
    "import collections"
   ]
  },
  {
   "cell_type": "code",
   "execution_count": 2,
   "metadata": {},
   "outputs": [
    {
     "data": {
      "text/plain": [
       "(56, 113)"
      ]
     },
     "execution_count": 2,
     "metadata": {},
     "output_type": "execute_result"
    }
   ],
   "source": [
    "np.shape(P)"
   ]
  },
  {
   "cell_type": "code",
   "execution_count": 3,
   "metadata": {
    "collapsed": true
   },
   "outputs": [],
   "source": [
    "P_dict = {}\n",
    "\n",
    "od_route_mapping = collections.defaultdict(list)\n",
    "\n",
    "for i in range(np.shape(P)[0]):\n",
    "    for j in range(np.shape(P)[1]):\n",
    "        key = str(i+1) + '-' + str(j+1)\n",
    "        if (P[i, j] > 1e-1):\n",
    "            P_dict[key] = P[i, j]\n",
    "            od_route_mapping[i + 1] += (j + 1),\n",
    "        \n",
    "with open('od_pair_route_incidence_MA.json', 'w') as json_file:\n",
    "    json.dump(P_dict, json_file)"
   ]
  },
  {
   "cell_type": "code",
   "execution_count": 4,
   "metadata": {},
   "outputs": [
    {
     "data": {
      "text/plain": [
       "(24, 113)"
      ]
     },
     "execution_count": 4,
     "metadata": {},
     "output_type": "execute_result"
    }
   ],
   "source": [
    "np.shape(A)"
   ]
  },
  {
   "cell_type": "code",
   "execution_count": 5,
   "metadata": {
    "collapsed": true
   },
   "outputs": [],
   "source": [
    "A_dict = {}\n",
    "\n",
    "for i in range(np.shape(A)[0]):\n",
    "    for j in range(np.shape(A)[1]):\n",
    "        key = str(i+1) + '-' + str(j+1)\n",
    "        if (A[i, j] > 1e-1):\n",
    "            A_dict[key] = A[i, j]\n",
    "        \n",
    "with open('link_route_incidence_MA.json', 'w') as json_file:\n",
    "    json.dump(A_dict, json_file)"
   ]
  },
  {
   "cell_type": "code",
   "execution_count": 6,
   "metadata": {},
   "outputs": [
    {
     "name": "stdout",
     "output_type": "stream",
     "text": [
      "rank of P is: \n",
      "56\n",
      "sizes of P are: \n",
      "56\n",
      "113\n",
      "rank of A is: \n",
      "24\n",
      "sizes of A are: \n",
      "24\n",
      "113\n",
      "rank of AP_t is: \n",
      "24\n",
      "shape of AP_t is: \n",
      "(24, 56)\n"
     ]
    }
   ],
   "source": [
    "A_t = np.transpose(A)\n",
    "P_t = np.transpose(P)\n",
    "# PA'\n",
    "AP_t = np.dot(A, P_t)\n",
    "print(\"rank of P is: \")\n",
    "print(matrix_rank(P))\n",
    "print(\"sizes of P are: \")\n",
    "print(np.size(P, 0))\n",
    "print(np.size(P, 1))\n",
    "print(\"rank of A is: \")\n",
    "print(matrix_rank(A))\n",
    "print(\"sizes of A are: \")\n",
    "print(np.size(A, 0))\n",
    "print(np.size(A, 1))\n",
    "print(\"rank of AP_t is: \")\n",
    "print(matrix_rank(AP_t))\n",
    "print(\"shape of AP_t is: \")\n",
    "print(np.shape(AP_t))"
   ]
  },
  {
   "cell_type": "code",
   "execution_count": 7,
   "metadata": {},
   "outputs": [
    {
     "data": {
      "text/plain": [
       "array([[ 1.,  1.,  2., ...,  0.,  0.,  0.],\n",
       "       [ 0.,  0.,  0., ...,  0.,  0.,  0.],\n",
       "       [ 0.,  1.,  1., ...,  0.,  0.,  0.],\n",
       "       ..., \n",
       "       [ 0.,  0.,  0., ...,  0.,  1.,  0.],\n",
       "       [ 0.,  0.,  0., ...,  0.,  0.,  0.],\n",
       "       [ 0.,  0.,  0., ...,  1.,  2.,  1.]])"
      ]
     },
     "execution_count": 7,
     "metadata": {},
     "output_type": "execute_result"
    }
   ],
   "source": [
    "AP_t"
   ]
  },
  {
   "cell_type": "code",
   "execution_count": 8,
   "metadata": {},
   "outputs": [
    {
     "data": {
      "text/plain": [
       "array([[ 1.,  0.,  0., ...,  0.,  0.,  0.],\n",
       "       [ 0.,  1.,  1., ...,  0.,  0.,  0.],\n",
       "       [ 0.,  0.,  0., ...,  0.,  0.,  0.],\n",
       "       ..., \n",
       "       [ 0.,  0.,  0., ...,  0.,  0.,  0.],\n",
       "       [ 0.,  0.,  0., ...,  1.,  1.,  0.],\n",
       "       [ 0.,  0.,  0., ...,  0.,  0.,  1.]])"
      ]
     },
     "execution_count": 8,
     "metadata": {},
     "output_type": "execute_result"
    }
   ],
   "source": [
    "P"
   ]
  },
  {
   "cell_type": "code",
   "execution_count": 9,
   "metadata": {},
   "outputs": [
    {
     "data": {
      "text/plain": [
       "(56, 113)"
      ]
     },
     "execution_count": 9,
     "metadata": {},
     "output_type": "execute_result"
    }
   ],
   "source": [
    "np.size(P,0), np.size(P,1)"
   ]
  },
  {
   "cell_type": "code",
   "execution_count": 10,
   "metadata": {},
   "outputs": [
    {
     "data": {
      "text/plain": [
       "{'1-1': 1.0,\n",
       " '10-21': 1.0,\n",
       " '10-22': 1.0,\n",
       " '10-23': 1.0,\n",
       " '11-24': 1.0,\n",
       " '11-25': 1.0,\n",
       " '12-26': 1.0,\n",
       " '13-27': 1.0,\n",
       " '13-28': 1.0,\n",
       " '13-29': 1.0,\n",
       " '14-30': 1.0,\n",
       " '14-31': 1.0,\n",
       " '14-32': 1.0,\n",
       " '15-33': 1.0,\n",
       " '15-34': 1.0,\n",
       " '16-35': 1.0,\n",
       " '17-36': 1.0,\n",
       " '17-37': 1.0,\n",
       " '17-38': 1.0,\n",
       " '18-39': 1.0,\n",
       " '18-40': 1.0,\n",
       " '19-41': 1.0,\n",
       " '2-2': 1.0,\n",
       " '2-3': 1.0,\n",
       " '20-42': 1.0,\n",
       " '20-43': 1.0,\n",
       " '20-44': 1.0,\n",
       " '21-45': 1.0,\n",
       " '21-46': 1.0,\n",
       " '21-47': 1.0,\n",
       " '22-48': 1.0,\n",
       " '22-49': 1.0,\n",
       " '22-50': 1.0,\n",
       " '23-51': 1.0,\n",
       " '23-52': 1.0,\n",
       " '23-53': 1.0,\n",
       " '24-54': 1.0,\n",
       " '24-55': 1.0,\n",
       " '24-56': 1.0,\n",
       " '25-57': 1.0,\n",
       " '26-58': 1.0,\n",
       " '27-59': 1.0,\n",
       " '27-60': 1.0,\n",
       " '28-61': 1.0,\n",
       " '29-62': 1.0,\n",
       " '29-63': 1.0,\n",
       " '29-64': 1.0,\n",
       " '3-4': 1.0,\n",
       " '3-5': 1.0,\n",
       " '3-6': 1.0,\n",
       " '30-65': 1.0,\n",
       " '30-66': 1.0,\n",
       " '31-67': 1.0,\n",
       " '31-68': 1.0,\n",
       " '32-69': 1.0,\n",
       " '33-70': 1.0,\n",
       " '34-71': 1.0,\n",
       " '35-72': 1.0,\n",
       " '36-73': 1.0,\n",
       " '36-74': 1.0,\n",
       " '36-75': 1.0,\n",
       " '37-76': 1.0,\n",
       " '38-77': 1.0,\n",
       " '39-78': 1.0,\n",
       " '4-7': 1.0,\n",
       " '4-8': 1.0,\n",
       " '4-9': 1.0,\n",
       " '40-79': 1.0,\n",
       " '41-80': 1.0,\n",
       " '41-81': 1.0,\n",
       " '42-82': 1.0,\n",
       " '42-83': 1.0,\n",
       " '43-84': 1.0,\n",
       " '43-85': 1.0,\n",
       " '43-86': 1.0,\n",
       " '44-87': 1.0,\n",
       " '44-88': 1.0,\n",
       " '44-89': 1.0,\n",
       " '45-90': 1.0,\n",
       " '45-91': 1.0,\n",
       " '45-92': 1.0,\n",
       " '46-93': 1.0,\n",
       " '46-94': 1.0,\n",
       " '46-95': 1.0,\n",
       " '47-96': 1.0,\n",
       " '48-97': 1.0,\n",
       " '48-98': 1.0,\n",
       " '49-99': 1.0,\n",
       " '5-10': 1.0,\n",
       " '5-11': 1.0,\n",
       " '5-12': 1.0,\n",
       " '50-100': 1.0,\n",
       " '50-101': 1.0,\n",
       " '50-102': 1.0,\n",
       " '51-103': 1.0,\n",
       " '51-104': 1.0,\n",
       " '51-105': 1.0,\n",
       " '52-106': 1.0,\n",
       " '52-107': 1.0,\n",
       " '52-108': 1.0,\n",
       " '53-109': 1.0,\n",
       " '54-110': 1.0,\n",
       " '55-111': 1.0,\n",
       " '55-112': 1.0,\n",
       " '56-113': 1.0,\n",
       " '6-13': 1.0,\n",
       " '6-14': 1.0,\n",
       " '6-15': 1.0,\n",
       " '7-16': 1.0,\n",
       " '7-17': 1.0,\n",
       " '7-18': 1.0,\n",
       " '8-19': 1.0,\n",
       " '9-20': 1.0}"
      ]
     },
     "execution_count": 10,
     "metadata": {},
     "output_type": "execute_result"
    }
   ],
   "source": [
    "P_dict"
   ]
  },
  {
   "cell_type": "code",
   "execution_count": 11,
   "metadata": {},
   "outputs": [
    {
     "data": {
      "text/plain": [
       "defaultdict(list,\n",
       "            {1: [1],\n",
       "             2: [2, 3],\n",
       "             3: [4, 5, 6],\n",
       "             4: [7, 8, 9],\n",
       "             5: [10, 11, 12],\n",
       "             6: [13, 14, 15],\n",
       "             7: [16, 17, 18],\n",
       "             8: [19],\n",
       "             9: [20],\n",
       "             10: [21, 22, 23],\n",
       "             11: [24, 25],\n",
       "             12: [26],\n",
       "             13: [27, 28, 29],\n",
       "             14: [30, 31, 32],\n",
       "             15: [33, 34],\n",
       "             16: [35],\n",
       "             17: [36, 37, 38],\n",
       "             18: [39, 40],\n",
       "             19: [41],\n",
       "             20: [42, 43, 44],\n",
       "             21: [45, 46, 47],\n",
       "             22: [48, 49, 50],\n",
       "             23: [51, 52, 53],\n",
       "             24: [54, 55, 56],\n",
       "             25: [57],\n",
       "             26: [58],\n",
       "             27: [59, 60],\n",
       "             28: [61],\n",
       "             29: [62, 63, 64],\n",
       "             30: [65, 66],\n",
       "             31: [67, 68],\n",
       "             32: [69],\n",
       "             33: [70],\n",
       "             34: [71],\n",
       "             35: [72],\n",
       "             36: [73, 74, 75],\n",
       "             37: [76],\n",
       "             38: [77],\n",
       "             39: [78],\n",
       "             40: [79],\n",
       "             41: [80, 81],\n",
       "             42: [82, 83],\n",
       "             43: [84, 85, 86],\n",
       "             44: [87, 88, 89],\n",
       "             45: [90, 91, 92],\n",
       "             46: [93, 94, 95],\n",
       "             47: [96],\n",
       "             48: [97, 98],\n",
       "             49: [99],\n",
       "             50: [100, 101, 102],\n",
       "             51: [103, 104, 105],\n",
       "             52: [106, 107, 108],\n",
       "             53: [109],\n",
       "             54: [110],\n",
       "             55: [111, 112],\n",
       "             56: [113]})"
      ]
     },
     "execution_count": 11,
     "metadata": {},
     "output_type": "execute_result"
    }
   ],
   "source": [
    "od_route_mapping"
   ]
  },
  {
   "cell_type": "code",
   "execution_count": 12,
   "metadata": {
    "collapsed": true
   },
   "outputs": [],
   "source": [
    "with open('../temp_files/od_route_mapping_MA.json', 'w') as json_file:\n",
    "    json.dump(od_route_mapping, json_file)"
   ]
  }
 ],
 "metadata": {
  "anaconda-cloud": {},
  "kernelspec": {
   "display_name": "Python 2",
   "language": "python",
   "name": "python2"
  },
  "language_info": {
   "codemirror_mode": {
    "name": "ipython",
    "version": 2
   },
   "file_extension": ".py",
   "mimetype": "text/x-python",
   "name": "python",
   "nbconvert_exporter": "python",
   "pygments_lexer": "ipython2",
   "version": "2.7.13"
  }
 },
 "nbformat": 4,
 "nbformat_minor": 1
}
