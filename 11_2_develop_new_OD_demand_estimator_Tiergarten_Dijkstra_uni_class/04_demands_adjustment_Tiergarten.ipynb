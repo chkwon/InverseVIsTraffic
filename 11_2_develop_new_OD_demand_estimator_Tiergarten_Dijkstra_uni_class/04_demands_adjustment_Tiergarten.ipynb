{
 "cells": [
  {
   "cell_type": "code",
   "execution_count": 1,
   "metadata": {
    "collapsed": false
   },
   "outputs": [],
   "source": [
    "using PyCall\n",
    "unshift!(PyVector(pyimport(\"sys\")[\"path\"]), \"\");\n",
    "@pyimport Compute_Jacobian_Tiergarten"
   ]
  },
  {
   "cell_type": "code",
   "execution_count": 2,
   "metadata": {
    "collapsed": false
   },
   "outputs": [],
   "source": [
    "numNodes = Compute_Jacobian_Tiergarten.numNodes;\n",
    "numLinks = Compute_Jacobian_Tiergarten.numLinks;\n",
    "numODpairs = Compute_Jacobian_Tiergarten.numODpairs;\n",
    "numZones = Compute_Jacobian_Tiergarten.numZones\n",
    "od_pairs = Compute_Jacobian_Tiergarten.od_pairs;\n",
    "link_list_js = Compute_Jacobian_Tiergarten.link_list_js;\n",
    "link_length_list = Compute_Jacobian_Tiergarten.link_length_list;"
   ]
  },
  {
   "cell_type": "code",
   "execution_count": 3,
   "metadata": {
    "collapsed": false
   },
   "outputs": [
    {
     "name": "stderr",
     "output_type": "stream",
     "text": [
      "WARNING: Method definition (::Type{Graphs.KeyVertex})(Int64, #K<:Any) in module Graphs at /home/jzh/.julia/v0.5/Graphs/src/common.jl:12 overwritten at /home/jzh/.julia/v0.5/Graphs/src/common.jl:16.\n",
      "WARNING: Method definition (::Type{Graphs.Edge})(Int64, #V<:Any, #V<:Any) in module Graphs at /home/jzh/.julia/v0.5/Graphs/src/common.jl:54 overwritten at /home/jzh/.julia/v0.5/Graphs/src/common.jl:60.\n",
      "WARNING: Method definition (::Type{Graphs.ExEdge})(Int64, #V<:Any, #V<:Any, Base.Dict{String, Any}) in module Graphs at /home/jzh/.julia/v0.5/Graphs/src/common.jl:72 overwritten at /home/jzh/.julia/v0.5/Graphs/src/common.jl:83.\n",
      "WARNING: Method definition (::Type{Graphs.TargetIterator})(#G<:Graphs.AbstractGraph, #EList<:Any) in module Graphs at /home/jzh/.julia/v0.5/Graphs/src/common.jl:123 overwritten at /home/jzh/.julia/v0.5/Graphs/src/common.jl:127.\n",
      "WARNING: Method definition (::Type{Graphs.SourceIterator})(#G<:Graphs.AbstractGraph, #EList<:Any) in module Graphs at /home/jzh/.julia/v0.5/Graphs/src/common.jl:141 overwritten at /home/jzh/.julia/v0.5/Graphs/src/common.jl:145.\n",
      "WARNING: Method definition edge_property_requirement(Graphs.AbstractEdgePropertyInspector{#T<:Any}, Graphs.AbstractGraph{#V<:Any, E<:Any}) in module Graphs at /home/jzh/.julia/v0.5/Graphs/src/common.jl:164 overwritten at /home/jzh/.julia/v0.5/Graphs/src/common.jl:179.\n",
      "WARNING: Method definition vertex_index(#V<:Union{Graphs.KeyVertex, Graphs.ExVertex}, Graphs.GenericGraph{#V<:Union{Graphs.KeyVertex, Graphs.ExVertex}, E<:Any, VList<:Any, EList<:Any, IncList<:Any}) in module Graphs at /home/jzh/.julia/v0.5/Graphs/src/graph.jl:65 overwritten at /home/jzh/.julia/v0.5/Graphs/src/graph.jl:67.\n",
      "WARNING: Method definition (::Type{Graphs.GDistanceVisitor})(#G<:Graphs.AbstractGraph, #DMap<:Any) in module Graphs at /home/jzh/.julia/v0.5/Graphs/src/breadth_first_visit.jl:107 overwritten at /home/jzh/.julia/v0.5/Graphs/src/breadth_first_visit.jl:111.\n"
     ]
    }
   ],
   "source": [
    "include(\"../Julia_files/initia_data.jl\");\n",
    "include(\"../Julia_files/load_network_uni_class.jl\");\n",
    "include(\"prepare_data_Tiergarten.jl\");\n",
    "include(\"extract_data_Tiergarten.jl\");\n",
    "include(\"../Julia_files/tap_MSA.jl\");\n",
    "include(\"../Julia_files/inverseVI.jl\");\n",
    "include(\"../Julia_files/demands_adjustment_gradi.jl\");"
   ]
  },
  {
   "cell_type": "code",
   "execution_count": 4,
   "metadata": {
    "collapsed": false
   },
   "outputs": [
    {
     "data": {
      "text/plain": [
       "Dict{Any,Any} with 2 entries:\n",
       "  0 => Dict{Any,Any}(Pair{Any,Any}((8,23),0.86),Pair{Any,Any}((21,13),9.22),Pai…\n",
       "  1 => Dict{Any,Any}(Pair{Any,Any}((8,23),0.896638),Pair{Any,Any}((21,13),9.935…"
      ]
     },
     "execution_count": 4,
     "metadata": {},
     "output_type": "execute_result"
    }
   ],
   "source": [
    "demandsDict"
   ]
  },
  {
   "cell_type": "code",
   "execution_count": 5,
   "metadata": {
    "collapsed": false
   },
   "outputs": [],
   "source": [
    "demandsDiffDict[1] = norm(demandsDicToVec(demandsDict[1]) - demandsDicToVec(demandsDict[0]))/\n",
    "                     norm(demandsDicToVec(demandsDict[0]));"
   ]
  },
  {
   "cell_type": "code",
   "execution_count": 6,
   "metadata": {
    "collapsed": false
   },
   "outputs": [],
   "source": [
    "fcoeffs = [1, 0, 0, 0, 1];\n",
    "\n",
    "# get observed flow vector (corresponding to ground truth demands and ground truth costs)\n",
    "tapFlowDicDict[0], tapFlowVecDict[0] = tapMSA(demandsDict[0], fcoeffs);"
   ]
  },
  {
   "cell_type": "code",
   "execution_count": 7,
   "metadata": {
    "collapsed": false
   },
   "outputs": [],
   "source": [
    "# get arcs data corresponding to ground truth demands and flows\n",
    "arcsDict[0] = observFlow(\"./benchmark_data/Tiergarten_net.txt\", tapFlowDicDict[0]);"
   ]
  },
  {
   "cell_type": "code",
   "execution_count": 8,
   "metadata": {
    "collapsed": false
   },
   "outputs": [
    {
     "data": {
      "text/plain": [
       "Dict{Any,Any} with 766 entries:\n",
       "  (248,65)  => Arc(248,65,900.0,17.0,494.57)\n",
       "  (137,106) => Arc(137,106,2800.0,1.66667,223.97)\n",
       "  (267,256) => Arc(267,256,2400.0,7.33333,86.9503)\n",
       "  (354,353) => Arc(354,353,900.0,1.0,416.929)\n",
       "  (56,55)   => Arc(56,55,600.0,0.333333,0.0)\n",
       "  (259,255) => Arc(259,255,2400.0,0.666667,0.0)\n",
       "  (125,177) => Arc(125,177,900.0,1.66667,0.0)\n",
       "  (36,35)   => Arc(36,35,2800.0,0.333333,19.6513)\n",
       "  (183,184) => Arc(183,184,900.0,0.333333,0.0)\n",
       "  (43,361)  => Arc(43,361,2800.0,12.6667,6.53038)\n",
       "  (16,277)  => Arc(16,277,999999.0,0.0,1556.27)\n",
       "  (298,307) => Arc(298,307,2400.0,1.0,1529.74)\n",
       "  (31,34)   => Arc(31,34,2800.0,0.666667,106.18)\n",
       "  (187,191) => Arc(187,191,600.0,0.666667,228.489)\n",
       "  (241,244) => Arc(241,244,2400.0,0.333333,0.0)\n",
       "  (84,95)   => Arc(84,95,900.0,2.33333,0.0)\n",
       "  (221,2)   => Arc(221,2,999999.0,0.0,739.205)\n",
       "  (23,351)  => Arc(23,351,999999.0,0.0,0.0)\n",
       "  (159,200) => Arc(159,200,2400.0,12.6667,0.0)\n",
       "  (96,92)   => Arc(96,92,900.0,2.0,0.0)\n",
       "  (35,39)   => Arc(35,39,2800.0,0.333333,3.97078)\n",
       "  (24,243)  => Arc(24,243,999999.0,0.0,0.0)\n",
       "  (28,32)   => Arc(28,32,2800.0,3.66667,182.82)\n",
       "  (151,17)  => Arc(151,17,999999.0,0.0,893.943)\n",
       "  (107,84)  => Arc(107,84,900.0,0.333333,129.848)\n",
       "  ⋮         => ⋮"
      ]
     },
     "execution_count": 8,
     "metadata": {},
     "output_type": "execute_result"
    }
   ],
   "source": [
    "arcsDict[0]"
   ]
  },
  {
   "cell_type": "code",
   "execution_count": 9,
   "metadata": {
    "collapsed": false
   },
   "outputs": [],
   "source": [
    "deg = 6\n",
    "c = .5\n",
    "lam = .001\n",
    "\n",
    "coeffs_dict[(deg, c, lam, 1)], objInvVIDict[1] = train(lam, deg, c, demandsDict[1], arcsDict[0]);"
   ]
  },
  {
   "cell_type": "code",
   "execution_count": 10,
   "metadata": {
    "collapsed": false
   },
   "outputs": [
    {
     "data": {
      "text/plain": [
       "1"
      ]
     },
     "execution_count": 10,
     "metadata": {},
     "output_type": "execute_result"
    }
   ],
   "source": [
    "# weight parameters\n",
    "gamma1 = 1\n",
    "gamma2 = 1"
   ]
  },
  {
   "cell_type": "code",
   "execution_count": 11,
   "metadata": {
    "collapsed": false
   },
   "outputs": [],
   "source": [
    "# get initial flow vector (corresponding to initial demands)\n",
    "tapFlowDicDict[1], tapFlowVecDict[1] = tapMSA(demandsDict[1], coeffs_dict[(deg, c, lam, 1)]);\n",
    "\n",
    "demandsVecDict[0] = demandsDicToVec(demandsDict[0]);"
   ]
  },
  {
   "cell_type": "code",
   "execution_count": 12,
   "metadata": {
    "collapsed": false
   },
   "outputs": [],
   "source": [
    "demandsVecDict[1] = demandsDicToVec(demandsDict[1]);\n",
    "objFunDict[1] = objF(gamma1, gamma2, demandsVecDict[1], demandsVecDict[1], coeffs_dict[(deg, c, lam, 1)]);"
   ]
  },
  {
   "cell_type": "code",
   "execution_count": 13,
   "metadata": {
    "collapsed": false
   },
   "outputs": [],
   "source": [
    "# get arcs data corresponding to initial demands and flows\n",
    "arcsDict[1] = observFlow(\"./benchmark_data/Tiergarten_net.txt\", tapFlowDicDict[1]);"
   ]
  },
  {
   "cell_type": "code",
   "execution_count": 14,
   "metadata": {
    "collapsed": false
   },
   "outputs": [],
   "source": [
    "linkCostDicDict[1] = tapFlowVecToLinkCostDict(tapFlowVecDict[1], coeffs_dict[(deg, c, lam, 1)]);"
   ]
  },
  {
   "cell_type": "code",
   "execution_count": 15,
   "metadata": {
    "collapsed": false
   },
   "outputs": [
    {
     "data": {
      "text/plain": [
       "(0.0,0.0)"
      ]
     },
     "execution_count": 15,
     "metadata": {},
     "output_type": "execute_result"
    }
   ],
   "source": [
    "linkCostDicDict[1][\"0\"], link_length_list[1]"
   ]
  },
  {
   "cell_type": "code",
   "execution_count": 16,
   "metadata": {
    "collapsed": false
   },
   "outputs": [],
   "source": [
    "jacobiSpiessDict[1] = Compute_Jacobian_Tiergarten.jacobianSpiess(numNodes, numLinks, numODpairs, od_pairs, \n",
    "                                              link_list_js, [linkCostDicDict[1][\"$(i)\"] for i=0:numLinks-1]);"
   ]
  },
  {
   "cell_type": "code",
   "execution_count": 17,
   "metadata": {
    "collapsed": true
   },
   "outputs": [],
   "source": [
    "# maximum number of iterations\n",
    "N = 100;  \n",
    "\n",
    "# Armijo rule parameters\n",
    "rho = 2;\n",
    "M = 10;\n",
    "\n",
    "# search direction parameter\n",
    "epsilon_1 = 0;\n",
    "\n",
    "# stop criterion parameter\n",
    "epsilon_2 = 1e-20;"
   ]
  },
  {
   "cell_type": "code",
   "execution_count": 18,
   "metadata": {
    "collapsed": false
   },
   "outputs": [],
   "source": [
    "for l = 1:N\n",
    "    \n",
    "    jacobDict[l] = jacobiSpiessDict[l]\n",
    "    \n",
    "    demandsVecDict[l] = demandsDicToVec(demandsDict[l]);\n",
    "\n",
    "    descDirecDict[l] = descDirec(gamma1, gamma2, demandsVecDict[l], demandsVecDict[1], tapFlowVecDict[l], \n",
    "        tapFlowVecDict[0], jacobDict[l], numODpairs, numLinks);\n",
    "\n",
    "    searchDirecDict[l] = searchDirec(demandsVecDict[l], descDirecDict[l], epsilon_1);\n",
    "\n",
    "    thetaMaxDict[l] = thetaMax(demandsVecDict[l], searchDirecDict[l]);\n",
    "\n",
    "    demandsVecDict[l+1] = similar(demandsVecDict[0]);\n",
    "    \n",
    "    demandsVecDict[l+1], objFunDict[l+1] = armijo(gamma1, gamma2, objFunDict[l], demandsVecDict[l], \n",
    "        demandsVecDict[1], coeffs_dict[(deg, c, lam, l)], searchDirecDict[l], thetaMaxDict[l], rho, M);\n",
    "            \n",
    "    demandsDict[l+1] = demandsVecToDic(demandsVecDict[l+1]);\n",
    "    \n",
    "    tapFlowDicDict[l+1], tapFlowVecDict[l+1] = tapMSA(demandsDict[l+1], coeffs_dict[(deg, c, lam, l)]);\n",
    "        \n",
    "    arcsDict[l+1] = observFlow(\"./benchmark_data/Tiergarten_net.txt\", tapFlowDicDict[l+1]);\n",
    "        \n",
    "    coeffs_dict[(deg, c, lam, l+1)], objInvVIDict[l+1] = train(lam, deg, c, demandsDict[l+1], arcsDict[0]);\n",
    "    \n",
    "    objFunTmp = objF(gamma1, gamma2, demandsVecDict[l+1], demandsVecDict[1], \n",
    "        coeffs_dict[(deg, c, lam, l+1)])\n",
    "    \n",
    "    if objFunTmp > objFunDict[l+1]\n",
    "        coeffs_dict[(deg, c, lam, l+1)] = coeffs_dict[(deg, c, lam, l)]\n",
    "    end\n",
    "\n",
    "    linkCostDicDict[l+1] = tapFlowVecToLinkCostDict(tapFlowVecDict[l+1], coeffs_dict[(deg, c, lam, l+1)]);\n",
    "    \n",
    "    jacobiSpiessDict[l+1] = Compute_Jacobian_Tiergarten.jacobianSpiess(numNodes, numLinks, \n",
    "        numODpairs, od_pairs, link_list_js, [linkCostDicDict[l+1][\"$(i)\"] for i=0:numLinks-1]);\n",
    "        \n",
    "    demandsDiffDict[l+1] = norm(demandsVecDict[l+1] - demandsVecDict[0]) / norm(demandsVecDict[0]);\n",
    "    \n",
    "    # stopping criterion\n",
    "    if (objFunDict[l] - objFunDict[l+1]) / objFunDict[1] < epsilon_2\n",
    "        break\n",
    "    end\n",
    "  \n",
    "end\n",
    "\n",
    "# normalize objective function value\n",
    "for l = 1:(length(objFunDict))\n",
    "    norObjFunDict[l] = objFunDict[l] / objFunDict[1];\n",
    "end"
   ]
  },
  {
   "cell_type": "code",
   "execution_count": 19,
   "metadata": {
    "collapsed": false
   },
   "outputs": [
    {
     "data": {
      "text/plain": [
       "Dict{Any,Any} with 21 entries:\n",
       "  18 => [23.061,16.8724,20.204,15.1824,4.71115,1.10714,0.6865,1.66627,1.05252,1…\n",
       "  2  => [22.9198,16.5206,19.9205,14.6782,3.86915,0.119719,0.3002,1.21731,0.5055…\n",
       "  16 => [23.0608,16.8721,20.2038,15.1821,4.71064,1.10657,0.686332,1.66607,1.052…\n",
       "  11 => [22.9337,16.6557,20.0325,14.8988,4.20541,0.522298,0.489769,1.4309,0.762…\n",
       "  0  => [22.59,18.32,21.82,15.22,3.73,0.1,0.31,1.22,0.52,0.21  …  7.49,11.8,2.4…\n",
       "  7  => [22.9283,16.606,19.9954,14.8234,4.08486,0.37877,0.428237,1.36058,0.6771…\n",
       "  9  => [22.923,16.6359,20.0188,14.8695,4.158,0.465985,0.466135,1.40379,0.72938…\n",
       "  10 => [22.9335,16.6553,20.0322,14.8981,4.20439,0.521094,0.489294,1.43035,0.76…\n",
       "  19 => [23.061,16.8724,20.204,15.1824,4.71116,1.10716,0.686504,1.66628,1.05253…\n",
       "  17 => [23.061,16.8723,20.204,15.1824,4.71112,1.10711,0.686491,1.66626,1.05251…\n",
       "  8  => [22.9243,16.6279,20.0124,14.8574,4.13842,0.442657,0.456336,1.39255,0.71…\n",
       "  6  => [22.9283,16.606,19.9954,14.8234,4.08486,0.37877,0.428237,1.36058,0.6771…\n",
       "  4  => [22.9248,16.5592,19.9546,14.7457,3.96697,0.23733,0.361488,1.28539,0.586…\n",
       "  3  => [22.9215,16.5315,19.9301,14.6973,3.89654,0.152646,0.317727,1.23673,0.52…\n",
       "  5  => [22.9284,16.5978,19.9884,14.8102,4.06424,0.354102,0.41739,1.34822,0.662…\n",
       "  20 => [23.061,16.8724,20.204,15.1824,4.71116,1.10716,0.686504,1.66628,1.05253…\n",
       "  13 => [22.9929,16.7631,20.1145,15.0532,4.46546,0.828915,0.608323,1.56902,0.93…\n",
       "  14 => [22.9975,16.7709,20.121,15.0627,4.48368,0.849576,0.61393,1.57605,0.9398…\n",
       "  15 => [23.0606,16.8719,20.2035,15.1819,4.71006,1.10592,0.686133,1.66582,1.051…\n",
       "  12 => [22.9311,16.6645,20.0392,14.9115,4.22661,0.54729,0.499584,1.44229,0.776…\n",
       "  1  => [22.9189,16.5134,19.9143,14.6656,3.85127,0.0982484,0.288482,1.20437,0.4…"
      ]
     },
     "execution_count": 19,
     "metadata": {},
     "output_type": "execute_result"
    }
   ],
   "source": [
    "demandsVecDict"
   ]
  },
  {
   "cell_type": "code",
   "execution_count": 20,
   "metadata": {
    "collapsed": false
   },
   "outputs": [
    {
     "data": {
      "text/plain": [
       "Dict{Any,Any} with 20 entries:\n",
       "  18 => 0.455803\n",
       "  2  => 0.987111\n",
       "  16 => 0.458461\n",
       "  11 => 0.683881\n",
       "  7  => 0.770757\n",
       "  9  => 0.711381\n",
       "  10 => 0.685804\n",
       "  19 => 0.455793\n",
       "  17 => 0.455823\n",
       "  8  => 0.726965\n",
       "  6  => 0.77886\n",
       "  4  => 0.912883\n",
       "  3  => 0.967637\n",
       "  5  => 0.808284\n",
       "  20 => 0.455793\n",
       "  13 => 0.558057\n",
       "  14 => 0.551129\n",
       "  15 => 0.462109\n",
       "  12 => 0.670849\n",
       "  1  => 1.0"
      ]
     },
     "execution_count": 20,
     "metadata": {},
     "output_type": "execute_result"
    }
   ],
   "source": [
    "norObjFunDict"
   ]
  },
  {
   "cell_type": "code",
   "execution_count": 21,
   "metadata": {
    "collapsed": false
   },
   "outputs": [
    {
     "data": {
      "text/plain": [
       "Dict{Any,Any} with 20 entries:\n",
       "  (6,0.5,0.001,7)  => [1.0,0.0158289,0.0921928,0.220114,0.282766,0.194793,0.057…\n",
       "  (6,0.5,0.001,8)  => [1.0,0.016709,0.0940176,0.222103,0.286324,0.199915,0.0601…\n",
       "  (6,0.5,0.001,1)  => [1.0,0.0153576,0.0892163,0.21304,0.2738,0.188699,0.055645…\n",
       "  (6,0.5,0.001,2)  => [1.0,0.0153923,0.0894345,0.213558,0.274456,0.189145,0.055…\n",
       "  (6,0.5,0.001,18) => [1.0,0.0167496,0.0938151,0.22099,0.284274,0.198134,0.0595…\n",
       "  (6,0.5,0.001,15) => [1.0,0.0167496,0.0938151,0.22099,0.284274,0.198134,0.0595…\n",
       "  (6,0.5,0.001,6)  => [1.0,0.0158289,0.0921928,0.220114,0.282766,0.194793,0.057…\n",
       "  (6,0.5,0.001,14) => [1.0,0.0167496,0.0938151,0.22099,0.284274,0.198134,0.0595…\n",
       "  (6,0.5,0.001,12) => [1.0,0.0159809,0.0931332,0.222304,0.285489,0.196613,0.057…\n",
       "  (6,0.5,0.001,11) => [1.0,0.0159809,0.0931332,0.222304,0.285489,0.196613,0.057…\n",
       "  (6,0.5,0.001,17) => [1.0,0.0167496,0.0938151,0.22099,0.284274,0.198134,0.0595…\n",
       "  (6,0.5,0.001,20) => [1.0,0.0167496,0.0938151,0.22099,0.284274,0.198134,0.0595…\n",
       "  (6,0.5,0.001,3)  => [1.0,0.015445,0.0897658,0.214344,0.275453,0.189823,0.0559…\n",
       "  (6,0.5,0.001,4)  => [1.0,0.0156089,0.090809,0.216837,0.278626,0.191989,0.0566…\n",
       "  (6,0.5,0.001,10) => [1.0,0.0159809,0.0931332,0.222304,0.285489,0.196613,0.057…\n",
       "  (6,0.5,0.001,5)  => [1.0,0.0158032,0.0920368,0.219753,0.282317,0.194494,0.057…\n",
       "  (6,0.5,0.001,19) => [1.0,0.0167496,0.0938151,0.22099,0.284274,0.198134,0.0595…\n",
       "  (6,0.5,0.001,13) => [1.0,0.0159809,0.0931332,0.222304,0.285489,0.196613,0.057…\n",
       "  (6,0.5,0.001,16) => [1.0,0.0167496,0.0938151,0.22099,0.284274,0.198134,0.0595…\n",
       "  (6,0.5,0.001,9)  => [1.0,0.016709,0.0940176,0.222103,0.286324,0.199915,0.0601…"
      ]
     },
     "execution_count": 21,
     "metadata": {},
     "output_type": "execute_result"
    }
   ],
   "source": [
    "coeffs_dict"
   ]
  },
  {
   "cell_type": "code",
   "execution_count": 22,
   "metadata": {
    "collapsed": false
   },
   "outputs": [],
   "source": [
    "outfile = open(\"./results/norObjFunDict_$(gamma1)_$(gamma2).json\", \"w\")\n",
    "\n",
    "JSON.print(outfile, norObjFunDict)\n",
    "\n",
    "close(outfile)"
   ]
  },
  {
   "cell_type": "code",
   "execution_count": 23,
   "metadata": {
    "collapsed": false
   },
   "outputs": [],
   "source": [
    "outfile = open(\"./results/demandsDiffDict_$(gamma1)_$(gamma2).json\", \"w\")\n",
    "\n",
    "JSON.print(outfile, demandsDiffDict)\n",
    "\n",
    "close(outfile)"
   ]
  },
  {
   "cell_type": "code",
   "execution_count": 24,
   "metadata": {
    "collapsed": false
   },
   "outputs": [],
   "source": [
    "outfile = open(\"./results/objInvVIDict_$(gamma1)_$(gamma2).json\", \"w\")\n",
    "\n",
    "JSON.print(outfile, objInvVIDict)\n",
    "\n",
    "close(outfile)"
   ]
  },
  {
   "cell_type": "code",
   "execution_count": 25,
   "metadata": {
    "collapsed": false
   },
   "outputs": [],
   "source": [
    "outfile = open(\"./results/coeffs_dict_$(gamma1)_$(gamma2).json\", \"w\")\n",
    "\n",
    "JSON.print(outfile, coeffs_dict)\n",
    "\n",
    "close(outfile)"
   ]
  },
  {
   "cell_type": "code",
   "execution_count": 26,
   "metadata": {
    "collapsed": false
   },
   "outputs": [],
   "source": [
    "outfile = open(\"./results/demandsVecDict_$(gamma1)_$(gamma2).json\", \"w\")\n",
    "\n",
    "JSON.print(outfile, demandsVecDict)\n",
    "\n",
    "close(outfile)"
   ]
  },
  {
   "cell_type": "code",
   "execution_count": 27,
   "metadata": {
    "collapsed": false
   },
   "outputs": [],
   "source": [
    "outfile = open(\"./results/demandsDict_$(gamma1)_$(gamma2).json\", \"w\")\n",
    "\n",
    "JSON.print(outfile, demandsDict)\n",
    "\n",
    "close(outfile)"
   ]
  },
  {
   "cell_type": "code",
   "execution_count": 28,
   "metadata": {
    "collapsed": false
   },
   "outputs": [],
   "source": [
    "outfile = open(\"./results/tapFlowDicDict_$(gamma1)_$(gamma2).json\", \"w\")\n",
    "\n",
    "JSON.print(outfile, tapFlowDicDict)\n",
    "\n",
    "close(outfile)"
   ]
  },
  {
   "cell_type": "code",
   "execution_count": 29,
   "metadata": {
    "collapsed": false
   },
   "outputs": [],
   "source": [
    "outfile = open(\"./results/tapFlowVecDict_$(gamma1)_$(gamma2).json\", \"w\")\n",
    "\n",
    "JSON.print(outfile, tapFlowVecDict)\n",
    "\n",
    "close(outfile)"
   ]
  }
 ],
 "metadata": {
  "kernelspec": {
   "display_name": "Julia 0.5.0",
   "language": "julia",
   "name": "julia-0.5"
  },
  "language_info": {
   "file_extension": ".jl",
   "mimetype": "application/julia",
   "name": "julia",
   "version": "0.5.0"
  }
 },
 "nbformat": 4,
 "nbformat_minor": 0
}
