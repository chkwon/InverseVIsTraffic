{
 "cells": [
  {
   "cell_type": "code",
   "execution_count": 1,
   "metadata": {
    "collapsed": false
   },
   "outputs": [],
   "source": [
    "%run ../Python_files/util_data_storage_and_load.py"
   ]
  },
  {
   "cell_type": "code",
   "execution_count": 2,
   "metadata": {
    "collapsed": false
   },
   "outputs": [
    {
     "name": "stdout",
     "output_type": "stream",
     "text": [
      "No dicts found; please check load_dicts...\n"
     ]
    }
   ],
   "source": [
    "%run ../Python_files/util.py"
   ]
  },
  {
   "cell_type": "code",
   "execution_count": 3,
   "metadata": {
    "collapsed": true
   },
   "outputs": [],
   "source": [
    "list_of_lists = []\n",
    "\n",
    "with open('../temp_files/OD_demand_matrix_Apr_weekday_PM_journal.txt', 'r') as the_file:\n",
    "    idx = 0\n",
    "    for line in the_file:\n",
    "        inner_list = [elt.strip() for elt in line.split(',')]\n",
    "        list_of_lists.append(inner_list)"
   ]
  },
  {
   "cell_type": "code",
   "execution_count": 4,
   "metadata": {
    "collapsed": false
   },
   "outputs": [],
   "source": [
    "assert len(list_of_lists) == 74 * (74 - 1)"
   ]
  },
  {
   "cell_type": "code",
   "execution_count": 5,
   "metadata": {
    "collapsed": false
   },
   "outputs": [
    {
     "data": {
      "text/plain": [
       "65576.37543099989"
      ]
     },
     "execution_count": 5,
     "metadata": {},
     "output_type": "execute_result"
    }
   ],
   "source": [
    "sum([float(list_of_lists[i][2]) for i in range(len(list_of_lists))])"
   ]
  },
  {
   "cell_type": "code",
   "execution_count": 6,
   "metadata": {
    "collapsed": true
   },
   "outputs": [],
   "source": [
    "zero_value = 0.0\n",
    "with open(\"../data_tntp/journal_trips_Apr_PM.tntp\", \"w\") as text_file:\n",
    "    text_file.write(\"<NUMBER OF ZONES> 74\\n\")\n",
    "    text_file.write(\"<TOTAL OD FLOW> 65576.37543099989\\n\")\n",
    "    text_file.write(\"<END OF METADATA>\\n\\n\\n\")\n",
    "    \n",
    "    for n in range(74):\n",
    "        text_file.write(\"Origin  %d  \\n\" %(n+1))\n",
    "        text_file.write(\"%d :      0.0;    \" %(n+1))\n",
    "        for idx in range(n*73, (n+1)*73):\n",
    "            text_file.write(\"%d :      %f;    \" \\\n",
    "                            %(int(list_of_lists[idx][1]), float(list_of_lists[idx][2])))\n",
    "            if idx % 3 == 0:\n",
    "                text_file.write(\"\\n\")\n",
    "        text_file.write(\"\\n\\n\")"
   ]
  },
  {
   "cell_type": "code",
   "execution_count": 7,
   "metadata": {
    "collapsed": false
   },
   "outputs": [
    {
     "data": {
      "text/plain": [
       "957.700233"
      ]
     },
     "execution_count": 7,
     "metadata": {},
     "output_type": "execute_result"
    }
   ],
   "source": [
    "max([float(list_of_lists[i][2]) for i in range(len(list_of_lists))])"
   ]
  },
  {
   "cell_type": "code",
   "execution_count": 8,
   "metadata": {
    "collapsed": false
   },
   "outputs": [
    {
     "data": {
      "text/plain": [
       "0.0"
      ]
     },
     "execution_count": 8,
     "metadata": {},
     "output_type": "execute_result"
    }
   ],
   "source": [
    "min([float(list_of_lists[i][2]) for i in range(len(list_of_lists))])"
   ]
  },
  {
   "cell_type": "code",
   "execution_count": 9,
   "metadata": {
    "collapsed": false
   },
   "outputs": [
    {
     "name": "stdout",
     "output_type": "stream",
     "text": [
      "Number of OD pairs with demand greater than 100: \n",
      "173\n"
     ]
    },
    {
     "data": {
      "image/png": "[encoded data removed]",
      "text/plain": [
       "<matplotlib.figure.Figure at 0x7f3f6c1077d0>"
      ]
     },
     "metadata": {},
     "output_type": "display_data"
    }
   ],
   "source": [
    "#!/usr/bin/env python\n",
    "import numpy as np\n",
    "import matplotlib.mlab as mlab\n",
    "import matplotlib.pyplot as plt\n",
    "\n",
    "# OD demands\n",
    "x = [float(list_of_lists[i][2]) for i in range(len(list_of_lists))]\n",
    "x = [item for item in x if item > 100]\n",
    "print(\"Number of OD pairs with demand greater than 100: \")\n",
    "print len(x)\n",
    "\n",
    "# the histogram of the data\n",
    "plt.hist(x, 50, facecolor='blue')\n",
    "\n",
    "plt.xlabel('OD flow demands')\n",
    "plt.ylabel('counts of OD pairs')\n",
    "# plt.title(r'$\\mathrm{Histogram\\ of\\ IQ:}\\ \\mu=100,\\ \\sigma=15$')\n",
    "# plt.axis([40, 160, 0, 0.03])\n",
    "plt.grid(True)\n",
    "\n",
    "plt.show()"
   ]
  },
  {
   "cell_type": "code",
   "execution_count": null,
   "metadata": {
    "collapsed": true
   },
   "outputs": [],
   "source": []
  }
 ],
 "metadata": {
  "anaconda-cloud": {},
  "kernelspec": {
   "display_name": "Python 2",
   "language": "python",
   "name": "python2"
  },
  "language_info": {
   "codemirror_mode": {
    "name": "ipython",
    "version": 2
   },
   "file_extension": ".py",
   "mimetype": "text/x-python",
   "name": "python",
   "nbconvert_exporter": "python",
   "pygments_lexer": "ipython2",
   "version": "2.7.13"
  }
 },
 "nbformat": 4,
 "nbformat_minor": 0
}
