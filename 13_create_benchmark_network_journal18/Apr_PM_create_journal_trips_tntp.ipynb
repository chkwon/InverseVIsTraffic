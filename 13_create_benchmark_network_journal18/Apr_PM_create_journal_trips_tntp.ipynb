{
 "cells": [
  {
   "cell_type": "code",
   "execution_count": 1,
   "metadata": {
    "collapsed": false
   },
   "outputs": [],
   "source": [
    "%run ../Python_files/util_data_storage_and_load.py"
   ]
  },
  {
   "cell_type": "code",
   "execution_count": 2,
   "metadata": {
    "collapsed": false
   },
   "outputs": [
    {
     "name": "stdout",
     "output_type": "stream",
     "text": [
      "No dicts found; please check load_dicts...\n"
     ]
    }
   ],
   "source": [
    "%run ../Python_files/util.py"
   ]
  },
  {
   "cell_type": "code",
   "execution_count": 3,
   "metadata": {
    "collapsed": true
   },
   "outputs": [],
   "source": [
    "list_of_lists = []\n",
    "\n",
    "with open('../temp_files/OD_demand_matrix_Apr_weekday_PM_journal.txt', 'r') as the_file:\n",
    "    idx = 0\n",
    "    for line in the_file:\n",
    "        inner_list = [elt.strip() for elt in line.split(',')]\n",
    "        list_of_lists.append(inner_list)"
   ]
  },
  {
   "cell_type": "code",
   "execution_count": 4,
   "metadata": {
    "collapsed": false
   },
   "outputs": [],
   "source": [
    "assert len(list_of_lists) == 74 * (74 - 1)"
   ]
  },
  {
   "cell_type": "code",
   "execution_count": 5,
   "metadata": {
    "collapsed": false
   },
   "outputs": [
    {
     "data": {
      "text/plain": [
       "65576.37543099989"
      ]
     },
     "execution_count": 5,
     "metadata": {},
     "output_type": "execute_result"
    }
   ],
   "source": [
    "sum([float(list_of_lists[i][2]) for i in range(len(list_of_lists))])"
   ]
  },
  {
   "cell_type": "code",
   "execution_count": 6,
   "metadata": {
    "collapsed": true
   },
   "outputs": [],
   "source": [
    "zero_value = 0.0\n",
    "with open(\"../data_tntp/journal_trips_Apr_PM.tntp\", \"w\") as text_file:\n",
    "    text_file.write(\"<NUMBER OF ZONES> 74\\n\")\n",
    "    text_file.write(\"<TOTAL OD FLOW> 65576.37543099989\\n\")\n",
    "    text_file.write(\"<END OF METADATA>\\n\\n\\n\")\n",
    "    \n",
    "    for n in range(74):\n",
    "        text_file.write(\"Origin  %d  \\n\" %(n+1))\n",
    "        text_file.write(\"%d :      0.0;    \" %(n+1))\n",
    "        for idx in range(n*73, (n+1)*73):\n",
    "            text_file.write(\"%d :      %f;    \" \\\n",
    "                            %(int(list_of_lists[idx][1]), float(list_of_lists[idx][2])))\n",
    "            if idx % 3 == 0:\n",
    "                text_file.write(\"\\n\")\n",
    "        text_file.write(\"\\n\\n\")"
   ]
  }
 ],
 "metadata": {
  "anaconda-cloud": {},
  "kernelspec": {
   "display_name": "Python 2",
   "language": "python",
   "name": "python2"
  },
  "language_info": {
   "codemirror_mode": {
    "name": "ipython",
    "version": 2
   },
   "file_extension": ".py",
   "mimetype": "text/x-python",
   "name": "python",
   "nbconvert_exporter": "python",
   "pygments_lexer": "ipython2",
   "version": "2.7.13"
  }
 },
 "nbformat": 4,
 "nbformat_minor": 0
}
