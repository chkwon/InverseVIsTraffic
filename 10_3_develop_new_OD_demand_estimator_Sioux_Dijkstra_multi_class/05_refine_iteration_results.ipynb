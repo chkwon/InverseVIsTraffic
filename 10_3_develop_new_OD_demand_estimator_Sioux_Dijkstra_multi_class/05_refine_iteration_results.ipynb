{
 "cells": [
  {
   "cell_type": "code",
   "execution_count": 1,
   "metadata": {
    "collapsed": false
   },
   "outputs": [
    {
     "data": {
      "text/plain": [
       "Dict{String,Any} with 4 entries:\n",
       "  \"family\" => \"serif\"\n",
       "  \"weight\" => \"normal\"\n",
       "  \"color\"  => \"k\"\n",
       "  \"size\"   => 14"
      ]
     },
     "execution_count": 1,
     "metadata": {},
     "output_type": "execute_result"
    }
   ],
   "source": [
    "using JSON\n",
    "using PyPlot\n",
    "\n",
    "PyPlot.matplotlib[:rc](\"text\", usetex=true) # allow tex rendering\n",
    "PyPlot.matplotlib[:rc](\"font\", family=\"serif\") \n",
    "\n",
    "font1 = Dict(\"family\"=>\"serif\",\"color\"=>\"k\",\"weight\"=>\"normal\",\"size\"=>14)"
   ]
  },
  {
   "cell_type": "code",
   "execution_count": 2,
   "metadata": {
    "collapsed": false
   },
   "outputs": [],
   "source": [
    "norObjFunDict = readstring(\"./results/norObjFunDict.json\");\n",
    "norObjFunDict = JSON.parse(norObjFunDict);\n",
    "\n",
    "demandsDiffDictCar = readstring(\"./results/demandsDiffDictCar.json\");\n",
    "demandsDiffDictCar = JSON.parse(demandsDiffDictCar);\n",
    "\n",
    "demandsDiffDictTruck = readstring(\"./results/demandsDiffDictTruck.json\");\n",
    "demandsDiffDictTruck = JSON.parse(demandsDiffDictTruck);\n",
    "\n",
    "objInvVIDict = readstring(\"./results/objInvVIDict.json\");\n",
    "objInvVIDict = JSON.parse(objInvVIDict);\n",
    "\n",
    "coeffs_dict = readstring(\"./results/coeffs_dict.json\");\n",
    "coeffs_dict = JSON.parse(coeffs_dict);\n",
    "\n",
    "tapFlowVecDict = readstring(\"./results/tapFlowVecDict.json\");\n",
    "tapFlowVecDict = JSON.parse(tapFlowVecDict);\n",
    "\n",
    "link_capac_dict = readstring(\"../temp_files/link_capac_dict_Sioux.json\");\n",
    "link_capac_dict = JSON.parse(link_capac_dict);"
   ]
  },
  {
   "cell_type": "code",
   "execution_count": 3,
   "metadata": {
    "collapsed": false,
    "scrolled": true
   },
   "outputs": [],
   "source": [
    "link_capac_vec = [link_capac_dict[\"$i\"] for i=0:length(link_capac_dict)-1];"
   ]
  },
  {
   "cell_type": "code",
   "execution_count": 4,
   "metadata": {
    "collapsed": true
   },
   "outputs": [],
   "source": [
    "epsilon_2 = 1e-20\n",
    "\n",
    "numIter = Int64[]\n",
    "\n",
    "for l = 1:length(norObjFunDict)\n",
    "    if norObjFunDict[\"$l\"] - norObjFunDict[\"$(l+1)\"] < epsilon_2\n",
    "        push!(numIter, l)\n",
    "        break\n",
    "    end\n",
    "end"
   ]
  },
  {
   "cell_type": "code",
   "execution_count": 5,
   "metadata": {
    "collapsed": false
   },
   "outputs": [],
   "source": [
    "# update plots based on convergence rate\n",
    "N = numIter[1];"
   ]
  },
  {
   "cell_type": "code",
   "execution_count": 6,
   "metadata": {
    "collapsed": false
   },
   "outputs": [
    {
     "data": {
      "text/plain": [
       "3.1331549175367623"
      ]
     },
     "execution_count": 6,
     "metadata": {},
     "output_type": "execute_result"
    }
   ],
   "source": [
    "max_scaled_flow = maximum([(1.0 * tapFlowVecDict[\"$N\"][i][1] + 2.0 * tapFlowVecDict[\"$N\"][i][2]) / \n",
    "    link_capac_vec[i] for i = 1:length(link_capac_vec)])"
   ]
  },
  {
   "cell_type": "code",
   "execution_count": 7,
   "metadata": {
    "collapsed": false
   },
   "outputs": [
    {
     "data": {
      "image/png": "[encoded data removed]",
      "text/plain": [
       "PyPlot.Figure(PyObject <matplotlib.figure.Figure object at 0x7fafdaa17390>)"
      ]
     },
     "metadata": {},
     "output_type": "display_data"
    }
   ],
   "source": [
    "#################\n",
    "#  Create Data  #\n",
    "#################\n",
    "\n",
    "fig = figure(figsize=(7,2))\n",
    "\n",
    "x = [(1.0 * tapFlowVecDict[\"$N\"][i][1] + 2.0 * tapFlowVecDict[\"$N\"][i][2]) / \n",
    "    link_capac_vec[i] for i = 1:length(link_capac_vec)] # Values\n",
    "nbins = 50 # Number of bins\n",
    "\n",
    "##########\n",
    "#  Plot  #\n",
    "##########\n",
    "# fig = figure(\"pyplot_histogram\",figsize=(6,3)) # Not strictly required\n",
    "ax = axes() # Not strictly required\n",
    "h = plt[:hist](x,nbins) # Histogram\n",
    "\n",
    "# grid(\"on\")\n",
    "xlabel(\"scaled flow\", fontdict=font1)\n",
    "ylabel(\"counts\", fontdict=font1)\n",
    "\n",
    "savefig(\"./results/scaled_flow_histogram_Sioux_multi_class.pdf\")"
   ]
  },
  {
   "cell_type": "code",
   "execution_count": 8,
   "metadata": {
    "collapsed": false
   },
   "outputs": [
    {
     "data": {
      "image/png": "[encoded data removed]",
      "text/plain": [
       "PyPlot.Figure(PyObject <matplotlib.figure.Figure object at 0x7fafc19c6190>)"
      ]
     },
     "metadata": {},
     "output_type": "display_data"
    }
   ],
   "source": [
    "iterNum = 0:(N)\n",
    "\n",
    "demandsDiffCar = map(iterNum->demandsDiffDictCar[\"$iterNum\"], iterNum + 1)\n",
    "demandsDiffTruck = map(iterNum->demandsDiffDictTruck[\"$iterNum\"], iterNum + 1)\n",
    "\n",
    "# plot(iterNum, objFun, \"s-g\", label=\"True\")\n",
    "\n",
    "fig = figure(figsize=(7,2))\n",
    "\n",
    "plot(iterNum, demandsDiffCar, \"o-m\", label=\"car\", linewidth=1, \n",
    "markerfacecolor=\"None\", markeredgecolor=\"m\", markeredgewidth=1)\n",
    "\n",
    "plot(iterNum, demandsDiffTruck, \"s-b\", label=\"truck\", linewidth=1, \n",
    "markerfacecolor=\"None\", markeredgecolor=\"b\", markeredgewidth=1)\n",
    "\n",
    "legend(loc=\"lower left\", fancybox=\"true\", frameon=true) \n",
    "\n",
    "grid(\"on\")\n",
    "\n",
    "xlim(-.2, N + .2)\n",
    "ylim(minimum(demandsDiffTruck)-.00007, maximum(demandsDiffTruck)+.0001)\n",
    "\n",
    "xticks(0:N)\n",
    "\n",
    "xlabel(L\"$l$\", fontdict=font1)\n",
    "ylabel(L\"$\\|\\textbf{g}_u^l - \\textbf{g}_u^*\\| / \\| \\textbf{g}_u^* \\|$\", fontdict=font1)\n",
    "\n",
    "savefig(\"./results/demandsDiff_biLev_Sioux_multi_class.pdf\")\n",
    "\n",
    "dire = \"/home/jzh/Dropbox/Research/Data-driven_estimation_inverse_optimization/\" * \n",
    "\"Joint_problem_and_multi_class_Traffic/imag/\"\n",
    "\n",
    "savefig(dire * \"demandsDiff_biLev_Sioux_multi_class.pdf\", dpi=300, bbox_inches=\"tight\")"
   ]
  },
  {
   "cell_type": "code",
   "execution_count": 9,
   "metadata": {
    "collapsed": false
   },
   "outputs": [],
   "source": [
    "normObjInvVIDict = Dict{}()\n",
    "\n",
    "for key in keys(objInvVIDict)\n",
    "    normObjInvVIDict[key] = objInvVIDict[key] / objInvVIDict[\"1\"]\n",
    "end"
   ]
  },
  {
   "cell_type": "code",
   "execution_count": null,
   "metadata": {
    "collapsed": false
   },
   "outputs": [],
   "source": [
    "iterNum = 0:N\n",
    "\n",
    "objFunBiLev = map(iterNum->norObjFunDict[\"$iterNum\"], iterNum + 1)\n",
    "\n",
    "# plot(iterNum, objFun, \"s-g\", label=\"True\")\n",
    "\n",
    "fig = figure(figsize=(7,2))\n",
    "\n",
    "plot(iterNum, objFunBiLev, \"o-g\", label=\"BiLev\", linewidth=1, \n",
    "markerfacecolor=\"None\", markeredgecolor=\"g\", markeredgewidth=1)\n",
    "\n",
    "# objFunInv = map(iterNum->normObjInvVIDict[\"$iterNum\"], iterNum)\n",
    "\n",
    "# plot(iterNum, objFun, \"s-g\", label=\"True\")\n",
    "\n",
    "# plot(iterNum, objFunInv, \"s-r\", label=\"InvVI\", linewidth=1, \n",
    "# markerfacecolor=\"None\", markeredgecolor=\"r\", markeredgewidth=1)\n",
    "\n",
    "# plot(iterNum, demandsDiff, \"o-r\", linewidth=1,\n",
    "# markerfacecolor=\"None\", markeredgecolor=\"r\", markeredgewidth=1)\n",
    "\n",
    "# legend(loc=\"lower left\", fancybox=\"true\", frameon=false) \n",
    "\n",
    "grid(\"on\")\n",
    "\n",
    "xlim(-0.2, N + .2)\n",
    "ylim(0.3, 1.1)\n",
    "\n",
    "xticks(0:N)\n",
    "yticks(0.3:0.1:1.0)\n",
    "\n",
    "xlabel(L\"$l$\", fontdict=font1)\n",
    "ylabel(L\"$F^l/F^0$\", fontdict=font1)\n",
    "\n",
    "savefig(\"./results/objFun_Sioux_multi_class.pdf\")\n",
    "\n",
    "dire = \"/home/jzh/Dropbox/Research/Data-driven_estimation_inverse_optimization/\" * \n",
    "\"Joint_problem_and_multi_class_Traffic/imag/\"\n",
    "\n",
    "savefig(dire * \"objFun_Sioux_multi_class.pdf\", dpi=300, bbox_inches=\"tight\")"
   ]
  },
  {
   "cell_type": "code",
   "execution_count": null,
   "metadata": {
    "collapsed": false
   },
   "outputs": [],
   "source": [
    "polyEval(coeffs, pt) = sum([coeffs[i] * pt^(i-1) for i = 1:length(coeffs)]);"
   ]
  },
  {
   "cell_type": "code",
   "execution_count": null,
   "metadata": {
    "collapsed": false
   },
   "outputs": [],
   "source": [
    "keys(coeffs_dict)"
   ]
  },
  {
   "cell_type": "code",
   "execution_count": null,
   "metadata": {
    "collapsed": false
   },
   "outputs": [],
   "source": [
    "iterN_1 = 1\n",
    "iterN_2 = 2\n",
    "iterN_3 = 3\n",
    "iterN_4 = N+1\n",
    "\n",
    "true_coeffs = [1, 0, 0, 0, .15]\n",
    "# true_coeffs = [1, .2, .5, .8, .15]\n",
    "\n",
    "est_coeffs_1 = coeffs_dict[\"(7,1.5,100.0,$iterN_1)\"]\n",
    "est_coeffs_2 = coeffs_dict[\"(7,1.5,100.0,$iterN_2)\"]\n",
    "est_coeffs_3 = coeffs_dict[\"(7,1.5,100.0,$iterN_3)\"]\n",
    "est_coeffs_4 = coeffs_dict[\"(7,1.5,100.0,$iterN_4)\"]\n",
    "\n",
    "xs = linspace(0, max_scaled_flow, 20)\n",
    "xs_true = linspace(0, max_scaled_flow, 20)\n",
    "\n",
    "zs_true = map(x->polyEval(true_coeffs, x), xs_true)\n",
    "\n",
    "zs_1 = map(x->polyEval(est_coeffs_1, x), xs)\n",
    "zs_2 = map(x->polyEval(est_coeffs_2, x), xs)\n",
    "zs_3 = map(x->polyEval(est_coeffs_3, x), xs)\n",
    "zs_4 = map(x->polyEval(est_coeffs_4, x), xs)\n",
    "\n",
    "fig = figure(figsize=(7,2))\n",
    "\n",
    "plot(xs, zs_1, \"^-m\", label=L\"$\\hat f(\\cdot)$ iteration 0\", linewidth=1, \n",
    "markerfacecolor=\"None\", markeredgecolor=\"m\", markeredgewidth=1)\n",
    "\n",
    "plot(xs, zs_2, \"+-b\", label=L\"$\\hat f(\\cdot)$ iteration 1\", linewidth=1, \n",
    "markerfacecolor=\"None\", markeredgecolor=\"b\", markeredgewidth=1)\n",
    "\n",
    "plot(xs, zs_3, \"o-c\", label=L\"$\\hat f(\\cdot)$ iteration 2\", linewidth=1, \n",
    "markerfacecolor=\"None\", markeredgecolor=\"c\", markeredgewidth=1)\n",
    "\n",
    "plot(xs, zs_4, \"*-g\", label=L\"$\\hat f(\\cdot)$ iteration\" * \" $(N)\", linewidth=1, \n",
    "markerfacecolor=\"None\", markeredgecolor=\"g\", markeredgewidth=1)\n",
    "\n",
    "plot(xs_true, zs_true, \"s-r\", label=L\"ground truth $f(\\cdot)$\", linewidth=1, \n",
    "markerfacecolor=\"None\", markeredgecolor=\"r\", markeredgewidth=1)\n",
    "\n",
    "legend(loc=\"upper left\",fancybox=\"true\", frameon=true) \n",
    "\n",
    "grid(\"on\")\n",
    "# xlim(-0.1, max_scaled_flow);\n",
    "xlim(-0.1, 2);\n",
    "ylim(0.5, 4.5);\n",
    "\n",
    "xticks(0:0.2:2)\n",
    "\n",
    "xlabel(\"scaled flow\", fontdict=font1)\n",
    "ylabel(\"scaled cost\", fontdict=font1)\n",
    "\n",
    "savefig(\"./results/fitting_Sioux_multi_class.pdf\")\n",
    "\n",
    "dire = \"/home/jzh/Dropbox/Research/Data-driven_estimation_inverse_optimization/\" * \n",
    "\"Joint_problem_and_multi_class_Traffic/imag/\"\n",
    "\n",
    "savefig(dire * \"fitting_Sioux_multi_class.pdf\", dpi=300, bbox_inches=\"tight\")"
   ]
  },
  {
   "cell_type": "code",
   "execution_count": null,
   "metadata": {
    "collapsed": true
   },
   "outputs": [],
   "source": []
  }
 ],
 "metadata": {
  "kernelspec": {
   "display_name": "Julia 0.5.1",
   "language": "julia",
   "name": "julia-0.5"
  },
  "language_info": {
   "file_extension": ".jl",
   "mimetype": "application/julia",
   "name": "julia",
   "version": "0.5.1"
  }
 },
 "nbformat": 4,
 "nbformat_minor": 0
}
