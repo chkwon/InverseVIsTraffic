{
 "cells": [
  {
   "cell_type": "code",
   "execution_count": 8,
   "metadata": {
    "collapsed": false
   },
   "outputs": [
    {
     "data": {
      "text/html": [
       "<img src=\"http://localhost:8888/files/00_subnetwork_topology/test-1.png\" width=\"200\" height=\"200\"/>"
      ],
      "text/plain": [
       "<IPython.core.display.Image object>"
      ]
     },
     "execution_count": 8,
     "metadata": {},
     "output_type": "execute_result"
    }
   ],
   "source": [
    "from IPython.display import Image\n",
    "from IPython.core.display import HTML \n",
    "Image(url= \"http://localhost:8888/files/00_subnetwork_topology/test-1.png\", width=200, height=200)"
   ]
  },
  {
   "cell_type": "markdown",
   "metadata": {},
   "source": [
    "### OD pair vs. routes:\n",
    "\n",
    "1: (1,2) \n",
    "\n",
    "1->2 (1)\n",
    "\n",
    "1->3->2 (2)\n",
    "\n",
    "2: (1,3)\n",
    "\n",
    "1->3 (3)\n",
    "\n",
    "1->2->3 (4)\n",
    "\n",
    "3: (2,3)\n",
    "\n",
    "2->3 (5)\n",
    "\n",
    "2->1->3 (6)\n",
    "\n",
    "4: (2,1)\n",
    "\n",
    "2->1 (7)\n",
    "\n",
    "2->3->1 (8)\n",
    "\n",
    "5: (3,2)\n",
    "\n",
    "3->2 (9)\n",
    "\n",
    "3->1->2 (10)\n",
    "\n",
    "6: (3,1)\n",
    "\n",
    "3->1 (11)\n",
    "\n",
    "3->2->1 (12)\n",
    "\n",
    "### Route choice matrix:\n",
    "\n",
    "$$\\textbf{P} = \\left[ {\\begin{array}{*{20}{c}}\n",
    "  {{p_{1,1}}}&{{p_{1,2}}}&0&0&0&0&0&0&0&0&0&0 \\\\ \n",
    "  0&0&{{p_{2,3}}}&{{p_{2,4}}}&0&0&0&0&0&0&0&0 \\\\ \n",
    "  0&0&0&0&{{p_{3,5}}}&{{p_{3,6}}}&0&0&0&0&0&0 \\\\ \n",
    "  0&0&0&0&0&0&{{p_{4,7}}}&{{p_{4,8}}}&0&0&0&0 \\\\ \n",
    "  0&0&0&0&0&0&0&0&{{p_{5,9}}}&{{p_{5,10}}}&0&0 \\\\ \n",
    "  0&0&0&0&0&0&0&0&0&0&{{p_{6,11}}}&{{p_{6,12}}} \n",
    "\\end{array}} \\right]$$\n",
    "\n",
    "### Constraints of the QCP (P2):\n",
    "\n",
    "$$\\begin{align}\n",
    "  {p_{1,1}} + {p_{1,2}} &= 1 \\hfill \\\\\n",
    "  {p_{2,3}} + {p_{2,4}} &= 1 \\hfill \\\\\n",
    "  {p_{3,5}} + {p_{3,6}} &= 1 \\hfill \\\\\n",
    "  {p_{4,7}} + {p_{4,8}} &= 1 \\hfill \\\\\n",
    "  {p_{5,9}} + {p_{5,10}} &= 1 \\hfill \\\\\n",
    "  {p_{6,11}} + {p_{6,12}} &= 1 \\hfill \\\\\n",
    "  {p_{1,1}}{g_1} &= {\\xi _1} \\hfill \\\\\n",
    "  {p_{1,2}}{g_1} &= {\\xi _2} \\hfill \\\\\n",
    "  {p_{2,3}}{g_2} &= {\\xi _3} \\hfill \\\\\n",
    "  {p_{2,4}}{g_2} &= {\\xi _4} \\hfill \\\\\n",
    "  {p_{3,5}}{g_3} &= {\\xi _5} \\hfill \\\\\n",
    "  {p_{3,6}}{g_3} &= {\\xi _6} \\hfill \\\\\n",
    "  {p_{4,7}}{g_4} &= {\\xi _7} \\hfill \\\\\n",
    "  {p_{4,8}}{g_4} &= {\\xi _8} \\hfill \\\\\n",
    "  {p_{5,9}}{g_5} &= {\\xi _9} \\hfill \\\\\n",
    "  {p_{5,10}}{g_{5}} &= {\\xi _{10}} \\hfill \\\\\n",
    "  {p_{6,11}}{g_{6}} &= {\\xi _{11}} \\hfill \\\\\n",
    "  {p_{6,12}}{g_{6}} &= {\\xi _{12}} \\hfill \\\\ \n",
    "\\end{align} $$\n",
    "\n",
    "### Solution of  $\\textbf{g}$:\n",
    "\n",
    "$$\\begin{align}\n",
    "  {g_1} &= {\\xi _1} + {\\xi _2} \\hfill \\\\\n",
    "  {g_2} &= {\\xi _3} + {\\xi _4} \\hfill \\\\\n",
    "  {g_3} &= {\\xi _5} + {\\xi _6} \\hfill \\\\\n",
    "  {g_4} &= {\\xi _7} + {\\xi _8} \\hfill \\\\\n",
    "  {g_5} &= {\\xi _9} + {\\xi _{10}} \\hfill \\\\\n",
    "  {g_6} &= {\\xi _{11}} + {\\xi _{12}} \\hfill \\\\ \n",
    "\\end{align} $$\n",
    "\n",
    "### How about the undetermined entries of $\\textbf{P}$?\n",
    "\n",
    "In fact, we cannot uniquely determine them!"
   ]
  },
  {
   "cell_type": "code",
   "execution_count": null,
   "metadata": {
    "collapsed": true
   },
   "outputs": [],
   "source": []
  }
 ],
 "metadata": {
  "kernelspec": {
   "display_name": "Python 2",
   "language": "python",
   "name": "python2"
  },
  "language_info": {
   "codemirror_mode": {
    "name": "ipython",
    "version": 2
   },
   "file_extension": ".py",
   "mimetype": "text/x-python",
   "name": "python",
   "nbconvert_exporter": "python",
   "pygments_lexer": "ipython2",
   "version": "2.7.13"
  }
 },
 "nbformat": 4,
 "nbformat_minor": 2
}
