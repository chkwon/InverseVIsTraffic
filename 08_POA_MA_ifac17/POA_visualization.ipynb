{
 "cells": [
  {
   "cell_type": "code",
   "execution_count": 1,
   "metadata": {
    "collapsed": true
   },
   "outputs": [],
   "source": [
    "using JSON"
   ]
  },
  {
   "cell_type": "code",
   "execution_count": 2,
   "metadata": {
    "collapsed": false
   },
   "outputs": [],
   "source": [
    "poaDictAprPM = readstring(\"./results/poaDictAprPM.json\");\n",
    "poaDictAprPM = JSON.parse(poaDictAprPM);"
   ]
  },
  {
   "cell_type": "code",
   "execution_count": 3,
   "metadata": {
    "collapsed": true
   },
   "outputs": [],
   "source": [
    "poaDictAprWeekend = readstring(\"./results/poaDictAprWeekend.json\");\n",
    "poaDictAprWeekend = JSON.parse(poaDictAprWeekend);"
   ]
  },
  {
   "cell_type": "code",
   "execution_count": 4,
   "metadata": {
    "collapsed": false
   },
   "outputs": [
    {
     "data": {
      "text/plain": [
       "Dict{String,Any} with 21 entries:\n",
       "  \"24\" => 1.05391\n",
       "  \"4\"  => 1.36581\n",
       "  \"12\" => 2.42261\n",
       "  \"20\" => 1.15325\n",
       "  \"2\"  => 1.44418\n",
       "  \"25\" => 1.0584\n",
       "  \"6\"  => 1.35474\n",
       "  \"23\" => 1.12574\n",
       "  \"11\" => 1.83693\n",
       "  \"13\" => 1.83354\n",
       "  \"5\"  => 1.44114\n",
       "  \"27\" => 1.41635\n",
       "  \"16\" => 1.3537\n",
       "  \"26\" => 1.0424\n",
       "  \"17\" => 1.70824\n",
       "  \"10\" => 2.50191\n",
       "  \"19\" => 1.27364\n",
       "  \"9\"  => 2.29438\n",
       "  \"18\" => 1.45282\n",
       "  \"30\" => 1.26719\n",
       "  \"3\"  => 1.55435"
      ]
     },
     "execution_count": 4,
     "metadata": {},
     "output_type": "execute_result"
    }
   ],
   "source": [
    "poaDictAprPM"
   ]
  },
  {
   "cell_type": "code",
   "execution_count": 5,
   "metadata": {
    "collapsed": false
   },
   "outputs": [
    {
     "data": {
      "text/plain": [
       "Dict{String,Any} with 9 entries:\n",
       "  \"8\"  => 1.16695\n",
       "  \"29\" => 1.11215\n",
       "  \"1\"  => 1.18072\n",
       "  \"21\" => 1.1541\n",
       "  \"15\" => 1.15423\n",
       "  \"7\"  => 1.19958\n",
       "  \"22\" => 1.17927\n",
       "  \"28\" => 1.10901\n",
       "  \"14\" => 1.17237"
      ]
     },
     "execution_count": 5,
     "metadata": {},
     "output_type": "execute_result"
    }
   ],
   "source": [
    "poaDictAprWeekend"
   ]
  },
  {
   "cell_type": "code",
   "execution_count": 6,
   "metadata": {
    "collapsed": false
   },
   "outputs": [],
   "source": [
    "poaDictApr = Dict{}()\n",
    "\n",
    "for key in keys(poaDictAprPM)\n",
    "    poaDictApr[parse(Int, key)] = poaDictAprPM[key]\n",
    "end\n",
    "\n",
    "for key in keys(poaDictAprWeekend)\n",
    "    poaDictApr[parse(Int, key)] = poaDictAprWeekend[key]\n",
    "end"
   ]
  },
  {
   "cell_type": "code",
   "execution_count": 7,
   "metadata": {
    "collapsed": false
   },
   "outputs": [
    {
     "data": {
      "text/plain": [
       "Dict{Any,Any} with 30 entries:\n",
       "  30 => 1.26719\n",
       "  1  => 1.18072\n",
       "  2  => 1.44418\n",
       "  16 => 1.3537\n",
       "  11 => 1.83693\n",
       "  21 => 1.1541\n",
       "  26 => 1.0424\n",
       "  9  => 2.29438\n",
       "  25 => 1.0584\n",
       "  10 => 2.50191\n",
       "  7  => 1.19958\n",
       "  29 => 1.11215\n",
       "  19 => 1.27364\n",
       "  17 => 1.70824\n",
       "  8  => 1.16695\n",
       "  22 => 1.17927\n",
       "  6  => 1.35474\n",
       "  24 => 1.05391\n",
       "  4  => 1.36581\n",
       "  3  => 1.55435\n",
       "  28 => 1.10901\n",
       "  5  => 1.44114\n",
       "  20 => 1.15325\n",
       "  23 => 1.12574\n",
       "  13 => 1.83354\n",
       "  ⋮  => ⋮"
      ]
     },
     "execution_count": 7,
     "metadata": {},
     "output_type": "execute_result"
    }
   ],
   "source": [
    "poaDictApr"
   ]
  },
  {
   "cell_type": "code",
   "execution_count": 17,
   "metadata": {
    "collapsed": false
   },
   "outputs": [
    {
     "data": {
      "image/png": "[encoded data removed]",
      "text/plain": [
       "PyPlot.Figure(PyObject <matplotlib.figure.Figure object at 0x7fcd38302d50>)"
      ]
     },
     "metadata": {},
     "output_type": "display_data"
    }
   ],
   "source": [
    "using PyPlot\n",
    "\n",
    "day = 1:30\n",
    "\n",
    "poa = map(day->poaDictApr[day], day)\n",
    "\n",
    "# plot(iterNum, objFun, \"s-g\", label=\"True\")\n",
    "\n",
    "fig = figure(figsize=(7,2))\n",
    "\n",
    "plot(day, poa, \"o-r\", linewidth=2)\n",
    "\n",
    "# legend(loc=\"upper right\",fancybox=\"true\") \n",
    "\n",
    "# grid(\"on\")\n",
    "\n",
    "xlim(0, 31)\n",
    "xticks(1:2:30)\n",
    "ylim(minimum(poa)-.08, maximum(poa)+.08)\n",
    "\n",
    "font1 = Dict(\"family\"=>\"serif\", \"color\"=>\"k\", \"weight\"=>\"normal\", \"size\"=>14)\n",
    "\n",
    "xlabel(\"day of Apr. 2012 (PM period)\", fontdict=font1)\n",
    "ylabel(\"PoA\", fontdict=font1)\n",
    "\n",
    "# savefig(\"./results/POA_Apr_ext.pdf\", dpi=300, bbox_inches=\"tight\")\n",
    "\n",
    "dire = \"/home/jzh/Dropbox/Research/Data-driven_estimation_inverse_optimization/\" * \n",
    "\"MA_traffic_IEEE_special_issue_18/imag/\"\n",
    "\n",
    "savefig(dire * \"POA_Apr_ext.pdf\", dpi=300, bbox_inches=\"tight\")"
   ]
  },
  {
   "cell_type": "code",
   "execution_count": null,
   "metadata": {
    "collapsed": true
   },
   "outputs": [],
   "source": []
  }
 ],
 "metadata": {
  "kernelspec": {
   "display_name": "Julia 0.5.0",
   "language": "julia",
   "name": "julia-0.5"
  },
  "language_info": {
   "file_extension": ".jl",
   "mimetype": "application/julia",
   "name": "julia",
   "version": "0.5.0"
  }
 },
 "nbformat": 4,
 "nbformat_minor": 0
}
