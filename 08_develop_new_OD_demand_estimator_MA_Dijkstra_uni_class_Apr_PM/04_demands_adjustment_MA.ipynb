{
 "cells": [
  {
   "cell_type": "code",
   "execution_count": 1,
   "metadata": {
    "collapsed": true
   },
   "outputs": [],
   "source": [
    "using PyCall\n",
    "unshift!(PyVector(pyimport(\"sys\")[\"path\"]), \"\");\n",
    "@pyimport Compute_Jacobian_MA\n",
    "@pyimport GLS_Apr_weekday_PM_ext"
   ]
  },
  {
   "cell_type": "code",
   "execution_count": 2,
   "metadata": {},
   "outputs": [
    {
     "data": {
      "text/plain": [
       "74×30 Array{Float64,2}:\n",
       " 1366.35    791.95    771.324  …  1015.01        1624.03     280.272\n",
       " 1206.76    992.338   991.158     1000.59        1273.13     570.559\n",
       " 2114.24   1499.68   1200.6       1171.78        1608.83     947.273\n",
       " 2273.84   1299.3     980.768     1186.21        1959.73     656.986\n",
       "   58.465   201.97    271.021       86.5748        40.0646   261.282\n",
       "  139.064   247.675   201.826  …    23.5801       146.69     143.578\n",
       " 1193.7    1571.81   1353.56       781.132       1109.21    1362.48 \n",
       "  953.514  1726.49   1642.59       829.701        651.679   1770.47 \n",
       " 2124.9    1398.79    938.436     1533.92        1629.54    1007.64 \n",
       " 2365.09   1244.1     649.406     1485.35        2087.07     599.646\n",
       "  406.406   514.047   567.011  …   469.666        455.737    655.187\n",
       "  281.997  1677.2    1591.06       204.042        239.965   1660.44 \n",
       "  204.522   246.959  1020.38         1.2451e-13   268.26    1131.08 \n",
       "    ⋮                          ⋱                                    \n",
       "  817.703  3694.71   4035.01       539.09         517.807   4749.93 \n",
       "  654.675  2893.16   2792.29       121.487        649.479   2740.0  \n",
       "  348.819   435.247   540.454      151.217        334.718    811.411\n",
       "  247.996  1766.27   1758.33   …   419.879        319.617   1306.56 \n",
       "  198.088  3603.02   3166.73       324.488        200.642   3347.82 \n",
       "  198.088  3603.02   3166.73       324.488        200.642   3347.82 \n",
       "  243.615  1577.0    2095.88       113.091         82.1073  3797.05 \n",
       "  243.615  1577.0    2095.88       113.091         82.1073  3797.05 \n",
       " 1232.85    270.493   238.254  …   302.312       1071.01     126.3  \n",
       " 1451.18   1767.05   1333.95       662.65        1072.97    1191.85 \n",
       " 1589.53   2116.41   1833.29      1010.19        1115.65    1281.76 \n",
       " 1371.21    619.855   737.593      649.854       1113.68     216.21 "
      ]
     },
     "execution_count": 2,
     "metadata": {},
     "output_type": "execute_result"
    }
   ],
   "source": [
    "numNodes = Compute_Jacobian_MA.numNodes;\n",
    "numLinks = Compute_Jacobian_MA.numLinks;\n",
    "numODpairs = Compute_Jacobian_MA.numODpairs;\n",
    "numZones = Compute_Jacobian_MA.numZones\n",
    "od_pairs = Compute_Jacobian_MA.od_pairs;\n",
    "link_list_js = Compute_Jacobian_MA.link_list_js;\n",
    "link_length_list = Compute_Jacobian_MA.link_length_list;\n",
    "\n",
    "flow_observ = GLS_Apr_weekday_PM_ext.x_"
   ]
  },
  {
   "cell_type": "code",
   "execution_count": 3,
   "metadata": {},
   "outputs": [
    {
     "name": "stderr",
     "output_type": "stream",
     "text": [
      "WARNING: readall is deprecated, use readstring instead.\n",
      " in depwarn(::String, ::Symbol) at ./deprecated.jl:64\n",
      " in readall(::String, ::Vararg{String,N}) at ./deprecated.jl:30\n",
      " in furInfo() at /home/jzh/Research/Traffic/InverseVIsTraffic/08_develop_new_OD_demand_estimator_MA_Dijkstra_uni_class_Apr_PM/prepare_data_MA.jl:183\n",
      " in include_from_node1(::String) at ./loading.jl:488\n",
      " in include_string(::String, ::String) at ./loading.jl:441\n",
      " in execute_request(::ZMQ.Socket, ::IJulia.Msg) at /home/jzh/.julia/v0.5/IJulia/src/execute_request.jl:169\n",
      " in eventloop(::ZMQ.Socket) at /home/jzh/.julia/v0.5/IJulia/src/eventloop.jl:8\n",
      " in (::IJulia.##9#15)() at ./task.jl:360\n",
      "while loading /home/jzh/Research/Traffic/InverseVIsTraffic/08_develop_new_OD_demand_estimator_MA_Dijkstra_uni_class_Apr_PM/extract_data_MA.jl, in expression starting on line 10\n",
      "WARNING: readall is deprecated, use readstring instead.\n",
      " in depwarn(::String, ::Symbol) at ./deprecated.jl:64\n",
      " in readall(::String, ::Vararg{String,N}) at ./deprecated.jl:30\n",
      " in furInfo() at /home/jzh/Research/Traffic/InverseVIsTraffic/08_develop_new_OD_demand_estimator_MA_Dijkstra_uni_class_Apr_PM/prepare_data_MA.jl:186\n",
      " in include_from_node1(::String) at ./loading.jl:488\n",
      " in include_string(::String, ::String) at ./loading.jl:441\n",
      " in execute_request(::ZMQ.Socket, ::IJulia.Msg) at /home/jzh/.julia/v0.5/IJulia/src/execute_request.jl:169\n",
      " in eventloop(::ZMQ.Socket) at /home/jzh/.julia/v0.5/IJulia/src/eventloop.jl:8\n",
      " in (::IJulia.##9#15)() at ./task.jl:360\n",
      "while loading /home/jzh/Research/Traffic/InverseVIsTraffic/08_develop_new_OD_demand_estimator_MA_Dijkstra_uni_class_Apr_PM/extract_data_MA.jl, in expression starting on line 10\n",
      "WARNING: readall is deprecated, use readstring instead.\n",
      " in depwarn(::String, ::Symbol) at ./deprecated.jl:64\n",
      " in readall(::String, ::Vararg{String,N}) at ./deprecated.jl:30\n",
      " in furInfo() at /home/jzh/Research/Traffic/InverseVIsTraffic/08_develop_new_OD_demand_estimator_MA_Dijkstra_uni_class_Apr_PM/prepare_data_MA.jl:189\n",
      " in include_from_node1(::String) at ./loading.jl:488\n",
      " in include_string(::String, ::String) at ./loading.jl:441\n",
      " in execute_request(::ZMQ.Socket, ::IJulia.Msg) at /home/jzh/.julia/v0.5/IJulia/src/execute_request.jl:169\n",
      " in eventloop(::ZMQ.Socket) at /home/jzh/.julia/v0.5/IJulia/src/eventloop.jl:8\n",
      " in (::IJulia.##9#15)() at ./task.jl:360\n",
      "while loading /home/jzh/Research/Traffic/InverseVIsTraffic/08_develop_new_OD_demand_estimator_MA_Dijkstra_uni_class_Apr_PM/extract_data_MA.jl, in expression starting on line 10\n",
      "WARNING: readall is deprecated, use readstring instead.\n",
      " in depwarn(::String, ::Symbol) at ./deprecated.jl:64\n",
      " in readall(::String, ::Vararg{String,N}) at ./deprecated.jl:30\n",
      " in include_from_node1(::String) at ./loading.jl:488\n",
      " in include_string(::String, ::String) at ./loading.jl:441\n",
      " in execute_request(::ZMQ.Socket, ::IJulia.Msg) at /home/jzh/.julia/v0.5/IJulia/src/execute_request.jl:169\n",
      " in eventloop(::ZMQ.Socket) at /home/jzh/.julia/v0.5/IJulia/src/eventloop.jl:8\n",
      " in (::IJulia.##9#15)() at ./task.jl:360\n",
      "while loading /home/jzh/Research/Traffic/InverseVIsTraffic/08_develop_new_OD_demand_estimator_MA_Dijkstra_uni_class_Apr_PM/extract_data_MA.jl, in expression starting on line 16\n",
      "WARNING: Method definition (::Type{Graphs.KeyVertex})(Int64, #K<:Any) in module Graphs at /home/jzh/.julia/v0.5/Graphs/src/common.jl:12 overwritten at /home/jzh/.julia/v0.5/Graphs/src/common.jl:16.\n",
      "WARNING: Method definition (::Type{Graphs.Edge})(Int64, #V<:Any, #V<:Any) in module Graphs at /home/jzh/.julia/v0.5/Graphs/src/common.jl:54 overwritten at /home/jzh/.julia/v0.5/Graphs/src/common.jl:60.\n",
      "WARNING: Method definition (::Type{Graphs.ExEdge})(Int64, #V<:Any, #V<:Any, Base.Dict{String, Any}) in module Graphs at /home/jzh/.julia/v0.5/Graphs/src/common.jl:72 overwritten at /home/jzh/.julia/v0.5/Graphs/src/common.jl:83.\n",
      "WARNING: Method definition (::Type{Graphs.TargetIterator})(#G<:Graphs.AbstractGraph, #EList<:Any) in module Graphs at /home/jzh/.julia/v0.5/Graphs/src/common.jl:123 overwritten at /home/jzh/.julia/v0.5/Graphs/src/common.jl:127.\n",
      "WARNING: Method definition (::Type{Graphs.SourceIterator})(#G<:Graphs.AbstractGraph, #EList<:Any) in module Graphs at /home/jzh/.julia/v0.5/Graphs/src/common.jl:141 overwritten at /home/jzh/.julia/v0.5/Graphs/src/common.jl:145.\n",
      "WARNING: Method definition edge_property_requirement(Graphs.AbstractEdgePropertyInspector{#T<:Any}, Graphs.AbstractGraph{#V<:Any, E<:Any}) in module Graphs at /home/jzh/.julia/v0.5/Graphs/src/common.jl:164 overwritten at /home/jzh/.julia/v0.5/Graphs/src/common.jl:179.\n",
      "WARNING: Method definition vertex_index(#V<:Union{Graphs.KeyVertex, Graphs.ExVertex}, Graphs.GenericGraph{#V<:Union{Graphs.KeyVertex, Graphs.ExVertex}, E<:Any, VList<:Any, EList<:Any, IncList<:Any}) in module Graphs at /home/jzh/.julia/v0.5/Graphs/src/graph.jl:65 overwritten at /home/jzh/.julia/v0.5/Graphs/src/graph.jl:67.\n",
      "WARNING: Method definition (::Type{Graphs.GDistanceVisitor})(#G<:Graphs.AbstractGraph, #DMap<:Any) in module Graphs at /home/jzh/.julia/v0.5/Graphs/src/breadth_first_visit.jl:107 overwritten at /home/jzh/.julia/v0.5/Graphs/src/breadth_first_visit.jl:111.\n"
     ]
    }
   ],
   "source": [
    "include(\"../Julia_files/initia_data.jl\");\n",
    "include(\"prepare_data_MA.jl\");\n",
    "include(\"extract_data_MA.jl\");\n",
    "include(\"../Julia_files/tap_MSA.jl\");\n",
    "include(\"../Julia_files/inverseVI.jl\");\n",
    "include(\"../Julia_files/demands_adjustment_gradi.jl\");"
   ]
  },
  {
   "cell_type": "code",
   "execution_count": 4,
   "metadata": {},
   "outputs": [
    {
     "data": {
      "text/plain": [
       "Dict{Any,Any} with 2 entries:\n",
       "  0 => Dict{Any,Any}(Pair{Any,Any}((6,9),0.0),Pair{Any,Any}((18,3),0.0),Pair{An…\n",
       "  1 => Dict{Any,Any}(Pair{Any,Any}((6,9),0.0),Pair{Any,Any}((18,3),0.0),Pair{An…"
      ]
     },
     "execution_count": 4,
     "metadata": {},
     "output_type": "execute_result"
    }
   ],
   "source": [
    "demandsDict"
   ]
  },
  {
   "cell_type": "code",
   "execution_count": 5,
   "metadata": {
    "collapsed": true
   },
   "outputs": [],
   "source": [
    "demandsDiffDict[1] = norm(demandsDicToVec(demandsDict[1]) - demandsDicToVec(demandsDict[0]))/\n",
    "                     norm(demandsDicToVec(demandsDict[0]));"
   ]
  },
  {
   "cell_type": "code",
   "execution_count": 6,
   "metadata": {},
   "outputs": [
    {
     "data": {
      "text/plain": [
       "0.0"
      ]
     },
     "execution_count": 6,
     "metadata": {},
     "output_type": "execute_result"
    }
   ],
   "source": [
    "demandsDiffDict[1]"
   ]
  },
  {
   "cell_type": "code",
   "execution_count": 7,
   "metadata": {},
   "outputs": [
    {
     "data": {
      "text/plain": [
       "1"
      ]
     },
     "execution_count": 7,
     "metadata": {},
     "output_type": "execute_result"
    }
   ],
   "source": [
    "gamma1 = 1\n",
    "gamma2 = 1"
   ]
  },
  {
   "cell_type": "code",
   "execution_count": 8,
   "metadata": {},
   "outputs": [
    {
     "data": {
      "text/plain": [
       "demandsDictFixed (generic function with 1 method)"
      ]
     },
     "execution_count": 8,
     "metadata": {},
     "output_type": "execute_result"
    }
   ],
   "source": [
    "function demandsDictFixed(day)\n",
    "#     day = 4  # day of April\n",
    "\n",
    "    # observed flow vector\n",
    "    xl = flow_observ[:, day]\n",
    "\n",
    "    tapFlows = Dict()\n",
    "\n",
    "    for i = 1:length(ta_data.start_node)\n",
    "        key = (ta_data.start_node[i], ta_data.end_node[i])\n",
    "        tapFlows[key] = xl[i]\n",
    "    end\n",
    "\n",
    "    tapFlowVect = xl;\n",
    "\n",
    "    # get observed flow vector (corresponding to ground truth demands and ground truth costs)\n",
    "    tapFlowDicDict[0], tapFlowVecDict[0] = tapFlows, tapFlowVect;\n",
    "\n",
    "    # get arcs data corresponding to ground truth demands and flows\n",
    "    arcsDict[0] = observFlow(\"./benchmark_data/MA_net.txt\", tapFlowDicDict[0]);\n",
    "\n",
    "    arcsDict[0]\n",
    "\n",
    "    deg = 8\n",
    "    c = 0.5\n",
    "    lam = 10000.0\n",
    "\n",
    "    coeffs_dict_Apr_PM_ = readall(\"../temp_files/coeffs_dict_Apr_PM.json\")\n",
    "    coeffs_dict_Apr_PM_ = JSON.parse(coeffs_dict_Apr_PM_)\n",
    "    fcoeffs = coeffs_dict_Apr_PM_[\"($(deg),$(c),$(lam),1)\"]\n",
    "\n",
    "    # fcoeffs = [1, 0, 0, .15]\n",
    "\n",
    "    demandsVecDict[1] = demandsDicToVec(demandsDict[1]);\n",
    "    objFunDict[1] = objF(gamma1, gamma2, demandsVecDict[1], demandsVecDict[1], fcoeffs);\n",
    "    \n",
    "    # get initial flow vector (corresponding to initial demands)\n",
    "    tapFlowDicDict[1], tapFlowVecDict[1] = tapMSA(demandsDict[1], fcoeffs);\n",
    "\n",
    "    demandsVecDict[0] = demandsDicToVec(demandsDict[0]);\n",
    "\n",
    "    # get arcs data corresponding to initial demands and flows\n",
    "    arcsDict[1] = observFlow(\"./benchmark_data/MA_net.txt\", tapFlowDicDict[1]);\n",
    "\n",
    "    linkCostDicDict[1] = tapFlowVecToLinkCostDict(tapFlowVecDict[1], fcoeffs);\n",
    "\n",
    "    linkCostDicDict[1][\"0\"], link_length_list[1]\n",
    "\n",
    "    jacobiSpiessDict[1] = Compute_Jacobian_MA.jacobianSpiess(numNodes, numLinks, numODpairs, od_pairs, \n",
    "                                                  link_list_js, [linkCostDicDict[1][\"$(i)\"] for i=0:numLinks-1]);\n",
    "\n",
    "    # maximum number of iterations\n",
    "    N = 10;  \n",
    "\n",
    "    # Armijo rule parameters\n",
    "    rho = 2;\n",
    "    M = 10;\n",
    "\n",
    "    # search direction parameter\n",
    "    epsilon_1 = 0;\n",
    "\n",
    "    # stop criterion parameter\n",
    "    epsilon_2 = 1e-20;\n",
    "\n",
    "    for l = 1:N\n",
    "\n",
    "        jacobDict[l] = jacobiSpiessDict[l]\n",
    "        \n",
    "        demandsVecDict[l] = demandsDicToVec(demandsDict[l]);\n",
    "        \n",
    "        descDirecDict[l] = descDirec(gamma1, gamma2, demandsVecDict[l], demandsVecDict[1], tapFlowVecDict[l], tapFlowVecDict[0], \n",
    "            jacobDict[l], numODpairs, numLinks);     \n",
    "\n",
    "        searchDirecDict[l] = searchDirec(demandsVecDict[l], descDirecDict[l], epsilon_1);\n",
    "\n",
    "        thetaMaxDict[l] = thetaMax(demandsVecDict[l], searchDirecDict[l]);\n",
    "\n",
    "        demandsVecDict[l+1] = similar(demandsVecDict[0]);\n",
    "\n",
    "        demandsVecDict[l+1], objFunDict[l+1] = armijo(gamma1, gamma2, objFunDict[l], demandsVecDict[l], \n",
    "            demandsVecDict[0], fcoeffs, searchDirecDict[l], thetaMaxDict[l], rho, M);\n",
    "\n",
    "        demandsDict[l+1] = demandsVecToDic(demandsVecDict[l+1]);\n",
    "\n",
    "        tapFlowDicDict[l+1], tapFlowVecDict[l+1] = tapMSA(demandsDict[l+1], fcoeffs);\n",
    "\n",
    "        arcsDict[l+1] = observFlow(\"./benchmark_data/MA_net.txt\", tapFlowDicDict[l+1]);\n",
    "\n",
    "        linkCostDicDict[l+1] = tapFlowVecToLinkCostDict(tapFlowVecDict[l+1], fcoeffs);\n",
    "\n",
    "        jacobiSpiessDict[l+1] = Compute_Jacobian_MA.jacobianSpiess(numNodes, numLinks, numODpairs, od_pairs, \n",
    "                                                  link_list_js, [linkCostDicDict[l+1][\"$(i)\"] for i=0:numLinks-1]);\n",
    "\n",
    "        demandsDiffDict[l+1] = norm(demandsVecDict[l+1] - demandsVecDict[0]) / norm(demandsVecDict[0]);\n",
    "\n",
    "        # stopping criterion\n",
    "        if (objFunDict[l] - objFunDict[l+1]) / objFunDict[1] < epsilon_2\n",
    "            break\n",
    "        end\n",
    "\n",
    "    end\n",
    "\n",
    "    # normalize objective function value\n",
    "    for l = 1:(length(objFunDict))\n",
    "        norObjFunDict[l] = objFunDict[l] / objFunDict[1];\n",
    "    end\n",
    "\n",
    "\n",
    "    outfile = open(\"./results/demandsVecDict.json\", \"w\")\n",
    "\n",
    "    JSON.print(outfile, demandsVecDict)\n",
    "\n",
    "    close(outfile)\n",
    "\n",
    "    outfile = open(\"./results/demandsDict$(day).json\", \"w\")\n",
    "\n",
    "    JSON.print(outfile, demandsDict)\n",
    "\n",
    "    close(outfile)\n",
    "\n",
    "    outfile = open(\"./results/tapFlowDicDict.json\", \"w\")\n",
    "\n",
    "    JSON.print(outfile, tapFlowDicDict)\n",
    "\n",
    "    close(outfile)\n",
    "\n",
    "    outfile = open(\"./results/tapFlowVecDict.json\", \"w\")\n",
    "\n",
    "    JSON.print(outfile, tapFlowVecDict)\n",
    "\n",
    "    close(outfile)\n",
    "\n",
    "    demandsDict[length(demandsDict)-1]\n",
    "\n",
    "    demandsDict_ = Dict{}()\n",
    "\n",
    "    for key in keys(demandsDict[length(demandsDict)-1])\n",
    "        demandsDict_[key] = demandsDict[length(demandsDict)-1][key] \n",
    "    end\n",
    "\n",
    "    outfile = open(\"./results/demandsDictFixed$(day).json\", \"w\")\n",
    "\n",
    "    JSON.print(outfile, demandsDict_)\n",
    "\n",
    "    close(outfile)\n",
    "end"
   ]
  },
  {
   "cell_type": "code",
   "execution_count": 9,
   "metadata": {},
   "outputs": [
    {
     "name": "stderr",
     "output_type": "stream",
     "text": [
      "WARNING: readall is deprecated, use readstring instead.\n",
      " in depwarn(::String, ::Symbol) at ./deprecated.jl:64\n",
      " in readall(::String, ::Vararg{String,N}) at ./deprecated.jl:30\n",
      " in demandsDictFixed(::Int64) at ./In[8]:28\n",
      " in macro expansion; at ./In[9]:5 [inlined]\n",
      " in anonymous at ./<missing>:?\n",
      " in include_string(::String, ::String) at ./loading.jl:441\n",
      " in execute_request(::ZMQ.Socket, ::IJulia.Msg) at /home/jzh/.julia/v0.5/IJulia/src/execute_request.jl:169\n",
      " in eventloop(::ZMQ.Socket) at /home/jzh/.julia/v0.5/IJulia/src/eventloop.jl:8\n",
      " in (::IJulia.##9#15)() at ./task.jl:360\n",
      "while loading In[9], in expression starting on line 4\n"
     ]
    }
   ],
   "source": [
    "week_day_Apr_list = [2, 3, 4, 5, 6, 9, 10, 11, 12, 13, 16, 17, 18, 19, 20, 23, 24, 25, 26, 27, 30]\n",
    "# week_day_Apr_list = [5, 6, 9, 10, 11, 12, 13, 16, 17, 18, 19, 20, 23, 24, 25, 26, 27, 30]\n",
    "\n",
    "for day in week_day_Apr_list\n",
    "    demandsDictFixed(day)\n",
    "end"
   ]
  },
  {
   "cell_type": "code",
   "execution_count": null,
   "metadata": {
    "collapsed": true
   },
   "outputs": [],
   "source": []
  }
 ],
 "metadata": {
  "anaconda-cloud": {},
  "kernelspec": {
   "display_name": "Julia 0.5.0",
   "language": "julia",
   "name": "julia-0.5"
  },
  "language_info": {
   "file_extension": ".jl",
   "mimetype": "application/julia",
   "name": "julia",
   "version": "0.5.0"
  }
 },
 "nbformat": 4,
 "nbformat_minor": 1
}
