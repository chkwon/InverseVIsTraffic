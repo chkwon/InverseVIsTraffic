{
 "cells": [
  {
   "cell_type": "code",
   "execution_count": 1,
   "metadata": {
    "collapsed": false
   },
   "outputs": [],
   "source": [
    "using PyCall\n",
    "unshift!(PyVector(pyimport(\"sys\")[\"path\"]), \"\");\n",
    "@pyimport Compute_Jacobian_Sioux_multi_class"
   ]
  },
  {
   "cell_type": "code",
   "execution_count": 2,
   "metadata": {
    "collapsed": false
   },
   "outputs": [],
   "source": [
    "numNodes = Compute_Jacobian_Sioux_multi_class.numNodes;\n",
    "numLinks = Compute_Jacobian_Sioux_multi_class.numLinks;\n",
    "numODpairs = Compute_Jacobian_Sioux_multi_class.numODpairs;\n",
    "od_pairs = Compute_Jacobian_Sioux_multi_class.od_pairs;\n",
    "link_list_js = Compute_Jacobian_Sioux_multi_class.link_list_js;\n",
    "link_length_list = Compute_Jacobian_Sioux_multi_class.link_length_list;"
   ]
  },
  {
   "cell_type": "code",
   "execution_count": 3,
   "metadata": {
    "collapsed": false
   },
   "outputs": [
    {
     "name": "stderr",
     "output_type": "stream",
     "text": [
      "WARNING: Method definition (::Type{Graphs.KeyVertex})(Int64, #K<:Any) in module Graphs at /home/jzh/.julia/v0.5/Graphs/src/common.jl:12 overwritten at /home/jzh/.julia/v0.5/Graphs/src/common.jl:16.\n",
      "WARNING: Method definition (::Type{Graphs.Edge})(Int64, #V<:Any, #V<:Any) in module Graphs at /home/jzh/.julia/v0.5/Graphs/src/common.jl:54 overwritten at /home/jzh/.julia/v0.5/Graphs/src/common.jl:60.\n",
      "WARNING: Method definition (::Type{Graphs.ExEdge})(Int64, #V<:Any, #V<:Any, Base.Dict{String, Any}) in module Graphs at /home/jzh/.julia/v0.5/Graphs/src/common.jl:72 overwritten at /home/jzh/.julia/v0.5/Graphs/src/common.jl:83.\n",
      "WARNING: Method definition (::Type{Graphs.TargetIterator})(#G<:Graphs.AbstractGraph, #EList<:Any) in module Graphs at /home/jzh/.julia/v0.5/Graphs/src/common.jl:123 overwritten at /home/jzh/.julia/v0.5/Graphs/src/common.jl:127.\n",
      "WARNING: Method definition (::Type{Graphs.SourceIterator})(#G<:Graphs.AbstractGraph, #EList<:Any) in module Graphs at /home/jzh/.julia/v0.5/Graphs/src/common.jl:141 overwritten at /home/jzh/.julia/v0.5/Graphs/src/common.jl:145.\n",
      "WARNING: Method definition edge_property_requirement(Graphs.AbstractEdgePropertyInspector{#T<:Any}, Graphs.AbstractGraph{#V<:Any, E<:Any}) in module Graphs at /home/jzh/.julia/v0.5/Graphs/src/common.jl:164 overwritten at /home/jzh/.julia/v0.5/Graphs/src/common.jl:179.\n",
      "WARNING: Method definition vertex_index(#V<:Union{Graphs.ExVertex, Graphs.KeyVertex}, Graphs.GenericGraph{#V<:Union{Graphs.ExVertex, Graphs.KeyVertex}, E<:Any, VList<:Any, EList<:Any, IncList<:Any}) in module Graphs at /home/jzh/.julia/v0.5/Graphs/src/graph.jl:65 overwritten at /home/jzh/.julia/v0.5/Graphs/src/graph.jl:67.\n",
      "WARNING: Method definition (::Type{Graphs.GDistanceVisitor})(#G<:Graphs.AbstractGraph, #DMap<:Any) in module Graphs at /home/jzh/.julia/v0.5/Graphs/src/breadth_first_visit.jl:107 overwritten at /home/jzh/.julia/v0.5/Graphs/src/breadth_first_visit.jl:111.\n"
     ]
    }
   ],
   "source": [
    "include(\"../Julia_files/load_network_uni_class.jl\");\n",
    "include(\"../Julia_files/initia_data.jl\");\n",
    "include(\"prepare_data_Sioux.jl\");\n",
    "include(\"extract_data_Sioux.jl\");\n",
    "include(\"../Julia_files/tap_MSA_multi_class.jl\");\n",
    "include(\"../Julia_files/inverseVI_multi_class.jl\");\n",
    "include(\"../Julia_files/demands_adjustment_gradi_multi_class.jl\");"
   ]
  },
  {
   "cell_type": "code",
   "execution_count": 4,
   "metadata": {
    "collapsed": false
   },
   "outputs": [
    {
     "data": {
      "text/plain": [
       "Dict{Any,Any} with 576 entries:\n",
       "  (23,8)  => 60.4697\n",
       "  (8,23)  => 54.7964\n",
       "  (6,9)   => 87.858\n",
       "  (18,3)  => 0.0\n",
       "  (21,13) => 118.198\n",
       "  (22,16) => 262.741\n",
       "  (15,17) => 309.023\n",
       "  (22,14) => 223.895\n",
       "  (13,9)  => 131.79\n",
       "  (23,10) => 350.569\n",
       "  (24,22) => 229.681\n",
       "  (8,9)   => 173.166\n",
       "  (9,1)   => 95.7743\n",
       "  (17,14) => 132.557\n",
       "  (16,6)  => 176.238\n",
       "  (16,12) => 130.337\n",
       "  (16,13) => 123.39\n",
       "  (22,2)  => 18.8181\n",
       "  (24,3)  => 0.0\n",
       "  (7,16)  => 268.027\n",
       "  (1,12)  => 41.9157\n",
       "  (4,5)   => 101.429\n",
       "  (11,8)  => 157.406\n",
       "  (18,21) => 19.9762\n",
       "  (19,4)  => 41.9853\n",
       "  ⋮       => ⋮"
      ]
     },
     "execution_count": 4,
     "metadata": {},
     "output_type": "execute_result"
    }
   ],
   "source": [
    "demandsDictCar[0] = demandsDict[0][\"car\"]\n",
    "demandsDictCar[1] = demandsDict[1][\"car\"]\n",
    "demandsDictTruck[0] = demandsDict[0][\"truck\"]\n",
    "demandsDictTruck[1] = demandsDict[1][\"truck\"]"
   ]
  },
  {
   "cell_type": "code",
   "execution_count": 5,
   "metadata": {
    "collapsed": false
   },
   "outputs": [],
   "source": [
    "demandsDiffDictCar[1] = norm(demandsDicToVec(demandsDictCar[1]) - demandsDicToVec(demandsDictCar[0]))/\n",
    "norm(demandsDicToVec(demandsDictCar[0]));\n",
    "\n",
    "demandsDiffDictTruck[1] = norm(demandsDicToVec(demandsDictTruck[1]) - demandsDicToVec(demandsDictTruck[0]))/\n",
    "norm(demandsDicToVec(demandsDictTruck[0] ));"
   ]
  },
  {
   "cell_type": "code",
   "execution_count": 6,
   "metadata": {
    "collapsed": false
   },
   "outputs": [
    {
     "data": {
      "text/plain": [
       "Dict{Any,Any} with 2 entries:\n",
       "  0 => Dict{Any,Any}(Pair{Any,Any}(\"car\",Dict{Any,Any}(Pair{Any,Any}((23,8),240…\n",
       "  1 => Dict{Any,Any}(Pair{Any,Any}(\"car\",Dict{Any,Any}(Pair{Any,Any}((23,8),241…"
      ]
     },
     "execution_count": 6,
     "metadata": {},
     "output_type": "execute_result"
    }
   ],
   "source": [
    "demandsDict"
   ]
  },
  {
   "cell_type": "code",
   "execution_count": 7,
   "metadata": {
    "collapsed": false
   },
   "outputs": [],
   "source": [
    "demandsVecDictCar[0] = demandsDicToVec(demandsDictCar[0]);\n",
    "demandsVecDictTruck[0] = demandsDicToVec(demandsDictTruck[0]);"
   ]
  },
  {
   "cell_type": "code",
   "execution_count": 8,
   "metadata": {
    "collapsed": false
   },
   "outputs": [
    {
     "data": {
      "text/plain": [
       "Dict{Any,Any} with 1 entry:\n",
       "  0 => [80.0,80.0,400.0,160.0,240.0,400.0,640.0,400.0,1040.0,400.0  …  320.0,32…"
      ]
     },
     "execution_count": 8,
     "metadata": {},
     "output_type": "execute_result"
    }
   ],
   "source": [
    "demandsVecDictCar"
   ]
  },
  {
   "cell_type": "code",
   "execution_count": 9,
   "metadata": {
    "collapsed": false
   },
   "outputs": [
    {
     "data": {
      "text/plain": [
       "Dict{Any,Any} with 1 entry:\n",
       "  0 => [20.0,20.0,100.0,40.0,60.0,100.0,160.0,100.0,260.0,100.0  …  80.0,80.0,6…"
      ]
     },
     "execution_count": 9,
     "metadata": {},
     "output_type": "execute_result"
    }
   ],
   "source": [
    "demandsVecDictTruck"
   ]
  },
  {
   "cell_type": "code",
   "execution_count": 10,
   "metadata": {
    "collapsed": false
   },
   "outputs": [],
   "source": [
    "fcoeffs = [1, 0, 0, 0, .15];\n",
    "\n",
    "# get observed flow vector (corresponding to ground truth demands and ground truth costs)\n",
    "tapFlowDicDict[0], tapFlowVecDict[0] = tapMSA_Multi(demandsDictCar[0], demandsDictTruck[0], fcoeffs);"
   ]
  },
  {
   "cell_type": "code",
   "execution_count": 11,
   "metadata": {
    "collapsed": false
   },
   "outputs": [
    {
     "data": {
      "text/plain": [
       "Dict{Any,Any} with 2 entries:\n",
       "  \"car\"   => Dict{Any,Any}(Pair{Any,Any}((15,19),14759.9),Pair{Any,Any}((20,21)…\n",
       "  \"truck\" => Dict{Any,Any}(Pair{Any,Any}((15,19),3814.0),Pair{Any,Any}((20,21),…"
      ]
     },
     "execution_count": 11,
     "metadata": {},
     "output_type": "execute_result"
    }
   ],
   "source": [
    "tapFlowDicDict[0]"
   ]
  },
  {
   "cell_type": "code",
   "execution_count": 12,
   "metadata": {
    "collapsed": false
   },
   "outputs": [
    {
     "data": {
      "text/plain": [
       "2×76 Array{Float64,2}:\n",
       " 4967.28  7874.96  4993.52  4801.6   …  5775.28  8412.64  8266.0   5744.48\n",
       " 1169.66  1893.72  1173.44  1128.44     1709.74  2117.6   1822.12  1695.02"
      ]
     },
     "execution_count": 12,
     "metadata": {},
     "output_type": "execute_result"
    }
   ],
   "source": [
    "tapFlowVecDict[0]"
   ]
  },
  {
   "cell_type": "code",
   "execution_count": 13,
   "metadata": {
    "collapsed": false
   },
   "outputs": [],
   "source": [
    "# get arcs data corresponding to ground truth demands and flows\n",
    "arcsDict[0] = observFlow(\"./benchmark_data/Sioux_net.txt\", tapFlowDicDict[0]);"
   ]
  },
  {
   "cell_type": "code",
   "execution_count": 14,
   "metadata": {
    "collapsed": false
   },
   "outputs": [
    {
     "data": {
      "text/plain": [
       "Dict{Any,Any} with 76 entries:\n",
       "  (15,19) => Arc(15,19,14564.8,3.0,22387.9,14759.9,3814.0)\n",
       "  (20,21) => Arc(20,21,5059.91,6.0,7605.52,5083.68,1260.92)\n",
       "  (22,20) => Arc(22,20,5075.7,5.0,8415.92,5622.64,1396.64)\n",
       "  (23,22) => Arc(23,22,5000.0,4.0,11239.7,7425.68,1907.02)\n",
       "  (10,11) => Arc(10,11,10000.0,5.0,20994.7,14105.5,3444.6)\n",
       "  (8,9)   => Arc(8,9,5050.19,10.0,8780.08,5785.68,1497.2)\n",
       "  (13,12) => Arc(13,12,25900.2,3.0,17389.1,11640.6,2874.26)\n",
       "  (24,21) => Arc(24,21,4885.36,3.0,11910.2,8266.0,1822.12)\n",
       "  (3,1)   => Arc(3,1,23403.5,4.0,11628.6,7848.72,1889.94)\n",
       "  (19,17) => Arc(19,17,4823.95,2.0,10807.5,7355.52,1726.0)\n",
       "  (4,5)   => Arc(4,5,17782.8,2.0,23041.0,15148.6,3946.18)\n",
       "  (17,16) => Arc(17,16,5229.91,2.0,13142.9,8931.04,2105.92)\n",
       "  (20,22) => Arc(20,22,5075.7,5.0,8414.04,5612.96,1400.54)\n",
       "  (22,21) => Arc(22,21,5229.91,2.0,9687.6,6767.52,1460.04)\n",
       "  (18,16) => Arc(18,16,19679.9,3.0,21557.2,14160.2,3698.54)\n",
       "  (6,5)   => Arc(6,5,4948.0,4.0,8888.6,5902.8,1492.9)\n",
       "  (16,17) => Arc(16,17,5229.91,2.0,13157.4,8895.68,2130.86)\n",
       "  (22,15) => Arc(22,15,9599.18,3.0,20433.1,13803.3,3314.92)\n",
       "  (1,2)   => Arc(1,2,25900.2,6.0,7306.6,4967.28,1169.66)\n",
       "  (22,23) => Arc(22,23,5000.0,4.0,11283.0,7400.96,1941.02)\n",
       "  (19,20) => Arc(19,20,5002.61,4.0,10377.6,6604.32,1886.64)\n",
       "  (9,8)   => Arc(9,8,5050.19,10.0,8737.68,5716.4,1510.64)\n",
       "  (11,12) => Arc(11,12,4908.83,6.0,9403.96,6717.2,1343.38)\n",
       "  (3,4)   => Arc(3,4,17110.5,4.0,19842.4,12657.8,3592.3)\n",
       "  (8,16)  => Arc(8,16,5045.82,5.0,9783.48,6705.36,1539.06)\n",
       "  ⋮       => ⋮"
      ]
     },
     "execution_count": 14,
     "metadata": {},
     "output_type": "execute_result"
    }
   ],
   "source": [
    "arcsDict[0]"
   ]
  },
  {
   "cell_type": "code",
   "execution_count": 15,
   "metadata": {
    "collapsed": false
   },
   "outputs": [],
   "source": [
    "deg = 7\n",
    "c = 1.5\n",
    "lam = 1e2\n",
    "\n",
    "coeffs_dict[(deg, c, lam, 1)], objInvVIDict[1] = train(lam, deg, c, demandsDictCar[1], demandsDictTruck[1], \n",
    "arcsDict[0]);"
   ]
  },
  {
   "cell_type": "code",
   "execution_count": 16,
   "metadata": {
    "collapsed": false
   },
   "outputs": [
    {
     "ename": "LoadError",
     "evalue": "LoadError: PyError (:PyObject_Call) <type 'exceptions.TypeError'>\nTypeError('pop() takes at most 1 argument (2 given)',)\n  File \"/home/jzh/anaconda2/lib/python2.7/site-packages/matplotlib/pyplot.py\", line 1557, in xlabel\n    return gca().set_xlabel(s, *args, **kwargs)\n  File \"/home/jzh/anaconda2/lib/python2.7/site-packages/matplotlib/axes/_axes.py\", line 222, in set_xlabel\n    return self.xaxis.set_label_text(xlabel, fontdict, **kwargs)\n  File \"/home/jzh/anaconda2/lib/python2.7/site-packages/matplotlib/axis.py\", line 1507, in set_label_text\n    self.label.update(fontdict)\n  File \"/home/jzh/anaconda2/lib/python2.7/site-packages/matplotlib/text.py\", line 242, in update\n    bbox = kwargs.pop('bbox', None)\n\nwhile loading In[16], in expression starting on line 25",
     "output_type": "error",
     "traceback": [
      "LoadError: PyError (:PyObject_Call) <type 'exceptions.TypeError'>\nTypeError('pop() takes at most 1 argument (2 given)',)\n  File \"/home/jzh/anaconda2/lib/python2.7/site-packages/matplotlib/pyplot.py\", line 1557, in xlabel\n    return gca().set_xlabel(s, *args, **kwargs)\n  File \"/home/jzh/anaconda2/lib/python2.7/site-packages/matplotlib/axes/_axes.py\", line 222, in set_xlabel\n    return self.xaxis.set_label_text(xlabel, fontdict, **kwargs)\n  File \"/home/jzh/anaconda2/lib/python2.7/site-packages/matplotlib/axis.py\", line 1507, in set_label_text\n    self.label.update(fontdict)\n  File \"/home/jzh/anaconda2/lib/python2.7/site-packages/matplotlib/text.py\", line 242, in update\n    bbox = kwargs.pop('bbox', None)\n\nwhile loading In[16], in expression starting on line 25",
      "",
      " in pyerr_check at /home/jzh/.julia/v0.5/PyCall/src/exception.jl:56 [inlined]",
      " in pyerr_check at /home/jzh/.julia/v0.5/PyCall/src/exception.jl:61 [inlined]",
      " in macro expansion at /home/jzh/.julia/v0.5/PyCall/src/exception.jl:81 [inlined]",
      " in #_pycall#62(::Array{Any,1}, ::Function, ::PyCall.PyObject, ::String, ::Vararg{String,N}) at /home/jzh/.julia/v0.5/PyCall/src/PyCall.jl:551",
      " in (::PyCall.#kw##_pycall)(::Array{Any,1}, ::PyCall.#_pycall, ::PyCall.PyObject, ::String, ::Vararg{String,N}) at ./<missing>:0",
      " in #pycall#66(::Array{Any,1}, ::Function, ::PyCall.PyObject, ::Type{PyCall.PyAny}, ::String, ::Vararg{String,N}) at /home/jzh/.julia/v0.5/PyCall/src/PyCall.jl:568",
      " in (::PyCall.#kw##pycall)(::Array{Any,1}, ::PyCall.#pycall, ::PyCall.PyObject, ::Type{PyCall.PyAny}, ::String, ::Vararg{String,N}) at ./<missing>:0",
      " in #xlabel#136(::Array{Any,1}, ::Function, ::String, ::Vararg{String,N}) at /home/jzh/.julia/v0.5/PyPlot/src/PyPlot.jl:399",
      " in (::PyPlot.#kw##xlabel)(::Array{Any,1}, ::PyPlot.#xlabel, ::String, ::Vararg{String,N}) at ./<missing>:0"
     ]
    }
   ],
   "source": [
    "using PyPlot\n",
    "\n",
    "iterN = 1\n",
    "\n",
    "true_coeffs = [1, 0, 0, 0, .15]\n",
    "# true_coeffs = [1, .2, .5, .8, .15]\n",
    "\n",
    "est_coeffs = coeffs_dict[(deg, c, lam, iterN)]\n",
    "\n",
    "xs = linspace(0, 2, 20)\n",
    "zs_true = map(x->polyEval(true_coeffs, x), xs)\n",
    "\n",
    "zs = map(x->polyEval(est_coeffs, x), xs)\n",
    "\n",
    "PyPlot.plot(xs, zs_true, \"^-g\", label=\"ground truth\")\n",
    "PyPlot.plot(xs, zs, \"<-r\", label=\"estimation\")\n",
    "\n",
    "legend(loc=\"upper left\",fancybox=\"true\") \n",
    "# PyPlot.plot(xs, ys, \"--b\")\n",
    "grid(\"on\")\n",
    "xlim(-0.1, 2.1);\n",
    "ylim(0.9, 3.5);\n",
    "\n",
    "font1 = [\"family\"=>\"serif\", \"color\"=>\"darkred\", \"weight\"=>\"normal\", \"size\"=>14]\n",
    "xlabel(\"Scaled Flow\", fontdict=font1)\n",
    "ylabel(\"Scaled Cost\", fontdict=font1)\n",
    "\n",
    "savefig(\"./results/fitting_Sioux_iter_$(iterN)_multi_class.pdf\")"
   ]
  },
  {
   "cell_type": "code",
   "execution_count": 17,
   "metadata": {
    "collapsed": false
   },
   "outputs": [],
   "source": [
    "demandsVecDictCar[1] = demandsDicToVec(demandsDictCar[1]);\n",
    "demandsVecDictTruck[1] = demandsDicToVec(demandsDictTruck[1]);\n",
    "\n",
    "objFunDict[1] = objF(demandsVecDictCar[1], demandsVecDictTruck[1], coeffs_dict[(deg, c, lam, 1)]);"
   ]
  },
  {
   "cell_type": "code",
   "execution_count": 18,
   "metadata": {
    "collapsed": false
   },
   "outputs": [],
   "source": [
    "# get initial flow vector (corresponding to initial demands)\n",
    "tapFlowDicDict[1], tapFlowVecDict[1] = tapMSA_Multi(demandsDictCar[1], demandsDictTruck[1], \n",
    "coeffs_dict[(deg, c, lam, 1)]);"
   ]
  },
  {
   "cell_type": "code",
   "execution_count": 19,
   "metadata": {
    "collapsed": false
   },
   "outputs": [
    {
     "data": {
      "text/plain": [
       "Dict{Any,Any} with 2 entries:\n",
       "  \"car\"   => Dict{Any,Any}(Pair{Any,Any}((15,19),14831.2),Pair{Any,Any}((20,21)…\n",
       "  \"truck\" => Dict{Any,Any}(Pair{Any,Any}((15,19),3769.22),Pair{Any,Any}((20,21)…"
      ]
     },
     "execution_count": 19,
     "metadata": {},
     "output_type": "execute_result"
    }
   ],
   "source": [
    "tapFlowDicDict[1]"
   ]
  },
  {
   "cell_type": "code",
   "execution_count": 20,
   "metadata": {
    "collapsed": false
   },
   "outputs": [
    {
     "data": {
      "text/plain": [
       "2×76 Array{Float64,2}:\n",
       " 4984.11  7988.82  5143.4   4792.52  …  5715.08  8384.96  8249.99  5661.29\n",
       " 1224.15  1878.03  1166.29  1176.45     1746.29  2125.52  1847.31  1658.12"
      ]
     },
     "execution_count": 20,
     "metadata": {},
     "output_type": "execute_result"
    }
   ],
   "source": [
    "tapFlowVecDict[1] "
   ]
  },
  {
   "cell_type": "code",
   "execution_count": 21,
   "metadata": {
    "collapsed": false
   },
   "outputs": [],
   "source": [
    "# get arcs data corresponding to initial demands and flows\n",
    "arcsDict[1] = observFlow(\"./benchmark_data/Sioux_net.txt\", tapFlowDicDict[1]);"
   ]
  },
  {
   "cell_type": "code",
   "execution_count": 22,
   "metadata": {
    "collapsed": false
   },
   "outputs": [],
   "source": [
    "linkCostDicDict[1] = tapFlowVecToLinkCostDict(tapFlowVecDict[1], coeffs_dict[(deg, c, lam, 1)]);"
   ]
  },
  {
   "cell_type": "code",
   "execution_count": 23,
   "metadata": {
    "collapsed": false
   },
   "outputs": [
    {
     "data": {
      "text/plain": [
       "Dict{Any,Any} with 76 entries:\n",
       "  \"32\" => 18.2197\n",
       "  \"29\" => 24.2121\n",
       "  \"1\"  => 4.05623\n",
       "  \"54\" => 3.66138\n",
       "  \"2\"  => 6.01379\n",
       "  \"74\" => 19.0755\n",
       "  \"41\" => 12.1116\n",
       "  \"65\" => 19.0517\n",
       "  \"51\" => 13.4329\n",
       "  \"53\" => 2.1923\n",
       "  \"27\" => 22.347\n",
       "  \"75\" => 4.93066\n",
       "  \"42\" => 23.0596\n",
       "  \"33\" => 22.672\n",
       "  \"28\" => 34.1848\n",
       "  \"50\" => 24.3318\n",
       "  \"52\" => 9.17814\n",
       "  \"63\" => 10.4771\n",
       "  \"26\" => 19.7579\n",
       "  \"10\" => 2.90008\n",
       "  \"24\" => 8.84271\n",
       "  \"58\" => 14.745\n",
       "  \"25\" => 8.8601\n",
       "  \"23\" => 23.1684\n",
       "  \"49\" => 3.64987\n",
       "  ⋮    => ⋮"
      ]
     },
     "execution_count": 23,
     "metadata": {},
     "output_type": "execute_result"
    }
   ],
   "source": [
    "linkCostDicDict[1][\"car\"]"
   ]
  },
  {
   "cell_type": "code",
   "execution_count": 24,
   "metadata": {
    "collapsed": false
   },
   "outputs": [
    {
     "data": {
      "text/plain": [
       "Dict{Any,Any} with 76 entries:\n",
       "  \"32\" => 20.0417\n",
       "  \"29\" => 26.6333\n",
       "  \"1\"  => 4.46185\n",
       "  \"54\" => 4.02752\n",
       "  \"2\"  => 6.61517\n",
       "  \"74\" => 20.983\n",
       "  \"41\" => 13.3228\n",
       "  \"65\" => 20.9569\n",
       "  \"51\" => 14.7762\n",
       "  \"53\" => 2.41153\n",
       "  \"27\" => 24.5817\n",
       "  \"75\" => 5.42372\n",
       "  \"42\" => 25.3655\n",
       "  \"33\" => 24.9392\n",
       "  \"28\" => 37.6033\n",
       "  \"50\" => 26.7649\n",
       "  \"52\" => 10.096\n",
       "  \"63\" => 11.5248\n",
       "  \"26\" => 21.7337\n",
       "  \"10\" => 3.19009\n",
       "  \"24\" => 9.72699\n",
       "  \"58\" => 16.2195\n",
       "  \"25\" => 9.74611\n",
       "  \"23\" => 25.4853\n",
       "  \"49\" => 4.01485\n",
       "  ⋮    => ⋮"
      ]
     },
     "execution_count": 24,
     "metadata": {},
     "output_type": "execute_result"
    }
   ],
   "source": [
    "linkCostDicDict[1][\"truck\"]"
   ]
  },
  {
   "cell_type": "code",
   "execution_count": 25,
   "metadata": {
    "collapsed": false
   },
   "outputs": [
    {
     "data": {
      "text/plain": [
       "76-element Array{Any,1}:\n",
       " 6.0\n",
       " 4.0\n",
       " 6.0\n",
       " 5.0\n",
       " 4.0\n",
       " 4.0\n",
       " 4.0\n",
       " 4.0\n",
       " 2.0\n",
       " 6.0\n",
       " 2.0\n",
       " 4.0\n",
       " 5.0\n",
       " ⋮  \n",
       " 2.0\n",
       " 3.0\n",
       " 3.0\n",
       " 5.0\n",
       " 2.0\n",
       " 4.0\n",
       " 4.0\n",
       " 4.0\n",
       " 2.0\n",
       " 4.0\n",
       " 3.0\n",
       " 2.0"
      ]
     },
     "execution_count": 25,
     "metadata": {},
     "output_type": "execute_result"
    }
   ],
   "source": [
    "link_length_list"
   ]
  },
  {
   "cell_type": "code",
   "execution_count": 26,
   "metadata": {
    "collapsed": false
   },
   "outputs": [
    {
     "data": {
      "text/plain": [
       "Dict{Any,Any} with 2 entries:\n",
       "  0 => [6.01354,4.05623,6.01379,8.28058,4.05438,5.09259,4.12597,5.08481,2.87796…\n",
       "  1 => [6.61489,4.46185,6.61517,9.10864,4.45982,5.60185,4.53857,5.5933,3.16576,…"
      ]
     },
     "execution_count": 26,
     "metadata": {},
     "output_type": "execute_result"
    }
   ],
   "source": [
    "link_length_list_car = [linkCostDicDict[1][\"car\"][\"$(i)\"] for i=0:numLinks-1]\n",
    "link_length_list_truck = [linkCostDicDict[1][\"truck\"][\"$(i)\"] for i=0:numLinks-1]\n",
    "\n",
    "link_length_list_dict[0] = link_length_list_car\n",
    "link_length_list_dict[1] = link_length_list_truck\n",
    "\n",
    "link_length_list_dict_dict[1] = link_length_list_dict"
   ]
  },
  {
   "cell_type": "code",
   "execution_count": 27,
   "metadata": {
    "collapsed": false
   },
   "outputs": [],
   "source": [
    "jacobiSpiessDict[1] = Compute_Jacobian_Sioux_multi_class.jacobianSpiess(numNodes, numLinks, numODpairs, od_pairs, \n",
    "link_list_js, link_length_list_dict_dict[1]);"
   ]
  },
  {
   "cell_type": "code",
   "execution_count": 28,
   "metadata": {
    "collapsed": false
   },
   "outputs": [
    {
     "data": {
      "text/plain": [
       "552×76×2 Array{Float64,3}:\n",
       "[:, :, 1] =\n",
       " 1.0  0.0  0.0  0.0  0.0  0.0  0.0  0.0  …  0.0  0.0  0.0  0.0  0.0  0.0  0.0\n",
       " 0.0  1.0  0.0  0.0  0.0  0.0  0.0  0.0     0.0  0.0  0.0  0.0  0.0  0.0  0.0\n",
       " 0.0  1.0  0.0  0.0  0.0  1.0  0.0  0.0     0.0  0.0  0.0  0.0  0.0  0.0  0.0\n",
       " 0.0  1.0  0.0  0.0  0.0  1.0  0.0  0.0     0.0  0.0  0.0  0.0  0.0  0.0  0.0\n",
       " 1.0  0.0  0.0  1.0  0.0  0.0  0.0  0.0     0.0  0.0  0.0  0.0  0.0  0.0  0.0\n",
       " 1.0  0.0  0.0  1.0  0.0  0.0  0.0  0.0  …  0.0  0.0  0.0  0.0  0.0  0.0  0.0\n",
       " 1.0  0.0  0.0  1.0  0.0  0.0  0.0  0.0     0.0  0.0  0.0  0.0  0.0  0.0  0.0\n",
       " 0.0  1.0  0.0  0.0  0.0  1.0  0.0  0.0     0.0  0.0  0.0  0.0  0.0  0.0  0.0\n",
       " 0.0  1.0  0.0  0.0  0.0  1.0  0.0  0.0     0.0  0.0  0.0  0.0  0.0  0.0  0.0\n",
       " 0.0  1.0  0.0  0.0  0.0  1.0  0.0  0.0     0.0  0.0  0.0  0.0  0.0  0.0  0.0\n",
       " 0.0  1.0  0.0  0.0  0.0  0.0  1.0  0.0  …  0.0  0.0  0.0  0.0  0.0  0.0  0.0\n",
       " 0.0  1.0  0.0  0.0  0.0  0.0  1.0  0.0     0.0  0.0  0.0  0.0  0.0  0.0  0.0\n",
       " 0.0  1.0  0.0  0.0  0.0  1.0  0.0  0.0     0.0  0.0  0.0  0.0  0.0  0.0  0.0\n",
       " ⋮                        ⋮              ⋱       ⋮                        ⋮  \n",
       " 0.0  0.0  0.0  0.0  0.0  0.0  0.0  0.0  …  0.0  0.0  0.0  0.0  1.0  0.0  0.0\n",
       " 0.0  0.0  0.0  0.0  0.0  0.0  0.0  0.0     0.0  0.0  0.0  0.0  1.0  0.0  0.0\n",
       " 0.0  0.0  0.0  0.0  0.0  0.0  0.0  0.0     0.0  1.0  0.0  0.0  0.0  0.0  1.0\n",
       " 0.0  0.0  0.0  0.0  0.0  0.0  0.0  0.0     0.0  1.0  0.0  0.0  0.0  0.0  1.0\n",
       " 0.0  0.0  0.0  0.0  0.0  0.0  0.0  0.0     0.0  0.0  0.0  0.0  0.0  1.0  0.0\n",
       " 0.0  0.0  0.0  0.0  0.0  0.0  0.0  0.0  …  0.0  1.0  0.0  0.0  0.0  0.0  1.0\n",
       " 0.0  0.0  0.0  0.0  0.0  0.0  0.0  0.0     0.0  0.0  0.0  0.0  0.0  1.0  0.0\n",
       " 0.0  0.0  0.0  0.0  0.0  0.0  0.0  0.0     0.0  1.0  0.0  0.0  0.0  0.0  1.0\n",
       " 0.0  0.0  0.0  0.0  0.0  0.0  0.0  0.0     0.0  0.0  0.0  0.0  0.0  1.0  0.0\n",
       " 0.0  0.0  0.0  0.0  0.0  0.0  0.0  0.0     0.0  0.0  0.0  0.0  0.0  1.0  0.0\n",
       " 0.0  0.0  0.0  0.0  0.0  0.0  0.0  0.0  …  0.0  0.0  0.0  0.0  0.0  1.0  0.0\n",
       " 0.0  0.0  0.0  0.0  0.0  0.0  0.0  0.0     0.0  0.0  0.0  0.0  0.0  0.0  1.0\n",
       "\n",
       "[:, :, 2] =\n",
       " 1.0  0.0  0.0  0.0  0.0  0.0  0.0  0.0  …  0.0  0.0  0.0  0.0  0.0  0.0  0.0\n",
       " 0.0  1.0  0.0  0.0  0.0  0.0  0.0  0.0     0.0  0.0  0.0  0.0  0.0  0.0  0.0\n",
       " 0.0  1.0  0.0  0.0  0.0  1.0  0.0  0.0     0.0  0.0  0.0  0.0  0.0  0.0  0.0\n",
       " 0.0  1.0  0.0  0.0  0.0  1.0  0.0  0.0     0.0  0.0  0.0  0.0  0.0  0.0  0.0\n",
       " 1.0  0.0  0.0  1.0  0.0  0.0  0.0  0.0     0.0  0.0  0.0  0.0  0.0  0.0  0.0\n",
       " 1.0  0.0  0.0  1.0  0.0  0.0  0.0  0.0  …  0.0  0.0  0.0  0.0  0.0  0.0  0.0\n",
       " 1.0  0.0  0.0  1.0  0.0  0.0  0.0  0.0     0.0  0.0  0.0  0.0  0.0  0.0  0.0\n",
       " 0.0  1.0  0.0  0.0  0.0  1.0  0.0  0.0     0.0  0.0  0.0  0.0  0.0  0.0  0.0\n",
       " 0.0  1.0  0.0  0.0  0.0  1.0  0.0  0.0     0.0  0.0  0.0  0.0  0.0  0.0  0.0\n",
       " 0.0  1.0  0.0  0.0  0.0  1.0  0.0  0.0     0.0  0.0  0.0  0.0  0.0  0.0  0.0\n",
       " 0.0  1.0  0.0  0.0  0.0  0.0  1.0  0.0  …  0.0  0.0  0.0  0.0  0.0  0.0  0.0\n",
       " 0.0  1.0  0.0  0.0  0.0  0.0  1.0  0.0     0.0  0.0  0.0  0.0  0.0  0.0  0.0\n",
       " 0.0  1.0  0.0  0.0  0.0  1.0  0.0  0.0     0.0  0.0  0.0  0.0  0.0  0.0  0.0\n",
       " ⋮                        ⋮              ⋱       ⋮                        ⋮  \n",
       " 0.0  0.0  0.0  0.0  0.0  0.0  0.0  0.0  …  0.0  0.0  0.0  0.0  1.0  0.0  0.0\n",
       " 0.0  0.0  0.0  0.0  0.0  0.0  0.0  0.0     0.0  0.0  0.0  0.0  1.0  0.0  0.0\n",
       " 0.0  0.0  0.0  0.0  0.0  0.0  0.0  0.0     0.0  1.0  0.0  0.0  0.0  0.0  1.0\n",
       " 0.0  0.0  0.0  0.0  0.0  0.0  0.0  0.0     0.0  1.0  0.0  0.0  0.0  0.0  1.0\n",
       " 0.0  0.0  0.0  0.0  0.0  0.0  0.0  0.0     0.0  0.0  0.0  0.0  0.0  1.0  0.0\n",
       " 0.0  0.0  0.0  0.0  0.0  0.0  0.0  0.0  …  0.0  1.0  0.0  0.0  0.0  0.0  1.0\n",
       " 0.0  0.0  0.0  0.0  0.0  0.0  0.0  0.0     0.0  0.0  0.0  0.0  0.0  1.0  0.0\n",
       " 0.0  0.0  0.0  0.0  0.0  0.0  0.0  0.0     0.0  1.0  0.0  0.0  0.0  0.0  1.0\n",
       " 0.0  0.0  0.0  0.0  0.0  0.0  0.0  0.0     0.0  0.0  0.0  0.0  0.0  1.0  0.0\n",
       " 0.0  0.0  0.0  0.0  0.0  0.0  0.0  0.0     0.0  0.0  0.0  0.0  0.0  1.0  0.0\n",
       " 0.0  0.0  0.0  0.0  0.0  0.0  0.0  0.0  …  0.0  0.0  0.0  0.0  0.0  1.0  0.0\n",
       " 0.0  0.0  0.0  0.0  0.0  0.0  0.0  0.0     0.0  0.0  0.0  0.0  0.0  0.0  1.0"
      ]
     },
     "execution_count": 28,
     "metadata": {},
     "output_type": "execute_result"
    }
   ],
   "source": [
    "jacobiSpiessDict[1]"
   ]
  },
  {
   "cell_type": "code",
   "execution_count": 29,
   "metadata": {
    "collapsed": true
   },
   "outputs": [],
   "source": [
    "# maximum number of iterations\n",
    "N = 50;  \n",
    "\n",
    "# Armijo rule parameters\n",
    "rho = 2;\n",
    "M = 10;\n",
    "\n",
    "# search direction parameter\n",
    "epsilon_1 = 0;\n",
    "\n",
    "# stop criterion parameter\n",
    "epsilon_2 = 1e-20;"
   ]
  },
  {
   "cell_type": "code",
   "execution_count": 30,
   "metadata": {
    "collapsed": false
   },
   "outputs": [],
   "source": [
    "for l = 1:N\n",
    "    \n",
    "    jacobDict[l] = jacobiSpiessDict[l]\n",
    "\n",
    "    descDirecDict[l] = descDirec(tapFlowVecDict[l], tapFlowVecDict[0], jacobDict[l], numODpairs, numLinks);\n",
    "    \n",
    "    demandsVecDictCar[l] = demandsDicToVec(demandsDictCar[l]);\n",
    "    demandsVecDictTruck[l] = demandsDicToVec(demandsDictTruck[l]);\n",
    "\n",
    "    searchDirecDict[l] = searchDirec(demandsVecDictCar[l], demandsVecDictTruck[l], descDirecDict[l], epsilon_1);\n",
    "    \n",
    "    thetaMaxDict[l] = thetaMax(demandsVecDictCar[l], demandsVecDictTruck[l], searchDirecDict[l]);\n",
    "    \n",
    "    demandsVecDictCar[l+1] = similar(demandsVecDictCar[0]);\n",
    "    demandsVecDictTruck[l+1] = similar(demandsVecDictTruck[0]);\n",
    "    \n",
    "    demandsVecDictCar[l+1], demandsVecDictTruck[l+1], objFunDict[l+1] = armijo(objFunDict[l], demandsVecDictCar[l], \n",
    "    demandsVecDictTruck[l], coeffs_dict[(deg, c, lam, l)], searchDirecDict[l], thetaMaxDict[l], rho, M);\n",
    "    \n",
    "    demandsDictCar[l+1] = demandsVecToDic(demandsVecDictCar[l+1]);\n",
    "    demandsDictTruck[l+1] = demandsVecToDic(demandsVecDictTruck[l+1]);\n",
    "    \n",
    "    tapFlowDicDict[l+1], tapFlowVecDict[l+1] = tapMSA_Multi(demandsDictCar[l+1], demandsDictTruck[l+1], \n",
    "    coeffs_dict[(deg, c, lam, l)]);\n",
    "        \n",
    "    arcsDict[l+1] = observFlow(\"./benchmark_data/Sioux_net.txt\", tapFlowDicDict[l+1]);\n",
    "        \n",
    "    coeffs_dict[(deg, c, lam, l+1)], objInvVIDict[l+1] = train(lam, deg, c, demandsDictCar[l+1], \n",
    "    demandsDictTruck[l+1], arcsDict[0]);\n",
    "    \n",
    "    linkCostDicDict[l+1] = tapFlowVecToLinkCostDict(tapFlowVecDict[l+1], coeffs_dict[(deg, c, lam, l+1)]);\n",
    "        \n",
    "    #######################################\n",
    "    link_length_list_dict[0] = [linkCostDicDict[l+1][\"car\"][\"$(i)\"] for i=0:numLinks-1]\n",
    "    link_length_list_dict[1] = [linkCostDicDict[l+1][\"truck\"][\"$(i)\"] for i=0:numLinks-1]\n",
    "    link_length_list_dict_dict[l+1] = link_length_list_dict\n",
    "    #######################################\n",
    "    \n",
    "    jacobiSpiessDict[l+1] = Compute_Jacobian_Sioux_multi_class.jacobianSpiess(numNodes, numLinks, numODpairs, \n",
    "    od_pairs, link_list_js, link_length_list_dict_dict[l+1]);\n",
    "        \n",
    "    demandsDiffDictCar[l+1] = norm(demandsVecDictCar[l+1] - demandsVecDictCar[0]) / norm(demandsVecDictCar[0]);\n",
    "    demandsDiffDictTruck[l+1] = norm(demandsVecDictTruck[l+1] - demandsVecDictTruck[0]) / \n",
    "    norm(demandsVecDictTruck[0]);\n",
    "    \n",
    "    # stopping criterion\n",
    "    if (objFunDict[l] - objFunDict[l+1]) / objFunDict[1] < epsilon_2\n",
    "        break\n",
    "    end\n",
    "        \n",
    "end\n",
    "\n",
    "# normalize objective function value\n",
    "for l = 1:(length(objFunDict))\n",
    "    norObjFunDict[l] = objFunDict[l] / objFunDict[1];\n",
    "end"
   ]
  },
  {
   "cell_type": "code",
   "execution_count": 31,
   "metadata": {
    "collapsed": false
   },
   "outputs": [
    {
     "data": {
      "text/plain": [
       "Dict{Any,Any} with 7 entries:\n",
       "  0 => [80.0,80.0,400.0,160.0,240.0,400.0,640.0,400.0,1040.0,400.0  …  320.0,32…\n",
       "  4 => [84.2532,74.5312,415.831,167.756,232.733,360.751,697.716,358.579,997.548…\n",
       "  2 => [84.6432,75.2432,416.194,168.657,233.251,361.302,698.113,360.595,999.266…\n",
       "  3 => [84.2574,74.5341,415.832,167.76,232.74,360.759,697.722,358.591,997.56,40…\n",
       "  5 => [84.2488,74.5288,415.831,167.755,232.727,360.74,697.707,358.575,997.547,…\n",
       "  6 => [84.2488,74.5288,415.831,167.755,232.727,360.74,697.707,358.575,997.547,…\n",
       "  1 => [84.7529,75.9852,416.216,169.013,233.301,360.534,697.676,362.113,1000.3,…"
      ]
     },
     "execution_count": 31,
     "metadata": {},
     "output_type": "execute_result"
    }
   ],
   "source": [
    "demandsVecDictCar"
   ]
  },
  {
   "cell_type": "code",
   "execution_count": 32,
   "metadata": {
    "collapsed": false
   },
   "outputs": [
    {
     "data": {
      "text/plain": [
       "Dict{Any,Any} with 7 entries:\n",
       "  0 => [20.0,20.0,100.0,40.0,60.0,100.0,160.0,100.0,260.0,100.0  …  80.0,80.0,6…\n",
       "  4 => [20.5908,19.1756,104.724,42.7813,57.1878,87.9089,172.744,90.8076,249.897…\n",
       "  2 => [20.8331,19.0986,104.473,42.6405,57.6573,88.763,173.409,90.8154,250.147,…\n",
       "  3 => [20.5917,19.1757,104.724,42.7817,57.1895,87.9117,172.747,90.8085,249.899…\n",
       "  5 => [20.5897,19.175,104.723,42.7791,57.1857,87.9063,172.742,90.8028,249.889,…\n",
       "  6 => [20.5897,19.175,104.723,42.7791,57.1857,87.9063,172.742,90.8028,249.889,…\n",
       "  1 => [21.1882,18.9963,104.054,42.2533,58.3253,90.1334,174.419,90.5283,250.076…"
      ]
     },
     "execution_count": 32,
     "metadata": {},
     "output_type": "execute_result"
    }
   ],
   "source": [
    "demandsVecDictTruck"
   ]
  },
  {
   "cell_type": "code",
   "execution_count": 33,
   "metadata": {
    "collapsed": false
   },
   "outputs": [
    {
     "data": {
      "text/plain": [
       "Dict{Any,Any} with 6 entries:\n",
       "  4 => 0.395387\n",
       "  2 => 0.537169\n",
       "  3 => 0.427557\n",
       "  5 => 0.389929\n",
       "  6 => 0.389929\n",
       "  1 => 1.0"
      ]
     },
     "execution_count": 33,
     "metadata": {},
     "output_type": "execute_result"
    }
   ],
   "source": [
    "norObjFunDict"
   ]
  },
  {
   "cell_type": "code",
   "execution_count": 34,
   "metadata": {
    "collapsed": false
   },
   "outputs": [
    {
     "ename": "LoadError",
     "evalue": "LoadError: PyError (:PyObject_Call) <type 'exceptions.TypeError'>\nTypeError('pop() takes at most 1 argument (2 given)',)\n  File \"/home/jzh/anaconda2/lib/python2.7/site-packages/matplotlib/pyplot.py\", line 1557, in xlabel\n    return gca().set_xlabel(s, *args, **kwargs)\n  File \"/home/jzh/anaconda2/lib/python2.7/site-packages/matplotlib/axes/_axes.py\", line 222, in set_xlabel\n    return self.xaxis.set_label_text(xlabel, fontdict, **kwargs)\n  File \"/home/jzh/anaconda2/lib/python2.7/site-packages/matplotlib/axis.py\", line 1507, in set_label_text\n    self.label.update(fontdict)\n  File \"/home/jzh/anaconda2/lib/python2.7/site-packages/matplotlib/text.py\", line 242, in update\n    bbox = kwargs.pop('bbox', None)\n\nwhile loading In[34], in expression starting on line 20",
     "output_type": "error",
     "traceback": [
      "LoadError: PyError (:PyObject_Call) <type 'exceptions.TypeError'>\nTypeError('pop() takes at most 1 argument (2 given)',)\n  File \"/home/jzh/anaconda2/lib/python2.7/site-packages/matplotlib/pyplot.py\", line 1557, in xlabel\n    return gca().set_xlabel(s, *args, **kwargs)\n  File \"/home/jzh/anaconda2/lib/python2.7/site-packages/matplotlib/axes/_axes.py\", line 222, in set_xlabel\n    return self.xaxis.set_label_text(xlabel, fontdict, **kwargs)\n  File \"/home/jzh/anaconda2/lib/python2.7/site-packages/matplotlib/axis.py\", line 1507, in set_label_text\n    self.label.update(fontdict)\n  File \"/home/jzh/anaconda2/lib/python2.7/site-packages/matplotlib/text.py\", line 242, in update\n    bbox = kwargs.pop('bbox', None)\n\nwhile loading In[34], in expression starting on line 20",
      "",
      " in pyerr_check at /home/jzh/.julia/v0.5/PyCall/src/exception.jl:56 [inlined]",
      " in pyerr_check at /home/jzh/.julia/v0.5/PyCall/src/exception.jl:61 [inlined]",
      " in macro expansion at /home/jzh/.julia/v0.5/PyCall/src/exception.jl:81 [inlined]",
      " in #_pycall#62(::Array{Any,1}, ::Function, ::PyCall.PyObject, ::String, ::Vararg{String,N}) at /home/jzh/.julia/v0.5/PyCall/src/PyCall.jl:551",
      " in (::PyCall.#kw##_pycall)(::Array{Any,1}, ::PyCall.#_pycall, ::PyCall.PyObject, ::String, ::Vararg{String,N}) at ./<missing>:0",
      " in #pycall#66(::Array{Any,1}, ::Function, ::PyCall.PyObject, ::Type{PyCall.PyAny}, ::String, ::Vararg{String,N}) at /home/jzh/.julia/v0.5/PyCall/src/PyCall.jl:568",
      " in (::PyCall.#kw##pycall)(::Array{Any,1}, ::PyCall.#pycall, ::PyCall.PyObject, ::Type{PyCall.PyAny}, ::String, ::Vararg{String,N}) at ./<missing>:0",
      " in #xlabel#136(::Array{Any,1}, ::Function, ::String, ::Vararg{String,N}) at /home/jzh/.julia/v0.5/PyPlot/src/PyPlot.jl:399",
      " in (::PyPlot.#kw##xlabel)(::Array{Any,1}, ::PyPlot.#xlabel, ::String, ::Vararg{String,N}) at ./<missing>:0"
     ]
    }
   ],
   "source": [
    "using PyPlot\n",
    "\n",
    "iterNum = 1:(length(norObjFunDict))\n",
    "\n",
    "objFun = map(iterNum->norObjFunDict[iterNum], iterNum)\n",
    "\n",
    "# PyPlot.plot(iterNum, objFun, \"s-g\", label=\"True\")\n",
    "\n",
    "PyPlot.plot(iterNum, objFun, \"s-b\")\n",
    "\n",
    "# legend(loc=\"upper right\",fancybox=\"true\") \n",
    "\n",
    "grid(\"on\")\n",
    "\n",
    "xlim(.8, length(norObjFunDict) + 1 + .2)\n",
    "ylim(minimum(objFun)-.01, maximum(objFun)+.01)\n",
    "\n",
    "font1 = [\"family\"=>\"serif\", \"color\"=>\"darkred\", \"weight\"=>\"normal\", \"size\"=>14]\n",
    "\n",
    "xlabel(\"Number of iterations\", fontdict=font1)\n",
    "ylabel(\"Normalized objective function value (biLev)\", fontdict=font1)\n",
    "\n",
    "savefig(\"./results/objFun_biLev_Sioux.pdf\")"
   ]
  },
  {
   "cell_type": "code",
   "execution_count": 35,
   "metadata": {
    "collapsed": false
   },
   "outputs": [
    {
     "ename": "LoadError",
     "evalue": "LoadError: PyError (:PyObject_Call) <type 'exceptions.TypeError'>\nTypeError('pop() takes at most 1 argument (2 given)',)\n  File \"/home/jzh/anaconda2/lib/python2.7/site-packages/matplotlib/pyplot.py\", line 1557, in xlabel\n    return gca().set_xlabel(s, *args, **kwargs)\n  File \"/home/jzh/anaconda2/lib/python2.7/site-packages/matplotlib/axes/_axes.py\", line 222, in set_xlabel\n    return self.xaxis.set_label_text(xlabel, fontdict, **kwargs)\n  File \"/home/jzh/anaconda2/lib/python2.7/site-packages/matplotlib/axis.py\", line 1507, in set_label_text\n    self.label.update(fontdict)\n  File \"/home/jzh/anaconda2/lib/python2.7/site-packages/matplotlib/text.py\", line 242, in update\n    bbox = kwargs.pop('bbox', None)\n\nwhile loading In[35], in expression starting on line 20",
     "output_type": "error",
     "traceback": [
      "LoadError: PyError (:PyObject_Call) <type 'exceptions.TypeError'>\nTypeError('pop() takes at most 1 argument (2 given)',)\n  File \"/home/jzh/anaconda2/lib/python2.7/site-packages/matplotlib/pyplot.py\", line 1557, in xlabel\n    return gca().set_xlabel(s, *args, **kwargs)\n  File \"/home/jzh/anaconda2/lib/python2.7/site-packages/matplotlib/axes/_axes.py\", line 222, in set_xlabel\n    return self.xaxis.set_label_text(xlabel, fontdict, **kwargs)\n  File \"/home/jzh/anaconda2/lib/python2.7/site-packages/matplotlib/axis.py\", line 1507, in set_label_text\n    self.label.update(fontdict)\n  File \"/home/jzh/anaconda2/lib/python2.7/site-packages/matplotlib/text.py\", line 242, in update\n    bbox = kwargs.pop('bbox', None)\n\nwhile loading In[35], in expression starting on line 20",
      "",
      " in pyerr_check at /home/jzh/.julia/v0.5/PyCall/src/exception.jl:56 [inlined]",
      " in pyerr_check at /home/jzh/.julia/v0.5/PyCall/src/exception.jl:61 [inlined]",
      " in macro expansion at /home/jzh/.julia/v0.5/PyCall/src/exception.jl:81 [inlined]",
      " in #_pycall#62(::Array{Any,1}, ::Function, ::PyCall.PyObject, ::String, ::Vararg{String,N}) at /home/jzh/.julia/v0.5/PyCall/src/PyCall.jl:551",
      " in (::PyCall.#kw##_pycall)(::Array{Any,1}, ::PyCall.#_pycall, ::PyCall.PyObject, ::String, ::Vararg{String,N}) at ./<missing>:0",
      " in #pycall#66(::Array{Any,1}, ::Function, ::PyCall.PyObject, ::Type{PyCall.PyAny}, ::String, ::Vararg{String,N}) at /home/jzh/.julia/v0.5/PyCall/src/PyCall.jl:568",
      " in (::PyCall.#kw##pycall)(::Array{Any,1}, ::PyCall.#pycall, ::PyCall.PyObject, ::Type{PyCall.PyAny}, ::String, ::Vararg{String,N}) at ./<missing>:0",
      " in #xlabel#136(::Array{Any,1}, ::Function, ::String, ::Vararg{String,N}) at /home/jzh/.julia/v0.5/PyPlot/src/PyPlot.jl:399",
      " in (::PyPlot.#kw##xlabel)(::Array{Any,1}, ::PyPlot.#xlabel, ::String, ::Vararg{String,N}) at ./<missing>:0"
     ]
    }
   ],
   "source": [
    "using PyPlot\n",
    "\n",
    "iterNum = 1:(length(demandsDiffDictCar))\n",
    "\n",
    "demandsDiff = map(iterNum->demandsDiffDictCar[iterNum], iterNum)\n",
    "\n",
    "# PyPlot.plot(iterNum, objFun, \"s-g\", label=\"True\")\n",
    "\n",
    "PyPlot.plot(iterNum, demandsDiff, \"o-g\")\n",
    "\n",
    "# legend(loc=\"upper right\",fancybox=\"true\") \n",
    "\n",
    "grid(\"on\")\n",
    "\n",
    "xlim(.8, length(demandsDiffDictCar) + 1 + .2)\n",
    "ylim(minimum(demandsDiff)-.0005, maximum(demandsDiff)+.0005)\n",
    "\n",
    "font1 = [\"family\"=>\"serif\", \"color\"=>\"darkred\", \"weight\"=>\"normal\", \"size\"=>14]\n",
    "\n",
    "xlabel(\"Number of iterations\", fontdict=font1)\n",
    "ylabel(\"Normalized demand difference\", fontdict=font1)\n",
    "\n",
    "savefig(\"./results/demandsDiff_biLev_Sioux_car.pdf\")"
   ]
  },
  {
   "cell_type": "code",
   "execution_count": 36,
   "metadata": {
    "collapsed": false
   },
   "outputs": [
    {
     "ename": "LoadError",
     "evalue": "LoadError: PyError (:PyObject_Call) <type 'exceptions.TypeError'>\nTypeError('pop() takes at most 1 argument (2 given)',)\n  File \"/home/jzh/anaconda2/lib/python2.7/site-packages/matplotlib/pyplot.py\", line 1557, in xlabel\n    return gca().set_xlabel(s, *args, **kwargs)\n  File \"/home/jzh/anaconda2/lib/python2.7/site-packages/matplotlib/axes/_axes.py\", line 222, in set_xlabel\n    return self.xaxis.set_label_text(xlabel, fontdict, **kwargs)\n  File \"/home/jzh/anaconda2/lib/python2.7/site-packages/matplotlib/axis.py\", line 1507, in set_label_text\n    self.label.update(fontdict)\n  File \"/home/jzh/anaconda2/lib/python2.7/site-packages/matplotlib/text.py\", line 242, in update\n    bbox = kwargs.pop('bbox', None)\n\nwhile loading In[36], in expression starting on line 20",
     "output_type": "error",
     "traceback": [
      "LoadError: PyError (:PyObject_Call) <type 'exceptions.TypeError'>\nTypeError('pop() takes at most 1 argument (2 given)',)\n  File \"/home/jzh/anaconda2/lib/python2.7/site-packages/matplotlib/pyplot.py\", line 1557, in xlabel\n    return gca().set_xlabel(s, *args, **kwargs)\n  File \"/home/jzh/anaconda2/lib/python2.7/site-packages/matplotlib/axes/_axes.py\", line 222, in set_xlabel\n    return self.xaxis.set_label_text(xlabel, fontdict, **kwargs)\n  File \"/home/jzh/anaconda2/lib/python2.7/site-packages/matplotlib/axis.py\", line 1507, in set_label_text\n    self.label.update(fontdict)\n  File \"/home/jzh/anaconda2/lib/python2.7/site-packages/matplotlib/text.py\", line 242, in update\n    bbox = kwargs.pop('bbox', None)\n\nwhile loading In[36], in expression starting on line 20",
      "",
      " in pyerr_check at /home/jzh/.julia/v0.5/PyCall/src/exception.jl:56 [inlined]",
      " in pyerr_check at /home/jzh/.julia/v0.5/PyCall/src/exception.jl:61 [inlined]",
      " in macro expansion at /home/jzh/.julia/v0.5/PyCall/src/exception.jl:81 [inlined]",
      " in #_pycall#62(::Array{Any,1}, ::Function, ::PyCall.PyObject, ::String, ::Vararg{String,N}) at /home/jzh/.julia/v0.5/PyCall/src/PyCall.jl:551",
      " in (::PyCall.#kw##_pycall)(::Array{Any,1}, ::PyCall.#_pycall, ::PyCall.PyObject, ::String, ::Vararg{String,N}) at ./<missing>:0",
      " in #pycall#66(::Array{Any,1}, ::Function, ::PyCall.PyObject, ::Type{PyCall.PyAny}, ::String, ::Vararg{String,N}) at /home/jzh/.julia/v0.5/PyCall/src/PyCall.jl:568",
      " in (::PyCall.#kw##pycall)(::Array{Any,1}, ::PyCall.#pycall, ::PyCall.PyObject, ::Type{PyCall.PyAny}, ::String, ::Vararg{String,N}) at ./<missing>:0",
      " in #xlabel#136(::Array{Any,1}, ::Function, ::String, ::Vararg{String,N}) at /home/jzh/.julia/v0.5/PyPlot/src/PyPlot.jl:399",
      " in (::PyPlot.#kw##xlabel)(::Array{Any,1}, ::PyPlot.#xlabel, ::String, ::Vararg{String,N}) at ./<missing>:0"
     ]
    }
   ],
   "source": [
    "using PyPlot\n",
    "\n",
    "iterNum = 1:(length(demandsDiffDictTruck))\n",
    "\n",
    "demandsDiff = map(iterNum->demandsDiffDictTruck[iterNum], iterNum)\n",
    "\n",
    "# PyPlot.plot(iterNum, objFun, \"s-g\", label=\"True\")\n",
    "\n",
    "PyPlot.plot(iterNum, demandsDiff, \"o-g\")\n",
    "\n",
    "# legend(loc=\"upper right\",fancybox=\"true\") \n",
    "\n",
    "grid(\"on\")\n",
    "\n",
    "xlim(.8, length(demandsDiffDictTruck) + 1 + .2)\n",
    "ylim(minimum(demandsDiff)-.0005, maximum(demandsDiff)+.0005)\n",
    "\n",
    "font1 = [\"family\"=>\"serif\", \"color\"=>\"darkred\", \"weight\"=>\"normal\", \"size\"=>14]\n",
    "\n",
    "xlabel(\"Number of iterations\", fontdict=font1)\n",
    "ylabel(\"Normalized demand difference\", fontdict=font1)\n",
    "\n",
    "savefig(\"./results/demandsDiff_biLev_Sioux_truck.pdf\")"
   ]
  },
  {
   "cell_type": "code",
   "execution_count": 37,
   "metadata": {
    "collapsed": false
   },
   "outputs": [
    {
     "ename": "LoadError",
     "evalue": "LoadError: PyError (:PyObject_Call) <type 'exceptions.TypeError'>\nTypeError('pop() takes at most 1 argument (2 given)',)\n  File \"/home/jzh/anaconda2/lib/python2.7/site-packages/matplotlib/pyplot.py\", line 1557, in xlabel\n    return gca().set_xlabel(s, *args, **kwargs)\n  File \"/home/jzh/anaconda2/lib/python2.7/site-packages/matplotlib/axes/_axes.py\", line 222, in set_xlabel\n    return self.xaxis.set_label_text(xlabel, fontdict, **kwargs)\n  File \"/home/jzh/anaconda2/lib/python2.7/site-packages/matplotlib/axis.py\", line 1507, in set_label_text\n    self.label.update(fontdict)\n  File \"/home/jzh/anaconda2/lib/python2.7/site-packages/matplotlib/text.py\", line 242, in update\n    bbox = kwargs.pop('bbox', None)\n\nwhile loading In[37], in expression starting on line 20",
     "output_type": "error",
     "traceback": [
      "LoadError: PyError (:PyObject_Call) <type 'exceptions.TypeError'>\nTypeError('pop() takes at most 1 argument (2 given)',)\n  File \"/home/jzh/anaconda2/lib/python2.7/site-packages/matplotlib/pyplot.py\", line 1557, in xlabel\n    return gca().set_xlabel(s, *args, **kwargs)\n  File \"/home/jzh/anaconda2/lib/python2.7/site-packages/matplotlib/axes/_axes.py\", line 222, in set_xlabel\n    return self.xaxis.set_label_text(xlabel, fontdict, **kwargs)\n  File \"/home/jzh/anaconda2/lib/python2.7/site-packages/matplotlib/axis.py\", line 1507, in set_label_text\n    self.label.update(fontdict)\n  File \"/home/jzh/anaconda2/lib/python2.7/site-packages/matplotlib/text.py\", line 242, in update\n    bbox = kwargs.pop('bbox', None)\n\nwhile loading In[37], in expression starting on line 20",
      "",
      " in pyerr_check at /home/jzh/.julia/v0.5/PyCall/src/exception.jl:56 [inlined]",
      " in pyerr_check at /home/jzh/.julia/v0.5/PyCall/src/exception.jl:61 [inlined]",
      " in macro expansion at /home/jzh/.julia/v0.5/PyCall/src/exception.jl:81 [inlined]",
      " in #_pycall#62(::Array{Any,1}, ::Function, ::PyCall.PyObject, ::String, ::Vararg{String,N}) at /home/jzh/.julia/v0.5/PyCall/src/PyCall.jl:551",
      " in (::PyCall.#kw##_pycall)(::Array{Any,1}, ::PyCall.#_pycall, ::PyCall.PyObject, ::String, ::Vararg{String,N}) at ./<missing>:0",
      " in #pycall#66(::Array{Any,1}, ::Function, ::PyCall.PyObject, ::Type{PyCall.PyAny}, ::String, ::Vararg{String,N}) at /home/jzh/.julia/v0.5/PyCall/src/PyCall.jl:568",
      " in (::PyCall.#kw##pycall)(::Array{Any,1}, ::PyCall.#pycall, ::PyCall.PyObject, ::Type{PyCall.PyAny}, ::String, ::Vararg{String,N}) at ./<missing>:0",
      " in #xlabel#136(::Array{Any,1}, ::Function, ::String, ::Vararg{String,N}) at /home/jzh/.julia/v0.5/PyPlot/src/PyPlot.jl:399",
      " in (::PyPlot.#kw##xlabel)(::Array{Any,1}, ::PyPlot.#xlabel, ::String, ::Vararg{String,N}) at ./<missing>:0"
     ]
    }
   ],
   "source": [
    "using PyPlot\n",
    "\n",
    "iterNum = 1:(length(objInvVIDict))\n",
    "\n",
    "objFun = map(iterNum->objInvVIDict[iterNum], iterNum)\n",
    "\n",
    "# PyPlot.plot(iterNum, objFun, \"s-g\", label=\"True\")\n",
    "\n",
    "PyPlot.plot(iterNum, objFun, \"p-r\")\n",
    "\n",
    "# legend(loc=\"upper right\",fancybox=\"true\") \n",
    "\n",
    "grid(\"on\")\n",
    "\n",
    "xlim(0.8, length(objInvVIDict) + 1 + .2)\n",
    "# ylim(0.9, 2.0)\n",
    "\n",
    "font1 = [\"family\"=>\"serif\", \"color\"=>\"darkred\", \"weight\"=>\"normal\", \"size\"=>14]\n",
    "\n",
    "xlabel(\"Number of iterations\", fontdict=font1)\n",
    "ylabel(\"Objective function value (invVI)\", fontdict=font1)\n",
    "\n",
    "savefig(\"./results/objFun_invVI_Sioux.pdf\")"
   ]
  },
  {
   "cell_type": "code",
   "execution_count": 38,
   "metadata": {
    "collapsed": false
   },
   "outputs": [
    {
     "data": {
      "text/plain": [
       "Dict{Any,Any} with 6 entries:\n",
       "  (7,1.5,100.0,5) => [1.0,-0.000700361,0.00988867,0.06098,0.0739065,0.0280815,-…\n",
       "  (7,1.5,100.0,6) => [1.0,-0.000700361,0.00988867,0.06098,0.0739065,0.0280815,-…\n",
       "  (7,1.5,100.0,1) => [1.0,-0.000468825,0.00563673,0.0582165,0.0732113,0.0283056…\n",
       "  (7,1.5,100.0,2) => [1.0,-0.000694434,0.00977586,0.0609789,0.0739631,0.0280819…\n",
       "  (7,1.5,100.0,3) => [1.0,-0.000700884,0.00989854,0.0609797,0.0739028,0.0280812…\n",
       "  (7,1.5,100.0,4) => [1.0,-0.000700558,0.0098923,0.0609803,0.0739055,0.0280811,…"
      ]
     },
     "execution_count": 38,
     "metadata": {},
     "output_type": "execute_result"
    }
   ],
   "source": [
    "coeffs_dict"
   ]
  },
  {
   "cell_type": "code",
   "execution_count": 39,
   "metadata": {
    "collapsed": false
   },
   "outputs": [
    {
     "ename": "LoadError",
     "evalue": "LoadError: PyError (:PyObject_Call) <type 'exceptions.TypeError'>\nTypeError('pop() takes at most 1 argument (2 given)',)\n  File \"/home/jzh/anaconda2/lib/python2.7/site-packages/matplotlib/pyplot.py\", line 1557, in xlabel\n    return gca().set_xlabel(s, *args, **kwargs)\n  File \"/home/jzh/anaconda2/lib/python2.7/site-packages/matplotlib/axes/_axes.py\", line 222, in set_xlabel\n    return self.xaxis.set_label_text(xlabel, fontdict, **kwargs)\n  File \"/home/jzh/anaconda2/lib/python2.7/site-packages/matplotlib/axis.py\", line 1507, in set_label_text\n    self.label.update(fontdict)\n  File \"/home/jzh/anaconda2/lib/python2.7/site-packages/matplotlib/text.py\", line 242, in update\n    bbox = kwargs.pop('bbox', None)\n\nwhile loading In[39], in expression starting on line 25",
     "output_type": "error",
     "traceback": [
      "LoadError: PyError (:PyObject_Call) <type 'exceptions.TypeError'>\nTypeError('pop() takes at most 1 argument (2 given)',)\n  File \"/home/jzh/anaconda2/lib/python2.7/site-packages/matplotlib/pyplot.py\", line 1557, in xlabel\n    return gca().set_xlabel(s, *args, **kwargs)\n  File \"/home/jzh/anaconda2/lib/python2.7/site-packages/matplotlib/axes/_axes.py\", line 222, in set_xlabel\n    return self.xaxis.set_label_text(xlabel, fontdict, **kwargs)\n  File \"/home/jzh/anaconda2/lib/python2.7/site-packages/matplotlib/axis.py\", line 1507, in set_label_text\n    self.label.update(fontdict)\n  File \"/home/jzh/anaconda2/lib/python2.7/site-packages/matplotlib/text.py\", line 242, in update\n    bbox = kwargs.pop('bbox', None)\n\nwhile loading In[39], in expression starting on line 25",
      "",
      " in pyerr_check at /home/jzh/.julia/v0.5/PyCall/src/exception.jl:56 [inlined]",
      " in pyerr_check at /home/jzh/.julia/v0.5/PyCall/src/exception.jl:61 [inlined]",
      " in macro expansion at /home/jzh/.julia/v0.5/PyCall/src/exception.jl:81 [inlined]",
      " in #_pycall#62(::Array{Any,1}, ::Function, ::PyCall.PyObject, ::String, ::Vararg{String,N}) at /home/jzh/.julia/v0.5/PyCall/src/PyCall.jl:551",
      " in (::PyCall.#kw##_pycall)(::Array{Any,1}, ::PyCall.#_pycall, ::PyCall.PyObject, ::String, ::Vararg{String,N}) at ./<missing>:0",
      " in #pycall#66(::Array{Any,1}, ::Function, ::PyCall.PyObject, ::Type{PyCall.PyAny}, ::String, ::Vararg{String,N}) at /home/jzh/.julia/v0.5/PyCall/src/PyCall.jl:568",
      " in (::PyCall.#kw##pycall)(::Array{Any,1}, ::PyCall.#pycall, ::PyCall.PyObject, ::Type{PyCall.PyAny}, ::String, ::Vararg{String,N}) at ./<missing>:0",
      " in #xlabel#136(::Array{Any,1}, ::Function, ::String, ::Vararg{String,N}) at /home/jzh/.julia/v0.5/PyPlot/src/PyPlot.jl:399",
      " in (::PyPlot.#kw##xlabel)(::Array{Any,1}, ::PyPlot.#xlabel, ::String, ::Vararg{String,N}) at ./<missing>:0"
     ]
    }
   ],
   "source": [
    "using PyPlot\n",
    "\n",
    "iterN = 2\n",
    "\n",
    "true_coeffs = [1, 0, 0, 0, .15]\n",
    "# true_coeffs = [1, .2, .5, .8, .15]\n",
    "\n",
    "est_coeffs = coeffs_dict[(deg, c, lam, iterN)]\n",
    "\n",
    "xs = linspace(0, 2, 20)\n",
    "zs_true = map(x->polyEval(true_coeffs, x), xs)\n",
    "\n",
    "zs = map(x->polyEval(est_coeffs, x), xs)\n",
    "\n",
    "PyPlot.plot(xs, zs_true, \"^-g\", label=\"ground truth\")\n",
    "PyPlot.plot(xs, zs, \"<-r\", label=\"estimation\")\n",
    "\n",
    "legend(loc=\"upper left\",fancybox=\"true\") \n",
    "# PyPlot.plot(xs, ys, \"--b\")\n",
    "grid(\"on\")\n",
    "xlim(-0.1, 2.1);\n",
    "ylim(0.9, 3.5);\n",
    "\n",
    "font1 = [\"family\"=>\"serif\", \"color\"=>\"darkred\", \"weight\"=>\"normal\", \"size\"=>14]\n",
    "xlabel(\"Scaled Flow\", fontdict=font1)\n",
    "ylabel(\"Scaled Cost\", fontdict=font1)\n",
    "\n",
    "savefig(\"./results/fitting_Sioux_iter_$(iterN)_multi_class.pdf\")"
   ]
  },
  {
   "cell_type": "code",
   "execution_count": 40,
   "metadata": {
    "collapsed": false
   },
   "outputs": [
    {
     "ename": "LoadError",
     "evalue": "LoadError: PyError (:PyObject_Call) <type 'exceptions.TypeError'>\nTypeError('pop() takes at most 1 argument (2 given)',)\n  File \"/home/jzh/anaconda2/lib/python2.7/site-packages/matplotlib/pyplot.py\", line 1557, in xlabel\n    return gca().set_xlabel(s, *args, **kwargs)\n  File \"/home/jzh/anaconda2/lib/python2.7/site-packages/matplotlib/axes/_axes.py\", line 222, in set_xlabel\n    return self.xaxis.set_label_text(xlabel, fontdict, **kwargs)\n  File \"/home/jzh/anaconda2/lib/python2.7/site-packages/matplotlib/axis.py\", line 1507, in set_label_text\n    self.label.update(fontdict)\n  File \"/home/jzh/anaconda2/lib/python2.7/site-packages/matplotlib/text.py\", line 242, in update\n    bbox = kwargs.pop('bbox', None)\n\nwhile loading In[40], in expression starting on line 25",
     "output_type": "error",
     "traceback": [
      "LoadError: PyError (:PyObject_Call) <type 'exceptions.TypeError'>\nTypeError('pop() takes at most 1 argument (2 given)',)\n  File \"/home/jzh/anaconda2/lib/python2.7/site-packages/matplotlib/pyplot.py\", line 1557, in xlabel\n    return gca().set_xlabel(s, *args, **kwargs)\n  File \"/home/jzh/anaconda2/lib/python2.7/site-packages/matplotlib/axes/_axes.py\", line 222, in set_xlabel\n    return self.xaxis.set_label_text(xlabel, fontdict, **kwargs)\n  File \"/home/jzh/anaconda2/lib/python2.7/site-packages/matplotlib/axis.py\", line 1507, in set_label_text\n    self.label.update(fontdict)\n  File \"/home/jzh/anaconda2/lib/python2.7/site-packages/matplotlib/text.py\", line 242, in update\n    bbox = kwargs.pop('bbox', None)\n\nwhile loading In[40], in expression starting on line 25",
      "",
      " in pyerr_check at /home/jzh/.julia/v0.5/PyCall/src/exception.jl:56 [inlined]",
      " in pyerr_check at /home/jzh/.julia/v0.5/PyCall/src/exception.jl:61 [inlined]",
      " in macro expansion at /home/jzh/.julia/v0.5/PyCall/src/exception.jl:81 [inlined]",
      " in #_pycall#62(::Array{Any,1}, ::Function, ::PyCall.PyObject, ::String, ::Vararg{String,N}) at /home/jzh/.julia/v0.5/PyCall/src/PyCall.jl:551",
      " in (::PyCall.#kw##_pycall)(::Array{Any,1}, ::PyCall.#_pycall, ::PyCall.PyObject, ::String, ::Vararg{String,N}) at ./<missing>:0",
      " in #pycall#66(::Array{Any,1}, ::Function, ::PyCall.PyObject, ::Type{PyCall.PyAny}, ::String, ::Vararg{String,N}) at /home/jzh/.julia/v0.5/PyCall/src/PyCall.jl:568",
      " in (::PyCall.#kw##pycall)(::Array{Any,1}, ::PyCall.#pycall, ::PyCall.PyObject, ::Type{PyCall.PyAny}, ::String, ::Vararg{String,N}) at ./<missing>:0",
      " in #xlabel#136(::Array{Any,1}, ::Function, ::String, ::Vararg{String,N}) at /home/jzh/.julia/v0.5/PyPlot/src/PyPlot.jl:399",
      " in (::PyPlot.#kw##xlabel)(::Array{Any,1}, ::PyPlot.#xlabel, ::String, ::Vararg{String,N}) at ./<missing>:0"
     ]
    }
   ],
   "source": [
    "using PyPlot\n",
    "\n",
    "iterN = 3\n",
    "\n",
    "true_coeffs = [1, 0, 0, 0, .15]\n",
    "# true_coeffs = [1, .2, .5, .8, .15]\n",
    "\n",
    "est_coeffs = coeffs_dict[(deg, c, lam, iterN)]\n",
    "\n",
    "xs = linspace(0, 2, 20)\n",
    "zs_true = map(x->polyEval(true_coeffs, x), xs)\n",
    "\n",
    "zs = map(x->polyEval(est_coeffs, x), xs)\n",
    "\n",
    "PyPlot.plot(xs, zs_true, \"^-g\", label=\"ground truth\")\n",
    "PyPlot.plot(xs, zs, \"<-r\", label=\"estimation\")\n",
    "\n",
    "legend(loc=\"upper left\",fancybox=\"true\") \n",
    "# PyPlot.plot(xs, ys, \"--b\")\n",
    "grid(\"on\")\n",
    "xlim(-0.1, 2.1);\n",
    "ylim(0.9, 3.5);\n",
    "\n",
    "font1 = [\"family\"=>\"serif\", \"color\"=>\"darkred\", \"weight\"=>\"normal\", \"size\"=>14]\n",
    "xlabel(\"Scaled Flow\", fontdict=font1)\n",
    "ylabel(\"Scaled Cost\", fontdict=font1)\n",
    "\n",
    "savefig(\"./results/fitting_Sioux_iter_$(iterN)_multi_class.pdf\")"
   ]
  },
  {
   "cell_type": "code",
   "execution_count": 41,
   "metadata": {
    "collapsed": false
   },
   "outputs": [
    {
     "ename": "LoadError",
     "evalue": "LoadError: PyError (:PyObject_Call) <type 'exceptions.TypeError'>\nTypeError('pop() takes at most 1 argument (2 given)',)\n  File \"/home/jzh/anaconda2/lib/python2.7/site-packages/matplotlib/pyplot.py\", line 1557, in xlabel\n    return gca().set_xlabel(s, *args, **kwargs)\n  File \"/home/jzh/anaconda2/lib/python2.7/site-packages/matplotlib/axes/_axes.py\", line 222, in set_xlabel\n    return self.xaxis.set_label_text(xlabel, fontdict, **kwargs)\n  File \"/home/jzh/anaconda2/lib/python2.7/site-packages/matplotlib/axis.py\", line 1507, in set_label_text\n    self.label.update(fontdict)\n  File \"/home/jzh/anaconda2/lib/python2.7/site-packages/matplotlib/text.py\", line 242, in update\n    bbox = kwargs.pop('bbox', None)\n\nwhile loading In[41], in expression starting on line 25",
     "output_type": "error",
     "traceback": [
      "LoadError: PyError (:PyObject_Call) <type 'exceptions.TypeError'>\nTypeError('pop() takes at most 1 argument (2 given)',)\n  File \"/home/jzh/anaconda2/lib/python2.7/site-packages/matplotlib/pyplot.py\", line 1557, in xlabel\n    return gca().set_xlabel(s, *args, **kwargs)\n  File \"/home/jzh/anaconda2/lib/python2.7/site-packages/matplotlib/axes/_axes.py\", line 222, in set_xlabel\n    return self.xaxis.set_label_text(xlabel, fontdict, **kwargs)\n  File \"/home/jzh/anaconda2/lib/python2.7/site-packages/matplotlib/axis.py\", line 1507, in set_label_text\n    self.label.update(fontdict)\n  File \"/home/jzh/anaconda2/lib/python2.7/site-packages/matplotlib/text.py\", line 242, in update\n    bbox = kwargs.pop('bbox', None)\n\nwhile loading In[41], in expression starting on line 25",
      "",
      " in pyerr_check at /home/jzh/.julia/v0.5/PyCall/src/exception.jl:56 [inlined]",
      " in pyerr_check at /home/jzh/.julia/v0.5/PyCall/src/exception.jl:61 [inlined]",
      " in macro expansion at /home/jzh/.julia/v0.5/PyCall/src/exception.jl:81 [inlined]",
      " in #_pycall#62(::Array{Any,1}, ::Function, ::PyCall.PyObject, ::String, ::Vararg{String,N}) at /home/jzh/.julia/v0.5/PyCall/src/PyCall.jl:551",
      " in (::PyCall.#kw##_pycall)(::Array{Any,1}, ::PyCall.#_pycall, ::PyCall.PyObject, ::String, ::Vararg{String,N}) at ./<missing>:0",
      " in #pycall#66(::Array{Any,1}, ::Function, ::PyCall.PyObject, ::Type{PyCall.PyAny}, ::String, ::Vararg{String,N}) at /home/jzh/.julia/v0.5/PyCall/src/PyCall.jl:568",
      " in (::PyCall.#kw##pycall)(::Array{Any,1}, ::PyCall.#pycall, ::PyCall.PyObject, ::Type{PyCall.PyAny}, ::String, ::Vararg{String,N}) at ./<missing>:0",
      " in #xlabel#136(::Array{Any,1}, ::Function, ::String, ::Vararg{String,N}) at /home/jzh/.julia/v0.5/PyPlot/src/PyPlot.jl:399",
      " in (::PyPlot.#kw##xlabel)(::Array{Any,1}, ::PyPlot.#xlabel, ::String, ::Vararg{String,N}) at ./<missing>:0"
     ]
    }
   ],
   "source": [
    "using PyPlot\n",
    "\n",
    "iterN = length(coeffs_dict)\n",
    "\n",
    "true_coeffs = [1, 0, 0, 0, .15]\n",
    "# true_coeffs = [1, .2, .5, .8, .15]\n",
    "\n",
    "est_coeffs = coeffs_dict[(deg, c, lam, iterN)]\n",
    "\n",
    "xs = linspace(0, 2, 20)\n",
    "zs_true = map(x->polyEval(true_coeffs, x), xs)\n",
    "\n",
    "zs = map(x->polyEval(est_coeffs, x), xs)\n",
    "\n",
    "PyPlot.plot(xs, zs_true, \"^-g\", label=\"ground truth\")\n",
    "PyPlot.plot(xs, zs, \"<-r\", label=\"estimation\")\n",
    "\n",
    "legend(loc=\"upper left\",fancybox=\"true\") \n",
    "# PyPlot.plot(xs, ys, \"--b\")\n",
    "grid(\"on\")\n",
    "xlim(-0.1, 2.1);\n",
    "ylim(0.9, 3.5);\n",
    "\n",
    "font1 = [\"family\"=>\"serif\", \"color\"=>\"darkred\", \"weight\"=>\"normal\", \"size\"=>14]\n",
    "xlabel(\"Scaled Flow\", fontdict=font1)\n",
    "ylabel(\"Scaled Cost\", fontdict=font1)\n",
    "\n",
    "savefig(\"./results/fitting_Sioux_iter_$(iterN)_multi_class.pdf\")"
   ]
  },
  {
   "cell_type": "code",
   "execution_count": 42,
   "metadata": {
    "collapsed": false
   },
   "outputs": [],
   "source": [
    "outfile = open(\"./results/norObjFunDict.json\", \"w\")\n",
    "\n",
    "JSON.print(outfile, norObjFunDict)\n",
    "\n",
    "close(outfile)"
   ]
  },
  {
   "cell_type": "code",
   "execution_count": 43,
   "metadata": {
    "collapsed": false
   },
   "outputs": [],
   "source": [
    "outfile = open(\"./results/demandsDiffDictCar.json\", \"w\")\n",
    "\n",
    "JSON.print(outfile, demandsDiffDictCar)\n",
    "\n",
    "close(outfile)"
   ]
  },
  {
   "cell_type": "code",
   "execution_count": 44,
   "metadata": {
    "collapsed": true
   },
   "outputs": [],
   "source": [
    "outfile = open(\"./results/demandsDiffDictTruck.json\", \"w\")\n",
    "\n",
    "JSON.print(outfile, demandsDiffDictTruck)\n",
    "\n",
    "close(outfile)"
   ]
  },
  {
   "cell_type": "code",
   "execution_count": 45,
   "metadata": {
    "collapsed": false
   },
   "outputs": [],
   "source": [
    "outfile = open(\"./results/objInvVIDict.json\", \"w\")\n",
    "\n",
    "JSON.print(outfile, objInvVIDict)\n",
    "\n",
    "close(outfile)"
   ]
  },
  {
   "cell_type": "code",
   "execution_count": 46,
   "metadata": {
    "collapsed": false
   },
   "outputs": [],
   "source": [
    "outfile = open(\"./results/coeffs_dict.json\", \"w\")\n",
    "\n",
    "JSON.print(outfile, coeffs_dict)\n",
    "\n",
    "close(outfile)"
   ]
  },
  {
   "cell_type": "code",
   "execution_count": 47,
   "metadata": {
    "collapsed": false
   },
   "outputs": [],
   "source": [
    "outfile = open(\"./results/demandsVecDictCar.json\", \"w\")\n",
    "\n",
    "JSON.print(outfile, demandsVecDictCar)\n",
    "\n",
    "close(outfile)"
   ]
  },
  {
   "cell_type": "code",
   "execution_count": 48,
   "metadata": {
    "collapsed": true
   },
   "outputs": [],
   "source": [
    "outfile = open(\"./results/demandsVecDictTruck.json\", \"w\")\n",
    "\n",
    "JSON.print(outfile, demandsVecDictTruck)\n",
    "\n",
    "close(outfile)"
   ]
  },
  {
   "cell_type": "code",
   "execution_count": 49,
   "metadata": {
    "collapsed": false
   },
   "outputs": [],
   "source": [
    "outfile = open(\"./results/demandsDictCar.json\", \"w\")\n",
    "\n",
    "JSON.print(outfile, demandsDictCar)\n",
    "\n",
    "close(outfile)"
   ]
  },
  {
   "cell_type": "code",
   "execution_count": 50,
   "metadata": {
    "collapsed": true
   },
   "outputs": [],
   "source": [
    "outfile = open(\"./results/demandsDictTruck.json\", \"w\")\n",
    "\n",
    "JSON.print(outfile, demandsDictTruck)\n",
    "\n",
    "close(outfile)"
   ]
  },
  {
   "cell_type": "code",
   "execution_count": 51,
   "metadata": {
    "collapsed": false
   },
   "outputs": [],
   "source": [
    "outfile = open(\"./results/tapFlowDicDict.json\", \"w\")\n",
    "\n",
    "JSON.print(outfile, tapFlowDicDict)\n",
    "\n",
    "close(outfile)"
   ]
  },
  {
   "cell_type": "code",
   "execution_count": 52,
   "metadata": {
    "collapsed": false
   },
   "outputs": [],
   "source": [
    "outfile = open(\"./results/tapFlowVecDict.json\", \"w\")\n",
    "\n",
    "JSON.print(outfile, tapFlowVecDict)\n",
    "\n",
    "close(outfile)"
   ]
  }
 ],
 "metadata": {
  "kernelspec": {
   "display_name": "Julia 0.5.0",
   "language": "julia",
   "name": "julia-0.5"
  },
  "language_info": {
   "file_extension": ".jl",
   "mimetype": "application/julia",
   "name": "julia",
   "version": "0.5.0"
  }
 },
 "nbformat": 4,
 "nbformat_minor": 0
}
