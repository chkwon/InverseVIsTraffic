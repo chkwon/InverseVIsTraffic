{
 "cells": [
  {
   "cell_type": "code",
   "execution_count": 1,
   "metadata": {
    "collapsed": false
   },
   "outputs": [],
   "source": [
    "using PyCall\n",
    "unshift!(PyVector(pyimport(\"sys\")[\"path\"]), \"\");\n",
    "@pyimport Compute_Jacobian_MA_journal"
   ]
  },
  {
   "cell_type": "code",
   "execution_count": 2,
   "metadata": {
    "collapsed": false
   },
   "outputs": [],
   "source": [
    "numNodes = Compute_Jacobian_MA_journal.numNodes;\n",
    "numLinks = Compute_Jacobian_MA_journal.numLinks;\n",
    "numODpairs = Compute_Jacobian_MA_journal.numODpairs;\n",
    "numZones = Compute_Jacobian_MA_journal.numZones\n",
    "od_pairs = Compute_Jacobian_MA_journal.od_pairs;\n",
    "link_list_js = Compute_Jacobian_MA_journal.link_list_js;\n",
    "link_length_list = Compute_Jacobian_MA_journal.link_length_list;"
   ]
  },
  {
   "cell_type": "code",
   "execution_count": 3,
   "metadata": {
    "collapsed": false
   },
   "outputs": [
    {
     "name": "stderr",
     "output_type": "stream",
     "text": [
      "WARNING: Method definition (::Type{Graphs.KeyVertex})(Int64, #K<:Any) in module Graphs at /home/jzh/.julia/v0.5/Graphs/src/common.jl:12 overwritten at /home/jzh/.julia/v0.5/Graphs/src/common.jl:16.\n",
      "WARNING: Method definition (::Type{Graphs.Edge})(Int64, #V<:Any, #V<:Any) in module Graphs at /home/jzh/.julia/v0.5/Graphs/src/common.jl:54 overwritten at /home/jzh/.julia/v0.5/Graphs/src/common.jl:60.\n",
      "WARNING: Method definition (::Type{Graphs.ExEdge})(Int64, #V<:Any, #V<:Any, Base.Dict{String, Any}) in module Graphs at /home/jzh/.julia/v0.5/Graphs/src/common.jl:72 overwritten at /home/jzh/.julia/v0.5/Graphs/src/common.jl:83.\n",
      "WARNING: Method definition (::Type{Graphs.TargetIterator})(#G<:Graphs.AbstractGraph, #EList<:Any) in module Graphs at /home/jzh/.julia/v0.5/Graphs/src/common.jl:123 overwritten at /home/jzh/.julia/v0.5/Graphs/src/common.jl:127.\n",
      "WARNING: Method definition (::Type{Graphs.SourceIterator})(#G<:Graphs.AbstractGraph, #EList<:Any) in module Graphs at /home/jzh/.julia/v0.5/Graphs/src/common.jl:141 overwritten at /home/jzh/.julia/v0.5/Graphs/src/common.jl:145.\n",
      "WARNING: Method definition edge_property_requirement(Graphs.AbstractEdgePropertyInspector{#T<:Any}, Graphs.AbstractGraph{#V<:Any, E<:Any}) in module Graphs at /home/jzh/.julia/v0.5/Graphs/src/common.jl:164 overwritten at /home/jzh/.julia/v0.5/Graphs/src/common.jl:179.\n",
      "WARNING: Method definition vertex_index(#V<:Union{Graphs.ExVertex, Graphs.KeyVertex}, Graphs.GenericGraph{#V<:Union{Graphs.ExVertex, Graphs.KeyVertex}, E<:Any, VList<:Any, EList<:Any, IncList<:Any}) in module Graphs at /home/jzh/.julia/v0.5/Graphs/src/graph.jl:65 overwritten at /home/jzh/.julia/v0.5/Graphs/src/graph.jl:67.\n",
      "WARNING: Method definition (::Type{Graphs.GDistanceVisitor})(#G<:Graphs.AbstractGraph, #DMap<:Any) in module Graphs at /home/jzh/.julia/v0.5/Graphs/src/breadth_first_visit.jl:107 overwritten at /home/jzh/.julia/v0.5/Graphs/src/breadth_first_visit.jl:111.\n"
     ]
    }
   ],
   "source": [
    "include(\"../Julia_files/initia_data.jl\");\n",
    "include(\"prepare_data_MA_journal.jl\");\n",
    "include(\"extract_data_MA_journal.jl\");\n",
    "include(\"../Julia_files/tap_MSA.jl\");\n",
    "include(\"../Julia_files/inverseVI.jl\");\n",
    "include(\"../Julia_files/demands_adjustment_gradi.jl\");"
   ]
  },
  {
   "cell_type": "code",
   "execution_count": 4,
   "metadata": {
    "collapsed": false
   },
   "outputs": [
    {
     "data": {
      "text/plain": [
       "Dict{Any,Any} with 2 entries:\n",
       "  0 => Dict{Any,Any}(Pair{Any,Any}((58,9),0.0),Pair{Any,Any}((59,54),33.0923),P…\n",
       "  1 => Dict{Any,Any}(Pair{Any,Any}((58,9),0.0),Pair{Any,Any}((59,54),33.0923),P…"
      ]
     },
     "execution_count": 4,
     "metadata": {},
     "output_type": "execute_result"
    }
   ],
   "source": [
    "demandsDict"
   ]
  },
  {
   "cell_type": "code",
   "execution_count": 5,
   "metadata": {
    "collapsed": false
   },
   "outputs": [],
   "source": [
    "demandsDiffDict[1] = norm(demandsDicToVec(demandsDict[1]) - demandsDicToVec(demandsDict[0]))/\n",
    "                     norm(demandsDicToVec(demandsDict[0]));"
   ]
  },
  {
   "cell_type": "code",
   "execution_count": 6,
   "metadata": {
    "collapsed": false
   },
   "outputs": [
    {
     "data": {
      "text/plain": [
       "0.0"
      ]
     },
     "execution_count": 6,
     "metadata": {},
     "output_type": "execute_result"
    }
   ],
   "source": [
    "demandsDiffDict[1]"
   ]
  },
  {
   "cell_type": "code",
   "execution_count": 7,
   "metadata": {
    "collapsed": false
   },
   "outputs": [
    {
     "data": {
      "text/plain": [
       "Dict{Any,Any} with 5476 entries:\n",
       "  (58,9)  => 0.0\n",
       "  (59,54) => 33.0923\n",
       "  (21,13) => 31.1646\n",
       "  (53,24) => 0.0\n",
       "  (64,20) => 5.52813\n",
       "  (65,20) => 5.52813\n",
       "  (41,34) => 0.0\n",
       "  (32,65) => 12.6882\n",
       "  (56,55) => 0.0\n",
       "  (62,58) => 14.02\n",
       "  (16,73) => 0.0\n",
       "  (16,67) => 0.0\n",
       "  (57,62) => 21.0932\n",
       "  (57,74) => 0.0\n",
       "  (63,12) => 0.0\n",
       "  (1,22)  => 31.6818\n",
       "  (24,31) => 0.0\n",
       "  (6,41)  => 0.0\n",
       "  (37,55) => 0.0\n",
       "  (61,48) => 0.0\n",
       "  (60,46) => 0.0\n",
       "  (19,26) => 0.0\n",
       "  (50,27) => 0.0\n",
       "  (68,4)  => 0.0\n",
       "  (36,25) => 0.0\n",
       "  ⋮       => ⋮"
      ]
     },
     "execution_count": 7,
     "metadata": {},
     "output_type": "execute_result"
    }
   ],
   "source": [
    "demandsDict[1]  # the initial demand"
   ]
  },
  {
   "cell_type": "code",
   "execution_count": 8,
   "metadata": {
    "collapsed": true
   },
   "outputs": [],
   "source": [
    "link_flow_observ_vec = readstring(\"../temp_files/link_flow_observ_MA_journal_Apr_PM.json\");\n",
    "link_flow_observ_vec = JSON.parse(link_flow_observ_vec);"
   ]
  },
  {
   "cell_type": "code",
   "execution_count": 9,
   "metadata": {
    "collapsed": true
   },
   "outputs": [],
   "source": [
    "link_flow_observ_dict = Dict()\n",
    "\n",
    "for i = 1:length(ta_data.start_node)\n",
    "    key = (ta_data.start_node[i], ta_data.end_node[i])\n",
    "    link_flow_observ_dict[key] = link_flow_observ_vec[i]\n",
    "end"
   ]
  },
  {
   "cell_type": "code",
   "execution_count": 10,
   "metadata": {
    "collapsed": false
   },
   "outputs": [
    {
     "data": {
      "text/plain": [
       "258-element Array{Any,1}:\n",
       "  511.998\n",
       "  654.156\n",
       "  806.886\n",
       " 1127.82 \n",
       "  256.52 \n",
       "  147.424\n",
       "  142.362\n",
       "  232.288\n",
       " 1243.03 \n",
       "  967.495\n",
       "  158.843\n",
       "  283.107\n",
       "  646.603\n",
       "    ⋮    \n",
       "  424.846\n",
       "  346.809\n",
       "  792.494\n",
       "  462.344\n",
       "  286.369\n",
       "  277.971\n",
       "  437.962\n",
       "  257.978\n",
       "  941.16 \n",
       "    0.0  \n",
       "  143.625\n",
       "  128.994"
      ]
     },
     "execution_count": 10,
     "metadata": {},
     "output_type": "execute_result"
    }
   ],
   "source": [
    "tapFlowDicDict[0] = link_flow_observ_dict;\n",
    "tapFlowVecDict[0] = link_flow_observ_vec"
   ]
  },
  {
   "cell_type": "code",
   "execution_count": 11,
   "metadata": {
    "collapsed": false
   },
   "outputs": [],
   "source": [
    "# get arcs data corresponding to ground truth demands and flows\n",
    "arcsDict[0] = observFlow(\"./benchmark_data/MA_journal_net.txt\", tapFlowDicDict[0]);"
   ]
  },
  {
   "cell_type": "code",
   "execution_count": 12,
   "metadata": {
    "collapsed": false
   },
   "outputs": [
    {
     "data": {
      "text/plain": [
       "Dict{Any,Any} with 258 entries:\n",
       "  (53,54) => Arc(53,54,2000.0,0.200888,356.247)\n",
       "  (32,60) => Arc(32,60,2599.32,0.11114,1477.47)\n",
       "  (22,16) => Arc(22,16,7627.74,0.048681,1577.62)\n",
       "  (22,14) => Arc(22,14,2895.85,0.146429,355.393)\n",
       "  (13,9)  => Arc(13,9,875.0,0.06509,118.946)\n",
       "  (47,48) => Arc(47,48,1285.01,0.274471,203.763)\n",
       "  (9,1)   => Arc(9,1,1076.22,0.403219,147.424)\n",
       "  (17,14) => Arc(17,14,4904.24,0.105394,411.275)\n",
       "  (34,35) => Arc(34,35,5470.88,0.13036,457.76)\n",
       "  (73,50) => Arc(73,50,825.0,0.211827,0.0)\n",
       "  (35,34) => Arc(35,34,6000.0,0.129099,706.965)\n",
       "  (11,8)  => Arc(11,8,6000.0,0.085183,2015.26)\n",
       "  (18,21) => Arc(18,21,8000.0,0.079145,6075.69)\n",
       "  (36,35) => Arc(36,35,6000.0,0.096513,886.143)\n",
       "  (38,39) => Arc(38,39,5733.06,0.04926,3485.83)\n",
       "  (8,4)   => Arc(8,4,6223.71,0.090973,999.059)\n",
       "  (24,25) => Arc(24,25,4500.0,0.026787,0.0)\n",
       "  (52,51) => Arc(52,51,2000.0,0.21205,342.339)\n",
       "  (45,43) => Arc(45,43,1213.74,0.108835,300.237)\n",
       "  (29,22) => Arc(29,22,1423.69,0.093035,766.392)\n",
       "  (51,50) => Arc(51,50,2000.0,0.294092,218.507)\n",
       "  (23,21) => Arc(23,21,8000.0,0.066174,6240.74)\n",
       "  (14,13) => Arc(14,13,4320.23,0.125066,1089.39)\n",
       "  (30,20) => Arc(30,20,6000.0,0.187372,261.024)\n",
       "  (60,32) => Arc(60,32,2614.74,0.108607,1374.36)\n",
       "  ⋮       => ⋮"
      ]
     },
     "execution_count": 12,
     "metadata": {},
     "output_type": "execute_result"
    }
   ],
   "source": [
    "arcsDict[0]"
   ]
  },
  {
   "cell_type": "code",
   "execution_count": 13,
   "metadata": {
    "collapsed": false
   },
   "outputs": [],
   "source": [
    "deg = 8\n",
    "c = 1.5\n",
    "lam = .001\n",
    "\n",
    "coeffs_dict[(deg, c, lam, 1)], objInvVIDict[1] = train(lam, deg, c, demandsDict[1], arcsDict[0]);"
   ]
  },
  {
   "cell_type": "code",
   "execution_count": 14,
   "metadata": {
    "collapsed": false
   },
   "outputs": [
    {
     "data": {
      "text/plain": [
       "9-element Array{Float64,1}:\n",
       "  1.0       \n",
       " -4.70883e-6\n",
       "  0.0026936 \n",
       " -0.0223616 \n",
       "  0.0679431 \n",
       " -0.0684125 \n",
       " -0.0180741 \n",
       "  0.0390699 \n",
       "  0.010718  "
      ]
     },
     "execution_count": 14,
     "metadata": {},
     "output_type": "execute_result"
    }
   ],
   "source": [
    "coeffs_dict[(deg, c, lam, 1)]"
   ]
  },
  {
   "cell_type": "code",
   "execution_count": 15,
   "metadata": {
    "collapsed": false
   },
   "outputs": [
    {
     "data": {
      "image/png": "[encoded data removed]",
      "text/plain": [
       "PyPlot.Figure(PyObject <matplotlib.figure.Figure object at 0x7f8f8b782310>)"
      ]
     },
     "metadata": {},
     "output_type": "display_data"
    }
   ],
   "source": [
    "using PyPlot\n",
    "\n",
    "iterN = 1\n",
    "\n",
    "true_coeffs = [1, 0, 0, 0, .15]\n",
    "# true_coeffs = [1, .2, .5, .8, .15]\n",
    "\n",
    "est_coeffs = coeffs_dict[(deg, c, lam, iterN)]\n",
    "\n",
    "xs = linspace(0, 2, 20)\n",
    "zs_true = map(x->polyEval(true_coeffs, x), xs)\n",
    "\n",
    "zs = map(x->polyEval(est_coeffs, x), xs)\n",
    "\n",
    "PyPlot.plot(xs, zs_true, \"s-g\", label=\"bpr\")\n",
    "\n",
    "PyPlot.plot(xs, zs, \"^-m\", label=\"deg=6\")\n",
    "legend(loc=\"upper left\",fancybox=\"true\") \n",
    "\n",
    "grid(\"on\")\n",
    "\n",
    "xlim(-0.1, 1.6);\n",
    "ylim(0.9, 2.0);\n",
    "\n",
    "font1 = Dict(\"family\"=>\"serif\",\"color\"=>\"k\",\"weight\"=>\"normal\",\"size\"=>14)\n",
    "\n",
    "xlabel(\"scaled flow\", fontdict=font1)\n",
    "ylabel(\"scaled cost\", fontdict=font1)\n",
    "\n",
    "savefig(\"./results/fitting_MA_journal_iter_$(iterN).pdf\")"
   ]
  },
  {
   "cell_type": "code",
   "execution_count": 16,
   "metadata": {
    "collapsed": false
   },
   "outputs": [],
   "source": [
    "demandsVecDict[1] = demandsDicToVec(demandsDict[1]);\n",
    "objFunDict[1] = objF(demandsVecDict[1], coeffs_dict[(deg, c, lam, 1)]);"
   ]
  },
  {
   "cell_type": "code",
   "execution_count": 17,
   "metadata": {
    "collapsed": false
   },
   "outputs": [],
   "source": [
    "# get initial flow vector (corresponding to initial demands)\n",
    "tapFlowDicDict[1], tapFlowVecDict[1] = tapMSA(demandsDict[1], coeffs_dict[(deg, c, lam, 1)]);\n",
    "\n",
    "demandsVecDict[0] = demandsDicToVec(demandsDict[0]);"
   ]
  },
  {
   "cell_type": "code",
   "execution_count": 18,
   "metadata": {
    "collapsed": false
   },
   "outputs": [],
   "source": [
    "# get arcs data corresponding to initial demands and flows\n",
    "arcsDict[1] = observFlow(\"./benchmark_data/MA_journal_net.txt\", tapFlowDicDict[1]);"
   ]
  },
  {
   "cell_type": "code",
   "execution_count": 19,
   "metadata": {
    "collapsed": false
   },
   "outputs": [],
   "source": [
    "linkCostDicDict[1] = tapFlowVecToLinkCostDict(tapFlowVecDict[1], coeffs_dict[(deg, c, lam, 1)]);"
   ]
  },
  {
   "cell_type": "code",
   "execution_count": 20,
   "metadata": {
    "collapsed": false
   },
   "outputs": [
    {
     "data": {
      "text/plain": [
       "(0.23896780907233484,0.238965)"
      ]
     },
     "execution_count": 20,
     "metadata": {},
     "output_type": "execute_result"
    }
   ],
   "source": [
    "linkCostDicDict[1][\"0\"], link_length_list[1]"
   ]
  },
  {
   "cell_type": "code",
   "execution_count": 21,
   "metadata": {
    "collapsed": false
   },
   "outputs": [],
   "source": [
    "jacobiSpiessDict[1] = Compute_Jacobian_MA_journal.jacobianSpiess(numNodes, numLinks, numODpairs, od_pairs, \n",
    "                                              link_list_js, [linkCostDicDict[1][\"$(i)\"] for i=0:numLinks-1]);"
   ]
  },
  {
   "cell_type": "code",
   "execution_count": 22,
   "metadata": {
    "collapsed": true
   },
   "outputs": [],
   "source": [
    "# maximum number of iterations\n",
    "N = 100;  \n",
    "\n",
    "# Armijo rule parameters\n",
    "rho = 2;\n",
    "M = 10;\n",
    "\n",
    "# search direction parameter\n",
    "epsilon_1 = 0;\n",
    "\n",
    "# stop criterion parameter\n",
    "epsilon_2 = 1e-20;"
   ]
  },
  {
   "cell_type": "code",
   "execution_count": 23,
   "metadata": {
    "collapsed": false
   },
   "outputs": [],
   "source": [
    "for iterNumber = 1:N\n",
    "    \n",
    "    l = iterNumber;\n",
    "    \n",
    "    jacobDict[l] = jacobiSpiessDict[l]\n",
    "\n",
    "    descDirecDict[l] = descDirec(tapFlowVecDict[l], tapFlowVecDict[0], jacobDict[l], numODpairs, numLinks);\n",
    "\n",
    "    demandsVecDict[l] = demandsDicToVec(demandsDict[l]);\n",
    "\n",
    "    searchDirecDict[l] = searchDirec(demandsVecDict[l], descDirecDict[l], epsilon_1);\n",
    "\n",
    "    thetaMaxDict[l] = thetaMax(demandsVecDict[l], searchDirecDict[l]);\n",
    "\n",
    "    demandsVecDict[l+1] = similar(demandsVecDict[0]);\n",
    "    \n",
    "    demandsVecDict[l+1], objFunDict[l+1] = armijo(objFunDict[l], demandsVecDict[l], coeffs_dict[(deg, c, lam, l)], \n",
    "    searchDirecDict[l], thetaMaxDict[l], rho, M);\n",
    "            \n",
    "    demandsDict[l+1] = demandsVecToDic(demandsVecDict[l+1]);\n",
    "    \n",
    "    tapFlowDicDict[l+1], tapFlowVecDict[l+1] = tapMSA(demandsDict[l+1], coeffs_dict[(deg, c, lam, l)]);\n",
    "        \n",
    "    arcsDict[l+1] = observFlow(\"./benchmark_data/MA_journal_net.txt\", tapFlowDicDict[l+1]);\n",
    "        \n",
    "    coeffs_dict[(deg, c, lam, l+1)], objInvVIDict[l+1] = train(lam, deg, c, demandsDict[l+1], arcsDict[0]);\n",
    "\n",
    "    linkCostDicDict[l+1] = tapFlowVecToLinkCostDict(tapFlowVecDict[l+1], coeffs_dict[(deg, c, lam, l+1)]);\n",
    "    \n",
    "    jacobiSpiessDict[l+1] = Compute_Jacobian_MA_journal.jacobianSpiess(numNodes, numLinks, numODpairs, od_pairs, \n",
    "                                              link_list_js, [linkCostDicDict[l+1][\"$(i)\"] for i=0:numLinks-1]);\n",
    "        \n",
    "    demandsDiffDict[l+1] = norm(demandsVecDict[l+1] - demandsVecDict[0]) / norm(demandsVecDict[0]);\n",
    "    \n",
    "    # stopping criterion\n",
    "    if (objFunDict[l] - objFunDict[l+1]) / objFunDict[1] < epsilon_2\n",
    "        break\n",
    "    end\n",
    "  \n",
    "end\n",
    "\n",
    "# normalize objective function value\n",
    "for l = 1:(length(objFunDict))\n",
    "    norObjFunDict[l] = objFunDict[l] / objFunDict[1];\n",
    "end"
   ]
  },
  {
   "cell_type": "code",
   "execution_count": 24,
   "metadata": {
    "collapsed": false
   },
   "outputs": [
    {
     "data": {
      "text/plain": [
       "Dict{Any,Any} with 5 entries:\n",
       "  0 => [63.8028,471.819,0.0,0.0,0.0,918.488,0.0,0.0,0.0,0.0  …  0.0,0.0,0.0,0.0…\n",
       "  4 => [63.707,471.813,0.0,0.211138,0.00937195,918.452,0.0,0.0,0.146481,0.0  … …\n",
       "  2 => [63.707,471.813,0.0,0.211138,0.00937195,918.452,0.0,0.0,0.146481,0.0  … …\n",
       "  3 => [63.707,471.813,0.0,0.211138,0.00937195,918.452,0.0,0.0,0.146481,0.0  … …\n",
       "  1 => [63.8028,471.819,0.0,0.0,0.0,918.488,0.0,0.0,0.0,0.0  …  0.0,0.0,0.0,0.0…"
      ]
     },
     "execution_count": 24,
     "metadata": {},
     "output_type": "execute_result"
    }
   ],
   "source": [
    "demandsVecDict"
   ]
  },
  {
   "cell_type": "code",
   "execution_count": 25,
   "metadata": {
    "collapsed": false
   },
   "outputs": [
    {
     "data": {
      "text/plain": [
       "Dict{Any,Any} with 4 entries:\n",
       "  4 => 0.926155\n",
       "  2 => 0.950337\n",
       "  3 => 0.926155\n",
       "  1 => 1.0"
      ]
     },
     "execution_count": 25,
     "metadata": {},
     "output_type": "execute_result"
    }
   ],
   "source": [
    "norObjFunDict"
   ]
  },
  {
   "cell_type": "code",
   "execution_count": 26,
   "metadata": {
    "collapsed": false
   },
   "outputs": [
    {
     "data": {
      "text/plain": [
       "Dict{Any,Any} with 4 entries:\n",
       "  (8,1.5,0.001,4) => [1.0,-5.99452e-6,0.00343123,-0.0297123,0.0952537,-0.106998…\n",
       "  (8,1.5,0.001,1) => [1.0,-4.70883e-6,0.0026936,-0.0223616,0.0679431,-0.0684125…\n",
       "  (8,1.5,0.001,2) => [1.0,-5.99451e-6,0.00343123,-0.0297123,0.0952537,-0.106998…\n",
       "  (8,1.5,0.001,3) => [1.0,-5.99452e-6,0.00343123,-0.0297123,0.0952537,-0.106998…"
      ]
     },
     "execution_count": 26,
     "metadata": {},
     "output_type": "execute_result"
    }
   ],
   "source": [
    "coeffs_dict"
   ]
  },
  {
   "cell_type": "code",
   "execution_count": 27,
   "metadata": {
    "collapsed": false
   },
   "outputs": [],
   "source": [
    "outfile = open(\"./results/norObjFunDict.json\", \"w\")\n",
    "\n",
    "JSON.print(outfile, norObjFunDict)\n",
    "\n",
    "close(outfile)"
   ]
  },
  {
   "cell_type": "code",
   "execution_count": 28,
   "metadata": {
    "collapsed": false
   },
   "outputs": [],
   "source": [
    "outfile = open(\"./results/demandsDiffDict.json\", \"w\")\n",
    "\n",
    "JSON.print(outfile, demandsDiffDict)\n",
    "\n",
    "close(outfile)"
   ]
  },
  {
   "cell_type": "code",
   "execution_count": 29,
   "metadata": {
    "collapsed": false
   },
   "outputs": [],
   "source": [
    "outfile = open(\"./results/objInvVIDict.json\", \"w\")\n",
    "\n",
    "JSON.print(outfile, objInvVIDict)\n",
    "\n",
    "close(outfile)"
   ]
  },
  {
   "cell_type": "code",
   "execution_count": 30,
   "metadata": {
    "collapsed": false
   },
   "outputs": [],
   "source": [
    "outfile = open(\"./results/coeffs_dict.json\", \"w\")\n",
    "\n",
    "JSON.print(outfile, coeffs_dict)\n",
    "\n",
    "close(outfile)"
   ]
  },
  {
   "cell_type": "code",
   "execution_count": 31,
   "metadata": {
    "collapsed": false
   },
   "outputs": [],
   "source": [
    "outfile = open(\"./results/demandsVecDict.json\", \"w\")\n",
    "\n",
    "JSON.print(outfile, demandsVecDict)\n",
    "\n",
    "close(outfile)"
   ]
  },
  {
   "cell_type": "code",
   "execution_count": 32,
   "metadata": {
    "collapsed": false
   },
   "outputs": [],
   "source": [
    "outfile = open(\"./results/demandsDict.json\", \"w\")\n",
    "\n",
    "JSON.print(outfile, demandsDict)\n",
    "\n",
    "close(outfile)"
   ]
  },
  {
   "cell_type": "code",
   "execution_count": 33,
   "metadata": {
    "collapsed": false
   },
   "outputs": [],
   "source": [
    "outfile = open(\"./results/tapFlowDicDict.json\", \"w\")\n",
    "\n",
    "JSON.print(outfile, tapFlowDicDict)\n",
    "\n",
    "close(outfile)"
   ]
  },
  {
   "cell_type": "code",
   "execution_count": 34,
   "metadata": {
    "collapsed": false
   },
   "outputs": [],
   "source": [
    "outfile = open(\"./results/tapFlowVecDict.json\", \"w\")\n",
    "\n",
    "JSON.print(outfile, tapFlowVecDict)\n",
    "\n",
    "close(outfile)"
   ]
  }
 ],
 "metadata": {
  "kernelspec": {
   "display_name": "Julia 0.5.0",
   "language": "julia",
   "name": "julia-0.5"
  },
  "language_info": {
   "file_extension": ".jl",
   "mimetype": "application/julia",
   "name": "julia",
   "version": "0.5.0"
  }
 },
 "nbformat": 4,
 "nbformat_minor": 0
}
