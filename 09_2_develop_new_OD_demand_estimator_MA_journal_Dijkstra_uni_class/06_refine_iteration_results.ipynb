{
 "cells": [
  {
   "cell_type": "code",
   "execution_count": 1,
   "metadata": {
    "collapsed": false
   },
   "outputs": [
    {
     "data": {
      "text/plain": [
       "Dict{String,Any} with 4 entries:\n",
       "  \"family\" => \"serif\"\n",
       "  \"weight\" => \"normal\"\n",
       "  \"color\"  => \"k\"\n",
       "  \"size\"   => 14"
      ]
     },
     "execution_count": 1,
     "metadata": {},
     "output_type": "execute_result"
    }
   ],
   "source": [
    "using JSON\n",
    "using PyPlot\n",
    "\n",
    "PyPlot.matplotlib[:rc](\"text\", usetex=true) # allow tex rendering\n",
    "PyPlot.matplotlib[:rc](\"font\", family=\"serif\") \n",
    "\n",
    "font1 = Dict(\"family\"=>\"serif\",\"color\"=>\"k\",\"weight\"=>\"normal\",\"size\"=>14)"
   ]
  },
  {
   "cell_type": "code",
   "execution_count": 2,
   "metadata": {
    "collapsed": false
   },
   "outputs": [],
   "source": [
    "norObjFunDict = readstring(\"./results/norObjFunDict.json\");\n",
    "norObjFunDict = JSON.parse(norObjFunDict);\n",
    "\n",
    "demandsDiffDict = readstring(\"./results/demandsDiffDict.json\");\n",
    "demandsDiffDict = JSON.parse(demandsDiffDict);\n",
    "\n",
    "objInvVIDict = readstring(\"./results/objInvVIDict.json\");\n",
    "objInvVIDict = JSON.parse(objInvVIDict);\n",
    "\n",
    "coeffs_dict = readstring(\"./results/coeffs_dict.json\");\n",
    "coeffs_dict = JSON.parse(coeffs_dict);\n",
    "\n",
    "tapFlowVecDict = readstring(\"./results/tapFlowVecDict.json\");\n",
    "tapFlowVecDict = JSON.parse(tapFlowVecDict);\n",
    "\n",
    "link_capac_dict = readstring(\"../temp_files/link_capac_dict_MA_journal.json\");\n",
    "link_capac_dict = JSON.parse(link_capac_dict);"
   ]
  },
  {
   "cell_type": "code",
   "execution_count": 3,
   "metadata": {
    "collapsed": false,
    "scrolled": true
   },
   "outputs": [],
   "source": [
    "link_capac_vec = [link_capac_dict[\"$i\"] for i=0:length(link_capac_dict)-1];"
   ]
  },
  {
   "cell_type": "code",
   "execution_count": 4,
   "metadata": {
    "collapsed": true
   },
   "outputs": [],
   "source": [
    "epsilon_2 = 1e-20\n",
    "\n",
    "numIter = Int64[]\n",
    "\n",
    "for l = 1:length(norObjFunDict)\n",
    "    if norObjFunDict[\"$l\"] - norObjFunDict[\"$(l+1)\"] < epsilon_2\n",
    "        push!(numIter, l)\n",
    "        break\n",
    "    end\n",
    "end"
   ]
  },
  {
   "cell_type": "code",
   "execution_count": 5,
   "metadata": {
    "collapsed": false
   },
   "outputs": [],
   "source": [
    "# update plots based on convergence rate\n",
    "N = numIter[1];"
   ]
  },
  {
   "cell_type": "code",
   "execution_count": 6,
   "metadata": {
    "collapsed": false
   },
   "outputs": [
    {
     "data": {
      "text/plain": [
       "1.4754450088565327"
      ]
     },
     "execution_count": 6,
     "metadata": {},
     "output_type": "execute_result"
    }
   ],
   "source": [
    "max_scaled_flow = maximum([tapFlowVecDict[\"$N\"][i] / link_capac_vec[i] for i = 1:length(link_capac_vec)])"
   ]
  },
  {
   "cell_type": "code",
   "execution_count": 7,
   "metadata": {
    "collapsed": false
   },
   "outputs": [
    {
     "data": {
      "image/png": "[encoded data removed]",
      "text/plain": [
       "PyPlot.Figure(PyObject <matplotlib.figure.Figure object at 0x7f6fcc081390>)"
      ]
     },
     "metadata": {},
     "output_type": "display_data"
    }
   ],
   "source": [
    "using PyPlot\n",
    "\n",
    "#################\n",
    "#  Create Data  #\n",
    "#################\n",
    "x = [tapFlowVecDict[\"$N\"][i] / link_capac_vec[i] for i = 1:length(link_capac_vec)] # Values\n",
    "nbins = 50 # Number of bins\n",
    "\n",
    "##########\n",
    "#  Plot  #\n",
    "##########\n",
    "# fig = figure(\"pyplot_histogram\",figsize=(6,3)) # Not strictly required\n",
    "\n",
    "fig = figure(figsize=(7, 2))\n",
    "\n",
    "ax = axes() # Not strictly required\n",
    "h = plt[:hist](x,nbins) # Histogram\n",
    "\n",
    "font1 = Dict(\"family\"=>\"serif\",\"color\"=>\"k\",\"weight\"=>\"normal\",\"size\"=>14)\n",
    "\n",
    "# grid(\"on\")\n",
    "xlabel(\"scaled flow\", fontdict=font1)\n",
    "ylabel(\"counts\", fontdict=font1)\n",
    "\n",
    "savefig(\"./results/scaled_flow_histogram_MA_journal.pdf\", dpi=300, bbox_inches=\"tight\")"
   ]
  },
  {
   "cell_type": "code",
   "execution_count": 8,
   "metadata": {
    "collapsed": false
   },
   "outputs": [],
   "source": [
    "normObjInvVIDict = Dict{}()\n",
    "\n",
    "for key in keys(objInvVIDict)\n",
    "    normObjInvVIDict[key] = objInvVIDict[key] / objInvVIDict[\"1\"]\n",
    "end"
   ]
  },
  {
   "cell_type": "code",
   "execution_count": 9,
   "metadata": {
    "collapsed": false
   },
   "outputs": [
    {
     "data": {
      "image/png": "[encoded data removed]",
      "text/plain": [
       "PyPlot.Figure(PyObject <matplotlib.figure.Figure object at 0x7f6fec7c0150>)"
      ]
     },
     "metadata": {},
     "output_type": "display_data"
    }
   ],
   "source": [
    "iterNum = 1:(N+1)\n",
    "\n",
    "objFunBiLev = map(iterNum->norObjFunDict[\"$iterNum\"], iterNum)\n",
    "\n",
    "# plot(iterNum, objFun, \"s-g\", label=\"True\")\n",
    "\n",
    "fig = figure(figsize=(7, 2))\n",
    "\n",
    "plot(iterNum, objFunBiLev, \"o-g\", label=\"BiLev\", linewidth=1, \n",
    "markerfacecolor=\"None\", markeredgecolor=\"g\", markeredgewidth=1)\n",
    "\n",
    "objFunInv = map(iterNum->normObjInvVIDict[\"$iterNum\"], iterNum)\n",
    "\n",
    "# plot(iterNum, objFun, \"s-g\", label=\"True\")\n",
    "\n",
    "plot(iterNum, objFunInv, \"s-r\", label=\"InvVI\", linewidth=1, \n",
    "markerfacecolor=\"None\", markeredgecolor=\"r\", markeredgewidth=1)\n",
    "\n",
    "legend(loc=\"lower left\",fancybox=\"true\", frameon=false) \n",
    "\n",
    "grid(\"on\")\n",
    "\n",
    "xlim(0.7, N + 1 + .3)\n",
    "ylim(0.97, 1.02)\n",
    "\n",
    "xticks(1:N+1)\n",
    "yticks(0.97:0.01:1.02)\n",
    "\n",
    "xlabel(\"number of iterations\", fontdict=font1)\n",
    "ylabel(L\"$F^*_{\\text{obj}}(\\textbf{g}^l)/F^*_{\\text{obj}}(\\textbf{g}^0)$\", fontdict=font1)\n",
    "\n",
    "savefig(\"./results/objFun_MA_journal.pdf\", dpi=300, bbox_inches=\"tight\")\n",
    "\n",
    "dire = \"/home/jzh/Dropbox/Research/Data-driven_estimation_inverse_optimization/\" * \n",
    "\"Joint_problem_and_multi_class_Traffic/imag/\"\n",
    "\n",
    "savefig(dire * \"objFun_MA_journal.pdf\", dpi=300, bbox_inches=\"tight\")"
   ]
  },
  {
   "cell_type": "code",
   "execution_count": 10,
   "metadata": {
    "collapsed": false
   },
   "outputs": [],
   "source": [
    "polyEval(coeffs, pt) = sum([coeffs[i] * pt^(i-1) for i = 1:length(coeffs)]);"
   ]
  },
  {
   "cell_type": "code",
   "execution_count": 11,
   "metadata": {
    "collapsed": false
   },
   "outputs": [
    {
     "data": {
      "text/plain": [
       "Base.KeyIterator for a Dict{String,Any} with 5 entries. Keys:\n",
       "  \"(8,1.5,0.001,2)\"\n",
       "  \"(8,1.5,0.001,3)\"\n",
       "  \"(8,1.5,0.001,4)\"\n",
       "  \"(8,1.5,0.001,5)\"\n",
       "  \"(8,1.5,0.001,1)\""
      ]
     },
     "execution_count": 11,
     "metadata": {},
     "output_type": "execute_result"
    }
   ],
   "source": [
    "keys(coeffs_dict)"
   ]
  },
  {
   "cell_type": "code",
   "execution_count": 12,
   "metadata": {
    "collapsed": false
   },
   "outputs": [
    {
     "data": {
      "image/png": "[encoded data removed]",
      "text/plain": [
       "PyPlot.Figure(PyObject <matplotlib.figure.Figure object at 0x7f6feb370bd0>)"
      ]
     },
     "metadata": {},
     "output_type": "display_data"
    }
   ],
   "source": [
    "iterN_1 = 1\n",
    "iterN_2 = 2\n",
    "iterN_3 = 3\n",
    "iterN_4 = N+1\n",
    "\n",
    "true_coeffs = [1, 0, 0, 0, 0.15]\n",
    "# true_coeffs = [1, .2, .5, .8, .15]\n",
    "\n",
    "est_coeffs_1 = coeffs_dict[\"(8,1.5,0.001,$iterN_1)\"]\n",
    "est_coeffs_2 = coeffs_dict[\"(8,1.5,0.001,$iterN_2)\"]\n",
    "est_coeffs_3 = coeffs_dict[\"(8,1.5,0.001,$iterN_3)\"]\n",
    "est_coeffs_4 = coeffs_dict[\"(8,1.5,0.001,$iterN_4)\"]\n",
    "\n",
    "xs = linspace(0, max_scaled_flow, 20)\n",
    "xs_true = linspace(0, max_scaled_flow, 20)\n",
    "\n",
    "zs_true = map(x->polyEval(true_coeffs, x), xs_true)\n",
    "\n",
    "zs_1 = map(x->polyEval(est_coeffs_1, x), xs)\n",
    "zs_2 = map(x->polyEval(est_coeffs_2, x), xs)\n",
    "zs_3 = map(x->polyEval(est_coeffs_3, x), xs)\n",
    "zs_4 = map(x->polyEval(est_coeffs_4, x), xs)\n",
    "\n",
    "fig = figure(figsize=(7,2))\n",
    "\n",
    "plot(xs, zs_1, \"^-m\", label=L\"$\\hat f(\\cdot)$ iteration 1\", linewidth=1, \n",
    "markerfacecolor=\"None\", markeredgecolor=\"m\", markeredgewidth=1)\n",
    "\n",
    "plot(xs, zs_2, \"+-b\", label=L\"$\\hat f(\\cdot)$ iteration 2\", linewidth=1, \n",
    "markerfacecolor=\"None\", markeredgecolor=\"b\", markeredgewidth=1)\n",
    "\n",
    "plot(xs, zs_3, \"o-c\", label=L\"$\\hat f(\\cdot)$ iteration 3\", linewidth=1, \n",
    "markerfacecolor=\"None\", markeredgecolor=\"c\", markeredgewidth=1)\n",
    "\n",
    "plot(xs, zs_4, \"*-g\", label=L\"$\\hat f(\\cdot)$ iteration\" * \" $(N+1)\", linewidth=1, \n",
    "markerfacecolor=\"None\", markeredgecolor=\"g\", markeredgewidth=1)\n",
    "\n",
    "plot(xs_true, zs_true, \"s-r\", label=L\"BPR reference $f(\\cdot)$\", linewidth=1, \n",
    "markerfacecolor=\"None\", markeredgecolor=\"r\", markeredgewidth=1)\n",
    "\n",
    "legend(loc=\"upper left\",fancybox=\"true\", frameon=false) \n",
    "\n",
    "# grid(\"on\")\n",
    "# xlim(-0.1, max_scaled_flow+0.1);\n",
    "# xlim(-0.1, max_scaled_flow);\n",
    "xlim(-0.1, 1.2);\n",
    "ylim(0.8, 2.0);\n",
    "\n",
    "xticks(0:0.2:1.2)\n",
    "yticks(1:0.25:2)\n",
    "\n",
    "xlabel(\"scaled flow\", fontdict=font1)\n",
    "ylabel(\"scaled cost\", fontdict=font1)\n",
    "\n",
    "savefig(\"./results/fitting_MA_journal.pdf\", dpi=300, bbox_inches=\"tight\")\n",
    "\n",
    "dire = \"/home/jzh/Dropbox/Research/Data-driven_estimation_inverse_optimization/\" * \n",
    "\"Joint_problem_and_multi_class_Traffic/imag/\"\n",
    "\n",
    "savefig(dire * \"fitting_MA_journal.pdf\", dpi=300, bbox_inches=\"tight\")"
   ]
  },
  {
   "cell_type": "code",
   "execution_count": null,
   "metadata": {
    "collapsed": true
   },
   "outputs": [],
   "source": []
  }
 ],
 "metadata": {
  "kernelspec": {
   "display_name": "Julia 0.5.1",
   "language": "julia",
   "name": "julia-0.5"
  },
  "language_info": {
   "file_extension": ".jl",
   "mimetype": "application/julia",
   "name": "julia",
   "version": "0.5.1"
  }
 },
 "nbformat": 4,
 "nbformat_minor": 0
}
