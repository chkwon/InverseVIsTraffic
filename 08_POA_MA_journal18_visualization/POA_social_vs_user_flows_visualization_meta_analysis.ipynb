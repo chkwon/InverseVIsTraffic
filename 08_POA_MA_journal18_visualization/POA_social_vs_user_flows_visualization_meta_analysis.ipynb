{
 "cells": [
  {
   "cell_type": "markdown",
   "metadata": {},
   "source": [
    "# Load observed link flows"
   ]
  },
  {
   "cell_type": "code",
   "execution_count": 1,
   "metadata": {
    "collapsed": true
   },
   "outputs": [],
   "source": [
    "using JSON\n",
    "using PyCall\n",
    "unshift!(PyVector(pyimport(\"sys\")[\"path\"]), \"\");\n",
    "@pyimport Compute_Jacobian_MA_journal\n",
    "@pyimport GLS_Apr_weekday_PM_journal"
   ]
  },
  {
   "cell_type": "code",
   "execution_count": 2,
   "metadata": {
    "collapsed": true
   },
   "outputs": [],
   "source": [
    "numNodes = Compute_Jacobian_MA_journal.numNodes;\n",
    "numLinks = Compute_Jacobian_MA_journal.numLinks;\n",
    "numODpairs = Compute_Jacobian_MA_journal.numODpairs;\n",
    "numZones = Compute_Jacobian_MA_journal.numZones\n",
    "od_pairs = Compute_Jacobian_MA_journal.od_pairs;\n",
    "link_list_js = Compute_Jacobian_MA_journal.link_list_js;\n",
    "link_length_list = Compute_Jacobian_MA_journal.link_length_list;"
   ]
  },
  {
   "cell_type": "code",
   "execution_count": 3,
   "metadata": {
    "collapsed": false
   },
   "outputs": [],
   "source": [
    "include(\"../Julia_files/initia_data.jl\");\n",
    "include(\"prepare_data_MA_journal.jl\");\n",
    "include(\"extract_data_Apr_PM_MA_journal.jl\");\n",
    "include(\"extract_data_Apr_weekend_MA_journal.jl\");"
   ]
  },
  {
   "cell_type": "code",
   "execution_count": 4,
   "metadata": {
    "collapsed": false
   },
   "outputs": [],
   "source": [
    "flow_observ = GLS_Apr_weekday_PM_journal.x_;"
   ]
  },
  {
   "cell_type": "markdown",
   "metadata": {},
   "source": [
    "# Load pre-calculated socially-optimal link flows"
   ]
  },
  {
   "cell_type": "code",
   "execution_count": 5,
   "metadata": {
    "collapsed": true
   },
   "outputs": [],
   "source": [
    "tapSocialFlowVecDictAprPM = readstring(\"../temp_files/tapSocialFlowVecDict_Apr_PM_journal.json\");\n",
    "tapSocialFlowVecDictAprPM = JSON.parse(tapSocialFlowVecDictAprPM);"
   ]
  },
  {
   "cell_type": "code",
   "execution_count": 6,
   "metadata": {
    "collapsed": true
   },
   "outputs": [],
   "source": [
    "tapSocialFlowVecDictAprWeekend = readstring(\"../temp_files/tapSocialFlowVecDict_Apr_weekend_journal.json\");\n",
    "tapSocialFlowVecDictAprWeekend = JSON.parse(tapSocialFlowVecDictAprWeekend);"
   ]
  },
  {
   "cell_type": "code",
   "execution_count": 7,
   "metadata": {
    "collapsed": true
   },
   "outputs": [],
   "source": [
    "tapSocialFlowVecDictApr = Dict{}()\n",
    "\n",
    "for key in keys(tapSocialFlowVecDictAprPM)\n",
    "    tapSocialFlowVecDictApr[key] = tapSocialFlowVecDictAprPM[key]\n",
    "end\n",
    "\n",
    "for key in keys(tapSocialFlowVecDictAprWeekend)\n",
    "    tapSocialFlowVecDictApr[key] = tapSocialFlowVecDictAprWeekend[key]\n",
    "end"
   ]
  },
  {
   "cell_type": "code",
   "execution_count": 8,
   "metadata": {
    "collapsed": false
   },
   "outputs": [],
   "source": [
    "tapSocialFlowVecDictApr[\"1\"];"
   ]
  },
  {
   "cell_type": "code",
   "execution_count": 9,
   "metadata": {
    "collapsed": false
   },
   "outputs": [],
   "source": [
    "flow_observ[:, 1];"
   ]
  },
  {
   "cell_type": "markdown",
   "metadata": {},
   "source": [
    "# Meta analysis for zone costs"
   ]
  },
  {
   "cell_type": "code",
   "execution_count": 10,
   "metadata": {
    "collapsed": false
   },
   "outputs": [],
   "source": [
    "link_label_dict;"
   ]
  },
  {
   "cell_type": "code",
   "execution_count": 11,
   "metadata": {
    "collapsed": false
   },
   "outputs": [],
   "source": [
    "link_label_dict_converted = Dict()\n",
    "\n",
    "for key in keys(link_label_dict)\n",
    "    link_label_dict_converted[parse(Int, key) + 1] = [parse(Int, split(link_label_dict[key], ',')[1]), \n",
    "        parse(Int, split(link_label_dict[key], ',')[2])]\n",
    "end"
   ]
  },
  {
   "cell_type": "code",
   "execution_count": 12,
   "metadata": {
    "collapsed": false
   },
   "outputs": [],
   "source": [
    "link_label_dict_converted;"
   ]
  },
  {
   "cell_type": "code",
   "execution_count": 13,
   "metadata": {
    "collapsed": false
   },
   "outputs": [],
   "source": [
    "od_nodesList_dict = GLS_Apr_weekday_PM_journal.od_nodesList_dict;"
   ]
  },
  {
   "cell_type": "code",
   "execution_count": 14,
   "metadata": {
    "collapsed": false
   },
   "outputs": [],
   "source": [
    "od_nodesList_dict_converted = Dict()\n",
    "\n",
    "for key in keys(od_nodesList_dict)\n",
    "    od_nodesList_dict_converted[key + 1] = od_nodesList_dict[key]\n",
    "end"
   ]
  },
  {
   "cell_type": "code",
   "execution_count": 15,
   "metadata": {
    "collapsed": false
   },
   "outputs": [],
   "source": [
    "od_nodesList_dict_converted;"
   ]
  },
  {
   "cell_type": "code",
   "execution_count": 16,
   "metadata": {
    "collapsed": true
   },
   "outputs": [],
   "source": [
    "zone_links_dict = Dict()\n",
    "\n",
    "for key in keys(od_nodesList_dict_converted)\n",
    "    link_list = []\n",
    "    for link_idx in keys(link_label_dict_converted)\n",
    "        if link_label_dict_converted[link_idx][1] in od_nodesList_dict_converted[key] ||\n",
    "            link_label_dict_converted[link_idx][2] in od_nodesList_dict_converted[key]\n",
    "            push!(link_list, link_idx)\n",
    "        end\n",
    "    end\n",
    "    zone_links_dict[key] = link_list\n",
    "end"
   ]
  },
  {
   "cell_type": "code",
   "execution_count": 17,
   "metadata": {
    "collapsed": false
   },
   "outputs": [],
   "source": [
    "zone_links_dict;"
   ]
  },
  {
   "cell_type": "markdown",
   "metadata": {},
   "source": [
    "## Zone cost definition:\n",
    "Let $\\mathcal{A}_i$ denote the link set related to zone $i$ (each link in $\\mathcal{A}_i$ has at least one node contained in zone $i$). Then the total users' cost for zone $i$ is\n",
    "$${C_i} = \\sum\\limits_{a \\in {\\mathcal{A}_i}} {{{x_a}} {{t_a}\\left( x_a \\right)} } $$"
   ]
  },
  {
   "cell_type": "code",
   "execution_count": 18,
   "metadata": {
    "collapsed": false
   },
   "outputs": [
    {
     "data": {
      "text/plain": [
       "usersObj (generic function with 1 method)"
      ]
     },
     "execution_count": 18,
     "metadata": {},
     "output_type": "execute_result"
    }
   ],
   "source": [
    "function usersObj(fcoeffs, free_flow_time, capacity, linkFlowVec, linkIndices)\n",
    "    objVal = sum([sum([free_flow_time[a] * fcoeffs[j] * linkFlowVec[a]^j / capacity[a]^(j-1) \n",
    "            for j = 1:length(fcoeffs)]) for a in linkIndices])\n",
    "    return objVal\n",
    "end"
   ]
  },
  {
   "cell_type": "markdown",
   "metadata": {},
   "source": [
    "## Scenario 1: weekdays of April 2012, PM period"
   ]
  },
  {
   "cell_type": "code",
   "execution_count": 19,
   "metadata": {
    "collapsed": false
   },
   "outputs": [],
   "source": [
    "deg = 8;\n",
    "c = 0.5;\n",
    "lam = 10000.0;\n",
    "\n",
    "coeffs_dict_Apr_PM_ = readstring(\"../temp_files/coeffs_dict_Apr_PM.json\");\n",
    "coeffs_dict_Apr_PM_ = JSON.parse(coeffs_dict_Apr_PM_);\n",
    "fcoeffs_Apr_PM = coeffs_dict_Apr_PM_[\"($(deg),$(c),$(lam),1)\"];"
   ]
  },
  {
   "cell_type": "code",
   "execution_count": 20,
   "metadata": {
    "collapsed": false
   },
   "outputs": [],
   "source": [
    "free_flow_time_Apr_PM = ta_data_Apr_PM.free_flow_time;\n",
    "capacity_Apr_PM = ta_data_Apr_PM.capacity;"
   ]
  },
  {
   "cell_type": "code",
   "execution_count": 21,
   "metadata": {
    "collapsed": false
   },
   "outputs": [],
   "source": [
    "# calculate costs for zones, weekdays of April 2012, PM period\n",
    "\n",
    "zone_cost_dict_Apr_PM_user = Dict();\n",
    "zone_cost_dict_Apr_PM_social = Dict();\n",
    "\n",
    "week_day_Apr_list = [2, 3, 4, 5, 6, 9, 10, 11, 12, 13, 16, 17, 18, 19, 20, 23, 24, 25, 26, 27, 30];\n",
    "\n",
    "for day in week_day_Apr_list \n",
    "    for zone = 1:length(zone_links_dict)\n",
    "        # user-centric policy\n",
    "        zone_cost_dict_Apr_PM_user[(day, zone)] = usersObj(fcoeffs_Apr_PM, free_flow_time_Apr_PM, \n",
    "        capacity_Apr_PM, flow_observ[:, day], zone_links_dict[zone])\n",
    "\n",
    "        # system-centric policy\n",
    "        zone_cost_dict_Apr_PM_social[(day, zone)] = usersObj(fcoeffs_Apr_PM, free_flow_time_Apr_PM, \n",
    "        capacity_Apr_PM, tapSocialFlowVecDictApr[\"$(day)\"], zone_links_dict[zone])\n",
    "    end\n",
    "end"
   ]
  },
  {
   "cell_type": "code",
   "execution_count": 22,
   "metadata": {
    "collapsed": false
   },
   "outputs": [
    {
     "name": "stdout",
     "output_type": "stream",
     "text": [
      "[944.444,645.06]\n",
      "[789.294,455.448]\n",
      "[661.696,1050.81]\n",
      "[2519.24,1602.19]\n",
      "[1063.93,782.166]\n",
      "[1774.31,986.167]\n",
      "[594.687,160.05]\n",
      "[2040.66,922.604]\n",
      "[3986.68,1377.37]\n",
      "[1360.2,1849.42]\n",
      "[1897.2,1599.72]\n",
      "[7475.65,1377.73]\n",
      "[10144.5,5786.04]\n",
      "[1624.4,939.869]\n",
      "[5238.07,8492.96]\n",
      "[2566.77,1511.87]\n",
      "[1184.81,1255.84]\n",
      "[6403.81,3573.12]\n",
      "[733.801,579.342]\n",
      "[1865.24,2131.04]\n",
      "[3893.98,3007.33]\n",
      "[1798.01,542.975]\n",
      "[1035.13,839.561]\n",
      "[458.033,1105.66]\n",
      "[376.13,404.657]\n",
      "[1101.89,849.63]\n",
      "[83.0924,105.339]\n",
      "[354.9,596.222]\n",
      "[332.709,780.3]\n",
      "[2700.32,3665.85]\n",
      "[398.949,595.227]\n",
      "[543.44,713.005]\n",
      "[299.77,261.637]\n",
      "[622.254,735.807]\n"
     ]
    }
   ],
   "source": [
    "day = 18\n",
    "\n",
    "for zone = 1:length(zone_links_dict)\n",
    "    println([zone_cost_dict_Apr_PM_user[(day, zone)], zone_cost_dict_Apr_PM_social[(day, zone)]])\n",
    "end"
   ]
  },
  {
   "cell_type": "markdown",
   "metadata": {},
   "source": [
    "## Scenario 2: weekends of April 2012, PM period"
   ]
  },
  {
   "cell_type": "code",
   "execution_count": 23,
   "metadata": {
    "collapsed": false
   },
   "outputs": [],
   "source": [
    "deg = 6\n",
    "c = 0.5\n",
    "lam = 10000.0\n",
    "\n",
    "coeffs_dict_Apr_weekend_ = readstring(\"../temp_files/coeffs_dict_Apr_weekend.json\");\n",
    "coeffs_dict_Apr_weekend_ = JSON.parse(coeffs_dict_Apr_weekend_);\n",
    "fcoeffs_Apr_weekend = coeffs_dict_Apr_weekend_[\"($(deg),$(c),$(lam),1)\"];"
   ]
  },
  {
   "cell_type": "code",
   "execution_count": 24,
   "metadata": {
    "collapsed": false
   },
   "outputs": [],
   "source": [
    "free_flow_time_Apr_weekend = ta_data_Apr_weekend.free_flow_time;\n",
    "capacity_Apr_weekend = ta_data_Apr_weekend.capacity;"
   ]
  },
  {
   "cell_type": "code",
   "execution_count": 25,
   "metadata": {
    "collapsed": false
   },
   "outputs": [],
   "source": [
    "# calculate costs for zones, weekends of April 2012, PM period\n",
    "\n",
    "zone_cost_dict_Apr_weekend_user = Dict();\n",
    "zone_cost_dict_Apr_weekend_social = Dict();\n",
    "\n",
    "weekend_Apr_list = [1, 7, 8, 14, 15, 21, 22, 28, 29]\n",
    "\n",
    "for day in weekend_Apr_list\n",
    "    for zone = 1:length(zone_links_dict)\n",
    "        # user-centric policy\n",
    "        zone_cost_dict_Apr_weekend_user[(day, zone)] = usersObj(fcoeffs_Apr_weekend, \n",
    "        free_flow_time_Apr_weekend, capacity_Apr_weekend, flow_observ[:, day], zone_links_dict[zone])\n",
    "\n",
    "        # system-centric policy\n",
    "        zone_cost_dict_Apr_weekend_social[(day, zone)] = usersObj(fcoeffs_Apr_weekend, \n",
    "        free_flow_time_Apr_weekend, capacity_Apr_weekend, tapSocialFlowVecDictApr[\"$(day)\"], \n",
    "        zone_links_dict[zone])\n",
    "    end  \n",
    "end"
   ]
  },
  {
   "cell_type": "code",
   "execution_count": 26,
   "metadata": {
    "collapsed": false
   },
   "outputs": [
    {
     "name": "stdout",
     "output_type": "stream",
     "text": [
      "[1824.52,817.832]\n",
      "[836.622,205.068]\n",
      "[1100.64,963.54]\n",
      "[1903.65,1206.97]\n",
      "[1771.22,544.462]\n",
      "[1484.11,588.738]\n",
      "[188.723,27.125]\n",
      "[1342.99,410.338]\n",
      "[2013.85,693.743]\n",
      "[1082.21,748.09]\n",
      "[705.497,703.561]\n",
      "[1181.39,820.369]\n",
      "[1569.58,805.697]\n",
      "[368.25,406.75]\n",
      "[2503.12,1611.67]\n",
      "[1042.7,927.091]\n",
      "[620.679,767.963]\n",
      "[2067.85,1210.07]\n",
      "[559.796,364.204]\n",
      "[2052.26,1240.6]\n",
      "[2545.69,1338.53]\n",
      "[1149.68,382.894]\n",
      "[1374.21,585.818]\n",
      "[590.191,450.91]\n",
      "[520.054,247.896]\n",
      "[1152.4,482.164]\n",
      "[95.767,15.6844]\n",
      "[239.357,180.086]\n",
      "[326.963,423.149]\n",
      "[1877.87,1148.94]\n",
      "[263.914,232.134]\n",
      "[421.331,109.425]\n",
      "[263.423,95.8417]\n",
      "[429.18,402.883]\n"
     ]
    }
   ],
   "source": [
    "day = 15\n",
    "\n",
    "for zone = 1:length(zone_links_dict)\n",
    "    println([zone_cost_dict_Apr_weekend_user[(day, zone)], zone_cost_dict_Apr_weekend_social[(day, zone)]])\n",
    "end"
   ]
  },
  {
   "cell_type": "markdown",
   "metadata": {},
   "source": [
    "## Visualization of zone costs (user-centric vs. system-centric)\n",
    "\n",
    "### Three observations can be made: \n",
    "\n",
    "#### (1) Overall, most zone costs would be reduced when switching from user-centric policy to system-centric policy.\n",
    "\n",
    "#### (2) In general, the zone costs for weekends are less than their counterparts for weekdays; this is consistent with intuition.\n",
    "\n",
    "#### (3) The decrease seems more constant for all zones in weekends than in weekdays, meaning it is easier to optimize the network for weekends than for weekdays; this is again consistent with intuition. "
   ]
  },
  {
   "cell_type": "code",
   "execution_count": 27,
   "metadata": {
    "collapsed": true
   },
   "outputs": [],
   "source": [
    "using PyPlot"
   ]
  },
  {
   "cell_type": "markdown",
   "metadata": {},
   "source": [
    "## Plots for weekdays"
   ]
  },
  {
   "cell_type": "code",
   "execution_count": 28,
   "metadata": {
    "collapsed": false
   },
   "outputs": [
    {
     "data": {
      "image/png": "[encoded data removed]",
      "text/plain": [
       "PyPlot.Figure(PyObject <matplotlib.figure.Figure object at 0x7f4cc670e5d0>)"
      ]
     },
     "metadata": {},
     "output_type": "display_data"
    }
   ],
   "source": [
    "using PyPlot;\n",
    "plt = PyPlot;\n",
    "\n",
    "dire = \"/home/jzh/Dropbox/Research/Data-driven_estimation_inverse_optimization/\" * \n",
    "\"MA_traffic_IEEE_special_issue_18/imag/\"\n",
    "\n",
    "# for day in week_day_Apr_list \n",
    "for day in [18]\n",
    "\n",
    "    fig = figure(figsize=(7,2))\n",
    "\n",
    "    zone = 1:length(zone_links_dict)\n",
    "\n",
    "    zone_cost_vec_Apr_PM_user = [zone_cost_dict_Apr_PM_user[(day, zone_idx)] for zone_idx in zone]\n",
    "    zone_cost_vec_Apr_PM_social = [zone_cost_dict_Apr_PM_social[(day, zone_idx)] for zone_idx in zone]\n",
    "\n",
    "    plot(zone, zone_cost_vec_Apr_PM_user, \"o-r\", linewidth=2, label=\"user-centric\")\n",
    "    plot(zone, zone_cost_vec_Apr_PM_social, \"s-b\", linewidth=2, label=\"system-centric\")\n",
    "\n",
    "    # legend(loc=0, fancybox=\"true\", bbox_to_anchor=(0.1, 0)) \n",
    "#     legend(loc=0, fancybox=\"true\", numpoints=1) \n",
    "    plt.legend(frameon=false, ncol=2, bbox_to_anchor=(0., 1.02, 1., .102), loc=3, mode=\"expand\", \n",
    "    borderaxespad=0.2, numpoints=1)\n",
    "    \n",
    "#     grid(\"on\")\n",
    "\n",
    "    xlim(0, 35)\n",
    "    xticks(1:2:34)\n",
    "    ylim(-400, maximum([maximum(zone_cost_vec_Apr_PM_user), maximum(zone_cost_vec_Apr_PM_social)])+600)\n",
    "\n",
    "    font1 = Dict(\"family\"=>\"serif\", \"color\"=>\"k\", \"weight\"=>\"normal\", \"size\"=>14)\n",
    "\n",
    "    xlabel(\"zone index\", fontdict=font1)\n",
    "    ylabel(\"cost\", fontdict=font1)\n",
    "\n",
    "#     savefig(\"./results/Zone_costs_Apr_$(day)_journal.pdf\")\n",
    "    \n",
    "    savefig(dire * \"Zone_costs_Apr_$(day)_journal.pdf\", dpi=300, bbox_inches=\"tight\")\n",
    "    \n",
    "end"
   ]
  },
  {
   "cell_type": "markdown",
   "metadata": {},
   "source": [
    "## Plots for weekends"
   ]
  },
  {
   "cell_type": "code",
   "execution_count": 29,
   "metadata": {
    "collapsed": false
   },
   "outputs": [
    {
     "data": {
      "image/png": "[encoded data removed]",
      "text/plain": [
       "PyPlot.Figure(PyObject <matplotlib.figure.Figure object at 0x7f4cc676fa10>)"
      ]
     },
     "metadata": {},
     "output_type": "display_data"
    }
   ],
   "source": [
    "# for day in weekend_Apr_list\n",
    "for day in [15]\n",
    "\n",
    "    fig = figure(figsize=(7,2))\n",
    "\n",
    "    zone = 1:length(zone_links_dict)\n",
    "\n",
    "    zone_cost_vec_Apr_weekend_user = [zone_cost_dict_Apr_weekend_user[(day, zone_idx)] for zone_idx in zone]\n",
    "    zone_cost_vec_Apr_weekend_social = [zone_cost_dict_Apr_weekend_social[(day, zone_idx)] for zone_idx in zone]\n",
    "\n",
    "    plot(zone, zone_cost_vec_Apr_weekend_user, \"o-r\", linewidth=2, label=\"user-centric\")\n",
    "    plot(zone, zone_cost_vec_Apr_weekend_social, \"s-b\", linewidth=2, label=\"system-centric\")\n",
    "\n",
    "    # legend(loc=0, fancybox=\"true\", bbox_to_anchor=(0.1, 0)) \n",
    "#     legend(frameon=\"None\", loc=0, fancybox=\"True\", ncol=2, mode=\"expand\", numpoints=1) \n",
    "\n",
    "#     grid(\"on\")\n",
    "\n",
    "    xlim(0, 35)\n",
    "    xticks(1:2:34)\n",
    "    ylim(-150, maximum([maximum(zone_cost_vec_Apr_weekend_user), \n",
    "        maximum(zone_cost_vec_Apr_weekend_social)])+200)\n",
    "\n",
    "    font1 = Dict(\"family\"=>\"serif\", \"color\"=>\"k\", \"weight\"=>\"normal\", \"size\"=>14)\n",
    "\n",
    "    xlabel(\"zone index\", fontdict=font1)\n",
    "    ylabel(\"cost\", fontdict=font1)\n",
    "\n",
    "#     savefig(\"./results/Zone_costs_Apr_$(day)_journal.pdf\")\n",
    "    \n",
    "    savefig(dire * \"Zone_costs_Apr_$(day)_journal.pdf\", dpi=300, bbox_inches=\"tight\")\n",
    "    \n",
    "end"
   ]
  },
  {
   "cell_type": "markdown",
   "metadata": {
    "collapsed": true
   },
   "source": [
    "# Meta analysis for link flows"
   ]
  },
  {
   "cell_type": "markdown",
   "metadata": {},
   "source": [
    "## maximum and minimum link flows"
   ]
  },
  {
   "cell_type": "code",
   "execution_count": 30,
   "metadata": {
    "collapsed": false
   },
   "outputs": [],
   "source": [
    "max_link_flow_social_dict = Dict()\n",
    "min_link_flow_social_dict = Dict()\n",
    "\n",
    "for day = 1:30\n",
    "    # maximum link flow (social)\n",
    "    max_link_flow_social_dict[day] = findmax(tapSocialFlowVecDictApr[\"$(day)\"])\n",
    "\n",
    "    # minimum link flow (social)\n",
    "    min_link_flow_social_dict[day] = findmin(tapSocialFlowVecDictApr[\"$(day)\"])\n",
    "end"
   ]
  },
  {
   "cell_type": "code",
   "execution_count": 31,
   "metadata": {
    "collapsed": false
   },
   "outputs": [],
   "source": [
    "max_link_flow_user_dict = Dict()\n",
    "min_link_flow_user_dict = Dict()\n",
    "\n",
    "for day = 1:30\n",
    "    # maximum link flow (user)\n",
    "    max_link_flow_user_dict[day] = findmax(flow_observ[:, day])\n",
    "\n",
    "    # minimum link flow (user)\n",
    "    min_link_flow_user_dict[day] = findmin(flow_observ[:, day])\n",
    "end"
   ]
  },
  {
   "cell_type": "code",
   "execution_count": 32,
   "metadata": {
    "collapsed": false
   },
   "outputs": [
    {
     "data": {
      "text/plain": [
       "Dict{Any,Any} with 30 entries:\n",
       "  18 => (7684.86,98)\n",
       "  30 => (7688.47,98)\n",
       "  2  => (7687.65,98)\n",
       "  16 => (6977.28,98)\n",
       "  11 => (7691.85,98)\n",
       "  21 => (2701.49,128)\n",
       "  7  => (2789.31,128)\n",
       "  9  => (7687.65,98)\n",
       "  25 => (7688.47,98)\n",
       "  10 => (7691.85,98)\n",
       "  26 => (7688.47,98)\n",
       "  29 => (2669.78,128)\n",
       "  19 => (6964.89,98)\n",
       "  17 => (7695.92,98)\n",
       "  8  => (2789.31,128)\n",
       "  22 => (2701.49,128)\n",
       "  6  => (6979.82,98)\n",
       "  24 => (7682.25,98)\n",
       "  4  => (7687.65,98)\n",
       "  3  => (7687.65,98)\n",
       "  28 => (2669.78,128)\n",
       "  5  => (7687.65,98)\n",
       "  20 => (6964.89,98)\n",
       "  23 => (7684.86,98)\n",
       "  13 => (7695.92,98)\n",
       "  ⋮  => ⋮"
      ]
     },
     "execution_count": 32,
     "metadata": {},
     "output_type": "execute_result"
    }
   ],
   "source": [
    "max_link_flow_social_dict"
   ]
  },
  {
   "cell_type": "code",
   "execution_count": 33,
   "metadata": {
    "collapsed": false
   },
   "outputs": [
    {
     "data": {
      "text/plain": [
       "Dict{Any,Any} with 30 entries:\n",
       "  18 => (5694.16,156)\n",
       "  30 => (8348.15,39)\n",
       "  2  => (6758.83,89)\n",
       "  16 => (4819.28,39)\n",
       "  11 => (6351.09,103)\n",
       "  21 => (2120.63,78)\n",
       "  7  => (2311.83,104)\n",
       "  9  => (5451.36,89)\n",
       "  25 => (6239.48,103)\n",
       "  10 => (7159.62,89)\n",
       "  26 => (5917.86,60)\n",
       "  29 => (2643.14,30)\n",
       "  19 => (4705.84,89)\n",
       "  17 => (4848.33,147)\n",
       "  8  => (2932.75,30)\n",
       "  22 => (2697.52,30)\n",
       "  6  => (3703.43,85)\n",
       "  24 => (6028.75,89)\n",
       "  4  => (6598.19,89)\n",
       "  3  => (6483.92,95)\n",
       "  28 => (1868.09,30)\n",
       "  5  => (6866.57,156)\n",
       "  20 => (3849.83,85)\n",
       "  23 => (7285.14,155)\n",
       "  13 => (4991.72,156)\n",
       "  ⋮  => ⋮"
      ]
     },
     "execution_count": 33,
     "metadata": {},
     "output_type": "execute_result"
    }
   ],
   "source": [
    "max_link_flow_user_dict"
   ]
  },
  {
   "cell_type": "code",
   "execution_count": 34,
   "metadata": {
    "collapsed": false
   },
   "outputs": [
    {
     "data": {
      "image/png": "[encoded data removed]",
      "text/plain": [
       "PyPlot.Figure(PyObject <matplotlib.figure.Figure object at 0x7f4cc6785310>)"
      ]
     },
     "metadata": {},
     "output_type": "display_data"
    }
   ],
   "source": [
    "fig = figure(figsize=(7,2))\n",
    "\n",
    "day = 1:length(max_link_flow_social_dict)\n",
    "\n",
    "max_link_flow_social_vec = [max_link_flow_social_dict[idx][1] for idx in day]\n",
    "min_link_flow_social_vec = [min_link_flow_social_dict[idx][1] for idx in day]\n",
    "\n",
    "max_link_flow_user_vec = [max_link_flow_user_dict[idx][1] for idx in day]\n",
    "min_link_flow_user_vec = [min_link_flow_user_dict[idx][1] for idx in day]\n",
    "\n",
    "plot(day, max_link_flow_social_vec, \"s-b\", linewidth=2, label=\"max system-centric\")\n",
    "plot(day, max_link_flow_user_vec, \"o-r\", linewidth=2, label=\"max user-centric\")\n",
    "\n",
    "plot(day, min_link_flow_social_vec, \"v-m\", linewidth=2, label=\"min system-centric\")\n",
    "plot(day, min_link_flow_user_vec, \"*-g\", linewidth=2, label=\"min user-centric\")\n",
    "\n",
    "# legend(loc=0, fancybox=\"true\", bbox_to_anchor=(0.1, 0)) \n",
    "legend(bbox_to_anchor=(0., 1.02, 1., .102), loc=3, fancybox=\"true\", ncol=2, mode=\"expand\", \n",
    "borderaxespad=0.2, numpoints=1, frameon=false)  \n",
    "\n",
    "# grid(\"on\")\n",
    "\n",
    "xlim(0, 31)\n",
    "xticks(1:2:30)\n",
    "ylim(-300, maximum([maximum(max_link_flow_social_vec), maximum(max_link_flow_user_vec)])+500)\n",
    "\n",
    "font1 = Dict(\"family\"=>\"serif\", \"color\"=>\"k\", \"weight\"=>\"normal\", \"size\"=>14)\n",
    "\n",
    "xlabel(\"day of April 2012\", fontdict=font1)\n",
    "ylabel(\"link flow\", fontdict=font1)\n",
    "\n",
    "# savefig(\"./results/max_min_link_flow_Apr_journal.pdf\")\n",
    "\n",
    "savefig(dire * \"max_min_link_flow_Apr_journal.pdf\", dpi=300, bbox_inches=\"tight\")"
   ]
  },
  {
   "cell_type": "code",
   "execution_count": 35,
   "metadata": {
    "collapsed": false
   },
   "outputs": [
    {
     "data": {
      "image/png": "[encoded data removed]",
      "text/plain": [
       "PyPlot.Figure(PyObject <matplotlib.figure.Figure object at 0x7f4cc1637b10>)"
      ]
     },
     "metadata": {},
     "output_type": "display_data"
    }
   ],
   "source": [
    "fig = figure(figsize=(7,2))\n",
    "\n",
    "day = 1:length(max_link_flow_social_dict)\n",
    "\n",
    "max_link_flow_social_vec = [max_link_flow_social_dict[idx][2] for idx in day]\n",
    "min_link_flow_social_vec = [min_link_flow_social_dict[idx][2] for idx in day]\n",
    "\n",
    "max_link_flow_user_vec = [max_link_flow_user_dict[idx][2] for idx in day]\n",
    "min_link_flow_user_vec = [min_link_flow_user_dict[idx][2] for idx in day]\n",
    "\n",
    "plot(day, max_link_flow_social_vec, \"s-b\", linewidth=2, label=\"max system-centric\")\n",
    "plot(day, max_link_flow_user_vec, \"o-r\", linewidth=2, label=\"max user-centric\")\n",
    "\n",
    "plot(day, min_link_flow_social_vec, \"v-m\", linewidth=2, label=\"min system-centric\")\n",
    "plot(day, min_link_flow_user_vec, \"*-g\", linewidth=2, label=\"min user-centric\")\n",
    "\n",
    "# legend(loc=0, fancybox=\"true\", bbox_to_anchor=(0.1, 0)) \n",
    "# legend(loc=0, fancybox=\"true\", ncol=2, mode=\"expand\", borderaxespad=0.2, numpoints=1, frameon=false)  \n",
    "\n",
    "# grid(\"on\")\n",
    "\n",
    "xlim(0, 31)\n",
    "xticks(1:2:30)\n",
    "ylim(-2, maximum([maximum(max_link_flow_social_vec), maximum(max_link_flow_user_vec)]) + 15)\n",
    "# yticks(4:164)\n",
    "\n",
    "font1 = Dict(\"family\"=>\"serif\", \"color\"=>\"k\", \"weight\"=>\"normal\", \"size\"=>14)\n",
    "\n",
    "xlabel(\"day of April 2012\", fontdict=font1)\n",
    "ylabel(\"link index\", fontdict=font1)\n",
    "\n",
    "# savefig(\"./results/max_min_link_index_Apr_journal.pdf\")\n",
    "\n",
    "savefig(dire * \"max_min_link_index_Apr_journal.pdf\", dpi=300, bbox_inches=\"tight\")"
   ]
  },
  {
   "cell_type": "markdown",
   "metadata": {},
   "source": [
    "# Meta analysis for link congestion"
   ]
  },
  {
   "cell_type": "markdown",
   "metadata": {},
   "source": [
    "Based on Greenshield's model, we could define the $\\textbf{Congestion Metric}$ for link $a$ as \n",
    "$${\\text{CM}_a} = \\left\\{ \\begin{gathered}\n",
    "  1 - \\frac{{{x_a}}}{{{m_a}}} = 1 - 4\\left[ {\\frac{{{v_a}}}{{v_a^0}} - {{\\left( {\\frac{{{v_a}}}{{v_a^0}}} \\right)}^2}} \\right],{\\text{ if }}0 \\leq {v_a} < \\frac{{v_a^0}}{2}, \\hfill \\\\\n",
    "  0,{\\text{ if }}{v_a} \\geq \\frac{{v_a^0}}{2}, \\hfill \\\\ \n",
    "\\end{gathered}  \\right.$$\n",
    "where $x_a$ and $m_a$ are the $\\textbf{link flow}$ and $\\textbf{flow capacity}$ respectively, and $v_a$ (resp., $v_a^0$) is the $\\textbf{observed speed}$ (resp., $\\textbf{free-flow speed}$) on link $a$. Note that in our analysis, we always have $\\text{CM}_a \\in [0,1]$; in particular, when ${v_a} \\geq \\frac{{v_a^0}}{2}$, we define $\\text{CM}_a = 0$, meaning the congestion (if any) on link $a$ could be ignored. In our calculations, we take $v_a^0 = {s_a}\\big/{t_a^0},$ where $s_a$ is the $\\textbf{length}$ of link $a$ and $t_a^0$ is the $\\textbf{free-flow travel time}$ of link $a$.\n",
    "\n",
    "Note that this metric only works for the case where we have speed data. However, we actually do not have speed information for social flows. Thus, we need an alternative definition of link congestion metric. Here we want to use the ratio of $\\textbf{travel time}$ to $\\textbf{free-flow travel time}$:\n",
    "$${\\text{CM}_a} = \\frac{{{t_a}\\left( {{x_a}} \\right)}}{{t_a^0}} = f\\left( {\\frac{{{x_a}}}{{{m_a}}}} \\right),$$\n",
    "where $f(\\cdot)$ is the cost function that we have estimated. In this new definition, we always have $\\text{CM}_a \\geq 1$."
   ]
  },
  {
   "cell_type": "code",
   "execution_count": 36,
   "metadata": {
    "collapsed": false
   },
   "outputs": [
    {
     "data": {
      "text/plain": [
       "congMetric (generic function with 1 method)"
      ]
     },
     "execution_count": 36,
     "metadata": {},
     "output_type": "execute_result"
    }
   ],
   "source": [
    "function congMetric(fcoeffs, capacity, linkFlow)\n",
    "    CM = sum([fcoeffs[j] * linkFlow^(j-1) / capacity^(j-1) for j = 1:length(fcoeffs)])\n",
    "    if CM < 1\n",
    "        return 1.0\n",
    "    end\n",
    "    return CM\n",
    "end"
   ]
  },
  {
   "cell_type": "markdown",
   "metadata": {
    "collapsed": true
   },
   "source": [
    "## Scenario 1: weekdays of April 2012, PM period"
   ]
  },
  {
   "cell_type": "code",
   "execution_count": 37,
   "metadata": {
    "collapsed": false
   },
   "outputs": [],
   "source": [
    "# calculate congestion metric for links\n",
    "\n",
    "link_congestion_metric_dict_Apr_PM_user = Dict();\n",
    "link_congestion_metric_dict_Apr_PM_social = Dict();\n",
    "\n",
    "week_day_Apr_list = [2, 3, 4, 5, 6, 9, 10, 11, 12, 13, 16, 17, 18, 19, 20, 23, 24, 25, 26, 27, 30];\n",
    "\n",
    "for day in week_day_Apr_list \n",
    "    for link = 1:numLinks\n",
    "        # user-centric policy\n",
    "        link_congestion_metric_dict_Apr_PM_user[(day, link)] = congMetric(fcoeffs_Apr_PM, \n",
    "        capacity_Apr_PM[link], flow_observ[:, day][link])\n",
    "\n",
    "        # system-centric policy\n",
    "        link_congestion_metric_dict_Apr_PM_social[(day, link)] = congMetric(fcoeffs_Apr_PM, \n",
    "        capacity_Apr_PM[link], tapSocialFlowVecDictApr[\"$(day)\"][link])\n",
    "    end\n",
    "end"
   ]
  },
  {
   "cell_type": "code",
   "execution_count": 38,
   "metadata": {
    "collapsed": false
   },
   "outputs": [
    {
     "name": "stdout",
     "output_type": "stream",
     "text": [
      "[1.00025,1.00021]\n",
      "[1.00041,1.0]\n",
      "[1.00045,1.00058]\n",
      "[1.00015,1.00016]\n",
      "[1.00037,1.0]\n",
      "[1.00271,1.0]\n",
      "[1.00004,1.716]\n",
      "[1.00004,1.60466]\n",
      "[1.00035,1.00077]\n",
      "[1.00056,1.003]\n",
      "[1.00092,1.00048]\n",
      "[1.00067,1.00026]\n",
      "[1.00001,1.0]\n",
      "[1.03421,1.0]\n",
      "[1.00063,1.0]\n",
      "[1.00006,1.0]\n",
      "[1.00089,1.0]\n",
      "[1.00214,1.0]\n",
      "[1.00846,1.0]\n",
      "[1.00021,1.0]\n",
      "[1.00198,1.01118]\n",
      "[1.01506,1.0051]\n",
      "[1.00352,1.0027]\n",
      "[1.02063,1.00145]\n",
      "[1.10011,1.0]\n",
      "[1.0,1.0]\n",
      "[1.00193,1.00054]\n",
      "[1.00046,1.00081]\n",
      "[1.0008,1.0]\n",
      "[1.00019,1.0]\n",
      "[1.00082,1.00237]\n",
      "[1.00296,1.00129]\n",
      "[1.00101,1.00116]\n",
      "[1.00414,1.00128]\n",
      "[1.00191,1.0078]\n",
      "[1.00193,1.01023]\n",
      "[1.00113,1.00584]\n",
      "[1.00251,1.0047]\n",
      "[1.00103,1.00066]\n",
      "[1.0003,1.00119]\n",
      "[1.00027,1.00135]\n",
      "[1.01111,1.01006]\n",
      "[1.00055,1.00005]\n",
      "[1.00048,1.00062]\n",
      "[1.00895,1.0]\n",
      "[1.00097,1.0]\n",
      "[1.00042,1.00094]\n",
      "[1.00081,1.00001]\n",
      "[1.00813,1.0]\n",
      "[1.00261,1.0]\n",
      "[1.00216,1.0]\n",
      "[1.01349,1.00009]\n",
      "[1.00193,1.00881]\n",
      "[1.0,1.00046]\n",
      "[1.00259,1.00042]\n",
      "[1.04806,1.00222]\n",
      "[1.00187,1.00031]\n",
      "[1.00719,1.00008]\n",
      "[1.06325,1.01587]\n",
      "[1.00067,1.00091]\n",
      "[1.0,1.0]\n",
      "[1.01359,1.0]\n",
      "[1.00091,1.00009]\n",
      "[1.00034,1.00037]\n",
      "[1.00232,1.00015]\n",
      "[1.03141,1.00006]\n",
      "[1.00292,1.0]\n",
      "[1.07583,1.0]\n",
      "[1.00629,1.02322]\n",
      "[1.00444,1.00825]\n",
      "[1.00069,1.00016]\n",
      "[1.00042,1.00093]\n",
      "[1.0,1.00237]\n",
      "[1.00052,1.01439]\n",
      "[1.00093,1.00348]\n",
      "[1.00566,1.01557]\n",
      "[1.00827,1.00345]\n",
      "[1.01007,1.0001]\n",
      "[10.2017,1.0]\n",
      "[1.0,1.0]\n",
      "[1.00136,1.0]\n",
      "[1.18332,1.0]\n",
      "[1.01519,1.0]\n",
      "[1.09474,1.0]\n",
      "[1.0124,1.02061]\n",
      "[2.07912,1.05492]\n",
      "[1.00177,1.0]\n",
      "[1.05586,1.0]\n",
      "[1.03213,1.00729]\n",
      "[1.00281,1.00272]\n",
      "[1.0,1.0]\n",
      "[2.48317,1.13013]\n",
      "[1.01983,1.04198]\n",
      "[1.00872,1.00595]\n",
      "[1.0191,1.00757]\n",
      "[1.00654,1.00224]\n",
      "[1.01199,1.20026]\n",
      "[1.00116,1.73843]\n",
      "[1.13865,1.0]\n",
      "[1.02876,1.0]\n",
      "[1.04367,1.0]\n",
      "[1.01121,1.44991]\n",
      "[1.00549,1.00801]\n",
      "[1.00166,1.0037]\n",
      "[1.04603,1.00945]\n",
      "[1.01959,1.0]\n",
      "[1.02578,1.0]\n",
      "[1.00203,1.05183]\n",
      "[1.0,1.0]\n",
      "[1.02117,1.0]\n",
      "[1.0086,1.01412]\n",
      "[1.0033,1.00191]\n",
      "[1.02643,1.02474]\n",
      "[1.00101,1.0083]\n",
      "[1.00006,1.0]\n",
      "[1.01046,1.0]\n",
      "[1.00195,1.01562]\n",
      "[1.00018,1.00016]\n",
      "[1.0,1.00005]\n",
      "[1.0012,1.00311]\n",
      "[1.00059,1.07488]\n",
      "[1.00036,1.00084]\n",
      "[1.0,1.0]\n",
      "[1.02423,1.0]\n",
      "[1.01003,1.79347]\n",
      "[1.02124,1.0]\n",
      "[1.00231,3.75958]\n",
      "[1.00009,1.02464]\n",
      "[1.01204,1.02204]\n",
      "[1.0067,1.0028]\n",
      "[1.0012,1.0446]\n",
      "[1.0,1.07767]\n",
      "[1.01923,1.01412]\n",
      "[1.00211,1.00174]\n",
      "[1.00041,1.00233]\n",
      "[1.0004,1.00209]\n",
      "[1.00678,1.01865]\n",
      "[1.00234,1.0003]\n",
      "[1.00397,1.0]\n",
      "[1.00282,1.0]\n",
      "[1.0,1.0]\n",
      "[1.00971,1.0]\n",
      "[1.00024,1.02046]\n",
      "[1.00098,1.00309]\n",
      "[1.6415,1.01407]\n",
      "[1.0,1.02041]\n",
      "[1.03756,1.04335]\n",
      "[1.00902,1.00433]\n",
      "[1.00234,1.0]\n",
      "[1.03991,1.0]\n",
      "[1.00623,1.0222]\n",
      "[1.00946,1.00412]\n",
      "[1.0037,1.00866]\n",
      "[1.0,1.00117]\n",
      "[1.0076,1.00256]\n",
      "[1.03037,1.00326]\n",
      "[1.00871,1.03967]\n",
      "[1.0001,1.00058]\n",
      "[1.00361,1.00918]\n",
      "[1.01345,1.00817]\n",
      "[1.0,1.0]\n",
      "[1.25574,1.0]\n",
      "[1.0043,1.0]\n",
      "[1.00078,1.0]\n",
      "[1.01309,1.00239]\n",
      "[1.00019,1.00037]\n",
      "[1.00082,1.0012]\n",
      "[1.00002,1.0]\n",
      "[1.00239,1.01688]\n",
      "[1.00087,1.01274]\n",
      "[1.00066,1.0]\n",
      "[1.00148,1.0]\n",
      "[1.00026,1.01376]\n",
      "[1.00044,1.00172]\n",
      "[1.00068,1.0]\n",
      "[1.00167,1.0]\n",
      "[1.00133,1.00286]\n",
      "[1.00094,1.00095]\n",
      "[1.0091,1.0]\n",
      "[1.00471,1.0]\n",
      "[1.0006,1.00686]\n",
      "[1.00079,1.00022]\n",
      "[1.00076,1.00235]\n",
      "[1.00075,1.00136]\n",
      "[1.00173,1.0]\n",
      "[1.00045,1.0]\n",
      "[1.00076,1.00661]\n",
      "[1.00131,1.00036]\n",
      "[1.00121,1.00313]\n",
      "[1.00091,1.00302]\n",
      "[1.00103,1.0]\n",
      "[1.00039,1.0]\n",
      "[1.00024,1.05923]\n",
      "[1.00013,1.00271]\n",
      "[1.00043,1.00627]\n",
      "[1.00045,1.00025]\n",
      "[1.00143,1.00203]\n",
      "[1.00136,1.00033]\n",
      "[1.00051,1.00005]\n",
      "[1.00108,1.0066]\n",
      "[1.00072,1.00074]\n",
      "[1.00042,1.00067]\n",
      "[1.0,1.0]\n",
      "[1.00092,1.0]\n",
      "[1.0002,1.00163]\n",
      "[1.00038,1.00006]\n",
      "[1.00063,1.0]\n",
      "[1.0,1.0]\n",
      "[1.00248,1.0338]\n",
      "[1.00174,1.00328]\n",
      "[1.00123,1.0004]\n",
      "[1.00083,1.00088]\n",
      "[1.00089,1.00055]\n",
      "[1.00048,1.0]\n",
      "[1.0,1.00003]\n",
      "[1.0,1.00004]\n",
      "[1.0,1.00003]\n",
      "[1.0,1.00004]\n",
      "[1.00255,1.00144]\n",
      "[1.00046,1.00524]\n",
      "[1.0,1.00269]\n",
      "[1.00083,1.00116]\n",
      "[1.00055,1.00042]\n",
      "[1.00101,1.00617]\n",
      "[1.00023,1.37684]\n",
      "[1.00078,1.04885]\n",
      "[1.00167,1.0]\n",
      "[1.00483,1.0]\n",
      "[1.00047,1.00219]\n",
      "[1.00047,1.00059]\n",
      "[1.00075,1.2401]\n",
      "[1.00009,1.01027]\n",
      "[1.00084,1.0]\n",
      "[1.00224,1.0]\n",
      "[1.00035,1.00266]\n",
      "[1.00367,1.00048]\n",
      "[1.0007,1.00542]\n",
      "[1.00236,1.0032]\n",
      "[1.0,1.0]\n",
      "[1.02302,1.0]\n",
      "[1.00202,1.0]\n",
      "[1.00043,1.0]\n",
      "[1.00057,1.00013]\n",
      "[1.00057,1.00116]\n",
      "[1.00273,1.02702]\n",
      "[1.0011,1.00239]\n",
      "[1.00128,1.00013]\n",
      "[1.00128,1.00113]\n",
      "[1.00139,1.00113]\n",
      "[1.00139,1.00013]\n",
      "[1.00004,1.0]\n",
      "[1.00004,1.0]\n",
      "[1.0,1.00012]\n",
      "[1.00153,1.00048]\n",
      "[1.00052,1.0]\n",
      "[1.00064,1.0]\n",
      "[1.0,1.0357]\n",
      "[1.02568,1.01051]\n"
     ]
    }
   ],
   "source": [
    "day = 18\n",
    "\n",
    "for link = 1:numLinks\n",
    "    println([link_congestion_metric_dict_Apr_PM_user[(day, link)], \n",
    "        link_congestion_metric_dict_Apr_PM_social[(day, link)]])\n",
    "end"
   ]
  },
  {
   "cell_type": "code",
   "execution_count": 39,
   "metadata": {
    "collapsed": false
   },
   "outputs": [
    {
     "data": {
      "text/plain": [
       "258-element Array{Pair{Any,Any},1}:\n",
       " Pair{Any,Any}(215,1.0)    \n",
       " Pair{Any,Any}(80,1.0)     \n",
       " Pair{Any,Any}(132,1.0)    \n",
       " Pair{Any,Any}(221,1.0)    \n",
       " Pair{Any,Any}(217,1.0)    \n",
       " Pair{Any,Any}(154,1.0)    \n",
       " Pair{Any,Any}(239,1.0)    \n",
       " Pair{Any,Any}(253,1.0)    \n",
       " Pair{Any,Any}(146,1.0)    \n",
       " Pair{Any,Any}(141,1.0)    \n",
       " Pair{Any,Any}(216,1.0)    \n",
       " Pair{Any,Any}(91,1.0)     \n",
       " Pair{Any,Any}(203,1.0)    \n",
       " ⋮                         \n",
       " Pair{Any,Any}(88,1.05586) \n",
       " Pair{Any,Any}(59,1.06325) \n",
       " Pair{Any,Any}(68,1.07583) \n",
       " Pair{Any,Any}(84,1.09474) \n",
       " Pair{Any,Any}(25,1.10011) \n",
       " Pair{Any,Any}(99,1.13865) \n",
       " Pair{Any,Any}(82,1.18332) \n",
       " Pair{Any,Any}(162,1.25574)\n",
       " Pair{Any,Any}(145,1.6415) \n",
       " Pair{Any,Any}(86,2.07912) \n",
       " Pair{Any,Any}(92,2.48317) \n",
       " Pair{Any,Any}(79,10.2017) "
      ]
     },
     "execution_count": 39,
     "metadata": {},
     "output_type": "execute_result"
    }
   ],
   "source": [
    "day = 18\n",
    "\n",
    "link_congestion_metric_dict_Apr_PM_user_day = Dict()\n",
    "for link = 1:numLinks\n",
    "    link_congestion_metric_dict_Apr_PM_user_day[link] = link_congestion_metric_dict_Apr_PM_user[(day, link)]\n",
    "end\n",
    "sorted_vec_user = sort(collect(link_congestion_metric_dict_Apr_PM_user_day), by=x->x[2])"
   ]
  },
  {
   "cell_type": "code",
   "execution_count": 40,
   "metadata": {
    "collapsed": false
   },
   "outputs": [
    {
     "data": {
      "text/plain": [
       "258-element Array{Pair{Any,Any},1}:\n",
       " Pair{Any,Any}(29,1.0)     \n",
       " Pair{Any,Any}(207,1.0)    \n",
       " Pair{Any,Any}(176,1.0)    \n",
       " Pair{Any,Any}(252,1.0)    \n",
       " Pair{Any,Any}(49,1.0)     \n",
       " Pair{Any,Any}(84,1.0)     \n",
       " Pair{Any,Any}(50,1.0)     \n",
       " Pair{Any,Any}(80,1.0)     \n",
       " Pair{Any,Any}(227,1.0)    \n",
       " Pair{Any,Any}(79,1.0)     \n",
       " Pair{Any,Any}(204,1.0)    \n",
       " Pair{Any,Any}(62,1.0)     \n",
       " Pair{Any,Any}(107,1.0)    \n",
       " ⋮                         \n",
       " Pair{Any,Any}(121,1.07488)\n",
       " Pair{Any,Any}(132,1.07767)\n",
       " Pair{Any,Any}(92,1.13013) \n",
       " Pair{Any,Any}(97,1.20026) \n",
       " Pair{Any,Any}(231,1.2401) \n",
       " Pair{Any,Any}(225,1.37684)\n",
       " Pair{Any,Any}(102,1.44991)\n",
       " Pair{Any,Any}(8,1.60466)  \n",
       " Pair{Any,Any}(7,1.716)    \n",
       " Pair{Any,Any}(98,1.73843) \n",
       " Pair{Any,Any}(125,1.79347)\n",
       " Pair{Any,Any}(127,3.75958)"
      ]
     },
     "execution_count": 40,
     "metadata": {},
     "output_type": "execute_result"
    }
   ],
   "source": [
    "day = 18\n",
    "\n",
    "link_congestion_metric_dict_Apr_PM_social_day = Dict()\n",
    "for link = 1:numLinks\n",
    "    link_congestion_metric_dict_Apr_PM_social_day[link] = \n",
    "    link_congestion_metric_dict_Apr_PM_social[(day, link)]\n",
    "end\n",
    "sort(collect(link_congestion_metric_dict_Apr_PM_social_day), by=x->x[2])"
   ]
  },
  {
   "cell_type": "code",
   "execution_count": 41,
   "metadata": {
    "collapsed": false
   },
   "outputs": [
    {
     "data": {
      "image/png": "[encoded data removed]",
      "text/plain": [
       "PyPlot.Figure(PyObject <matplotlib.figure.Figure object at 0x7f4cbef60c50>)"
      ]
     },
     "metadata": {},
     "output_type": "display_data"
    }
   ],
   "source": [
    "day = 18\n",
    "\n",
    "fig = figure(figsize=(7,2))\n",
    "\n",
    "link = 1:numLinks\n",
    "\n",
    "link_congestion_metric_vec_Apr_PM_user = [link_congestion_metric_dict_Apr_PM_user[(day, link_idx)] \n",
    "    for link_idx in link]\n",
    "link_congestion_metric_vec_Apr_PM_social = [link_congestion_metric_dict_Apr_PM_social[(day, link_idx)] \n",
    "    for link_idx in link]\n",
    "\n",
    "plot(link, link_congestion_metric_vec_Apr_PM_user, \"o-r\", linewidth=2, label=\"user-centric\")\n",
    "plot(link, link_congestion_metric_vec_Apr_PM_social, \"s-b\", linewidth=2, label=\"system-centric\")\n",
    "\n",
    "# legend(loc=0, fancybox=\"true\", bbox_to_anchor=(0.1, 0)) \n",
    "legend(loc=0, fancybox=\"True\", numpoints=1, frameon=false)   \n",
    "\n",
    "# grid(\"on\")\n",
    "\n",
    "xlim(-2, 260)\n",
    "xticks(1:19:260)\n",
    "ylim(0, maximum([maximum(link_congestion_metric_vec_Apr_PM_user), \n",
    "    maximum(link_congestion_metric_vec_Apr_PM_social)])+1)\n",
    "yticks(1:10)\n",
    "\n",
    "font1 = Dict(\"family\"=>\"serif\", \"color\"=>\"k\", \"weight\"=>\"normal\", \"size\"=>12)\n",
    "\n",
    "xlabel(\"link index\", fontdict=font1)\n",
    "ylabel(\"Congestion Metric\", fontdict=font1)\n",
    "\n",
    "savefig(\"./results/Link_congestion_metric_Apr_$(day)_journal.pdf\")\n",
    "\n",
    "savefig(dire * \"Link_congestion_metric_Apr_$(day)_journal.pdf\", dpi=300, bbox_inches=\"tight\")"
   ]
  },
  {
   "cell_type": "markdown",
   "metadata": {},
   "source": [
    "## Scenario 2: weekends of April 2012, PM period"
   ]
  },
  {
   "cell_type": "code",
   "execution_count": 42,
   "metadata": {
    "collapsed": true
   },
   "outputs": [],
   "source": [
    "# calculate congestion metric for links\n",
    "\n",
    "link_congestion_metric_dict_Apr_weekend_user = Dict();\n",
    "link_congestion_metric_dict_Apr_weekend_social = Dict();\n",
    "\n",
    "weekend_Apr_list = [1, 7, 8, 14, 15, 21, 22, 28, 29]\n",
    "\n",
    "for day in weekend_Apr_list \n",
    "    for link = 1:numLinks\n",
    "        # user-centric policy\n",
    "        link_congestion_metric_dict_Apr_weekend_user[(day, link)] = congMetric(fcoeffs_Apr_weekend, \n",
    "        capacity_Apr_weekend[link], flow_observ[:, day][link])\n",
    "\n",
    "        # system-centric policy\n",
    "        link_congestion_metric_dict_Apr_weekend_social[(day, link)] = congMetric(fcoeffs_Apr_weekend, \n",
    "        capacity_Apr_weekend[link], tapSocialFlowVecDictApr[\"$(day)\"][link])\n",
    "    end\n",
    "end"
   ]
  },
  {
   "cell_type": "code",
   "execution_count": 43,
   "metadata": {
    "collapsed": false
   },
   "outputs": [
    {
     "name": "stdout",
     "output_type": "stream",
     "text": [
      "[1.00195,1.00072]\n",
      "[1.00121,1.00053]\n",
      "[1.00175,1.00057]\n",
      "[1.00234,1.00063]\n",
      "[1.00061,1.0]\n",
      "[1.00017,1.0]\n",
      "[1.00066,1.01628]\n",
      "[1.00066,1.02049]\n",
      "[1.0015,1.00215]\n",
      "[1.00072,1.00139]\n",
      "[1.00009,1.00042]\n",
      "[1.0019,1.0]\n",
      "[1.00097,1.0]\n",
      "[1.00352,1.0]\n",
      "[1.00122,1.00001]\n",
      "[1.00093,1.00002]\n",
      "[1.00193,1.00003]\n",
      "[1.00116,1.00002]\n",
      "[1.0,1.0]\n",
      "[1.0029,1.0]\n",
      "[1.00109,1.0023]\n",
      "[1.00074,1.0018]\n",
      "[1.00136,1.00064]\n",
      "[1.00055,1.00053]\n",
      "[1.00046,1.0]\n",
      "[1.00162,1.0]\n",
      "[1.00098,1.00012]\n",
      "[1.0,1.00003]\n",
      "[1.0022,1.00001]\n",
      "[1.00247,1.00006]\n",
      "[1.0007,1.00102]\n",
      "[1.00099,1.00094]\n",
      "[1.00207,1.00065]\n",
      "[1.00158,1.00068]\n",
      "[1.00016,1.00029]\n",
      "[1.00016,1.0002]\n",
      "[1.00198,1.00022]\n",
      "[1.0,1.00024]\n",
      "[1.00143,1.00065]\n",
      "[1.00058,1.0007]\n",
      "[1.00069,1.00041]\n",
      "[1.0027,1.00063]\n",
      "[1.00059,1.00023]\n",
      "[1.00066,1.00043]\n",
      "[1.00287,1.0]\n",
      "[1.00019,1.0]\n",
      "[1.00081,1.00002]\n",
      "[1.00136,1.00085]\n",
      "[1.00069,1.00003]\n",
      "[1.0004,1.00001]\n",
      "[1.00024,1.0]\n",
      "[1.00058,1.00014]\n",
      "[1.00051,1.00003]\n",
      "[1.00056,1.00098]\n",
      "[1.00069,1.00011]\n",
      "[1.00028,1.00001]\n",
      "[1.00061,1.00012]\n",
      "[1.00071,1.00008]\n",
      "[1.00117,1.00322]\n",
      "[1.00037,1.00086]\n",
      "[1.00054,1.0]\n",
      "[1.00008,1.0]\n",
      "[1.0003,1.00011]\n",
      "[1.00062,1.00013]\n",
      "[1.00065,1.00009]\n",
      "[1.00129,1.00012]\n",
      "[1.00024,1.0]\n",
      "[1.0011,1.0]\n",
      "[1.0,1.00034]\n",
      "[1.00072,1.00036]\n",
      "[1.00152,1.00033]\n",
      "[1.00108,1.00047]\n",
      "[1.00056,1.00079]\n",
      "[1.00061,1.00122]\n",
      "[1.00138,1.00136]\n",
      "[1.00093,1.00314]\n",
      "[1.00048,1.0008]\n",
      "[1.00109,1.00109]\n",
      "[1.00071,1.0]\n",
      "[1.00118,1.0]\n",
      "[1.00021,1.0]\n",
      "[1.00206,1.00001]\n",
      "[1.0011,1.0]\n",
      "[1.0,1.0]\n",
      "[1.00011,1.00274]\n",
      "[1.0,1.00097]\n",
      "[1.00095,1.0]\n",
      "[1.00053,1.0]\n",
      "[1.00002,1.00087]\n",
      "[1.00041,1.00053]\n",
      "[1.00024,1.0]\n",
      "[1.00066,1.0]\n",
      "[1.00074,1.00001]\n",
      "[1.0004,1.00002]\n",
      "[1.00076,1.00029]\n",
      "[1.00187,1.00021]\n",
      "[1.00082,1.00186]\n",
      "[1.00048,1.00059]\n",
      "[1.0015,1.0]\n",
      "[1.00084,1.0]\n",
      "[1.00081,1.00002]\n",
      "[1.00014,1.00005]\n",
      "[1.00066,1.00031]\n",
      "[1.00168,1.00018]\n",
      "[1.00067,1.00001]\n",
      "[1.0,1.0]\n",
      "[1.00014,1.0]\n",
      "[1.00014,1.0]\n",
      "[1.00061,1.0]\n",
      "[1.00096,1.0]\n",
      "[1.00035,1.00043]\n",
      "[1.00075,1.00024]\n",
      "[1.00017,1.00216]\n",
      "[1.0,1.00029]\n",
      "[1.0008,1.0]\n",
      "[1.00078,1.0]\n",
      "[1.00149,1.0006]\n",
      "[1.00109,1.00201]\n",
      "[1.0016,1.00016]\n",
      "[1.0016,1.00041]\n",
      "[1.00113,1.00061]\n",
      "[1.00103,1.00235]\n",
      "[1.00063,1.0]\n",
      "[1.00033,1.0]\n",
      "[1.00042,1.0]\n",
      "[1.00003,1.0]\n",
      "[1.00171,1.00381]\n",
      "[1.00092,1.00575]\n",
      "[1.00037,1.002]\n",
      "[1.00035,1.001]\n",
      "[1.00113,1.00098]\n",
      "[1.00089,1.00061]\n",
      "[1.00129,1.00049]\n",
      "[1.00094,1.00167]\n",
      "[1.0008,1.0]\n",
      "[1.00083,1.0]\n",
      "[1.00101,1.00105]\n",
      "[1.00073,1.00085]\n",
      "[1.00121,1.00002]\n",
      "[1.00209,1.00001]\n",
      "[1.00183,1.0]\n",
      "[1.0004,1.0]\n",
      "[1.00103,1.00234]\n",
      "[1.0012,1.00097]\n",
      "[1.00056,1.00139]\n",
      "[1.00039,1.00691]\n",
      "[1.00155,1.00031]\n",
      "[1.0017,1.00466]\n",
      "[1.0,1.0]\n",
      "[1.00118,1.0]\n",
      "[1.0,1.00026]\n",
      "[1.00012,1.0013]\n",
      "[1.00102,1.00025]\n",
      "[1.00093,1.00176]\n",
      "[1.00034,1.00028]\n",
      "[1.00065,1.00087]\n",
      "[1.00121,1.00055]\n",
      "[1.00056,1.00056]\n",
      "[1.00021,1.00032]\n",
      "[1.00053,1.00127]\n",
      "[1.00092,1.0]\n",
      "[1.00022,1.0]\n",
      "[1.00046,1.0]\n",
      "[1.00088,1.0]\n",
      "[1.00203,1.00019]\n",
      "[1.00047,1.00039]\n",
      "[1.00066,1.00047]\n",
      "[1.0013,1.00054]\n",
      "[1.00139,1.00093]\n",
      "[1.00081,1.00424]\n",
      "[1.00173,1.0]\n",
      "[1.0009,1.0]\n",
      "[1.00114,1.00106]\n",
      "[1.00108,1.00061]\n",
      "[1.00111,1.0]\n",
      "[1.00106,1.0]\n",
      "[1.00057,1.00047]\n",
      "[1.00144,1.00073]\n",
      "[1.00163,1.0]\n",
      "[1.00121,1.0]\n",
      "[1.00095,1.00077]\n",
      "[1.00172,1.00068]\n",
      "[1.00097,1.00068]\n",
      "[1.00151,1.00078]\n",
      "[1.00004,1.0]\n",
      "[1.00146,1.0]\n",
      "[1.00133,1.00075]\n",
      "[1.00218,1.00088]\n",
      "[1.00065,1.00106]\n",
      "[1.00049,1.00103]\n",
      "[1.00152,1.0]\n",
      "[1.00083,1.0]\n",
      "[1.00116,1.00083]\n",
      "[1.0012,1.00095]\n",
      "[1.00152,1.00084]\n",
      "[1.00111,1.00086]\n",
      "[1.00108,1.00057]\n",
      "[1.00023,1.00035]\n",
      "[1.00116,1.00038]\n",
      "[1.00165,1.00073]\n",
      "[1.001,1.00074]\n",
      "[1.00121,1.00056]\n",
      "[1.00052,1.00004]\n",
      "[1.00035,1.00007]\n",
      "[1.00152,1.00134]\n",
      "[1.00204,1.00074]\n",
      "[1.0,1.0]\n",
      "[1.0001,1.0]\n",
      "[1.00169,1.00143]\n",
      "[1.00137,1.00079]\n",
      "[1.00116,1.00103]\n",
      "[1.00139,1.00024]\n",
      "[1.00139,1.00017]\n",
      "[1.00105,1.00002]\n",
      "[1.00006,1.00007]\n",
      "[1.00006,1.00002]\n",
      "[1.00051,1.00002]\n",
      "[1.00051,1.00002]\n",
      "[1.00081,1.00062]\n",
      "[1.00033,1.00037]\n",
      "[1.00003,1.00029]\n",
      "[1.00037,1.0003]\n",
      "[1.00119,1.00096]\n",
      "[1.00074,1.00222]\n",
      "[1.00095,1.00148]\n",
      "[1.00087,1.00224]\n",
      "[1.00007,1.0]\n",
      "[1.00019,1.0]\n",
      "[1.00038,1.00026]\n",
      "[1.00038,1.00039]\n",
      "[1.00086,1.00015]\n",
      "[1.00045,1.00117]\n",
      "[1.00026,1.0]\n",
      "[1.0006,1.0]\n",
      "[1.00122,1.00067]\n",
      "[1.00088,1.00032]\n",
      "[1.00062,1.00123]\n",
      "[1.00103,1.00056]\n",
      "[1.00059,1.0]\n",
      "[1.0002,1.0]\n",
      "[1.00029,1.00001]\n",
      "[1.00016,1.00002]\n",
      "[1.00126,1.0008]\n",
      "[1.00126,1.00003]\n",
      "[1.00212,1.00009]\n",
      "[1.00146,1.00014]\n",
      "[1.00087,1.00004]\n",
      "[1.00087,1.00003]\n",
      "[1.00122,1.00003]\n",
      "[1.00122,1.00005]\n",
      "[1.00095,1.00002]\n",
      "[1.00095,1.00003]\n",
      "[1.00055,1.00004]\n",
      "[1.00031,1.00014]\n",
      "[1.00104,1.00002]\n",
      "[1.00117,1.00003]\n",
      "[1.00026,1.00958]\n",
      "[1.00054,1.00118]\n"
     ]
    }
   ],
   "source": [
    "day = 15\n",
    "\n",
    "for link = 1:numLinks\n",
    "    println([link_congestion_metric_dict_Apr_weekend_user[(day, link)], \n",
    "        link_congestion_metric_dict_Apr_weekend_social[(day, link)]])\n",
    "end"
   ]
  },
  {
   "cell_type": "code",
   "execution_count": 44,
   "metadata": {
    "collapsed": false
   },
   "outputs": [
    {
     "data": {
      "text/plain": [
       "258-element Array{Pair{Any,Any},1}:\n",
       " Pair{Any,Any}(207,1.0)    \n",
       " Pair{Any,Any}(114,1.0)    \n",
       " Pair{Any,Any}(84,1.0)     \n",
       " Pair{Any,Any}(38,1.0)     \n",
       " Pair{Any,Any}(19,1.0)     \n",
       " Pair{Any,Any}(151,1.0)    \n",
       " Pair{Any,Any}(106,1.0)    \n",
       " Pair{Any,Any}(28,1.0)     \n",
       " Pair{Any,Any}(69,1.0)     \n",
       " Pair{Any,Any}(86,1.0)     \n",
       " Pair{Any,Any}(149,1.0)    \n",
       " Pair{Any,Any}(89,1.00002) \n",
       " Pair{Any,Any}(126,1.00003)\n",
       " ⋮                         \n",
       " Pair{Any,Any}(82,1.00206) \n",
       " Pair{Any,Any}(33,1.00207) \n",
       " Pair{Any,Any}(140,1.00209)\n",
       " Pair{Any,Any}(245,1.00212)\n",
       " Pair{Any,Any}(188,1.00218)\n",
       " Pair{Any,Any}(29,1.0022)  \n",
       " Pair{Any,Any}(4,1.00234)  \n",
       " Pair{Any,Any}(30,1.00247) \n",
       " Pair{Any,Any}(42,1.0027)  \n",
       " Pair{Any,Any}(45,1.00287) \n",
       " Pair{Any,Any}(20,1.0029)  \n",
       " Pair{Any,Any}(14,1.00352) "
      ]
     },
     "execution_count": 44,
     "metadata": {},
     "output_type": "execute_result"
    }
   ],
   "source": [
    "day = 15\n",
    "\n",
    "link_congestion_metric_dict_Apr_weekend_user_day = Dict()\n",
    "for link = 1:numLinks\n",
    "    link_congestion_metric_dict_Apr_weekend_user_day[link] = \n",
    "    link_congestion_metric_dict_Apr_weekend_user[(day, link)]\n",
    "end\n",
    "sort(collect(link_congestion_metric_dict_Apr_weekend_user_day), by=x->x[2])"
   ]
  },
  {
   "cell_type": "code",
   "execution_count": 45,
   "metadata": {
    "collapsed": false
   },
   "outputs": [
    {
     "data": {
      "text/plain": [
       "258-element Array{Pair{Any,Any},1}:\n",
       " Pair{Any,Any}(176,1.0)    \n",
       " Pair{Any,Any}(84,1.0)     \n",
       " Pair{Any,Any}(80,1.0)     \n",
       " Pair{Any,Any}(79,1.0)     \n",
       " Pair{Any,Any}(62,1.0)     \n",
       " Pair{Any,Any}(180,1.0)    \n",
       " Pair{Any,Any}(162,1.0)    \n",
       " Pair{Any,Any}(88,1.0)     \n",
       " Pair{Any,Any}(149,1.0)    \n",
       " Pair{Any,Any}(5,1.0)      \n",
       " Pair{Any,Any}(150,1.0)    \n",
       " Pair{Any,Any}(14,1.0)     \n",
       " Pair{Any,Any}(175,1.0)    \n",
       " ⋮                         \n",
       " Pair{Any,Any}(122,1.00235)\n",
       " Pair{Any,Any}(85,1.00274) \n",
       " Pair{Any,Any}(76,1.00314) \n",
       " Pair{Any,Any}(59,1.00322) \n",
       " Pair{Any,Any}(127,1.00381)\n",
       " Pair{Any,Any}(170,1.00424)\n",
       " Pair{Any,Any}(148,1.00466)\n",
       " Pair{Any,Any}(128,1.00575)\n",
       " Pair{Any,Any}(146,1.00691)\n",
       " Pair{Any,Any}(257,1.00958)\n",
       " Pair{Any,Any}(7,1.01628)  \n",
       " Pair{Any,Any}(8,1.02049)  "
      ]
     },
     "execution_count": 45,
     "metadata": {},
     "output_type": "execute_result"
    }
   ],
   "source": [
    "day = 15\n",
    "\n",
    "link_congestion_metric_dict_Apr_weekend_social_day = Dict()\n",
    "for link = 1:numLinks\n",
    "    link_congestion_metric_dict_Apr_weekend_social_day[link] = \n",
    "    link_congestion_metric_dict_Apr_weekend_social[(day, link)]\n",
    "end\n",
    "sort(collect(link_congestion_metric_dict_Apr_weekend_social_day), by=x->x[2])"
   ]
  },
  {
   "cell_type": "code",
   "execution_count": 46,
   "metadata": {
    "collapsed": false
   },
   "outputs": [
    {
     "data": {
      "image/png": "[encoded data removed]",
      "text/plain": [
       "PyPlot.Figure(PyObject <matplotlib.figure.Figure object at 0x7f4cbef60fd0>)"
      ]
     },
     "metadata": {},
     "output_type": "display_data"
    }
   ],
   "source": [
    "day = 15\n",
    "\n",
    "fig = figure(figsize=(10,5))\n",
    "\n",
    "link = 1:numLinks\n",
    "\n",
    "link_congestion_metric_vec_Apr_weekend_user = [link_congestion_metric_dict_Apr_weekend_user[(day, link_idx)] \n",
    "    for link_idx in link]\n",
    "link_congestion_metric_vec_Apr_weekend_social = [link_congestion_metric_dict_Apr_weekend_social[(day, link_idx)] \n",
    "    for link_idx in link]\n",
    "\n",
    "plot(link, link_congestion_metric_vec_Apr_weekend_user, \"s-g\", linewidth=2, label=\"User-centric\")\n",
    "plot(link, link_congestion_metric_vec_Apr_weekend_social, \"o-b\", linewidth=2, label=\"System-centric\")\n",
    "\n",
    "# legend(loc=0, fancybox=\"true\", bbox_to_anchor=(0.1, 0)) \n",
    "legend(loc=0, fancybox=\"true\") \n",
    "\n",
    "grid(\"on\")\n",
    "\n",
    "xlim(-2, 260)\n",
    "xticks(1:19:260)\n",
    "ylim(0, maximum([maximum(link_congestion_metric_vec_Apr_weekend_user), \n",
    "    maximum(link_congestion_metric_vec_Apr_weekend_social)])+10)\n",
    "yticks(1:10)\n",
    "\n",
    "font1 = Dict(\"family\"=>\"serif\", \"color\"=>\"darkred\", \"weight\"=>\"normal\", \"size\"=>12)\n",
    "\n",
    "xlabel(\"Link indices\", fontdict=font1)\n",
    "ylabel(\"Congestion metric (PM period of 4/$(day)/2012)\", fontdict=font1)\n",
    "\n",
    "savefig(\"./results/Link_congestion_metric_Apr_$(day)_journal.pdf\")"
   ]
  }
 ],
 "metadata": {
  "anaconda-cloud": {},
  "kernelspec": {
   "display_name": "Julia 0.5.0",
   "language": "julia",
   "name": "julia-0.5"
  },
  "language_info": {
   "file_extension": ".jl",
   "mimetype": "application/julia",
   "name": "julia",
   "version": "0.5.0"
  }
 },
 "nbformat": 4,
 "nbformat_minor": 0
}
