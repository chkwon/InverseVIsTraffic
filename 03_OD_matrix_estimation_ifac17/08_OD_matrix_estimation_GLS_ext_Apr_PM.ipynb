{
 "cells": [
  {
   "cell_type": "code",
   "execution_count": 1,
   "metadata": {
    "collapsed": true
   },
   "outputs": [],
   "source": [
    "%run ../Python_files/load_dicts.py\n",
    "%run ../Python_files/util.py"
   ]
  },
  {
   "cell_type": "code",
   "execution_count": 2,
   "metadata": {
    "collapsed": true
   },
   "outputs": [],
   "source": [
    "import numpy as np\n",
    "import json"
   ]
  },
  {
   "cell_type": "code",
   "execution_count": 3,
   "metadata": {
    "collapsed": true
   },
   "outputs": [],
   "source": [
    "n = 22  # number of nodes\n",
    "m = 74  # number of links"
   ]
  },
  {
   "cell_type": "code",
   "execution_count": 4,
   "metadata": {
    "collapsed": true
   },
   "outputs": [],
   "source": [
    "OD_pair_label_dict = zload('../temp_files/OD_pair_label_dict_ext.pkz')"
   ]
  },
  {
   "cell_type": "code",
   "execution_count": 5,
   "metadata": {},
   "outputs": [
    {
     "data": {
      "text/plain": [
       "462"
      ]
     },
     "execution_count": 5,
     "metadata": {},
     "output_type": "execute_result"
    }
   ],
   "source": [
    "len(OD_pair_label_dict)"
   ]
  },
  {
   "cell_type": "code",
   "execution_count": 6,
   "metadata": {
    "collapsed": true
   },
   "outputs": [],
   "source": [
    "L = 22 * (22 - 1)  # dimension of lam"
   ]
  },
  {
   "cell_type": "code",
   "execution_count": 7,
   "metadata": {},
   "outputs": [],
   "source": [
    "# od pair correspondence\n",
    "OD_pair_label_dict_MA_small = zload('../temp_files/OD_pair_label_dict__MA.pkz')"
   ]
  },
  {
   "cell_type": "code",
   "execution_count": 8,
   "metadata": {
    "collapsed": true
   },
   "outputs": [],
   "source": [
    "# create a dictionary mapping nodes of small network to nodes of bigger network\n",
    "nodeToNode = {}\n",
    "\n",
    "nodeList = range(9)[1:]\n",
    "nodeListExt = [1, 4, 7, 12, 13, 14, 16, 17]\n",
    "for i in nodeList:\n",
    "    nodeToNode[str(i)] = nodeListExt[i-1]\n",
    "# nodeToNode['1'] = 1\n",
    "# nodeToNode['2']"
   ]
  },
  {
   "cell_type": "code",
   "execution_count": 9,
   "metadata": {},
   "outputs": [
    {
     "data": {
      "text/plain": [
       "{'1': 1, '2': 4, '3': 7, '4': 12, '5': 13, '6': 14, '7': 16, '8': 17}"
      ]
     },
     "execution_count": 9,
     "metadata": {},
     "output_type": "execute_result"
    }
   ],
   "source": [
    "nodeToNode"
   ]
  },
  {
   "cell_type": "code",
   "execution_count": 10,
   "metadata": {},
   "outputs": [],
   "source": [
    "odMap = {}\n",
    "for i in range(len(OD_pair_label_dict_MA_small)):\n",
    "    key = str(i)\n",
    "    origiSmall = OD_pair_label_dict_MA_small[key][0]\n",
    "    destiSmall = OD_pair_label_dict_MA_small[key][1]\n",
    "    origiExt = nodeToNode[str(origiSmall)]\n",
    "    destiExt = nodeToNode[str(destiSmall)]\n",
    "    odMap[key] = (origiExt, destiExt)"
   ]
  },
  {
   "cell_type": "code",
   "execution_count": 11,
   "metadata": {},
   "outputs": [
    {
     "data": {
      "text/plain": [
       "{'0': (1, 4),\n",
       " '1': (1, 7),\n",
       " '10': (4, 13),\n",
       " '11': (4, 14),\n",
       " '12': (4, 16),\n",
       " '13': (4, 17),\n",
       " '14': (7, 1),\n",
       " '15': (7, 4),\n",
       " '16': (7, 12),\n",
       " '17': (7, 13),\n",
       " '18': (7, 14),\n",
       " '19': (7, 16),\n",
       " '2': (1, 12),\n",
       " '20': (7, 17),\n",
       " '21': (12, 1),\n",
       " '22': (12, 4),\n",
       " '23': (12, 7),\n",
       " '24': (12, 13),\n",
       " '25': (12, 14),\n",
       " '26': (12, 16),\n",
       " '27': (12, 17),\n",
       " '28': (13, 1),\n",
       " '29': (13, 4),\n",
       " '3': (1, 13),\n",
       " '30': (13, 7),\n",
       " '31': (13, 12),\n",
       " '32': (13, 14),\n",
       " '33': (13, 16),\n",
       " '34': (13, 17),\n",
       " '35': (14, 1),\n",
       " '36': (14, 4),\n",
       " '37': (14, 7),\n",
       " '38': (14, 12),\n",
       " '39': (14, 13),\n",
       " '4': (1, 14),\n",
       " '40': (14, 16),\n",
       " '41': (14, 17),\n",
       " '42': (16, 1),\n",
       " '43': (16, 4),\n",
       " '44': (16, 7),\n",
       " '45': (16, 12),\n",
       " '46': (16, 13),\n",
       " '47': (16, 14),\n",
       " '48': (16, 17),\n",
       " '49': (17, 1),\n",
       " '5': (1, 16),\n",
       " '50': (17, 4),\n",
       " '51': (17, 7),\n",
       " '52': (17, 12),\n",
       " '53': (17, 13),\n",
       " '54': (17, 14),\n",
       " '55': (17, 16),\n",
       " '6': (1, 17),\n",
       " '7': (4, 1),\n",
       " '8': (4, 7),\n",
       " '9': (4, 12)}"
      ]
     },
     "execution_count": 11,
     "metadata": {},
     "output_type": "execute_result"
    }
   ],
   "source": [
    "odMap"
   ]
  },
  {
   "cell_type": "code",
   "execution_count": 12,
   "metadata": {},
   "outputs": [],
   "source": [
    "odIdxExt = []  # OD pair idx in the extended network corresponding to the OD pairs in smaller network\n",
    "\n",
    "for i in range(len(odMap)):\n",
    "    odIdxExt.append(OD_pair_label_dict[str(odMap[str(i)])])"
   ]
  },
  {
   "cell_type": "code",
   "execution_count": 13,
   "metadata": {},
   "outputs": [],
   "source": [
    "with open('../temp_files/OD_demand_matrix_Apr_weekday_PM.json', 'r') as json_file:\n",
    "    demandsSmall = json.load(json_file)"
   ]
  },
  {
   "cell_type": "code",
   "execution_count": 14,
   "metadata": {},
   "outputs": [
    {
     "data": {
      "text/plain": [
       "{u'0': 498.6325689232251,\n",
       " u'1': 746.1799634365454,\n",
       " u'10': 371.6341044012761,\n",
       " u'11': 220.88155472938797,\n",
       " u'12': 434.90946249188835,\n",
       " u'13': 230.11043381378443,\n",
       " u'14': 507.8249279755866,\n",
       " u'15': 122.78696962536746,\n",
       " u'16': 946.4853591578842,\n",
       " u'17': 1984.6018032405,\n",
       " u'18': 1135.6145585525367,\n",
       " u'19': 1594.7262641953555,\n",
       " u'2': 879.9418939238959,\n",
       " u'20': 329.2955047315972,\n",
       " u'21': 708.962274341591,\n",
       " u'22': 1482.5941935980873,\n",
       " u'23': 668.628214533274,\n",
       " u'24': 286.7981907832389,\n",
       " u'25': 252.15334965338556,\n",
       " u'26': 482.8656508209289,\n",
       " u'27': 1130.3332517636736,\n",
       " u'28': 580.3783672222255,\n",
       " u'29': 228.27056239447327,\n",
       " u'3': 782.4747336758378,\n",
       " u'30': 1309.657346635759,\n",
       " u'31': 706.5917121268806,\n",
       " u'32': 666.4657820850927,\n",
       " u'33': 277.64065399297135,\n",
       " u'34': 92.305175145363,\n",
       " u'35': 479.0769607780858,\n",
       " u'36': 121.34752003775527,\n",
       " u'37': 456.7750712907934,\n",
       " u'38': 280.7312968523298,\n",
       " u'39': 478.9776250801549,\n",
       " u'4': 710.7561158687324,\n",
       " u'40': 2439.984814673065,\n",
       " u'41': 281.85985760447454,\n",
       " u'42': 556.6187412149068,\n",
       " u'43': 359.2605976271197,\n",
       " u'44': 1071.6184232188075,\n",
       " u'45': 829.4566131137072,\n",
       " u'46': 916.0518241952317,\n",
       " u'47': 3091.2938018939817,\n",
       " u'48': 166.86101353917695,\n",
       " u'49': 424.74032336540046,\n",
       " u'5': 473.32869742865194,\n",
       " u'50': 250.7920485516237,\n",
       " u'51': 478.8437504964987,\n",
       " u'52': 1348.0563376831242,\n",
       " u'53': 216.49248469814026,\n",
       " u'54': 512.2651646046814,\n",
       " u'55': 318.66417084049726,\n",
       " u'6': 261.2508564682477,\n",
       " u'7': 596.6646210606464,\n",
       " u'8': 252.18086204833406,\n",
       " u'9': 1855.3935354078485}"
      ]
     },
     "execution_count": 14,
     "metadata": {},
     "output_type": "execute_result"
    }
   ],
   "source": [
    "demandsSmall"
   ]
  },
  {
   "cell_type": "code",
   "execution_count": 15,
   "metadata": {},
   "outputs": [
    {
     "data": {
      "text/plain": [
       "38889.08795761364"
      ]
     },
     "execution_count": 15,
     "metadata": {},
     "output_type": "execute_result"
    }
   ],
   "source": [
    "sum([demandsSmall[key] for key in demandsSmall.keys()])"
   ]
  },
  {
   "cell_type": "code",
   "execution_count": 16,
   "metadata": {},
   "outputs": [],
   "source": [
    "lam = []\n",
    "\n",
    "for l in range(L):\n",
    "    lam.append(0)\n",
    "\n",
    "for j in range(len(odMap)):\n",
    "    lam[odIdxExt[j]] = demandsSmall[str(j)] \n",
    "\n",
    "# write estimation result to file\n",
    "n = 22  # number of nodes\n",
    "with open('../temp_files/OD_demand_matrix_Apr_weekday_PM_ext.txt', 'w') as the_file:\n",
    "    idx = 0\n",
    "    for i in range(n + 1)[1:]:\n",
    "        for j in range(n + 1)[1:]:\n",
    "            if i != j: \n",
    "                the_file.write(\"%d,%d,%f\\n\" %(i, j, lam[idx]))\n",
    "                idx += 1"
   ]
  },
  {
   "cell_type": "code",
   "execution_count": null,
   "metadata": {
    "collapsed": true
   },
   "outputs": [],
   "source": []
  }
 ],
 "metadata": {
  "kernelspec": {
   "display_name": "Python 2",
   "language": "python",
   "name": "python2"
  },
  "language_info": {
   "codemirror_mode": {
    "name": "ipython",
    "version": 2
   },
   "file_extension": ".py",
   "mimetype": "text/x-python",
   "name": "python",
   "nbconvert_exporter": "python",
   "pygments_lexer": "ipython2",
   "version": "2.7.13"
  }
 },
 "nbformat": 4,
 "nbformat_minor": 1
}
