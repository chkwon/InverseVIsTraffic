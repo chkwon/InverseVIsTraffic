{
 "cells": [
  {
   "cell_type": "code",
   "execution_count": 1,
   "metadata": {
    "collapsed": false
   },
   "outputs": [],
   "source": [
    "%run ../Python_files/util_data_storage_and_load.py"
   ]
  },
  {
   "cell_type": "code",
   "execution_count": 2,
   "metadata": {
    "collapsed": false
   },
   "outputs": [
    {
     "ename": "ImportError",
     "evalue": "No module named gurobipy",
     "output_type": "error",
     "traceback": [
      "\u001b[0;31m---------------------------------------------------------------------------\u001b[0m",
      "\u001b[0;31mImportError\u001b[0m                               Traceback (most recent call last)",
      "\u001b[0;32m/home/jzh/Research/Traffic/InverseVIsTraffic/Python_files/util.py\u001b[0m in \u001b[0;36m<module>\u001b[0;34m()\u001b[0m\n\u001b[1;32m      3\u001b[0m \u001b[0;32mfrom\u001b[0m \u001b[0mnumpy\u001b[0m\u001b[0;34m.\u001b[0m\u001b[0mlinalg\u001b[0m \u001b[0;32mimport\u001b[0m \u001b[0minv\u001b[0m\u001b[0;34m,\u001b[0m \u001b[0mmatrix_rank\u001b[0m\u001b[0;34m\u001b[0m\u001b[0m\n\u001b[1;32m      4\u001b[0m \u001b[0;32mfrom\u001b[0m \u001b[0mnumpy\u001b[0m \u001b[0;32mimport\u001b[0m \u001b[0mlinalg\u001b[0m \u001b[0;32mas\u001b[0m \u001b[0mLA\u001b[0m\u001b[0;34m\u001b[0m\u001b[0m\n\u001b[0;32m----> 5\u001b[0;31m \u001b[0;32mfrom\u001b[0m \u001b[0mgurobipy\u001b[0m \u001b[0;32mimport\u001b[0m \u001b[0;34m*\u001b[0m\u001b[0;34m\u001b[0m\u001b[0m\n\u001b[0m\u001b[1;32m      6\u001b[0m \u001b[0;32mimport\u001b[0m \u001b[0mjson\u001b[0m\u001b[0;34m\u001b[0m\u001b[0m\n\u001b[1;32m      7\u001b[0m \u001b[0;32mimport\u001b[0m \u001b[0mscipy\u001b[0m\u001b[0;34m.\u001b[0m\u001b[0mmisc\u001b[0m \u001b[0;32mas\u001b[0m \u001b[0msc\u001b[0m\u001b[0;34m\u001b[0m\u001b[0m\n",
      "\u001b[0;31mImportError\u001b[0m: No module named gurobipy"
     ]
    }
   ],
   "source": [
    "%run ../Python_files/util.py"
   ]
  },
  {
   "cell_type": "code",
   "execution_count": 3,
   "metadata": {
    "collapsed": true
   },
   "outputs": [],
   "source": [
    "import json"
   ]
  },
  {
   "cell_type": "code",
   "execution_count": 4,
   "metadata": {
    "collapsed": true
   },
   "outputs": [],
   "source": [
    "with open('../temp_files/link_day_minute_Apr_dict_journal_JSON_adjusted.json', 'r') as json_file:\n",
    "    link_day_minute_Apr_dict_JSON_ = json.load(json_file)"
   ]
  },
  {
   "cell_type": "code",
   "execution_count": 5,
   "metadata": {
    "collapsed": false
   },
   "outputs": [
    {
     "data": {
      "text/plain": [
       "7388.626963806585"
      ]
     },
     "execution_count": 5,
     "metadata": {},
     "output_type": "execute_result"
    }
   ],
   "source": [
    "link_day_minute_Apr_dict_JSON_['link_3_12'] ['AM_capac']"
   ]
  },
  {
   "cell_type": "code",
   "execution_count": 6,
   "metadata": {
    "collapsed": false
   },
   "outputs": [
    {
     "data": {
      "text/plain": [
       "0.21890180842591847"
      ]
     },
     "execution_count": 6,
     "metadata": {},
     "output_type": "execute_result"
    }
   ],
   "source": [
    "link_day_minute_Apr_dict_JSON_['link_3_9'] ['free_flow_time']"
   ]
  },
  {
   "cell_type": "code",
   "execution_count": 7,
   "metadata": {
    "collapsed": false
   },
   "outputs": [
    {
     "data": {
      "text/plain": [
       "7"
      ]
     },
     "execution_count": 7,
     "metadata": {},
     "output_type": "execute_result"
    }
   ],
   "source": [
    "link_day_minute_Apr_dict_JSON_['link_3_9'] ['init_node']"
   ]
  },
  {
   "cell_type": "code",
   "execution_count": 8,
   "metadata": {
    "collapsed": false
   },
   "outputs": [
    {
     "data": {
      "text/plain": [
       "1"
      ]
     },
     "execution_count": 8,
     "metadata": {},
     "output_type": "execute_result"
    }
   ],
   "source": [
    "link_day_minute_Apr_dict_JSON_['link_3_9'] ['term_node']"
   ]
  },
  {
   "cell_type": "code",
   "execution_count": 9,
   "metadata": {
    "collapsed": false
   },
   "outputs": [],
   "source": [
    "zero_value = 0.0\n",
    "with open(\"../data_tntp/journal_net_Apr_AM.tntp\", \"w\") as text_file:\n",
    "    text_file.write(\"<NUMBER OF ZONES> 74\\n\")\n",
    "    text_file.write(\"<NUMBER OF ZONES> 74\\n\")\n",
    "    text_file.write(\"<FIRST THRU NODE> 1\\n\")\n",
    "    text_file.write(\"<NUMBER OF LINKS> 258\\n\")\n",
    "    text_file.write(\"<NUMBER OF ZONES> 74\\n\")\n",
    "    text_file.write(\"<END OF METADATA>\\n\\n\\n\")\n",
    "    text_file.write(\"~\\tInit node\\tTerm node\\tCapacity\\tLength\\tFree Flow Time\\tB\\tPower\\tSpeed limit\\tToll  Type\\n\")\n",
    "    for idx in range(258):\n",
    "         text_file.write(\"\\t%d\\t%d\\t%f\\t%f\\t%f\\t%f\\t%f\\t%f\\t%f\\t%f\\t;\\n\" \\\n",
    "                         %(link_day_minute_Apr_dict_JSON_['link_' + str(idx) + '_2']['init_node'], \\\n",
    "                           link_day_minute_Apr_dict_JSON_['link_' + str(idx) + '_2']['term_node'], \\\n",
    "                           link_day_minute_Apr_dict_JSON_['link_' + str(idx) + '_2']['AM_capac'], \\\n",
    "                           zero_value, \\\n",
    "                           link_day_minute_Apr_dict_JSON_['link_' + str(idx) + '_2']['free_flow_time'], \\\n",
    "                           zero_value, zero_value, zero_value, zero_value, zero_value))"
   ]
  },
  {
   "cell_type": "code",
   "execution_count": 10,
   "metadata": {
    "collapsed": true
   },
   "outputs": [],
   "source": [
    "zero_value = 0.0\n",
    "with open(\"../data_tntp/journal_net_Apr_MD.tntp\", \"w\") as text_file:\n",
    "    text_file.write(\"<NUMBER OF ZONES> 74\\n\")\n",
    "    text_file.write(\"<NUMBER OF ZONES> 74\\n\")\n",
    "    text_file.write(\"<FIRST THRU NODE> 1\\n\")\n",
    "    text_file.write(\"<NUMBER OF LINKS> 258\\n\")\n",
    "    text_file.write(\"<NUMBER OF ZONES> 74\\n\")\n",
    "    text_file.write(\"<END OF METADATA>\\n\\n\\n\")\n",
    "    text_file.write(\"~\\tInit node\\tTerm node\\tCapacity\\tLength\\tFree Flow Time\\tB\\tPower\\tSpeed limit\\tToll  Type\\n\")\n",
    "    for idx in range(258):\n",
    "         text_file.write(\"\\t%d\\t%d\\t%f\\t%f\\t%f\\t%f\\t%f\\t%f\\t%f\\t%f\\t;\\n\" \\\n",
    "                         %(link_day_minute_Apr_dict_JSON_['link_' + str(idx) + '_2']['init_node'], \\\n",
    "                           link_day_minute_Apr_dict_JSON_['link_' + str(idx) + '_2']['term_node'], \\\n",
    "                           link_day_minute_Apr_dict_JSON_['link_' + str(idx) + '_2']['MD_capac'], \\\n",
    "                           zero_value, \\\n",
    "                           link_day_minute_Apr_dict_JSON_['link_' + str(idx) + '_2']['free_flow_time'], \\\n",
    "                           zero_value, zero_value, zero_value, zero_value, zero_value))"
   ]
  },
  {
   "cell_type": "code",
   "execution_count": 11,
   "metadata": {
    "collapsed": true
   },
   "outputs": [],
   "source": [
    "zero_value = 0.0\n",
    "with open(\"../data_tntp/journal_net_Apr_PM.tntp\", \"w\") as text_file:\n",
    "    text_file.write(\"<NUMBER OF ZONES> 74\\n\")\n",
    "    text_file.write(\"<NUMBER OF ZONES> 74\\n\")\n",
    "    text_file.write(\"<FIRST THRU NODE> 1\\n\")\n",
    "    text_file.write(\"<NUMBER OF LINKS> 258\\n\")\n",
    "    text_file.write(\"<NUMBER OF ZONES> 74\\n\")\n",
    "    text_file.write(\"<END OF METADATA>\\n\\n\\n\")\n",
    "    text_file.write(\"~\\tInit node\\tTerm node\\tCapacity\\tLength\\tFree Flow Time\\tB\\tPower\\tSpeed limit\\tToll  Type\\n\")\n",
    "    for idx in range(258):\n",
    "         text_file.write(\"\\t%d\\t%d\\t%f\\t%f\\t%f\\t%f\\t%f\\t%f\\t%f\\t%f\\t;\\n\" \\\n",
    "                         %(link_day_minute_Apr_dict_JSON_['link_' + str(idx) + '_2']['init_node'], \\\n",
    "                           link_day_minute_Apr_dict_JSON_['link_' + str(idx) + '_2']['term_node'], \\\n",
    "                           link_day_minute_Apr_dict_JSON_['link_' + str(idx) + '_2']['PM_capac'], \\\n",
    "                           zero_value, \\\n",
    "                           link_day_minute_Apr_dict_JSON_['link_' + str(idx) + '_2']['free_flow_time'], \\\n",
    "                           zero_value, zero_value, zero_value, zero_value, zero_value))"
   ]
  },
  {
   "cell_type": "code",
   "execution_count": 12,
   "metadata": {
    "collapsed": true
   },
   "outputs": [],
   "source": [
    "zero_value = 0.0\n",
    "with open(\"../data_tntp/journal_net_Apr_NT.tntp\", \"w\") as text_file:\n",
    "    text_file.write(\"<NUMBER OF ZONES> 74\\n\")\n",
    "    text_file.write(\"<NUMBER OF ZONES> 74\\n\")\n",
    "    text_file.write(\"<FIRST THRU NODE> 1\\n\")\n",
    "    text_file.write(\"<NUMBER OF LINKS> 258\\n\")\n",
    "    text_file.write(\"<NUMBER OF ZONES> 74\\n\")\n",
    "    text_file.write(\"<END OF METADATA>\\n\\n\\n\")\n",
    "    text_file.write(\"~\\tInit node\\tTerm node\\tCapacity\\tLength\\tFree Flow Time\\tB\\tPower\\tSpeed limit\\tToll  Type\\n\")\n",
    "    for idx in range(258):\n",
    "         text_file.write(\"\\t%d\\t%d\\t%f\\t%f\\t%f\\t%f\\t%f\\t%f\\t%f\\t%f\\t;\\n\" \\\n",
    "                         %(link_day_minute_Apr_dict_JSON_['link_' + str(idx) + '_2']['init_node'], \\\n",
    "                           link_day_minute_Apr_dict_JSON_['link_' + str(idx) + '_2']['term_node'], \\\n",
    "                           link_day_minute_Apr_dict_JSON_['link_' + str(idx) + '_2']['NT_capac'], \\\n",
    "                           zero_value, \\\n",
    "                           link_day_minute_Apr_dict_JSON_['link_' + str(idx) + '_2']['free_flow_time'], \\\n",
    "                           zero_value, zero_value, zero_value, zero_value, zero_value))"
   ]
  },
  {
   "cell_type": "code",
   "execution_count": 13,
   "metadata": {
    "collapsed": false
   },
   "outputs": [],
   "source": [
    "zero_value = 0.0\n",
    "with open(\"../data_tntp/journal_net_Apr_weekend.tntp\", \"w\") as text_file:\n",
    "    text_file.write(\"<NUMBER OF ZONES> 74\\n\")\n",
    "    text_file.write(\"<NUMBER OF ZONES> 74\\n\")\n",
    "    text_file.write(\"<FIRST THRU NODE> 1\\n\")\n",
    "    text_file.write(\"<NUMBER OF LINKS> 258\\n\")\n",
    "    text_file.write(\"<NUMBER OF ZONES> 74\\n\")\n",
    "    text_file.write(\"<END OF METADATA>\\n\\n\\n\")\n",
    "    text_file.write(\"~\\tInit node\\tTerm node\\tCapacity\\tLength\\tFree Flow Time\\tB\\tPower\\tSpeed limit\\tToll  Type\\n\")\n",
    "    for idx in range(258):\n",
    "         text_file.write(\"\\t%d\\t%d\\t%f\\t%f\\t%f\\t%f\\t%f\\t%f\\t%f\\t%f\\t;\\n\" \\\n",
    "                         %(link_day_minute_Apr_dict_JSON_['link_' + str(idx) + '_7']['init_node'], \\\n",
    "                           link_day_minute_Apr_dict_JSON_['link_' + str(idx) + '_7']['term_node'], \\\n",
    "                           link_day_minute_Apr_dict_JSON_['link_' + str(idx) + '_7']['MD_capac'], \\\n",
    "                           zero_value, \\\n",
    "                           link_day_minute_Apr_dict_JSON_['link_' + str(idx) + '_7']['free_flow_time'], \\\n",
    "                           zero_value, zero_value, zero_value, zero_value, zero_value))"
   ]
  },
  {
   "cell_type": "code",
   "execution_count": null,
   "metadata": {
    "collapsed": true
   },
   "outputs": [],
   "source": []
  }
 ],
 "metadata": {
  "anaconda-cloud": {},
  "kernelspec": {
   "display_name": "Python 2",
   "language": "python",
   "name": "python2"
  },
  "language_info": {
   "codemirror_mode": {
    "name": "ipython",
    "version": 2
   },
   "file_extension": ".py",
   "mimetype": "text/x-python",
   "name": "python",
   "nbconvert_exporter": "python",
   "pygments_lexer": "ipython2",
   "version": "2.7.13"
  }
 },
 "nbformat": 4,
 "nbformat_minor": 0
}
