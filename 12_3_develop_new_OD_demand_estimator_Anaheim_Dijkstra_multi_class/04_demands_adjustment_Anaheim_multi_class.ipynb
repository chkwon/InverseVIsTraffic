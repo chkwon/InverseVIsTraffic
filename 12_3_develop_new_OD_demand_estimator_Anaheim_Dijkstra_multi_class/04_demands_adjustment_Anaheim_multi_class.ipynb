{
 "cells": [
  {
   "cell_type": "code",
   "execution_count": 1,
   "metadata": {
    "collapsed": false
   },
   "outputs": [],
   "source": [
    "using PyCall\n",
    "unshift!(PyVector(pyimport(\"sys\")[\"path\"]), \"\");\n",
    "@pyimport Compute_Jacobian_Anaheim_multi_class"
   ]
  },
  {
   "cell_type": "code",
   "execution_count": 2,
   "metadata": {
    "collapsed": false
   },
   "outputs": [],
   "source": [
    "numNodes = Compute_Jacobian_Anaheim_multi_class.numNodes;\n",
    "numLinks = Compute_Jacobian_Anaheim_multi_class.numLinks;\n",
    "numODpairs = Compute_Jacobian_Anaheim_multi_class.numODpairs;\n",
    "numZones = Compute_Jacobian_Anaheim_multi_class.numZones;\n",
    "od_pairs = Compute_Jacobian_Anaheim_multi_class.od_pairs;\n",
    "link_list_js = Compute_Jacobian_Anaheim_multi_class.link_list_js;\n",
    "link_length_list = Compute_Jacobian_Anaheim_multi_class.link_length_list;"
   ]
  },
  {
   "cell_type": "code",
   "execution_count": 3,
   "metadata": {
    "collapsed": false
   },
   "outputs": [
    {
     "name": "stderr",
     "output_type": "stream",
     "text": [
      "WARNING: Method definition (::Type{Graphs.KeyVertex})(Int64, #K<:Any) in module Graphs at /home/jzh/.julia/v0.5/Graphs/src/common.jl:12 overwritten at /home/jzh/.julia/v0.5/Graphs/src/common.jl:16.\n",
      "WARNING: Method definition (::Type{Graphs.Edge})(Int64, #V<:Any, #V<:Any) in module Graphs at /home/jzh/.julia/v0.5/Graphs/src/common.jl:54 overwritten at /home/jzh/.julia/v0.5/Graphs/src/common.jl:60.\n",
      "WARNING: Method definition (::Type{Graphs.ExEdge})(Int64, #V<:Any, #V<:Any, Base.Dict{String, Any}) in module Graphs at /home/jzh/.julia/v0.5/Graphs/src/common.jl:72 overwritten at /home/jzh/.julia/v0.5/Graphs/src/common.jl:83.\n",
      "WARNING: Method definition (::Type{Graphs.TargetIterator})(#G<:Graphs.AbstractGraph, #EList<:Any) in module Graphs at /home/jzh/.julia/v0.5/Graphs/src/common.jl:123 overwritten at /home/jzh/.julia/v0.5/Graphs/src/common.jl:127.\n",
      "WARNING: Method definition (::Type{Graphs.SourceIterator})(#G<:Graphs.AbstractGraph, #EList<:Any) in module Graphs at /home/jzh/.julia/v0.5/Graphs/src/common.jl:141 overwritten at /home/jzh/.julia/v0.5/Graphs/src/common.jl:145.\n",
      "WARNING: Method definition edge_property_requirement(Graphs.AbstractEdgePropertyInspector{#T<:Any}, Graphs.AbstractGraph{#V<:Any, E<:Any}) in module Graphs at /home/jzh/.julia/v0.5/Graphs/src/common.jl:164 overwritten at /home/jzh/.julia/v0.5/Graphs/src/common.jl:179.\n",
      "WARNING: Method definition vertex_index(#V<:Union{Graphs.KeyVertex, Graphs.ExVertex}, Graphs.GenericGraph{#V<:Union{Graphs.KeyVertex, Graphs.ExVertex}, E<:Any, VList<:Any, EList<:Any, IncList<:Any}) in module Graphs at /home/jzh/.julia/v0.5/Graphs/src/graph.jl:65 overwritten at /home/jzh/.julia/v0.5/Graphs/src/graph.jl:67.\n",
      "WARNING: Method definition (::Type{Graphs.GDistanceVisitor})(#G<:Graphs.AbstractGraph, #DMap<:Any) in module Graphs at /home/jzh/.julia/v0.5/Graphs/src/breadth_first_visit.jl:107 overwritten at /home/jzh/.julia/v0.5/Graphs/src/breadth_first_visit.jl:111.\n"
     ]
    }
   ],
   "source": [
    "include(\"../Julia_files/initia_data.jl\");\n",
    "include(\"prepare_data_Anaheim.jl\");\n",
    "include(\"extract_data_Anaheim.jl\");\n",
    "include(\"../Julia_files/tap_MSA_multi_class.jl\");\n",
    "include(\"../Julia_files/inverseVI_multi_class.jl\");\n",
    "include(\"../Julia_files/demands_adjustment_gradi_multi_class.jl\");"
   ]
  },
  {
   "cell_type": "code",
   "execution_count": 4,
   "metadata": {
    "collapsed": false
   },
   "outputs": [
    {
     "data": {
      "text/plain": [
       "Dict{Any,Any} with 1444 entries:\n",
       "  (8,23)  => 0.18601\n",
       "  (21,13) => 4.76799\n",
       "  (23,10) => 2.50156\n",
       "  (30,38) => 27.3171\n",
       "  (9,34)  => 7.95514\n",
       "  (12,27) => 0.371041\n",
       "  (27,32) => 2.09722\n",
       "  (4,5)   => 136.787\n",
       "  (18,21) => 12.9933\n",
       "  (30,21) => 16.4492\n",
       "  (36,35) => 2.62148\n",
       "  (37,37) => 0\n",
       "  (11,32) => 1.09891\n",
       "  (1,33)  => 15.6124\n",
       "  (3,38)  => 23.4042\n",
       "  (6,18)  => 25.9524\n",
       "  (36,8)  => 0.194566\n",
       "  (1,22)  => 14.3684\n",
       "  (24,31) => 2.21776\n",
       "  (19,26) => 0.767668\n",
       "  (36,4)  => 10.1183\n",
       "  (36,25) => 12.482\n",
       "  (33,33) => 0\n",
       "  (13,19) => 0.18757\n",
       "  (7,19)  => 13.7943\n",
       "  ⋮       => ⋮"
      ]
     },
     "execution_count": 4,
     "metadata": {},
     "output_type": "execute_result"
    }
   ],
   "source": [
    "demandsDictCar[0] = demandsDict[0][\"car\"]\n",
    "demandsDictCar[1] = demandsDict[1][\"car\"]\n",
    "demandsDictTruck[0] = demandsDict[0][\"truck\"]\n",
    "demandsDictTruck[1] = demandsDict[1][\"truck\"]"
   ]
  },
  {
   "cell_type": "code",
   "execution_count": 5,
   "metadata": {
    "collapsed": false
   },
   "outputs": [],
   "source": [
    "demandsDiffDictCar[1] = norm(demandsDicToVec(demandsDictCar[1]) - demandsDicToVec(demandsDictCar[0]))/\n",
    "norm(demandsDicToVec(demandsDictCar[0]));\n",
    "\n",
    "demandsDiffDictTruck[1] = norm(demandsDicToVec(demandsDictTruck[1]) - demandsDicToVec(demandsDictTruck[0]))/\n",
    "norm(demandsDicToVec(demandsDictTruck[0] ));"
   ]
  },
  {
   "cell_type": "code",
   "execution_count": 6,
   "metadata": {
    "collapsed": true
   },
   "outputs": [],
   "source": [
    "demandsVecDictCar[0] = demandsDicToVec(demandsDictCar[0]);\n",
    "demandsVecDictTruck[0] = demandsDicToVec(demandsDictTruck[0]);"
   ]
  },
  {
   "cell_type": "code",
   "execution_count": 7,
   "metadata": {
    "collapsed": false
   },
   "outputs": [
    {
     "data": {
      "text/plain": [
       "Dict{Any,Any} with 1 entry:\n",
       "  0 => [1092.72,325.92,689.12,283.52,436.08,345.2,0.8,45.44,60.24,0.8  …  14.88…"
      ]
     },
     "execution_count": 7,
     "metadata": {},
     "output_type": "execute_result"
    }
   ],
   "source": [
    "demandsVecDictCar"
   ]
  },
  {
   "cell_type": "code",
   "execution_count": 8,
   "metadata": {
    "collapsed": false
   },
   "outputs": [
    {
     "data": {
      "text/plain": [
       "Dict{Any,Any} with 1 entry:\n",
       "  0 => [273.18,81.48,172.28,70.88,109.02,86.3,0.2,11.36,15.06,0.2  …  3.72,5.44…"
      ]
     },
     "execution_count": 8,
     "metadata": {},
     "output_type": "execute_result"
    }
   ],
   "source": [
    "demandsVecDictTruck"
   ]
  },
  {
   "cell_type": "code",
   "execution_count": 9,
   "metadata": {
    "collapsed": false
   },
   "outputs": [],
   "source": [
    "fcoeffs = [1, 0, 0, 0, .15];\n",
    "\n",
    "# get observed flow vector (corresponding to ground truth demands and ground truth costs)\n",
    "tapFlowDicDict[0], tapFlowVecDict[0] = tapMSA_Multi(demandsDictCar[0], demandsDictTruck[0], fcoeffs);"
   ]
  },
  {
   "cell_type": "code",
   "execution_count": 10,
   "metadata": {
    "collapsed": false
   },
   "outputs": [
    {
     "data": {
      "text/plain": [
       "Dict{Any,Any} with 2 entries:\n",
       "  \"car\"   => Dict{Any,Any}(Pair{Any,Any}((71,255),1695.54),Pair{Any,Any}((323,3…\n",
       "  \"truck\" => Dict{Any,Any}(Pair{Any,Any}((71,255),426.628),Pair{Any,Any}((323,3…"
      ]
     },
     "execution_count": 10,
     "metadata": {},
     "output_type": "execute_result"
    }
   ],
   "source": [
    "tapFlowDicDict[0]"
   ]
  },
  {
   "cell_type": "code",
   "execution_count": 11,
   "metadata": {
    "collapsed": false
   },
   "outputs": [
    {
     "data": {
      "text/plain": [
       "2×914 Array{Float64,2}:\n",
       " 5659.92  7730.0  6135.2  9739.04  2069.44  …  956.96  919.44  310.32  1218.0\n",
       " 1414.98  1932.5  1533.8  2434.76   517.36     239.24  229.86   77.58   304.5"
      ]
     },
     "execution_count": 11,
     "metadata": {},
     "output_type": "execute_result"
    }
   ],
   "source": [
    "tapFlowVecDict[0]"
   ]
  },
  {
   "cell_type": "code",
   "execution_count": 12,
   "metadata": {
    "collapsed": false
   },
   "outputs": [],
   "source": [
    "# get arcs data corresponding to ground truth demands and flows\n",
    "arcsDict[0] = observFlow(\"./benchmark_data/Anaheim_net.txt\", tapFlowDicDict[0]);"
   ]
  },
  {
   "cell_type": "code",
   "execution_count": 13,
   "metadata": {
    "collapsed": false
   },
   "outputs": [
    {
     "data": {
      "text/plain": [
       "Dict{Any,Any} with 914 entries:\n",
       "  (71,255)  => Arc(71,255,1800.0,0.5,2548.79,1695.54,426.628)\n",
       "  (323,324) => Arc(323,324,5400.0,0.5,1325.57,883.196,221.186)\n",
       "  (354,353) => Arc(354,353,5400.0,1.0,0.199,0.0,0.0995)\n",
       "  (60,230)  => Arc(60,230,9000.0,0.333333,2547.6,1697.67,424.963)\n",
       "  (223,346) => Arc(223,346,1800.0,0.5,1678.66,1118.62,280.024)\n",
       "  (147,146) => Arc(147,146,7200.0,0.763321,4091.86,2733.45,679.206)\n",
       "  (337,33)  => Arc(337,33,12600.0,0.149068,7126.09,4721.31,1202.39)\n",
       "  (366,365) => Arc(366,365,5400.0,0.5,1231.08,820.727,205.178)\n",
       "  (390,375) => Arc(390,375,5400.0,2.0,0.02376,0.02376,0.0)\n",
       "  (315,316) => Arc(315,316,5400.0,2.57992,0.0,0.0,0.0)\n",
       "  (198,197) => Arc(198,197,7200.0,0.152623,7068.75,4611.41,1228.67)\n",
       "  (333,334) => Arc(333,334,5400.0,0.420076,1762.54,1175.21,293.663)\n",
       "  (367,368) => Arc(367,368,5400.0,0.720076,159.766,106.511,26.6276)\n",
       "  (244,339) => Arc(244,339,1800.0,0.5,2267.03,1509.58,378.724)\n",
       "  (274,41)  => Arc(274,41,5400.0,1.0,0.0,0.0,0.0)\n",
       "  (225,330) => Arc(225,330,1800.0,0.5,1197.25,798.163,199.541)\n",
       "  (49,369)  => Arc(49,369,5400.0,1.0,0.0,0.0,0.0)\n",
       "  (274,275) => Arc(274,275,5400.0,2.0,601.92,401.28,100.32)\n",
       "  (15,254)  => Arc(15,254,5400.0,1.0,488.52,325.68,81.42)\n",
       "  (226,225) => Arc(226,225,9000.0,0.937836,6171.22,4114.15,1028.53)\n",
       "  (218,392) => Arc(218,392,1800.0,0.5,517.575,344.935,86.32)\n",
       "  (323,322) => Arc(323,322,5400.0,2.0,2031.12,1354.08,338.52)\n",
       "  (203,202) => Arc(203,202,7200.0,0.272615,4531.02,2994.24,768.39)\n",
       "  (367,384) => Arc(367,384,5400.0,2.27992,0.0,0.0,0.0)\n",
       "  (135,298) => Arc(135,298,1800.0,0.5,336.782,224.6,56.0909)\n",
       "  ⋮         => ⋮"
      ]
     },
     "execution_count": 13,
     "metadata": {},
     "output_type": "execute_result"
    }
   ],
   "source": [
    "arcsDict[0]"
   ]
  },
  {
   "cell_type": "code",
   "execution_count": 14,
   "metadata": {
    "collapsed": false
   },
   "outputs": [],
   "source": [
    "deg = 6\n",
    "c = 1.5\n",
    "lam = 0.1\n",
    "\n",
    "coeffs_dict[(deg, c, lam, 1)], objInvVIDict[1] = train(lam, deg, c, demandsDictCar[1], demandsDictTruck[1], \n",
    "arcsDict[0]);"
   ]
  },
  {
   "cell_type": "code",
   "execution_count": 15,
   "metadata": {
    "collapsed": false
   },
   "outputs": [
    {
     "data": {
      "text/plain": [
       "1"
      ]
     },
     "execution_count": 15,
     "metadata": {},
     "output_type": "execute_result"
    }
   ],
   "source": [
    "# weight parameters\n",
    "gamma1 = 10 ^ 8\n",
    "gamma2 = 1"
   ]
  },
  {
   "cell_type": "code",
   "execution_count": 16,
   "metadata": {
    "collapsed": false
   },
   "outputs": [
    {
     "data": {
      "image/png": "[encoded data removed]",
      "text/plain": [
       "PyPlot.Figure(PyObject <matplotlib.figure.Figure object at 0x7f7deba6d650>)"
      ]
     },
     "metadata": {},
     "output_type": "display_data"
    }
   ],
   "source": [
    "using PyPlot\n",
    "\n",
    "iterN = 1\n",
    "\n",
    "true_coeffs = [1, 0, 0, 0, .15]\n",
    "# true_coeffs = [1, .2, .5, .8, .15]\n",
    "\n",
    "est_coeffs = coeffs_dict[(deg, c, lam, iterN)]\n",
    "\n",
    "xs = linspace(0, 2, 20)\n",
    "zs_true = map(x->polyEval(true_coeffs, x), xs)\n",
    "\n",
    "zs = map(x->polyEval(est_coeffs, x), xs)\n",
    "\n",
    "PyPlot.plot(xs, zs_true, \"^-g\", label=\"ground truth\")\n",
    "PyPlot.plot(xs, zs, \"<-r\", label=\"estimation\")\n",
    "\n",
    "legend(loc=\"upper left\",fancybox=\"true\") \n",
    "# PyPlot.plot(xs, ys, \"--b\")\n",
    "grid(\"on\")\n",
    "xlim(-0.1, 2.1);\n",
    "ylim(0.9, 3.5);\n",
    "\n",
    "font1 = Dict(\"family\"=>\"serif\",\"color\"=>\"k\",\"weight\"=>\"normal\",\"size\"=>14)\n",
    "xlabel(\"Scaled Flow\", fontdict=font1)\n",
    "ylabel(\"Scaled Cost\", fontdict=font1)\n",
    "\n",
    "savefig(\"./results/fitting_Anaheim_iter_$(iterN)_multi_class_$(gamma1)_$(gamma2).pdf\")"
   ]
  },
  {
   "cell_type": "code",
   "execution_count": 17,
   "metadata": {
    "collapsed": false
   },
   "outputs": [],
   "source": [
    "demandsVecDictCar[1] = demandsDicToVec(demandsDictCar[1]);\n",
    "demandsVecDictTruck[1] = demandsDicToVec(demandsDictTruck[1]);\n",
    "\n",
    "objFunDict[1] = objF(gamma1, gamma2, demandsVecDictCar[1], demandsVecDictCar[0], demandsVecDictTruck[1], \n",
    "    demandsVecDictTruck[0], coeffs_dict[(deg, c, lam, 1)]);"
   ]
  },
  {
   "cell_type": "code",
   "execution_count": 18,
   "metadata": {
    "collapsed": false
   },
   "outputs": [],
   "source": [
    "# get initial flow vector (corresponding to initial demands)\n",
    "tapFlowDicDict[1], tapFlowVecDict[1] = tapMSA_Multi(demandsDictCar[1], demandsDictTruck[1], \n",
    "coeffs_dict[(deg, c, lam, 1)]);"
   ]
  },
  {
   "cell_type": "code",
   "execution_count": 19,
   "metadata": {
    "collapsed": false
   },
   "outputs": [
    {
     "data": {
      "text/plain": [
       "Dict{Any,Any} with 2 entries:\n",
       "  \"car\"   => Dict{Any,Any}(Pair{Any,Any}((71,255),1891.65),Pair{Any,Any}((323,3…\n",
       "  \"truck\" => Dict{Any,Any}(Pair{Any,Any}((71,255),472.921),Pair{Any,Any}((323,3…"
      ]
     },
     "execution_count": 19,
     "metadata": {},
     "output_type": "execute_result"
    }
   ],
   "source": [
    "tapFlowDicDict[1]"
   ]
  },
  {
   "cell_type": "code",
   "execution_count": 20,
   "metadata": {
    "collapsed": false
   },
   "outputs": [
    {
     "data": {
      "text/plain": [
       "2×914 Array{Float64,2}:\n",
       " 5737.03  7999.5   6289.51  9803.83  2077.27   …  891.625  315.771   1222.69 \n",
       " 1434.26  1999.87  1572.38  2450.96   519.317     222.906   78.9427   305.673"
      ]
     },
     "execution_count": 20,
     "metadata": {},
     "output_type": "execute_result"
    }
   ],
   "source": [
    "tapFlowVecDict[1] "
   ]
  },
  {
   "cell_type": "code",
   "execution_count": 21,
   "metadata": {
    "collapsed": false
   },
   "outputs": [],
   "source": [
    "# get arcs data corresponding to initial demands and flows\n",
    "arcsDict[1] = observFlow(\"./benchmark_data/Anaheim_net.txt\", tapFlowDicDict[1]);"
   ]
  },
  {
   "cell_type": "code",
   "execution_count": 22,
   "metadata": {
    "collapsed": false
   },
   "outputs": [],
   "source": [
    "linkCostDicDict[1] = tapFlowVecToLinkCostDict(tapFlowVecDict[1], coeffs_dict[(deg, c, lam, 1)]);"
   ]
  },
  {
   "cell_type": "code",
   "execution_count": 23,
   "metadata": {
    "collapsed": false
   },
   "outputs": [
    {
     "data": {
      "text/plain": [
       "Dict{Any,Any} with 914 entries:\n",
       "  \"1\"   => 1.18518\n",
       "  \"519\" => 0.420124\n",
       "  \"788\" => 1.0\n",
       "  \"774\" => 1.42078\n",
       "  \"599\" => 1.72745\n",
       "  \"491\" => 0.500656\n",
       "  \"228\" => 0.500433\n",
       "  \"332\" => 0.428085\n",
       "  \"190\" => 0.5\n",
       "  \"227\" => 0.281341\n",
       "  \"297\" => 0.157781\n",
       "  \"605\" => 1.08028\n",
       "  \"24\"  => 1.00203\n",
       "  \"204\" => 0.517814\n",
       "  \"416\" => 1.9201\n",
       "  \"23\"  => 1.00048\n",
       "  \"160\" => 0.333664\n",
       "  \"561\" => 0.5\n",
       "  \"859\" => 0.500544\n",
       "  \"891\" => 1.10642\n",
       "  \"815\" => 1.00093\n",
       "  \"253\" => 0.280217\n",
       "  \"39\"  => 0.151248\n",
       "  \"843\" => 0.149498\n",
       "  \"112\" => 1.43206\n",
       "  ⋮     => ⋮"
      ]
     },
     "execution_count": 23,
     "metadata": {},
     "output_type": "execute_result"
    }
   ],
   "source": [
    "linkCostDicDict[1][\"car\"]"
   ]
  },
  {
   "cell_type": "code",
   "execution_count": 24,
   "metadata": {
    "collapsed": false
   },
   "outputs": [
    {
     "data": {
      "text/plain": [
       "Dict{Any,Any} with 914 entries:\n",
       "  \"1\"   => 1.3037\n",
       "  \"519\" => 0.462136\n",
       "  \"788\" => 1.1\n",
       "  \"774\" => 1.56286\n",
       "  \"599\" => 1.90019\n",
       "  \"491\" => 0.550722\n",
       "  \"228\" => 0.550476\n",
       "  \"332\" => 0.470894\n",
       "  \"190\" => 0.55\n",
       "  \"227\" => 0.309475\n",
       "  \"297\" => 0.173559\n",
       "  \"605\" => 1.18831\n",
       "  \"24\"  => 1.10223\n",
       "  \"204\" => 0.569596\n",
       "  \"416\" => 2.11211\n",
       "  \"23\"  => 1.10053\n",
       "  \"160\" => 0.367031\n",
       "  \"561\" => 0.55\n",
       "  \"859\" => 0.550599\n",
       "  \"891\" => 1.21707\n",
       "  \"815\" => 1.10102\n",
       "  \"253\" => 0.308238\n",
       "  \"39\"  => 0.166373\n",
       "  \"843\" => 0.164448\n",
       "  \"112\" => 1.57527\n",
       "  ⋮     => ⋮"
      ]
     },
     "execution_count": 24,
     "metadata": {},
     "output_type": "execute_result"
    }
   ],
   "source": [
    "linkCostDicDict[1][\"truck\"]"
   ]
  },
  {
   "cell_type": "code",
   "execution_count": 25,
   "metadata": {
    "collapsed": false
   },
   "outputs": [
    {
     "data": {
      "text/plain": [
       "914-element Array{Any,1}:\n",
       " 5280.0\n",
       " 5280.0\n",
       " 5280.0\n",
       " 5280.0\n",
       " 5280.0\n",
       " 5280.0\n",
       " 5280.0\n",
       " 2640.0\n",
       " 2640.0\n",
       " 2640.0\n",
       " 2640.0\n",
       " 2640.0\n",
       " 2640.0\n",
       "    ⋮  \n",
       " 2640.0\n",
       " 5280.0\n",
       " 2640.0\n",
       " 5280.0\n",
       " 2640.0\n",
       " 5280.0\n",
       " 2640.0\n",
       " 5280.0\n",
       " 2640.0\n",
       " 5280.0\n",
       " 2640.0\n",
       " 5280.0"
      ]
     },
     "execution_count": 25,
     "metadata": {},
     "output_type": "execute_result"
    }
   ],
   "source": [
    "link_length_list"
   ]
  },
  {
   "cell_type": "code",
   "execution_count": 26,
   "metadata": {
    "collapsed": false
   },
   "outputs": [
    {
     "data": {
      "text/plain": [
       "Dict{Any,Any} with 2 entries:\n",
       "  0 => [1.1234,1.18518,1.13391,1.28553,1.09348,1.11654,1.12539,1.00079,1.00245,…\n",
       "  1 => [1.23574,1.3037,1.2473,1.41409,1.20283,1.22819,1.23793,1.10087,1.10269,1…"
      ]
     },
     "execution_count": 26,
     "metadata": {},
     "output_type": "execute_result"
    }
   ],
   "source": [
    "link_length_list_car = [linkCostDicDict[1][\"car\"][\"$(i)\"] for i=0:numLinks-1]\n",
    "link_length_list_truck = [linkCostDicDict[1][\"truck\"][\"$(i)\"] for i=0:numLinks-1]\n",
    "\n",
    "link_length_list_dict[0] = link_length_list_car\n",
    "link_length_list_dict[1] = link_length_list_truck\n",
    "\n",
    "link_length_list_dict_dict[1] = link_length_list_dict"
   ]
  },
  {
   "cell_type": "code",
   "execution_count": 27,
   "metadata": {
    "collapsed": false
   },
   "outputs": [],
   "source": [
    "jacobiSpiessDict[1] = Compute_Jacobian_Anaheim_multi_class.jacobianSpiess(numNodes, numLinks, \n",
    "    numODpairs, od_pairs, link_list_js, link_length_list_dict_dict[1]);"
   ]
  },
  {
   "cell_type": "code",
   "execution_count": 28,
   "metadata": {
    "collapsed": false
   },
   "outputs": [
    {
     "data": {
      "text/plain": [
       "1406×914×2 Array{Float64,3}:\n",
       "[:, :, 1] =\n",
       " 1.0  0.0  0.0  0.0  0.0  0.0  0.0  0.0  …  0.0  0.0  0.0  0.0  0.0  0.0  0.0\n",
       " 1.0  0.0  0.0  0.0  0.0  0.0  0.0  0.0     0.0  0.0  0.0  0.0  0.0  0.0  0.0\n",
       " 1.0  0.0  0.0  0.0  0.0  0.0  0.0  0.0     0.0  0.0  0.0  0.0  0.0  0.0  0.0\n",
       " 1.0  0.0  0.0  0.0  0.0  0.0  0.0  0.0     0.0  0.0  0.0  0.0  0.0  0.0  0.0\n",
       " 1.0  0.0  0.0  0.0  0.0  0.0  0.0  0.0     0.0  0.0  0.0  0.0  0.0  0.0  0.0\n",
       " 1.0  0.0  0.0  0.0  0.0  0.0  0.0  0.0  …  0.0  0.0  0.0  0.0  0.0  0.0  0.0\n",
       " 1.0  0.0  0.0  0.0  0.0  0.0  0.0  0.0     0.0  0.0  0.0  0.0  0.0  0.0  0.0\n",
       " 1.0  0.0  0.0  0.0  0.0  0.0  0.0  0.0     0.0  0.0  0.0  0.0  0.0  0.0  0.0\n",
       " 1.0  0.0  0.0  0.0  0.0  0.0  0.0  0.0     0.0  0.0  0.0  0.0  0.0  0.0  0.0\n",
       " 1.0  0.0  0.0  0.0  0.0  0.0  0.0  0.0     0.0  0.0  0.0  0.0  0.0  0.0  0.0\n",
       " 1.0  0.0  0.0  0.0  0.0  0.0  0.0  0.0  …  0.0  0.0  0.0  0.0  0.0  0.0  0.0\n",
       " 1.0  0.0  0.0  0.0  0.0  0.0  0.0  0.0     0.0  0.0  0.0  0.0  0.0  0.0  0.0\n",
       " 1.0  0.0  0.0  0.0  0.0  0.0  0.0  0.0     0.0  0.0  0.0  0.0  0.0  0.0  0.0\n",
       " ⋮                        ⋮              ⋱                 ⋮                 \n",
       " 0.0  0.0  0.0  0.0  0.0  0.0  0.0  0.0     0.0  0.0  0.0  0.0  0.0  0.0  0.0\n",
       " 0.0  0.0  0.0  0.0  0.0  0.0  0.0  0.0  …  0.0  0.0  0.0  0.0  0.0  0.0  0.0\n",
       " 0.0  0.0  0.0  0.0  0.0  0.0  0.0  0.0     0.0  0.0  0.0  0.0  0.0  0.0  0.0\n",
       " 0.0  0.0  0.0  0.0  0.0  0.0  0.0  0.0     0.0  0.0  0.0  0.0  0.0  0.0  0.0\n",
       " 0.0  0.0  0.0  0.0  0.0  0.0  0.0  0.0     0.0  0.0  0.0  0.0  0.0  0.0  0.0\n",
       " 0.0  0.0  0.0  0.0  0.0  0.0  0.0  0.0     0.0  0.0  0.0  0.0  0.0  0.0  0.0\n",
       " 0.0  0.0  0.0  0.0  0.0  0.0  0.0  0.0  …  0.0  0.0  0.0  0.0  0.0  0.0  0.0\n",
       " 0.0  0.0  0.0  0.0  0.0  0.0  0.0  0.0     0.0  0.0  0.0  0.0  0.0  0.0  0.0\n",
       " 0.0  0.0  0.0  0.0  0.0  0.0  0.0  0.0     0.0  0.0  0.0  0.0  0.0  0.0  0.0\n",
       " 0.0  0.0  0.0  0.0  0.0  0.0  0.0  0.0     0.0  0.0  0.0  0.0  0.0  0.0  0.0\n",
       " 0.0  0.0  0.0  0.0  0.0  0.0  0.0  0.0     0.0  0.0  0.0  0.0  0.0  0.0  0.0\n",
       " 0.0  0.0  0.0  0.0  0.0  0.0  0.0  0.0  …  0.0  0.0  0.0  0.0  0.0  0.0  0.0\n",
       "\n",
       "[:, :, 2] =\n",
       " 1.0  0.0  0.0  0.0  0.0  0.0  0.0  0.0  …  0.0  0.0  0.0  0.0  0.0  0.0  0.0\n",
       " 1.0  0.0  0.0  0.0  0.0  0.0  0.0  0.0     0.0  0.0  0.0  0.0  0.0  0.0  0.0\n",
       " 1.0  0.0  0.0  0.0  0.0  0.0  0.0  0.0     0.0  0.0  0.0  0.0  0.0  0.0  0.0\n",
       " 1.0  0.0  0.0  0.0  0.0  0.0  0.0  0.0     0.0  0.0  0.0  0.0  0.0  0.0  0.0\n",
       " 1.0  0.0  0.0  0.0  0.0  0.0  0.0  0.0     0.0  0.0  0.0  0.0  0.0  0.0  0.0\n",
       " 1.0  0.0  0.0  0.0  0.0  0.0  0.0  0.0  …  0.0  0.0  0.0  0.0  0.0  0.0  0.0\n",
       " 1.0  0.0  0.0  0.0  0.0  0.0  0.0  0.0     0.0  0.0  0.0  0.0  0.0  0.0  0.0\n",
       " 1.0  0.0  0.0  0.0  0.0  0.0  0.0  0.0     0.0  0.0  0.0  0.0  0.0  0.0  0.0\n",
       " 1.0  0.0  0.0  0.0  0.0  0.0  0.0  0.0     0.0  0.0  0.0  0.0  0.0  0.0  0.0\n",
       " 1.0  0.0  0.0  0.0  0.0  0.0  0.0  0.0     0.0  0.0  0.0  0.0  0.0  0.0  0.0\n",
       " 1.0  0.0  0.0  0.0  0.0  0.0  0.0  0.0  …  0.0  0.0  0.0  0.0  0.0  0.0  0.0\n",
       " 1.0  0.0  0.0  0.0  0.0  0.0  0.0  0.0     0.0  0.0  0.0  0.0  0.0  0.0  0.0\n",
       " 1.0  0.0  0.0  0.0  0.0  0.0  0.0  0.0     0.0  0.0  0.0  0.0  0.0  0.0  0.0\n",
       " ⋮                        ⋮              ⋱                 ⋮                 \n",
       " 0.0  0.0  0.0  0.0  0.0  0.0  0.0  0.0     0.0  0.0  0.0  0.0  0.0  0.0  0.0\n",
       " 0.0  0.0  0.0  0.0  0.0  0.0  0.0  0.0  …  0.0  0.0  0.0  0.0  0.0  0.0  0.0\n",
       " 0.0  0.0  0.0  0.0  0.0  0.0  0.0  0.0     0.0  0.0  0.0  0.0  0.0  0.0  0.0\n",
       " 0.0  0.0  0.0  0.0  0.0  0.0  0.0  0.0     0.0  0.0  0.0  0.0  0.0  0.0  0.0\n",
       " 0.0  0.0  0.0  0.0  0.0  0.0  0.0  0.0     0.0  0.0  0.0  0.0  0.0  0.0  0.0\n",
       " 0.0  0.0  0.0  0.0  0.0  0.0  0.0  0.0     0.0  0.0  0.0  0.0  0.0  0.0  0.0\n",
       " 0.0  0.0  0.0  0.0  0.0  0.0  0.0  0.0  …  0.0  0.0  0.0  0.0  0.0  0.0  0.0\n",
       " 0.0  0.0  0.0  0.0  0.0  0.0  0.0  0.0     0.0  0.0  0.0  0.0  0.0  0.0  0.0\n",
       " 0.0  0.0  0.0  0.0  0.0  0.0  0.0  0.0     0.0  0.0  0.0  0.0  0.0  0.0  0.0\n",
       " 0.0  0.0  0.0  0.0  0.0  0.0  0.0  0.0     0.0  0.0  0.0  0.0  0.0  0.0  0.0\n",
       " 0.0  0.0  0.0  0.0  0.0  0.0  0.0  0.0     0.0  0.0  0.0  0.0  0.0  0.0  0.0\n",
       " 0.0  0.0  0.0  0.0  0.0  0.0  0.0  0.0  …  0.0  0.0  0.0  0.0  0.0  0.0  0.0"
      ]
     },
     "execution_count": 28,
     "metadata": {},
     "output_type": "execute_result"
    }
   ],
   "source": [
    "jacobiSpiessDict[1]"
   ]
  },
  {
   "cell_type": "code",
   "execution_count": 29,
   "metadata": {
    "collapsed": true
   },
   "outputs": [],
   "source": [
    "# maximum number of iterations\n",
    "N = 100;  \n",
    "\n",
    "# Armijo rule parameters\n",
    "rho = 2;\n",
    "M = 10;\n",
    "\n",
    "# search direction parameter\n",
    "epsilon_1 = 0;\n",
    "\n",
    "# stop criterion parameter\n",
    "epsilon_2 = 1e-8;"
   ]
  },
  {
   "cell_type": "code",
   "execution_count": null,
   "metadata": {
    "collapsed": false
   },
   "outputs": [],
   "source": [
    "for l = 1:N\n",
    "    \n",
    "    jacobDict[l] = jacobiSpiessDict[l]\n",
    "\n",
    "    demandsVecDictCar[l] = demandsDicToVec(demandsDictCar[l]);\n",
    "    demandsVecDictTruck[l] = demandsDicToVec(demandsDictTruck[l]);\n",
    "\n",
    "    descDirecDict[l] = descDirec(gamma1, gamma2, demandsVecDictCar[l], demandsVecDictCar[0],\n",
    "        demandsVecDictTruck[l], demandsVecDictTruck[0], \n",
    "        tapFlowVecDict[l], tapFlowVecDict[0], jacobDict[l], numODpairs, numLinks);\n",
    "    \n",
    "    searchDirecDict[l] = searchDirec(demandsVecDictCar[l], demandsVecDictTruck[l], descDirecDict[l], epsilon_1);\n",
    "    \n",
    "    thetaMaxDict[l] = thetaMax(demandsVecDictCar[l], demandsVecDictTruck[l], searchDirecDict[l]);\n",
    "    \n",
    "    demandsVecDictCar[l+1] = similar(demandsVecDictCar[0]);\n",
    "    demandsVecDictTruck[l+1] = similar(demandsVecDictTruck[0]);\n",
    "    \n",
    "    demandsVecDictCar[l+1], demandsVecDictTruck[l+1], objFunDict[l+1] = armijo(gamma1, gamma2, objFunDict[l], \n",
    "        demandsVecDictCar[l], demandsVecDictTruck[l], demandsVecDictCar[0], demandsVecDictTruck[0],\n",
    "        coeffs_dict[(deg, c, lam, l)], searchDirecDict[l], thetaMaxDict[l], rho, M);\n",
    "    \n",
    "    demandsDictCar[l+1] = demandsVecToDic(demandsVecDictCar[l+1]);\n",
    "    demandsDictTruck[l+1] = demandsVecToDic(demandsVecDictTruck[l+1]);\n",
    "    \n",
    "    tapFlowDicDict[l+1], tapFlowVecDict[l+1] = tapMSA_Multi(demandsDictCar[l+1], demandsDictTruck[l+1], \n",
    "    coeffs_dict[(deg, c, lam, l)]);\n",
    "        \n",
    "    arcsDict[l+1] = observFlow(\"./benchmark_data/Anaheim_net.txt\", tapFlowDicDict[l+1]);\n",
    "        \n",
    "    coeffs_dict[(deg, c, lam, l+1)], objInvVIDict[l+1] = train(lam, deg, c, demandsDictCar[l+1], \n",
    "    demandsDictTruck[l+1], arcsDict[0]);\n",
    "        \n",
    "    objFunTmp = objF(gamma1, gamma2, demandsVecDictCar[l+1], demandsVecDictCar[0], \n",
    "        demandsVecDictTruck[l+1], demandsVecDictTruck[0], coeffs_dict[(deg, c, lam, l+1)])\n",
    "    \n",
    "    if objFunTmp > objFunDict[l+1]\n",
    "        coeffs_dict[(deg, c, lam, l+1)] = coeffs_dict[(deg, c, lam, l)]\n",
    "    end\n",
    "    \n",
    "    linkCostDicDict[l+1] = tapFlowVecToLinkCostDict(tapFlowVecDict[l+1], coeffs_dict[(deg, c, lam, l+1)]);\n",
    "        \n",
    "    #######################################\n",
    "    link_length_list_dict[0] = [linkCostDicDict[l+1][\"car\"][\"$(i)\"] for i=0:numLinks-1]\n",
    "    link_length_list_dict[1] = [linkCostDicDict[l+1][\"truck\"][\"$(i)\"] for i=0:numLinks-1]\n",
    "    link_length_list_dict_dict[l+1] = link_length_list_dict\n",
    "    #######################################\n",
    "    \n",
    "    jacobiSpiessDict[l+1] = Compute_Jacobian_Anaheim_multi_class.jacobianSpiess(numNodes, numLinks, numODpairs, \n",
    "    od_pairs, link_list_js, link_length_list_dict_dict[l+1]);\n",
    "        \n",
    "    demandsDiffDictCar[l+1] = norm(demandsVecDictCar[l+1] - demandsVecDictCar[0]) / norm(demandsVecDictCar[0]);\n",
    "    demandsDiffDictTruck[l+1] = norm(demandsVecDictTruck[l+1] - demandsVecDictTruck[0]) / \n",
    "    norm(demandsVecDictTruck[0]);\n",
    "    \n",
    "    # stopping criterion\n",
    "    if (objFunDict[l] - objFunDict[l+1]) / objFunDict[1] < epsilon_2\n",
    "        break\n",
    "    end\n",
    "        \n",
    "end\n",
    "\n",
    "# normalize objective function value\n",
    "for l = 1:(length(objFunDict))\n",
    "    norObjFunDict[l] = objFunDict[l] / objFunDict[1];\n",
    "end"
   ]
  },
  {
   "cell_type": "code",
   "execution_count": null,
   "metadata": {
    "collapsed": false
   },
   "outputs": [],
   "source": [
    "demandsVecDictCar"
   ]
  },
  {
   "cell_type": "code",
   "execution_count": null,
   "metadata": {
    "collapsed": false
   },
   "outputs": [],
   "source": [
    "demandsVecDictTruck"
   ]
  },
  {
   "cell_type": "code",
   "execution_count": null,
   "metadata": {
    "collapsed": false
   },
   "outputs": [],
   "source": [
    "norObjFunDict"
   ]
  },
  {
   "cell_type": "code",
   "execution_count": null,
   "metadata": {
    "collapsed": false
   },
   "outputs": [],
   "source": [
    "using PyPlot\n",
    "\n",
    "iterNum = 1:(length(norObjFunDict))\n",
    "\n",
    "objFun = map(iterNum->norObjFunDict[iterNum], iterNum)\n",
    "\n",
    "# PyPlot.plot(iterNum, objFun, \"s-g\", label=\"True\")\n",
    "\n",
    "PyPlot.plot(iterNum, objFun, \"s-b\")\n",
    "\n",
    "# legend(loc=\"upper right\",fancybox=\"true\") \n",
    "\n",
    "grid(\"on\")\n",
    "\n",
    "xlim(.8, length(norObjFunDict) + 1 + .2)\n",
    "ylim(minimum(objFun)-.01, maximum(objFun)+.01)\n",
    "\n",
    "font1 = Dict(\"family\"=>\"serif\",\"color\"=>\"k\",\"weight\"=>\"normal\",\"size\"=>14)\n",
    "\n",
    "xlabel(\"Number of iterations\", fontdict=font1)\n",
    "ylabel(\"Normalized objective function value (biLev)\", fontdict=font1)\n",
    "\n",
    "savefig(\"./results/objFun_biLev_Anaheim_$(gamma1)_$(gamma2).pdf\")"
   ]
  },
  {
   "cell_type": "code",
   "execution_count": null,
   "metadata": {
    "collapsed": false
   },
   "outputs": [],
   "source": [
    "using PyPlot\n",
    "\n",
    "iterNum = 1:(length(demandsDiffDictCar))\n",
    "\n",
    "demandsDiff = map(iterNum->demandsDiffDictCar[iterNum], iterNum)\n",
    "\n",
    "# PyPlot.plot(iterNum, objFun, \"s-g\", label=\"True\")\n",
    "\n",
    "PyPlot.plot(iterNum, demandsDiff, \"o-g\")\n",
    "\n",
    "# legend(loc=\"upper right\",fancybox=\"true\") \n",
    "\n",
    "grid(\"on\")\n",
    "\n",
    "xlim(.8, length(demandsDiffDictCar) + 1 + .2)\n",
    "ylim(minimum(demandsDiff)-.0005, maximum(demandsDiff)+.0005)\n",
    "\n",
    "font1 = Dict(\"family\"=>\"serif\",\"color\"=>\"k\",\"weight\"=>\"normal\",\"size\"=>14)\n",
    "\n",
    "xlabel(\"Number of iterations\", fontdict=font1)\n",
    "ylabel(\"Normalized demand difference\", fontdict=font1)\n",
    "\n",
    "savefig(\"./results/demandsDiff_biLev_Anaheim_car_$(gamma1)_$(gamma2).pdf\")"
   ]
  },
  {
   "cell_type": "code",
   "execution_count": null,
   "metadata": {
    "collapsed": false
   },
   "outputs": [],
   "source": [
    "using PyPlot\n",
    "\n",
    "iterNum = 1:(length(demandsDiffDictTruck))\n",
    "\n",
    "demandsDiff = map(iterNum->demandsDiffDictTruck[iterNum], iterNum)\n",
    "\n",
    "# PyPlot.plot(iterNum, objFun, \"s-g\", label=\"True\")\n",
    "\n",
    "PyPlot.plot(iterNum, demandsDiff, \"o-g\")\n",
    "\n",
    "# legend(loc=\"upper right\",fancybox=\"true\") \n",
    "\n",
    "grid(\"on\")\n",
    "\n",
    "xlim(.8, length(demandsDiffDictTruck) + 1 + .2)\n",
    "ylim(minimum(demandsDiff)-.0005, maximum(demandsDiff)+.0005)\n",
    "\n",
    "font1 = Dict(\"family\"=>\"serif\",\"color\"=>\"k\",\"weight\"=>\"normal\",\"size\"=>14)\n",
    "\n",
    "xlabel(\"Number of iterations\", fontdict=font1)\n",
    "ylabel(\"Normalized demand difference\", fontdict=font1)\n",
    "\n",
    "savefig(\"./results/demandsDiff_biLev_Anaheim_truck_$(gamma1)_$(gamma2).pdf\")"
   ]
  },
  {
   "cell_type": "code",
   "execution_count": null,
   "metadata": {
    "collapsed": false
   },
   "outputs": [],
   "source": [
    "using PyPlot\n",
    "\n",
    "iterNum = 1:(length(objInvVIDict))\n",
    "\n",
    "objFun = map(iterNum->objInvVIDict[iterNum], iterNum)\n",
    "\n",
    "# PyPlot.plot(iterNum, objFun, \"s-g\", label=\"True\")\n",
    "\n",
    "PyPlot.plot(iterNum, objFun, \"p-r\")\n",
    "\n",
    "# legend(loc=\"upper right\",fancybox=\"true\") \n",
    "\n",
    "grid(\"on\")\n",
    "\n",
    "xlim(0.8, length(objInvVIDict) + 1 + .2)\n",
    "# ylim(0.9, 2.0)\n",
    "\n",
    "font1 = Dict(\"family\"=>\"serif\",\"color\"=>\"k\",\"weight\"=>\"normal\",\"size\"=>14)\n",
    "\n",
    "xlabel(\"Number of iterations\", fontdict=font1)\n",
    "ylabel(\"Objective function value (invVI)\", fontdict=font1)\n",
    "\n",
    "savefig(\"./results/objFun_invVI_Anaheim_$(gamma1)_$(gamma2).pdf\")"
   ]
  },
  {
   "cell_type": "code",
   "execution_count": null,
   "metadata": {
    "collapsed": false
   },
   "outputs": [],
   "source": [
    "coeffs_dict"
   ]
  },
  {
   "cell_type": "code",
   "execution_count": null,
   "metadata": {
    "collapsed": false
   },
   "outputs": [],
   "source": [
    "using PyPlot\n",
    "\n",
    "iterN = 2\n",
    "\n",
    "true_coeffs = [1, 0, 0, 0, .15]\n",
    "# true_coeffs = [1, .2, .5, .8, .15]\n",
    "\n",
    "est_coeffs = coeffs_dict[(deg, c, lam, iterN)]\n",
    "\n",
    "xs = linspace(0, 2, 20)\n",
    "zs_true = map(x->polyEval(true_coeffs, x), xs)\n",
    "\n",
    "zs = map(x->polyEval(est_coeffs, x), xs)\n",
    "\n",
    "PyPlot.plot(xs, zs_true, \"^-g\", label=\"ground truth\")\n",
    "PyPlot.plot(xs, zs, \"<-r\", label=\"estimation\")\n",
    "\n",
    "legend(loc=\"upper left\",fancybox=\"true\") \n",
    "# PyPlot.plot(xs, ys, \"--b\")\n",
    "grid(\"on\")\n",
    "xlim(-0.1, 2.1);\n",
    "ylim(0.9, 3.5);\n",
    "\n",
    "font1 = Dict(\"family\"=>\"serif\",\"color\"=>\"k\",\"weight\"=>\"normal\",\"size\"=>14)\n",
    "xlabel(\"Scaled Flow\", fontdict=font1)\n",
    "ylabel(\"Scaled Cost\", fontdict=font1)\n",
    "\n",
    "savefig(\"./results/fitting_Anaheim_iter_$(iterN)_multi_class_$(gamma1)_$(gamma2).pdf\")"
   ]
  },
  {
   "cell_type": "code",
   "execution_count": null,
   "metadata": {
    "collapsed": false
   },
   "outputs": [],
   "source": [
    "using PyPlot\n",
    "\n",
    "iterN = 3\n",
    "\n",
    "true_coeffs = [1, 0, 0, 0, .15]\n",
    "# true_coeffs = [1, .2, .5, .8, .15]\n",
    "\n",
    "est_coeffs = coeffs_dict[(deg, c, lam, iterN)]\n",
    "\n",
    "xs = linspace(0, 2, 20)\n",
    "zs_true = map(x->polyEval(true_coeffs, x), xs)\n",
    "\n",
    "zs = map(x->polyEval(est_coeffs, x), xs)\n",
    "\n",
    "PyPlot.plot(xs, zs_true, \"^-g\", label=\"ground truth\")\n",
    "PyPlot.plot(xs, zs, \"<-r\", label=\"estimation\")\n",
    "\n",
    "legend(loc=\"upper left\",fancybox=\"true\") \n",
    "# PyPlot.plot(xs, ys, \"--b\")\n",
    "grid(\"on\")\n",
    "xlim(-0.1, 2.1);\n",
    "ylim(0.9, 3.5);\n",
    "\n",
    "font1 = Dict(\"family\"=>\"serif\",\"color\"=>\"k\",\"weight\"=>\"normal\",\"size\"=>14)\n",
    "xlabel(\"Scaled Flow\", fontdict=font1)\n",
    "ylabel(\"Scaled Cost\", fontdict=font1)\n",
    "\n",
    "savefig(\"./results/fitting_Anaheim_iter_$(iterN)_multi_class_$(gamma1)_$(gamma2).pdf\")"
   ]
  },
  {
   "cell_type": "code",
   "execution_count": null,
   "metadata": {
    "collapsed": false
   },
   "outputs": [],
   "source": [
    "using PyPlot\n",
    "\n",
    "iterN = length(coeffs_dict)\n",
    "\n",
    "true_coeffs = [1, 0, 0, 0, .15]\n",
    "# true_coeffs = [1, .2, .5, .8, .15]\n",
    "\n",
    "est_coeffs = coeffs_dict[(deg, c, lam, iterN)]\n",
    "\n",
    "xs = linspace(0, 2, 20)\n",
    "zs_true = map(x->polyEval(true_coeffs, x), xs)\n",
    "\n",
    "zs = map(x->polyEval(est_coeffs, x), xs)\n",
    "\n",
    "PyPlot.plot(xs, zs_true, \"^-g\", label=\"ground truth\")\n",
    "PyPlot.plot(xs, zs, \"<-r\", label=\"estimation\")\n",
    "\n",
    "legend(loc=\"upper left\",fancybox=\"true\") \n",
    "# PyPlot.plot(xs, ys, \"--b\")\n",
    "grid(\"on\")\n",
    "xlim(-0.1, 2.1);\n",
    "ylim(0.9, 3.5);\n",
    "\n",
    "font1 = Dict(\"family\"=>\"serif\",\"color\"=>\"k\",\"weight\"=>\"normal\",\"size\"=>14)\n",
    "xlabel(\"Scaled Flow\", fontdict=font1)\n",
    "ylabel(\"Scaled Cost\", fontdict=font1)\n",
    "\n",
    "savefig(\"./results/fitting_Anaheim_iter_$(iterN)_multi_class_$(gamma1)_$(gamma2).pdf\")"
   ]
  },
  {
   "cell_type": "code",
   "execution_count": null,
   "metadata": {
    "collapsed": false
   },
   "outputs": [],
   "source": [
    "objFunDict"
   ]
  },
  {
   "cell_type": "code",
   "execution_count": null,
   "metadata": {
    "collapsed": false
   },
   "outputs": [],
   "source": [
    "outfile = open(\"./results/norObjFunDict_$(gamma1)_$(gamma2).json\", \"w\")\n",
    "\n",
    "JSON.print(outfile, norObjFunDict)\n",
    "\n",
    "close(outfile)"
   ]
  },
  {
   "cell_type": "code",
   "execution_count": null,
   "metadata": {
    "collapsed": false
   },
   "outputs": [],
   "source": [
    "outfile = open(\"./results/demandsDiffDictCar_$(gamma1)_$(gamma2).json\", \"w\")\n",
    "\n",
    "JSON.print(outfile, demandsDiffDictCar)\n",
    "\n",
    "close(outfile)"
   ]
  },
  {
   "cell_type": "code",
   "execution_count": null,
   "metadata": {
    "collapsed": true
   },
   "outputs": [],
   "source": [
    "outfile = open(\"./results/demandsDiffDictTruck_$(gamma1)_$(gamma2).json\", \"w\")\n",
    "\n",
    "JSON.print(outfile, demandsDiffDictTruck)\n",
    "\n",
    "close(outfile)"
   ]
  },
  {
   "cell_type": "code",
   "execution_count": null,
   "metadata": {
    "collapsed": false
   },
   "outputs": [],
   "source": [
    "outfile = open(\"./results/objInvVIDict_$(gamma1)_$(gamma2).json\", \"w\")\n",
    "\n",
    "JSON.print(outfile, objInvVIDict)\n",
    "\n",
    "close(outfile)"
   ]
  },
  {
   "cell_type": "code",
   "execution_count": null,
   "metadata": {
    "collapsed": false
   },
   "outputs": [],
   "source": [
    "outfile = open(\"./results/coeffs_dict_$(gamma1)_$(gamma2).json\", \"w\")\n",
    "\n",
    "JSON.print(outfile, coeffs_dict)\n",
    "\n",
    "close(outfile)"
   ]
  },
  {
   "cell_type": "code",
   "execution_count": null,
   "metadata": {
    "collapsed": false
   },
   "outputs": [],
   "source": [
    "outfile = open(\"./results/demandsVecDictCar_$(gamma1)_$(gamma2).json\", \"w\")\n",
    "\n",
    "JSON.print(outfile, demandsVecDictCar)\n",
    "\n",
    "close(outfile)"
   ]
  },
  {
   "cell_type": "code",
   "execution_count": null,
   "metadata": {
    "collapsed": true
   },
   "outputs": [],
   "source": [
    "outfile = open(\"./results/demandsVecDictTruck_$(gamma1)_$(gamma2).json\", \"w\")\n",
    "\n",
    "JSON.print(outfile, demandsVecDictTruck)\n",
    "\n",
    "close(outfile)"
   ]
  },
  {
   "cell_type": "code",
   "execution_count": null,
   "metadata": {
    "collapsed": false
   },
   "outputs": [],
   "source": [
    "outfile = open(\"./results/demandsDictCar_$(gamma1)_$(gamma2).json\", \"w\")\n",
    "\n",
    "JSON.print(outfile, demandsDictCar)\n",
    "\n",
    "close(outfile)"
   ]
  },
  {
   "cell_type": "code",
   "execution_count": null,
   "metadata": {
    "collapsed": true
   },
   "outputs": [],
   "source": [
    "outfile = open(\"./results/demandsDictTruck_$(gamma1)_$(gamma2).json\", \"w\")\n",
    "\n",
    "JSON.print(outfile, demandsDictTruck)\n",
    "\n",
    "close(outfile)"
   ]
  },
  {
   "cell_type": "code",
   "execution_count": null,
   "metadata": {
    "collapsed": false
   },
   "outputs": [],
   "source": [
    "outfile = open(\"./results/tapFlowDicDict_$(gamma1)_$(gamma2).json\", \"w\")\n",
    "\n",
    "JSON.print(outfile, tapFlowDicDict)\n",
    "\n",
    "close(outfile)"
   ]
  },
  {
   "cell_type": "code",
   "execution_count": null,
   "metadata": {
    "collapsed": false
   },
   "outputs": [],
   "source": [
    "outfile = open(\"./results/tapFlowVecDict_$(gamma1)_$(gamma2).json\", \"w\")\n",
    "\n",
    "JSON.print(outfile, tapFlowVecDict)\n",
    "\n",
    "close(outfile)"
   ]
  }
 ],
 "metadata": {
  "kernelspec": {
   "display_name": "Julia 0.5.1",
   "language": "julia",
   "name": "julia-0.5"
  },
  "language_info": {
   "file_extension": ".jl",
   "mimetype": "application/julia",
   "name": "julia",
   "version": "0.5.1"
  }
 },
 "nbformat": 4,
 "nbformat_minor": 0
}
