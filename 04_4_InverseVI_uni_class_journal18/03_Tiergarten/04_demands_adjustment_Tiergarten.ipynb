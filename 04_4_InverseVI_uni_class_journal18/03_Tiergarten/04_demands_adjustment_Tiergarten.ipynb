{
 "cells": [
  {
   "cell_type": "code",
   "execution_count": 1,
   "metadata": {
    "collapsed": false
   },
   "outputs": [],
   "source": [
    "using PyCall\n",
    "unshift!(PyVector(pyimport(\"sys\")[\"path\"]), \"\");\n",
    "@pyimport Compute_Jacobian_Tiergarten"
   ]
  },
  {
   "cell_type": "code",
   "execution_count": 2,
   "metadata": {
    "collapsed": false
   },
   "outputs": [],
   "source": [
    "numNodes = Compute_Jacobian_Tiergarten.numNodes;\n",
    "numLinks = Compute_Jacobian_Tiergarten.numLinks;\n",
    "numODpairs = Compute_Jacobian_Tiergarten.numODpairs;\n",
    "numZones = Compute_Jacobian_Tiergarten.numZones\n",
    "od_pairs = Compute_Jacobian_Tiergarten.od_pairs;\n",
    "link_list_js = Compute_Jacobian_Tiergarten.link_list_js;\n",
    "link_length_list = Compute_Jacobian_Tiergarten.link_length_list;"
   ]
  },
  {
   "cell_type": "code",
   "execution_count": 3,
   "metadata": {
    "collapsed": false
   },
   "outputs": [
    {
     "name": "stderr",
     "output_type": "stream",
     "text": [
      "WARNING: Method definition (::Type{Graphs.KeyVertex})(Int64, #K<:Any) in module Graphs at /home/jzh/.julia/v0.5/Graphs/src/common.jl:12 overwritten at /home/jzh/.julia/v0.5/Graphs/src/common.jl:16.\n",
      "WARNING: Method definition (::Type{Graphs.Edge})(Int64, #V<:Any, #V<:Any) in module Graphs at /home/jzh/.julia/v0.5/Graphs/src/common.jl:54 overwritten at /home/jzh/.julia/v0.5/Graphs/src/common.jl:60.\n",
      "WARNING: Method definition (::Type{Graphs.ExEdge})(Int64, #V<:Any, #V<:Any, Base.Dict{String, Any}) in module Graphs at /home/jzh/.julia/v0.5/Graphs/src/common.jl:72 overwritten at /home/jzh/.julia/v0.5/Graphs/src/common.jl:83.\n",
      "WARNING: Method definition (::Type{Graphs.TargetIterator})(#G<:Graphs.AbstractGraph, #EList<:Any) in module Graphs at /home/jzh/.julia/v0.5/Graphs/src/common.jl:123 overwritten at /home/jzh/.julia/v0.5/Graphs/src/common.jl:127.\n",
      "WARNING: Method definition (::Type{Graphs.SourceIterator})(#G<:Graphs.AbstractGraph, #EList<:Any) in module Graphs at /home/jzh/.julia/v0.5/Graphs/src/common.jl:141 overwritten at /home/jzh/.julia/v0.5/Graphs/src/common.jl:145.\n",
      "WARNING: Method definition edge_property_requirement(Graphs.AbstractEdgePropertyInspector{#T<:Any}, Graphs.AbstractGraph{#V<:Any, E<:Any}) in module Graphs at /home/jzh/.julia/v0.5/Graphs/src/common.jl:164 overwritten at /home/jzh/.julia/v0.5/Graphs/src/common.jl:179.\n",
      "WARNING: Method definition vertex_index(#V<:Union{Graphs.KeyVertex, Graphs.ExVertex}, Graphs.GenericGraph{#V<:Union{Graphs.KeyVertex, Graphs.ExVertex}, E<:Any, VList<:Any, EList<:Any, IncList<:Any}) in module Graphs at /home/jzh/.julia/v0.5/Graphs/src/graph.jl:65 overwritten at /home/jzh/.julia/v0.5/Graphs/src/graph.jl:67.\n",
      "WARNING: Method definition (::Type{Graphs.GDistanceVisitor})(#G<:Graphs.AbstractGraph, #DMap<:Any) in module Graphs at /home/jzh/.julia/v0.5/Graphs/src/breadth_first_visit.jl:107 overwritten at /home/jzh/.julia/v0.5/Graphs/src/breadth_first_visit.jl:111.\n"
     ]
    }
   ],
   "source": [
    "include(\"../../Julia_files/initia_data.jl\");\n",
    "include(\"../../Julia_files/load_network_uni_class.jl\");\n",
    "include(\"prepare_data_Tiergarten.jl\");\n",
    "include(\"extract_data_Tiergarten.jl\");\n",
    "include(\"../../Julia_files/tap_MSA.jl\");\n",
    "include(\"../../Julia_files/inverseVI.jl\");\n",
    "include(\"../../Julia_files/demands_adjustment_gradi.jl\");"
   ]
  },
  {
   "cell_type": "code",
   "execution_count": 4,
   "metadata": {
    "collapsed": false
   },
   "outputs": [
    {
     "data": {
      "text/plain": [
       "Dict{Any,Any} with 2 entries:\n",
       "  0 => Dict{Any,Any}(Pair{Any,Any}((8,23),0.86),Pair{Any,Any}((21,13),9.22),Pai…\n",
       "  1 => Dict{Any,Any}(Pair{Any,Any}((8,23),0.933277),Pair{Any,Any}((21,13),10.65…"
      ]
     },
     "execution_count": 4,
     "metadata": {},
     "output_type": "execute_result"
    }
   ],
   "source": [
    "demandsDict"
   ]
  },
  {
   "cell_type": "code",
   "execution_count": 5,
   "metadata": {
    "collapsed": false
   },
   "outputs": [],
   "source": [
    "fcoeffs = [1, 0, 0, 0, 1];\n",
    "\n",
    "# get observed flow vector (corresponding to ground truth demands and ground truth costs)\n",
    "tapFlowDicDict[0], tapFlowVecDict[0] = tapMSA(demandsDict[0], fcoeffs);"
   ]
  },
  {
   "cell_type": "code",
   "execution_count": 6,
   "metadata": {
    "collapsed": false
   },
   "outputs": [],
   "source": [
    "# get arcs data corresponding to ground truth demands and flows\n",
    "arcsDict[0] = observFlow(\"./benchmark_data/Tiergarten_net.txt\", tapFlowDicDict[0]);"
   ]
  },
  {
   "cell_type": "code",
   "execution_count": 7,
   "metadata": {
    "collapsed": false
   },
   "outputs": [
    {
     "data": {
      "text/plain": [
       "Dict{Any,Any} with 766 entries:\n",
       "  (248,65)  => Arc(248,65,900.0,17.0,494.57)\n",
       "  (137,106) => Arc(137,106,2800.0,1.66667,223.97)\n",
       "  (267,256) => Arc(267,256,2400.0,7.33333,86.9503)\n",
       "  (354,353) => Arc(354,353,900.0,1.0,416.929)\n",
       "  (56,55)   => Arc(56,55,600.0,0.333333,0.0)\n",
       "  (259,255) => Arc(259,255,2400.0,0.666667,0.0)\n",
       "  (125,177) => Arc(125,177,900.0,1.66667,0.0)\n",
       "  (36,35)   => Arc(36,35,2800.0,0.333333,19.6513)\n",
       "  (183,184) => Arc(183,184,900.0,0.333333,0.0)\n",
       "  (43,361)  => Arc(43,361,2800.0,12.6667,6.53038)\n",
       "  (16,277)  => Arc(16,277,999999.0,0.0,1556.27)\n",
       "  (298,307) => Arc(298,307,2400.0,1.0,1529.74)\n",
       "  (31,34)   => Arc(31,34,2800.0,0.666667,106.18)\n",
       "  (187,191) => Arc(187,191,600.0,0.666667,228.489)\n",
       "  (241,244) => Arc(241,244,2400.0,0.333333,0.0)\n",
       "  (84,95)   => Arc(84,95,900.0,2.33333,0.0)\n",
       "  (221,2)   => Arc(221,2,999999.0,0.0,739.205)\n",
       "  (23,351)  => Arc(23,351,999999.0,0.0,0.0)\n",
       "  (159,200) => Arc(159,200,2400.0,12.6667,0.0)\n",
       "  (96,92)   => Arc(96,92,900.0,2.0,0.0)\n",
       "  (35,39)   => Arc(35,39,2800.0,0.333333,3.97078)\n",
       "  (24,243)  => Arc(24,243,999999.0,0.0,0.0)\n",
       "  (28,32)   => Arc(28,32,2800.0,3.66667,182.82)\n",
       "  (151,17)  => Arc(151,17,999999.0,0.0,893.943)\n",
       "  (107,84)  => Arc(107,84,900.0,0.333333,129.848)\n",
       "  ⋮         => ⋮"
      ]
     },
     "execution_count": 7,
     "metadata": {},
     "output_type": "execute_result"
    }
   ],
   "source": [
    "arcsDict[0]"
   ]
  },
  {
   "cell_type": "code",
   "execution_count": null,
   "metadata": {
    "collapsed": false
   },
   "outputs": [],
   "source": [
    "deg_list = [3, 4, 5, 6]\n",
    "c_list = [0.5, 1.0, 1.5]\n",
    "lam_list = [0.01, 0.1, 1.0, 10.0, 100.0]\n",
    "\n",
    "for deg in deg_list\n",
    "    for c in c_list\n",
    "        for lam in lam_list\n",
    "            coeffs_dict[(deg, c, lam, 1)], objInvVIDict[1] = train(lam, deg, c, demandsDict[0], arcsDict[0]);\n",
    "        end\n",
    "    end\n",
    "end"
   ]
  },
  {
   "cell_type": "code",
   "execution_count": null,
   "metadata": {
    "collapsed": false
   },
   "outputs": [],
   "source": [
    "outfile = open(\"./results_Tiergarten/coeffs_dict_Tiergarten.json\", \"w\")\n",
    "\n",
    "JSON.print(outfile, coeffs_dict)\n",
    "\n",
    "close(outfile)"
   ]
  }
 ],
 "metadata": {
  "kernelspec": {
   "display_name": "Julia 0.5.0",
   "language": "julia",
   "name": "julia-0.5"
  },
  "language_info": {
   "file_extension": ".jl",
   "mimetype": "application/julia",
   "name": "julia",
   "version": "0.5.0"
  }
 },
 "nbformat": 4,
 "nbformat_minor": 0
}
