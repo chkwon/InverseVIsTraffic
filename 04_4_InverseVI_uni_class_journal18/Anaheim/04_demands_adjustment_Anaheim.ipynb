{
 "cells": [
  {
   "cell_type": "code",
   "execution_count": 1,
   "metadata": {
    "collapsed": false
   },
   "outputs": [],
   "source": [
    "using PyCall\n",
    "unshift!(PyVector(pyimport(\"sys\")[\"path\"]), \"\");\n",
    "@pyimport Compute_Jacobian_Anaheim"
   ]
  },
  {
   "cell_type": "code",
   "execution_count": 2,
   "metadata": {
    "collapsed": false
   },
   "outputs": [],
   "source": [
    "numNodes = Compute_Jacobian_Anaheim.numNodes;\n",
    "numLinks = Compute_Jacobian_Anaheim.numLinks;\n",
    "numODpairs = Compute_Jacobian_Anaheim.numODpairs;\n",
    "numZones = Compute_Jacobian_Anaheim.numZones;\n",
    "od_pairs = Compute_Jacobian_Anaheim.od_pairs;\n",
    "link_list_js = Compute_Jacobian_Anaheim.link_list_js;\n",
    "link_length_list = Compute_Jacobian_Anaheim.link_length_list;"
   ]
  },
  {
   "cell_type": "code",
   "execution_count": 3,
   "metadata": {
    "collapsed": false
   },
   "outputs": [
    {
     "name": "stderr",
     "output_type": "stream",
     "text": [
      "WARNING: Method definition (::Type{Graphs.KeyVertex})(Int64, #K<:Any) in module Graphs at /home/jzh/.julia/v0.5/Graphs/src/common.jl:12 overwritten at /home/jzh/.julia/v0.5/Graphs/src/common.jl:16.\n",
      "WARNING: Method definition (::Type{Graphs.Edge})(Int64, #V<:Any, #V<:Any) in module Graphs at /home/jzh/.julia/v0.5/Graphs/src/common.jl:54 overwritten at /home/jzh/.julia/v0.5/Graphs/src/common.jl:60.\n",
      "WARNING: Method definition (::Type{Graphs.ExEdge})(Int64, #V<:Any, #V<:Any, Base.Dict{String, Any}) in module Graphs at /home/jzh/.julia/v0.5/Graphs/src/common.jl:72 overwritten at /home/jzh/.julia/v0.5/Graphs/src/common.jl:83.\n",
      "WARNING: Method definition (::Type{Graphs.TargetIterator})(#G<:Graphs.AbstractGraph, #EList<:Any) in module Graphs at /home/jzh/.julia/v0.5/Graphs/src/common.jl:123 overwritten at /home/jzh/.julia/v0.5/Graphs/src/common.jl:127.\n",
      "WARNING: Method definition (::Type{Graphs.SourceIterator})(#G<:Graphs.AbstractGraph, #EList<:Any) in module Graphs at /home/jzh/.julia/v0.5/Graphs/src/common.jl:141 overwritten at /home/jzh/.julia/v0.5/Graphs/src/common.jl:145.\n",
      "WARNING: Method definition edge_property_requirement(Graphs.AbstractEdgePropertyInspector{#T<:Any}, Graphs.AbstractGraph{#V<:Any, E<:Any}) in module Graphs at /home/jzh/.julia/v0.5/Graphs/src/common.jl:164 overwritten at /home/jzh/.julia/v0.5/Graphs/src/common.jl:179.\n",
      "WARNING: Method definition vertex_index(#V<:Union{Graphs.KeyVertex, Graphs.ExVertex}, Graphs.GenericGraph{#V<:Union{Graphs.KeyVertex, Graphs.ExVertex}, E<:Any, VList<:Any, EList<:Any, IncList<:Any}) in module Graphs at /home/jzh/.julia/v0.5/Graphs/src/graph.jl:65 overwritten at /home/jzh/.julia/v0.5/Graphs/src/graph.jl:67.\n",
      "WARNING: Method definition (::Type{Graphs.GDistanceVisitor})(#G<:Graphs.AbstractGraph, #DMap<:Any) in module Graphs at /home/jzh/.julia/v0.5/Graphs/src/breadth_first_visit.jl:107 overwritten at /home/jzh/.julia/v0.5/Graphs/src/breadth_first_visit.jl:111.\n"
     ]
    }
   ],
   "source": [
    "include(\"../../Julia_files/initia_data.jl\");\n",
    "include(\"../../Julia_files/load_network_uni_class.jl\");\n",
    "include(\"prepare_data_Anaheim.jl\");\n",
    "include(\"extract_data_Anaheim.jl\");\n",
    "include(\"../../Julia_files/tap_MSA.jl\");\n",
    "include(\"../../Julia_files/inverseVI.jl\");\n",
    "include(\"../../Julia_files/demands_adjustment_gradi.jl\");"
   ]
  },
  {
   "cell_type": "code",
   "execution_count": 4,
   "metadata": {
    "collapsed": false
   },
   "outputs": [],
   "source": [
    "fcoeffs = [1, 0, 0, 0, .15];\n",
    "\n",
    "# get observed flow vector (corresponding to ground truth demands and ground truth costs)\n",
    "tapFlowDicDict[0], tapFlowVecDict[0] = tapMSA(demandsDict[0], fcoeffs);"
   ]
  },
  {
   "cell_type": "code",
   "execution_count": 5,
   "metadata": {
    "collapsed": false
   },
   "outputs": [
    {
     "data": {
      "text/plain": [
       "Dict{Any,Any} with 914 entries:\n",
       "  (71,255)  => Arc(71,255,1800.0,0.5,2256.86)\n",
       "  (323,324) => Arc(323,324,5400.0,0.5,1101.68)\n",
       "  (354,353) => Arc(354,353,5400.0,1.0,8.1826)\n",
       "  (60,230)  => Arc(60,230,9000.0,0.333333,2184.31)\n",
       "  (223,346) => Arc(223,346,1800.0,0.5,1407.46)\n",
       "  (147,146) => Arc(147,146,7200.0,0.763321,3563.88)\n",
       "  (337,33)  => Arc(337,33,12600.0,0.149068,6581.72)\n",
       "  (366,365) => Arc(366,365,5400.0,0.5,1008.7)\n",
       "  (390,375) => Arc(390,375,5400.0,2.0,0.0)\n",
       "  (315,316) => Arc(315,316,5400.0,2.57992,0.0)\n",
       "  (198,197) => Arc(198,197,7200.0,0.152623,6072.44)\n",
       "  (333,334) => Arc(333,334,5400.0,0.420076,1501.87)\n",
       "  (367,368) => Arc(367,368,5400.0,0.720076,132.977)\n",
       "  (244,339) => Arc(244,339,1800.0,0.5,1770.03)\n",
       "  (274,41)  => Arc(274,41,5400.0,1.0,0.0)\n",
       "  (225,330) => Arc(225,330,1800.0,0.5,997.887)\n",
       "  (49,369)  => Arc(49,369,5400.0,1.0,0.0)\n",
       "  (274,275) => Arc(274,275,5400.0,2.0,501.6)\n",
       "  (15,254)  => Arc(15,254,5400.0,1.0,407.1)\n",
       "  (226,225) => Arc(226,225,9000.0,0.937836,5169.63)\n",
       "  (218,392) => Arc(218,392,1800.0,0.5,430.737)\n",
       "  (323,322) => Arc(323,322,5400.0,2.0,1692.6)\n",
       "  (203,202) => Arc(203,202,7200.0,0.272615,3707.63)\n",
       "  (367,384) => Arc(367,384,5400.0,2.27992,0.0)\n",
       "  (135,298) => Arc(135,298,1800.0,0.5,468.043)\n",
       "  ⋮         => ⋮"
      ]
     },
     "execution_count": 5,
     "metadata": {},
     "output_type": "execute_result"
    }
   ],
   "source": [
    "# get arcs data corresponding to ground truth demands and flows\n",
    "arcsDict[0] = observFlow(\"./benchmark_data/Anaheim_net.txt\", tapFlowDicDict[0])"
   ]
  },
  {
   "cell_type": "code",
   "execution_count": 6,
   "metadata": {
    "collapsed": false
   },
   "outputs": [],
   "source": [
    "deg_list = [3, 4, 5, 6]\n",
    "c_list = [0.5, 1.0, 1.5]\n",
    "lam_list = [0.01, 0.1, 1.0, 10.0, 100.0]\n",
    "\n",
    "for deg in deg_list\n",
    "    for c in c_list\n",
    "        for lam in lam_list\n",
    "            coeffs_dict[(deg, c, lam, 1)], objInvVIDict[1] = train(lam, deg, c, demandsDict[0], arcsDict[0]);\n",
    "        end\n",
    "    end\n",
    "end"
   ]
  },
  {
   "cell_type": "code",
   "execution_count": 7,
   "metadata": {
    "collapsed": false,
    "scrolled": true
   },
   "outputs": [],
   "source": [
    "outfile = open(\"./results_Anaheim/coeffs_dict_Anaheim.json\", \"w\")\n",
    "\n",
    "JSON.print(outfile, coeffs_dict)\n",
    "\n",
    "close(outfile)"
   ]
  }
 ],
 "metadata": {
  "anaconda-cloud": {},
  "kernelspec": {
   "display_name": "Julia 0.5.0",
   "language": "julia",
   "name": "julia-0.5"
  },
  "language_info": {
   "file_extension": ".jl",
   "mimetype": "application/julia",
   "name": "julia",
   "version": "0.5.0"
  }
 },
 "nbformat": 4,
 "nbformat_minor": 0
}
