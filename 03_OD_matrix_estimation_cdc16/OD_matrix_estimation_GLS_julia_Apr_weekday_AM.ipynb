{
 "cells": [
  {
   "cell_type": "code",
   "execution_count": 1,
   "metadata": {},
   "outputs": [
    {
     "name": "stderr",
     "output_type": "stream",
     "text": [
      "\u001b[1m\u001b[34mINFO: Recompiling stale cache file /home/jzh/.julia/lib/v0.4/PyCall.ji for module PyCall.\n",
      "\u001b[0m"
     ]
    },
    {
     "name": "stdout",
     "output_type": "stream",
     "text": [
      "No dicts found; please check load_dicts...\n"
     ]
    }
   ],
   "source": [
    "using PyCall\n",
    "unshift!(PyVector(pyimport(\"sys\")[\"path\"]), \"\");\n",
    "@pyimport GLS_Apr_weekday_AM"
   ]
  },
  {
   "cell_type": "code",
   "execution_count": 2,
   "metadata": {},
   "outputs": [
    {
     "data": {
      "text/plain": [
       "314"
      ]
     },
     "execution_count": 2,
     "metadata": {},
     "output_type": "execute_result"
    }
   ],
   "source": [
    "xi_list = GLS_Apr_weekday_AM.xi_list\n",
    "P = GLS_Apr_weekday_AM.P\n",
    "L = GLS_Apr_weekday_AM.L  # dimension of xi"
   ]
  },
  {
   "cell_type": "code",
   "execution_count": 3,
   "metadata": {},
   "outputs": [
    {
     "data": {
      "text/plain": [
       "(56,314)"
      ]
     },
     "execution_count": 3,
     "metadata": {},
     "output_type": "execute_result"
    }
   ],
   "source": [
    "size(P, 1), size(P, 2)"
   ]
  },
  {
   "cell_type": "code",
   "execution_count": 5,
   "metadata": {},
   "outputs": [
    {
     "name": "stderr",
     "output_type": "stream",
     "text": [
      "\u001b[1m\u001b[34mINFO: Precompiling module JuMP...\n",
      "\u001b[0mWARNING: New definition \n",
      "    push!(DataStructures.Accumulator{#T<:Any, #V<:Number}, #T<:Any) at /home/jzh/.julia/v0.4/DataStructures/src/accumulator.jl:54\n",
      "is ambiguous with: \n",
      "    push!(Base.Associative, Base.Pair) at dict.jl:294.\n",
      "To fix, define \n",
      "    push!(DataStructures.Accumulator{K<:Any, #V<:Number}, _<:Base.Pair)\n",
      "before the new definition.\n",
      "WARNING: using Compat.>: in module JuMP conflicts with an existing identifier.\n",
      "\u001b[1m\u001b[34mINFO: Recompiling stale cache file /home/jzh/.julia/lib/v0.4/JuMP.ji for module JuMP.\n",
      "\u001b[0mWARNING: using Compat.>: in module JuMP conflicts with an existing identifier.\n",
      "\u001b[1m\u001b[34mINFO: Precompiling module Ipopt...\n",
      "\u001b[0m"
     ]
    },
    {
     "ename": "LoadError",
     "evalue": "syntax: missing comma or ) in argument list",
     "output_type": "error",
     "traceback": [
      "syntax: missing comma or ) in argument list",
      ""
     ]
    }
   ],
   "source": [
    "using JuMP\n",
    "using Ipopt\n",
    "\n",
    "mGLSJulia = Model(solver=IpoptSolver())\n",
    "\n",
    "@variable(mGLSJulia, lam[1:size(P,1)] >= 0)\n",
    "\n",
    "@variable(mGLSJulia, p[1:size(P,1), 1:size(P,2)] >= 0)\n",
    "\n",
    "for i = 1:size(P,1)\n",
    "    for j = 1:size(P,2)\n",
    "        if P[i,j] == 0\n",
    "            @constraint(mGLSJulia, p[i,j] == 0)\n",
    "        end\n",
    "    end\n",
    "end\n",
    "            \n",
    "for i = 1:size(P,1)\n",
    "    @NLconstraint(mGLSJulia, sum(p[i,j] for j = 1:size(P,2)) == 1)\n",
    "end\n",
    "\n",
    "for l = 1:L\n",
    "    @NLconstraint(mGLSJulia, sum(p[i,l] * lam[i] for i = 1:size(P,1)) == xi_list[l])\n",
    "end\n",
    "    \n",
    "@NLobjective(mGLSJulia, Min, sum(p[1,j] for j = 1:size(P,2)))  # play no actual role, but could not use zero objective\n",
    "\n",
    "solve(mGLSJulia)"
   ]
  },
  {
   "cell_type": "code",
   "execution_count": null,
   "metadata": {
    "collapsed": true
   },
   "outputs": [],
   "source": [
    "getvalue(lam)"
   ]
  },
  {
   "cell_type": "code",
   "execution_count": null,
   "metadata": {
    "collapsed": true
   },
   "outputs": [],
   "source": [
    "getObjectiveValue(mGLSJulia)"
   ]
  },
  {
   "cell_type": "code",
   "execution_count": null,
   "metadata": {
    "collapsed": true
   },
   "outputs": [],
   "source": [
    "GLS_Apr_weekday_AM.saveDemandVec(getvalue(lam))"
   ]
  },
  {
   "cell_type": "code",
   "execution_count": null,
   "metadata": {
    "collapsed": true
   },
   "outputs": [],
   "source": []
  }
 ],
 "metadata": {
  "kernelspec": {
   "display_name": "Julia 0.4.5",
   "language": "julia",
   "name": "julia-0.4"
  },
  "language_info": {
   "file_extension": ".jl",
   "mimetype": "application/julia",
   "name": "julia",
   "version": "0.4.5"
  }
 },
 "nbformat": 4,
 "nbformat_minor": 1
}
