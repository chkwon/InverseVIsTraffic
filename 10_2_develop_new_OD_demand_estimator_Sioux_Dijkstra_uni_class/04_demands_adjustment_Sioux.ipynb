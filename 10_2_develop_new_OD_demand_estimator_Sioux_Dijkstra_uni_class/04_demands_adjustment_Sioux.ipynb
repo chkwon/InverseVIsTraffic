{
 "cells": [
  {
   "cell_type": "code",
   "execution_count": 1,
   "metadata": {
    "collapsed": false
   },
   "outputs": [],
   "source": [
    "using PyCall\n",
    "unshift!(PyVector(pyimport(\"sys\")[\"path\"]), \"\");\n",
    "@pyimport Compute_Jacobian_Sioux"
   ]
  },
  {
   "cell_type": "code",
   "execution_count": 2,
   "metadata": {
    "collapsed": false
   },
   "outputs": [],
   "source": [
    "numNodes = Compute_Jacobian_Sioux.numNodes;\n",
    "numLinks = Compute_Jacobian_Sioux.numLinks;\n",
    "numZones = Compute_Jacobian_Sioux.numZones;\n",
    "numODpairs = Compute_Jacobian_Sioux.numODpairs;\n",
    "od_pairs = Compute_Jacobian_Sioux.od_pairs;\n",
    "link_list_js = Compute_Jacobian_Sioux.link_list_js;\n",
    "link_length_list = Compute_Jacobian_Sioux.link_length_list;"
   ]
  },
  {
   "cell_type": "code",
   "execution_count": 3,
   "metadata": {
    "collapsed": false
   },
   "outputs": [
    {
     "name": "stderr",
     "output_type": "stream",
     "text": [
      "WARNING: Method definition (::Type{Graphs.KeyVertex})(Int64, #K<:Any) in module Graphs at /home/jzh/.julia/v0.5/Graphs/src/common.jl:12 overwritten at /home/jzh/.julia/v0.5/Graphs/src/common.jl:16.\n",
      "WARNING: Method definition (::Type{Graphs.Edge})(Int64, #V<:Any, #V<:Any) in module Graphs at /home/jzh/.julia/v0.5/Graphs/src/common.jl:54 overwritten at /home/jzh/.julia/v0.5/Graphs/src/common.jl:60.\n",
      "WARNING: Method definition (::Type{Graphs.ExEdge})(Int64, #V<:Any, #V<:Any, Base.Dict{String, Any}) in module Graphs at /home/jzh/.julia/v0.5/Graphs/src/common.jl:72 overwritten at /home/jzh/.julia/v0.5/Graphs/src/common.jl:83.\n",
      "WARNING: Method definition (::Type{Graphs.TargetIterator})(#G<:Graphs.AbstractGraph, #EList<:Any) in module Graphs at /home/jzh/.julia/v0.5/Graphs/src/common.jl:123 overwritten at /home/jzh/.julia/v0.5/Graphs/src/common.jl:127.\n",
      "WARNING: Method definition (::Type{Graphs.SourceIterator})(#G<:Graphs.AbstractGraph, #EList<:Any) in module Graphs at /home/jzh/.julia/v0.5/Graphs/src/common.jl:141 overwritten at /home/jzh/.julia/v0.5/Graphs/src/common.jl:145.\n",
      "WARNING: Method definition edge_property_requirement(Graphs.AbstractEdgePropertyInspector{#T<:Any}, Graphs.AbstractGraph{#V<:Any, E<:Any}) in module Graphs at /home/jzh/.julia/v0.5/Graphs/src/common.jl:164 overwritten at /home/jzh/.julia/v0.5/Graphs/src/common.jl:179.\n",
      "WARNING: Method definition vertex_index(#V<:Union{Graphs.KeyVertex, Graphs.ExVertex}, Graphs.GenericGraph{#V<:Union{Graphs.KeyVertex, Graphs.ExVertex}, E<:Any, VList<:Any, EList<:Any, IncList<:Any}) in module Graphs at /home/jzh/.julia/v0.5/Graphs/src/graph.jl:65 overwritten at /home/jzh/.julia/v0.5/Graphs/src/graph.jl:67.\n",
      "WARNING: Method definition (::Type{Graphs.GDistanceVisitor})(#G<:Graphs.AbstractGraph, #DMap<:Any) in module Graphs at /home/jzh/.julia/v0.5/Graphs/src/breadth_first_visit.jl:107 overwritten at /home/jzh/.julia/v0.5/Graphs/src/breadth_first_visit.jl:111.\n"
     ]
    }
   ],
   "source": [
    "include(\"../Julia_files/initia_data.jl\");\n",
    "include(\"../Julia_files/load_network_uni_class.jl\");\n",
    "include(\"prepare_data_Sioux.jl\");\n",
    "include(\"extract_data_Sioux.jl\");\n",
    "include(\"../Julia_files/tap_MSA.jl\");\n",
    "include(\"../Julia_files/inverseVI.jl\");\n",
    "include(\"../Julia_files/demands_adjustment_gradi.jl\");"
   ]
  },
  {
   "cell_type": "code",
   "execution_count": 4,
   "metadata": {
    "collapsed": false
   },
   "outputs": [],
   "source": [
    "demandsDiffDict[1] = norm(demandsDicToVec(demandsDict[1]) - demandsDicToVec(demandsDict[0]))/\n",
    "                     norm(demandsDicToVec(demandsDict[0]));"
   ]
  },
  {
   "cell_type": "code",
   "execution_count": 5,
   "metadata": {
    "collapsed": false
   },
   "outputs": [],
   "source": [
    "fcoeffs = [1, 0, 0, 0, .15];\n",
    "\n",
    "# get observed flow vector (corresponding to ground truth demands and ground truth costs)\n",
    "tapFlowDicDict[0], tapFlowVecDict[0] = tapMSA(demandsDict[0], fcoeffs);"
   ]
  },
  {
   "cell_type": "code",
   "execution_count": 6,
   "metadata": {
    "collapsed": false
   },
   "outputs": [],
   "source": [
    "# get arcs data corresponding to ground truth demands and flows\n",
    "arcsDict[0] = observFlow(\"./benchmark_data/Sioux_net.txt\", tapFlowDicDict[0]);"
   ]
  },
  {
   "cell_type": "code",
   "execution_count": 7,
   "metadata": {
    "collapsed": false
   },
   "outputs": [],
   "source": [
    "deg = 6\n",
    "c = 3.5\n",
    "lam = 1.0\n",
    "\n",
    "coeffs_dict[(deg, c, lam, 1)], objInvVIDict[1] = train(lam, deg, c, demandsDict[1], arcsDict[0]);"
   ]
  },
  {
   "cell_type": "code",
   "execution_count": 8,
   "metadata": {
    "collapsed": false
   },
   "outputs": [],
   "source": [
    "# get initial flow vector (corresponding to initial demands)\n",
    "tapFlowDicDict[1], tapFlowVecDict[1] = tapMSA(demandsDict[1], coeffs_dict[(deg, c, lam, 1)]);\n",
    "\n",
    "demandsVecDict[0] = demandsDicToVec(demandsDict[0]);"
   ]
  },
  {
   "cell_type": "code",
   "execution_count": 9,
   "metadata": {
    "collapsed": false
   },
   "outputs": [
    {
     "data": {
      "text/plain": [
       "1"
      ]
     },
     "execution_count": 9,
     "metadata": {},
     "output_type": "execute_result"
    }
   ],
   "source": [
    "# weight parameters\n",
    "gamma1 = 10^4\n",
    "gamma2 = 1"
   ]
  },
  {
   "cell_type": "code",
   "execution_count": 10,
   "metadata": {
    "collapsed": false
   },
   "outputs": [],
   "source": [
    "demandsVecDict[1] = demandsDicToVec(demandsDict[1]);\n",
    "objFunDict[1] = objF(gamma1, gamma2, demandsVecDict[1], demandsVecDict[0], coeffs_dict[(deg, c, lam, 1)]);"
   ]
  },
  {
   "cell_type": "code",
   "execution_count": 11,
   "metadata": {
    "collapsed": false
   },
   "outputs": [],
   "source": [
    "# get arcs data corresponding to initial demands and flows\n",
    "arcsDict[1] = observFlow(\"./benchmark_data/Sioux_net.txt\", tapFlowDicDict[1]);"
   ]
  },
  {
   "cell_type": "code",
   "execution_count": 12,
   "metadata": {
    "collapsed": false
   },
   "outputs": [],
   "source": [
    "linkCostDicDict[1] = tapFlowVecToLinkCostDict(tapFlowVecDict[1], coeffs_dict[(deg, c, lam, 1)]);"
   ]
  },
  {
   "cell_type": "code",
   "execution_count": 13,
   "metadata": {
    "collapsed": false
   },
   "outputs": [
    {
     "data": {
      "text/plain": [
       "(6.028714025602726,6.0)"
      ]
     },
     "execution_count": 13,
     "metadata": {},
     "output_type": "execute_result"
    }
   ],
   "source": [
    "linkCostDicDict[1][\"0\"], link_length_list[1]"
   ]
  },
  {
   "cell_type": "code",
   "execution_count": 14,
   "metadata": {
    "collapsed": false
   },
   "outputs": [],
   "source": [
    "jacobiSpiessDict[1] = Compute_Jacobian_Sioux.jacobianSpiess(numNodes, numLinks, numODpairs, od_pairs, \n",
    "                                              link_list_js, [linkCostDicDict[1][\"$(i)\"] for i=0:numLinks-1]);"
   ]
  },
  {
   "cell_type": "code",
   "execution_count": 15,
   "metadata": {
    "collapsed": true
   },
   "outputs": [],
   "source": [
    "# maximum number of iterations\n",
    "N = 50;  \n",
    "\n",
    "# Armijo rule parameters\n",
    "rho = 2;\n",
    "M = 10;\n",
    "\n",
    "# search direction parameter\n",
    "epsilon_1 = 0;\n",
    "\n",
    "# stop criterion parameter\n",
    "epsilon_2 = 1e-8;"
   ]
  },
  {
   "cell_type": "code",
   "execution_count": 16,
   "metadata": {
    "collapsed": false
   },
   "outputs": [],
   "source": [
    "for l = 1:N\n",
    "    \n",
    "    jacobDict[l] = jacobiSpiessDict[l]\n",
    "    \n",
    "    demandsVecDict[l] = demandsDicToVec(demandsDict[l]);\n",
    "\n",
    "    descDirecDict[l] = descDirec(gamma1, gamma2, demandsVecDict[l], demandsVecDict[0], tapFlowVecDict[l], \n",
    "        tapFlowVecDict[0], jacobDict[l], numODpairs, numLinks);\n",
    "\n",
    "    searchDirecDict[l] = searchDirec(demandsVecDict[l], descDirecDict[l], epsilon_1);\n",
    "\n",
    "    thetaMaxDict[l] = thetaMax(demandsVecDict[l], searchDirecDict[l]);\n",
    "\n",
    "    demandsVecDict[l+1] = similar(demandsVecDict[0]);\n",
    "    \n",
    "    demandsVecDict[l+1], objFunDict[l+1] = armijo(gamma1, gamma2, objFunDict[l], demandsVecDict[l], \n",
    "        demandsVecDict[0], coeffs_dict[(deg, c, lam, l)], searchDirecDict[l], thetaMaxDict[l], rho, M);\n",
    "            \n",
    "    demandsDict[l+1] = demandsVecToDic(demandsVecDict[l+1]);\n",
    "    \n",
    "    tapFlowDicDict[l+1], tapFlowVecDict[l+1] = tapMSA(demandsDict[l+1], coeffs_dict[(deg, c, lam, l)]);\n",
    "        \n",
    "    arcsDict[l+1] = observFlow(\"./benchmark_data/Sioux_net.txt\", tapFlowDicDict[l+1]);\n",
    "        \n",
    "    coeffs_dict[(deg, c, lam, l+1)], objInvVIDict[l+1] = train(lam, deg, c, demandsDict[l+1], arcsDict[0]);\n",
    "    \n",
    "    objFunTmp = objF(gamma1, gamma2, demandsVecDict[l+1], demandsVecDict[0], \n",
    "        coeffs_dict[(deg, c, lam, l+1)])\n",
    "    \n",
    "    if objFunTmp > objFunDict[l+1]\n",
    "        coeffs_dict[(deg, c, lam, l+1)] = coeffs_dict[(deg, c, lam, l)]\n",
    "    end\n",
    "\n",
    "    linkCostDicDict[l+1] = tapFlowVecToLinkCostDict(tapFlowVecDict[l+1], coeffs_dict[(deg, c, lam, l+1)]);\n",
    "    \n",
    "    jacobiSpiessDict[l+1] = Compute_Jacobian_Sioux.jacobianSpiess(numNodes, numLinks, numODpairs, od_pairs, \n",
    "                                              link_list_js, [linkCostDicDict[l+1][\"$(i)\"] for i=0:numLinks-1]);\n",
    "        \n",
    "    demandsDiffDict[l+1] = norm(demandsVecDict[l+1] - demandsVecDict[0]) / norm(demandsVecDict[0]);\n",
    "    \n",
    "    # stopping criterion\n",
    "    if (objFunDict[l] - objFunDict[l+1]) / objFunDict[1] < epsilon_2\n",
    "        break\n",
    "    end\n",
    "        \n",
    "end\n",
    "\n",
    "# normalize objective function value\n",
    "for l = 1:(length(objFunDict))\n",
    "    norObjFunDict[l] = objFunDict[l] / objFunDict[1];\n",
    "end"
   ]
  },
  {
   "cell_type": "code",
   "execution_count": 17,
   "metadata": {
    "collapsed": false
   },
   "outputs": [
    {
     "data": {
      "text/plain": [
       "Dict{Any,Any} with 10 entries:\n",
       "  0 => [100.0,100.0,500.0,200.0,300.0,500.0,800.0,500.0,1300.0,500.0  …  400.0,…\n",
       "  4 => [99.995,100.05,499.71,200.109,299.762,500.244,800.406,499.678,1300.83,50…\n",
       "  7 => [100.0,100.007,499.963,200.012,299.972,500.034,800.054,499.957,1300.1,50…\n",
       "  9 => [100.0,100.006,499.969,200.01,299.976,500.03,800.046,499.963,1300.09,500…\n",
       "  2 => [99.6663,102.14,486.248,205.003,288.799,511.134,818.699,485.086,1338.77,…\n",
       "  3 => [99.9371,100.434,497.287,201.003,297.779,502.22,803.719,497.04,1307.69,5…\n",
       "  5 => [99.9999,100.011,499.94,200.022,299.952,500.054,800.087,499.931,1300.17,…\n",
       "  8 => [100.0,100.006,499.968,200.01,299.976,500.03,800.047,499.963,1300.09,500…\n",
       "  6 => [100.0,100.008,499.957,200.015,299.967,500.039,800.062,499.95,1300.12,50…\n",
       "  1 => [98.7226,108.564,444.608,220.179,255.035,544.795,875.241,440.222,1456.21…"
      ]
     },
     "execution_count": 17,
     "metadata": {},
     "output_type": "execute_result"
    }
   ],
   "source": [
    "demandsVecDict"
   ]
  },
  {
   "cell_type": "code",
   "execution_count": 18,
   "metadata": {
    "collapsed": false
   },
   "outputs": [
    {
     "data": {
      "text/plain": [
       "Dict{Any,Any} with 9 entries:\n",
       "  7 => 5.15219e-7\n",
       "  4 => 2.82861e-5\n",
       "  9 => 3.75951e-7\n",
       "  2 => 0.0617633\n",
       "  3 => 0.00242982\n",
       "  5 => 1.28861e-6\n",
       "  8 => 3.79069e-7\n",
       "  6 => 6.7391e-7\n",
       "  1 => 1.0"
      ]
     },
     "execution_count": 18,
     "metadata": {},
     "output_type": "execute_result"
    }
   ],
   "source": [
    "norObjFunDict"
   ]
  },
  {
   "cell_type": "code",
   "execution_count": 19,
   "metadata": {
    "collapsed": false
   },
   "outputs": [
    {
     "data": {
      "text/plain": [
       "Dict{Any,Any} with 9 entries:\n",
       "  (6,3.5,1.0,1) => [1.0,0.0516668,-0.164568,0.111851,0.137789,-0.0102345,0.0020…\n",
       "  (6,3.5,1.0,8) => [1.0,0.0088589,-0.0530469,0.0809681,0.103223,0.00940095,-6.7…\n",
       "  (6,3.5,1.0,2) => [1.0,0.0208211,-0.0938824,0.106842,0.103747,0.0049745,0.0007…\n",
       "  (6,3.5,1.0,7) => [1.0,0.0088589,-0.0530469,0.0809681,0.103223,0.00940095,-6.7…\n",
       "  (6,3.5,1.0,4) => [1.0,0.0088699,-0.0530624,0.0809401,0.10328,0.00937078,-6.23…\n",
       "  (6,3.5,1.0,5) => [1.0,0.0088827,-0.0531391,0.0810842,0.10318,0.00939558,-6.36…\n",
       "  (6,3.5,1.0,3) => [1.0,0.00874261,-0.0525185,0.0800535,0.103932,0.00915002,-3.…\n",
       "  (6,3.5,1.0,9) => [1.0,0.0088589,-0.0530469,0.0809681,0.103223,0.00940095,-6.7…\n",
       "  (6,3.5,1.0,6) => [1.0,0.0088589,-0.0530469,0.0809681,0.103223,0.00940095,-6.7…"
      ]
     },
     "execution_count": 19,
     "metadata": {},
     "output_type": "execute_result"
    }
   ],
   "source": [
    "coeffs_dict"
   ]
  },
  {
   "cell_type": "code",
   "execution_count": 20,
   "metadata": {
    "collapsed": false
   },
   "outputs": [],
   "source": [
    "outfile = open(\"./results/norObjFunDict_$(gamma1)_$(gamma2).json\", \"w\")\n",
    "\n",
    "JSON.print(outfile, norObjFunDict)\n",
    "\n",
    "close(outfile)"
   ]
  },
  {
   "cell_type": "code",
   "execution_count": 21,
   "metadata": {
    "collapsed": false
   },
   "outputs": [],
   "source": [
    "outfile = open(\"./results/demandsDiffDict_$(gamma1)_$(gamma2).json\", \"w\")\n",
    "\n",
    "JSON.print(outfile, demandsDiffDict)\n",
    "\n",
    "close(outfile)"
   ]
  },
  {
   "cell_type": "code",
   "execution_count": 22,
   "metadata": {
    "collapsed": false
   },
   "outputs": [],
   "source": [
    "outfile = open(\"./results/objInvVIDict_$(gamma1)_$(gamma2).json\", \"w\")\n",
    "\n",
    "JSON.print(outfile, objInvVIDict)\n",
    "\n",
    "close(outfile)"
   ]
  },
  {
   "cell_type": "code",
   "execution_count": 23,
   "metadata": {
    "collapsed": false
   },
   "outputs": [],
   "source": [
    "outfile = open(\"./results/coeffs_dict_$(gamma1)_$(gamma2).json\", \"w\")\n",
    "\n",
    "JSON.print(outfile, coeffs_dict)\n",
    "\n",
    "close(outfile)"
   ]
  },
  {
   "cell_type": "code",
   "execution_count": 24,
   "metadata": {
    "collapsed": false
   },
   "outputs": [],
   "source": [
    "outfile = open(\"./results/demandsVecDict_$(gamma1)_$(gamma2).json\", \"w\")\n",
    "\n",
    "JSON.print(outfile, demandsVecDict)\n",
    "\n",
    "close(outfile)"
   ]
  },
  {
   "cell_type": "code",
   "execution_count": 25,
   "metadata": {
    "collapsed": false
   },
   "outputs": [],
   "source": [
    "outfile = open(\"./results/demandsDict_$(gamma1)_$(gamma2).json\", \"w\")\n",
    "\n",
    "JSON.print(outfile, demandsDict)\n",
    "\n",
    "close(outfile)"
   ]
  },
  {
   "cell_type": "code",
   "execution_count": 26,
   "metadata": {
    "collapsed": false
   },
   "outputs": [],
   "source": [
    "outfile = open(\"./results/tapFlowDicDict_$(gamma1)_$(gamma2).json\", \"w\")\n",
    "\n",
    "JSON.print(outfile, tapFlowDicDict)\n",
    "\n",
    "close(outfile)"
   ]
  },
  {
   "cell_type": "code",
   "execution_count": 27,
   "metadata": {
    "collapsed": false
   },
   "outputs": [],
   "source": [
    "outfile = open(\"./results/tapFlowVecDict_$(gamma1)_$(gamma2).json\", \"w\")\n",
    "\n",
    "JSON.print(outfile, tapFlowVecDict)\n",
    "\n",
    "close(outfile)"
   ]
  }
 ],
 "metadata": {
  "kernelspec": {
   "display_name": "Julia 0.5.0",
   "language": "julia",
   "name": "julia-0.5"
  },
  "language_info": {
   "file_extension": ".jl",
   "mimetype": "application/julia",
   "name": "julia",
   "version": "0.5.0"
  }
 },
 "nbformat": 4,
 "nbformat_minor": 0
}
