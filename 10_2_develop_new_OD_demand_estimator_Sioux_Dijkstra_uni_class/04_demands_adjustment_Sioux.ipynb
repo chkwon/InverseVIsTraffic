{
 "cells": [
  {
   "cell_type": "code",
   "execution_count": 1,
   "metadata": {
    "collapsed": false
   },
   "outputs": [],
   "source": [
    "using PyCall\n",
    "unshift!(PyVector(pyimport(\"sys\")[\"path\"]), \"\");\n",
    "@pyimport Compute_Jacobian_Sioux"
   ]
  },
  {
   "cell_type": "code",
   "execution_count": 2,
   "metadata": {
    "collapsed": false
   },
   "outputs": [],
   "source": [
    "numNodes = Compute_Jacobian_Sioux.numNodes;\n",
    "numLinks = Compute_Jacobian_Sioux.numLinks;\n",
    "numZones = Compute_Jacobian_Sioux.numZones;\n",
    "numODpairs = Compute_Jacobian_Sioux.numODpairs;\n",
    "od_pairs = Compute_Jacobian_Sioux.od_pairs;\n",
    "link_list_js = Compute_Jacobian_Sioux.link_list_js;\n",
    "link_length_list = Compute_Jacobian_Sioux.link_length_list;"
   ]
  },
  {
   "cell_type": "code",
   "execution_count": 3,
   "metadata": {
    "collapsed": false
   },
   "outputs": [
    {
     "name": "stderr",
     "output_type": "stream",
     "text": [
      "WARNING: Method definition (::Type{Graphs.KeyVertex})(Int64, #K<:Any) in module Graphs at /home/jzh/.julia/v0.5/Graphs/src/common.jl:12 overwritten at /home/jzh/.julia/v0.5/Graphs/src/common.jl:16.\n",
      "WARNING: Method definition (::Type{Graphs.Edge})(Int64, #V<:Any, #V<:Any) in module Graphs at /home/jzh/.julia/v0.5/Graphs/src/common.jl:54 overwritten at /home/jzh/.julia/v0.5/Graphs/src/common.jl:60.\n",
      "WARNING: Method definition (::Type{Graphs.ExEdge})(Int64, #V<:Any, #V<:Any, Base.Dict{String, Any}) in module Graphs at /home/jzh/.julia/v0.5/Graphs/src/common.jl:72 overwritten at /home/jzh/.julia/v0.5/Graphs/src/common.jl:83.\n",
      "WARNING: Method definition (::Type{Graphs.TargetIterator})(#G<:Graphs.AbstractGraph, #EList<:Any) in module Graphs at /home/jzh/.julia/v0.5/Graphs/src/common.jl:123 overwritten at /home/jzh/.julia/v0.5/Graphs/src/common.jl:127.\n",
      "WARNING: Method definition (::Type{Graphs.SourceIterator})(#G<:Graphs.AbstractGraph, #EList<:Any) in module Graphs at /home/jzh/.julia/v0.5/Graphs/src/common.jl:141 overwritten at /home/jzh/.julia/v0.5/Graphs/src/common.jl:145.\n",
      "WARNING: Method definition edge_property_requirement(Graphs.AbstractEdgePropertyInspector{#T<:Any}, Graphs.AbstractGraph{#V<:Any, E<:Any}) in module Graphs at /home/jzh/.julia/v0.5/Graphs/src/common.jl:164 overwritten at /home/jzh/.julia/v0.5/Graphs/src/common.jl:179.\n",
      "WARNING: Method definition vertex_index(#V<:Union{Graphs.ExVertex, Graphs.KeyVertex}, Graphs.GenericGraph{#V<:Union{Graphs.ExVertex, Graphs.KeyVertex}, E<:Any, VList<:Any, EList<:Any, IncList<:Any}) in module Graphs at /home/jzh/.julia/v0.5/Graphs/src/graph.jl:65 overwritten at /home/jzh/.julia/v0.5/Graphs/src/graph.jl:67.\n",
      "WARNING: Method definition (::Type{Graphs.GDistanceVisitor})(#G<:Graphs.AbstractGraph, #DMap<:Any) in module Graphs at /home/jzh/.julia/v0.5/Graphs/src/breadth_first_visit.jl:107 overwritten at /home/jzh/.julia/v0.5/Graphs/src/breadth_first_visit.jl:111.\n"
     ]
    }
   ],
   "source": [
    "include(\"../Julia_files/initia_data.jl\");\n",
    "include(\"../Julia_files/load_network_uni_class.jl\");\n",
    "include(\"prepare_data_Sioux.jl\");\n",
    "include(\"extract_data_Sioux.jl\");\n",
    "include(\"../Julia_files/tap_MSA.jl\");\n",
    "include(\"../Julia_files/inverseVI.jl\");\n",
    "include(\"../Julia_files/demands_adjustment_gradi.jl\");"
   ]
  },
  {
   "cell_type": "code",
   "execution_count": 4,
   "metadata": {
    "collapsed": false
   },
   "outputs": [],
   "source": [
    "demandsDiffDict[1] = norm(demandsDicToVec(demandsDict[1]) - demandsDicToVec(demandsDict[0]))/\n",
    "                     norm(demandsDicToVec(demandsDict[0]));"
   ]
  },
  {
   "cell_type": "code",
   "execution_count": 5,
   "metadata": {
    "collapsed": false
   },
   "outputs": [],
   "source": [
    "fcoeffs = [1, 0, 0, 0, .15];\n",
    "\n",
    "# get observed flow vector (corresponding to ground truth demands and ground truth costs)\n",
    "tapFlowDicDict[0], tapFlowVecDict[0] = tapMSA(demandsDict[0], fcoeffs);"
   ]
  },
  {
   "cell_type": "code",
   "execution_count": 6,
   "metadata": {
    "collapsed": false
   },
   "outputs": [],
   "source": [
    "# get arcs data corresponding to ground truth demands and flows\n",
    "arcsDict[0] = observFlow(\"./benchmark_data/Sioux_net.txt\", tapFlowDicDict[0]);"
   ]
  },
  {
   "cell_type": "code",
   "execution_count": 7,
   "metadata": {
    "collapsed": false
   },
   "outputs": [],
   "source": [
    "deg = 6\n",
    "c = 3.5\n",
    "lam = 1.0\n",
    "\n",
    "coeffs_dict[(deg, c, lam, 1)], objInvVIDict[1] = train(lam, deg, c, demandsDict[1], arcsDict[0]);"
   ]
  },
  {
   "cell_type": "code",
   "execution_count": 8,
   "metadata": {
    "collapsed": false
   },
   "outputs": [],
   "source": [
    "# get initial flow vector (corresponding to initial demands)\n",
    "tapFlowDicDict[1], tapFlowVecDict[1] = tapMSA(demandsDict[1], coeffs_dict[(deg, c, lam, 1)]);\n",
    "\n",
    "demandsVecDict[0] = demandsDicToVec(demandsDict[0]);"
   ]
  },
  {
   "cell_type": "code",
   "execution_count": 9,
   "metadata": {
    "collapsed": false
   },
   "outputs": [
    {
     "data": {
      "text/plain": [
       "1"
      ]
     },
     "execution_count": 9,
     "metadata": {},
     "output_type": "execute_result"
    }
   ],
   "source": [
    "# weight parameters\n",
    "gamma1 = 1\n",
    "gamma2 = 1"
   ]
  },
  {
   "cell_type": "code",
   "execution_count": 10,
   "metadata": {
    "collapsed": false
   },
   "outputs": [],
   "source": [
    "demandsVecDict[1] = demandsDicToVec(demandsDict[1]);\n",
    "objFunDict[1] = objF(gamma1, gamma2, demandsVecDict[1], demandsVecDict[1], coeffs_dict[(deg, c, lam, 1)]);"
   ]
  },
  {
   "cell_type": "code",
   "execution_count": 11,
   "metadata": {
    "collapsed": false
   },
   "outputs": [],
   "source": [
    "# get arcs data corresponding to initial demands and flows\n",
    "arcsDict[1] = observFlow(\"./benchmark_data/Sioux_net.txt\", tapFlowDicDict[1]);"
   ]
  },
  {
   "cell_type": "code",
   "execution_count": 12,
   "metadata": {
    "collapsed": false
   },
   "outputs": [],
   "source": [
    "linkCostDicDict[1] = tapFlowVecToLinkCostDict(tapFlowVecDict[1], coeffs_dict[(deg, c, lam, 1)]);"
   ]
  },
  {
   "cell_type": "code",
   "execution_count": 13,
   "metadata": {
    "collapsed": false
   },
   "outputs": [
    {
     "data": {
      "text/plain": [
       "(6.0123802238228645,6.0)"
      ]
     },
     "execution_count": 13,
     "metadata": {},
     "output_type": "execute_result"
    }
   ],
   "source": [
    "linkCostDicDict[1][\"0\"], link_length_list[1]"
   ]
  },
  {
   "cell_type": "code",
   "execution_count": 14,
   "metadata": {
    "collapsed": false
   },
   "outputs": [],
   "source": [
    "jacobiSpiessDict[1] = Compute_Jacobian_Sioux.jacobianSpiess(numNodes, numLinks, numODpairs, od_pairs, \n",
    "                                              link_list_js, [linkCostDicDict[1][\"$(i)\"] for i=0:numLinks-1]);"
   ]
  },
  {
   "cell_type": "code",
   "execution_count": 15,
   "metadata": {
    "collapsed": true
   },
   "outputs": [],
   "source": [
    "# maximum number of iterations\n",
    "N = 100;  \n",
    "\n",
    "# Armijo rule parameters\n",
    "rho = 2;\n",
    "M = 10;\n",
    "\n",
    "# search direction parameter\n",
    "epsilon_1 = 0;\n",
    "\n",
    "# stop criterion parameter\n",
    "epsilon_2 = 1e-20;"
   ]
  },
  {
   "cell_type": "code",
   "execution_count": 16,
   "metadata": {
    "collapsed": false
   },
   "outputs": [],
   "source": [
    "for l = 1:N\n",
    "    \n",
    "    jacobDict[l] = jacobiSpiessDict[l]\n",
    "    \n",
    "    demandsVecDict[l] = demandsDicToVec(demandsDict[l]);\n",
    "\n",
    "    descDirecDict[l] = descDirec(gamma1, gamma2, demandsVecDict[l], demandsVecDict[1], tapFlowVecDict[l], \n",
    "        tapFlowVecDict[0], jacobDict[l], numODpairs, numLinks);\n",
    "\n",
    "    searchDirecDict[l] = searchDirec(demandsVecDict[l], descDirecDict[l], epsilon_1);\n",
    "\n",
    "    thetaMaxDict[l] = thetaMax(demandsVecDict[l], searchDirecDict[l]);\n",
    "\n",
    "    demandsVecDict[l+1] = similar(demandsVecDict[0]);\n",
    "    \n",
    "    demandsVecDict[l+1], objFunDict[l+1] = armijo(gamma1, gamma2, objFunDict[l], demandsVecDict[l], \n",
    "        demandsVecDict[1], coeffs_dict[(deg, c, lam, l)], searchDirecDict[l], thetaMaxDict[l], rho, M);\n",
    "            \n",
    "    demandsDict[l+1] = demandsVecToDic(demandsVecDict[l+1]);\n",
    "    \n",
    "    tapFlowDicDict[l+1], tapFlowVecDict[l+1] = tapMSA(demandsDict[l+1], coeffs_dict[(deg, c, lam, l)]);\n",
    "        \n",
    "    arcsDict[l+1] = observFlow(\"./benchmark_data/Sioux_net.txt\", tapFlowDicDict[l+1]);\n",
    "        \n",
    "    coeffs_dict[(deg, c, lam, l+1)], objInvVIDict[l+1] = train(lam, deg, c, demandsDict[l+1], arcsDict[0]);\n",
    "    \n",
    "#     objFunTmp = objF(gamma1, gamma2, demandsVecDict[l+1], demandsVecDict[1], \n",
    "#         coeffs_dict[(deg, c, lam, l+1)])\n",
    "    \n",
    "#     if objFunTmp > objFunDict[l+1]\n",
    "#         coeffs_dict[(deg, c, lam, l+1)] = coeffs_dict[(deg, c, lam, l)]\n",
    "#     end\n",
    "\n",
    "    linkCostDicDict[l+1] = tapFlowVecToLinkCostDict(tapFlowVecDict[l+1], coeffs_dict[(deg, c, lam, l+1)]);\n",
    "    \n",
    "    jacobiSpiessDict[l+1] = Compute_Jacobian_Sioux.jacobianSpiess(numNodes, numLinks, numODpairs, od_pairs, \n",
    "                                              link_list_js, [linkCostDicDict[l+1][\"$(i)\"] for i=0:numLinks-1]);\n",
    "        \n",
    "    demandsDiffDict[l+1] = norm(demandsVecDict[l+1] - demandsVecDict[0]) / norm(demandsVecDict[0]);\n",
    "    \n",
    "    # stopping criterion\n",
    "    if (objFunDict[l] - objFunDict[l+1]) / objFunDict[1] < epsilon_2\n",
    "        break\n",
    "    end\n",
    "        \n",
    "end\n",
    "\n",
    "# normalize objective function value\n",
    "for l = 1:(length(objFunDict))\n",
    "    norObjFunDict[l] = objFunDict[l] / objFunDict[1];\n",
    "end"
   ]
  },
  {
   "cell_type": "code",
   "execution_count": 17,
   "metadata": {
    "collapsed": false
   },
   "outputs": [
    {
     "data": {
      "text/plain": [
       "Dict{Any,Any} with 23 entries:\n",
       "  18 => [78.9311,107.187,479.285,206.652,256.876,513.084,829.132,450.373,1341.6…\n",
       "  2  => [98.3441,105.194,473.829,209.182,276.134,522.699,837.626,466.148,1373.1…\n",
       "  16 => [79.7778,107.38,478.791,206.344,257.436,513.786,828.976,450.387,1344.0,…\n",
       "  11 => [81.7118,106.868,476.865,204.468,258.913,515.688,829.322,449.365,1347.1…\n",
       "  21 => [78.985,107.317,479.648,207.033,257.084,513.526,829.74,450.697,1341.37,…\n",
       "  0  => [100.0,100.0,500.0,200.0,300.0,500.0,800.0,500.0,1300.0,500.0  …  400.0…\n",
       "  7  => [89.5716,107.596,477.17,207.05,266.762,520.13,833.544,456.337,1360.1,50…\n",
       "  9  => [88.4929,107.349,476.865,206.343,265.64,519.343,832.807,455.01,1358.08,…\n",
       "  10 => [88.01,107.318,476.862,206.154,265.181,519.095,832.584,454.528,1357.24,…\n",
       "  19 => [78.9336,107.193,479.295,206.658,256.885,513.099,829.153,450.376,1341.5…\n",
       "  17 => [78.8757,107.074,479.066,206.384,256.771,512.943,828.869,450.115,1341.5…\n",
       "  8  => [88.8955,107.399,476.905,206.509,266.052,519.591,833.053,455.4,1358.74,…\n",
       "  22 => [78.985,107.317,479.648,207.033,257.084,513.526,829.74,450.697,1341.37,…\n",
       "  6  => [89.818,107.676,477.303,207.31,267.016,520.315,833.722,456.757,1360.69,…\n",
       "  4  => [96.5757,105.511,474.028,207.701,274.205,522.106,836.701,462.858,1369.3…\n",
       "  3  => [97.6193,105.453,474.04,208.571,275.306,522.534,837.296,464.62,1371.34,…\n",
       "  5  => [92.9162,106.143,474.867,205.998,270.377,521.107,835.019,458.041,1363.4…\n",
       "  20 => [78.9411,107.207,479.323,206.687,256.907,513.122,829.196,450.411,1341.5…\n",
       "  13 => [81.0031,107.34,477.773,205.3,258.358,514.86,829.111,449.797,1346.22,50…\n",
       "  14 => [80.4275,107.365,478.5,206.311,257.929,514.668,829.111,450.837,1346.19,…\n",
       "  15 => [80.118,107.249,478.305,205.809,257.684,514.224,828.976,449.966,1344.53…\n",
       "  12 => [81.0249,107.339,477.749,205.271,258.372,514.859,829.107,449.772,1346.2…\n",
       "  1  => [99.3613,104.282,472.304,210.09,277.518,522.398,837.62,470.111,1378.11,…"
      ]
     },
     "execution_count": 17,
     "metadata": {},
     "output_type": "execute_result"
    }
   ],
   "source": [
    "demandsVecDict"
   ]
  },
  {
   "cell_type": "code",
   "execution_count": 18,
   "metadata": {
    "collapsed": false
   },
   "outputs": [
    {
     "data": {
      "text/plain": [
       "Dict{Any,Any} with 22 entries:\n",
       "  18 => 0.180609\n",
       "  2  => 0.680624\n",
       "  16 => 0.190828\n",
       "  11 => 0.231972\n",
       "  21 => 0.174241\n",
       "  7  => 0.330612\n",
       "  9  => 0.307892\n",
       "  10 => 0.298771\n",
       "  19 => 0.179309\n",
       "  17 => 0.186215\n",
       "  8  => 0.313475\n",
       "  22 => 0.174241\n",
       "  6  => 0.344652\n",
       "  4  => 0.564348\n",
       "  3  => 0.636088\n",
       "  5  => 0.403301\n",
       "  20 => 0.177916\n",
       "  13 => 0.216307\n",
       "  14 => 0.204918\n",
       "  15 => 0.197353\n",
       "  12 => 0.217888\n",
       "  1  => 1.0"
      ]
     },
     "execution_count": 18,
     "metadata": {},
     "output_type": "execute_result"
    }
   ],
   "source": [
    "norObjFunDict"
   ]
  },
  {
   "cell_type": "code",
   "execution_count": 19,
   "metadata": {
    "collapsed": false
   },
   "outputs": [
    {
     "data": {
      "text/plain": [
       "Dict{Any,Any} with 22 entries:\n",
       "  (6,3.5,1.0,10) => [1.0,0.0106218,-0.0593991,0.0860574,0.103339,0.00815082,0.0…\n",
       "  (6,3.5,1.0,17) => [1.0,0.0105049,-0.0588829,0.0852323,0.103933,0.00795426,0.0…\n",
       "  (6,3.5,1.0,12) => [1.0,0.0105084,-0.0588984,0.0852569,0.103915,0.00796013,0.0…\n",
       "  (6,3.5,1.0,9)  => [1.0,0.0106238,-0.0594078,0.0860715,0.103329,0.00815416,0.0…\n",
       "  (6,3.5,1.0,2)  => [1.0,0.00827867,-0.0504685,0.0767698,0.106299,0.0083647,6.2…\n",
       "  (6,3.5,1.0,20) => [1.0,0.0106073,-0.059335,0.0859549,0.103413,0.00812634,0.00…\n",
       "  (6,3.5,1.0,7)  => [1.0,0.010654,-0.0596476,0.0868303,0.102503,0.00851754,0.00…\n",
       "  (6,3.5,1.0,4)  => [1.0,0.0181877,-0.0847275,0.100304,0.104578,0.00561508,0.00…\n",
       "  (6,3.5,1.0,16) => [1.0,0.0107239,-0.0598497,0.0867776,0.102822,0.00832227,0.0…\n",
       "  (6,3.5,1.0,19) => [1.0,0.0105987,-0.059297,0.0858942,0.103457,0.00811188,0.00…\n",
       "  (6,3.5,1.0,3)  => [1.0,0.00907216,-0.0529879,0.0776986,0.106601,0.00821198,5.…\n",
       "  (6,3.5,1.0,6)  => [1.0,0.010273,-0.058287,0.0857901,0.102405,0.0088216,0.0001…\n",
       "  (6,3.5,1.0,1)  => [1.0,0.0282439,-0.117605,0.11601,0.107114,0.00296965,0.0007…\n",
       "  (6,3.5,1.0,8)  => [1.0,0.0106443,-0.0594982,0.0862158,0.103226,0.00818849,0.0…\n",
       "  (6,3.5,1.0,21) => [1.0,0.0107243,-0.0598514,0.0867804,0.10282,0.00832293,0.00…\n",
       "  (6,3.5,1.0,18) => [1.0,0.0105957,-0.0592839,0.0858732,0.103472,0.00810689,0.0…\n",
       "  (6,3.5,1.0,5)  => [1.0,0.00958137,-0.0553271,0.0813873,0.105326,0.00793296,0.…\n",
       "  (6,3.5,1.0,11) => [1.0,0.0106737,-0.0596282,0.0864236,0.103076,0.00823796,0.0…\n",
       "  (6,3.5,1.0,13) => [1.0,0.0105255,-0.058974,0.0853779,0.103828,0.00798893,0.00…\n",
       "  (6,3.5,1.0,15) => [1.0,0.0106562,-0.059551,0.0863001,0.103165,0.00820856,0.00…\n",
       "  (6,3.5,1.0,14) => [1.0,0.0109018,-0.0606351,0.0880332,0.101919,0.00862129,0.0…\n",
       "  (6,3.5,1.0,22) => [1.0,0.0107243,-0.0598514,0.0867804,0.10282,0.00832293,0.00…"
      ]
     },
     "execution_count": 19,
     "metadata": {},
     "output_type": "execute_result"
    }
   ],
   "source": [
    "coeffs_dict"
   ]
  },
  {
   "cell_type": "code",
   "execution_count": 20,
   "metadata": {
    "collapsed": false
   },
   "outputs": [],
   "source": [
    "outfile = open(\"./results/norObjFunDict_$(gamma1)_$(gamma2).json\", \"w\")\n",
    "\n",
    "JSON.print(outfile, norObjFunDict)\n",
    "\n",
    "close(outfile)"
   ]
  },
  {
   "cell_type": "code",
   "execution_count": 21,
   "metadata": {
    "collapsed": false
   },
   "outputs": [],
   "source": [
    "outfile = open(\"./results/demandsDiffDict_$(gamma1)_$(gamma2).json\", \"w\")\n",
    "\n",
    "JSON.print(outfile, demandsDiffDict)\n",
    "\n",
    "close(outfile)"
   ]
  },
  {
   "cell_type": "code",
   "execution_count": 22,
   "metadata": {
    "collapsed": false
   },
   "outputs": [],
   "source": [
    "outfile = open(\"./results/objInvVIDict_$(gamma1)_$(gamma2).json\", \"w\")\n",
    "\n",
    "JSON.print(outfile, objInvVIDict)\n",
    "\n",
    "close(outfile)"
   ]
  },
  {
   "cell_type": "code",
   "execution_count": 23,
   "metadata": {
    "collapsed": false
   },
   "outputs": [],
   "source": [
    "outfile = open(\"./results/coeffs_dict_$(gamma1)_$(gamma2).json\", \"w\")\n",
    "\n",
    "JSON.print(outfile, coeffs_dict)\n",
    "\n",
    "close(outfile)"
   ]
  },
  {
   "cell_type": "code",
   "execution_count": 24,
   "metadata": {
    "collapsed": false
   },
   "outputs": [],
   "source": [
    "outfile = open(\"./results/demandsVecDict_$(gamma1)_$(gamma2).json\", \"w\")\n",
    "\n",
    "JSON.print(outfile, demandsVecDict)\n",
    "\n",
    "close(outfile)"
   ]
  },
  {
   "cell_type": "code",
   "execution_count": 25,
   "metadata": {
    "collapsed": false
   },
   "outputs": [],
   "source": [
    "outfile = open(\"./results/demandsDict_$(gamma1)_$(gamma2).json\", \"w\")\n",
    "\n",
    "JSON.print(outfile, demandsDict)\n",
    "\n",
    "close(outfile)"
   ]
  },
  {
   "cell_type": "code",
   "execution_count": 26,
   "metadata": {
    "collapsed": false
   },
   "outputs": [],
   "source": [
    "outfile = open(\"./results/tapFlowDicDict_$(gamma1)_$(gamma2).json\", \"w\")\n",
    "\n",
    "JSON.print(outfile, tapFlowDicDict)\n",
    "\n",
    "close(outfile)"
   ]
  },
  {
   "cell_type": "code",
   "execution_count": 27,
   "metadata": {
    "collapsed": false
   },
   "outputs": [],
   "source": [
    "outfile = open(\"./results/tapFlowVecDict_$(gamma1)_$(gamma2).json\", \"w\")\n",
    "\n",
    "JSON.print(outfile, tapFlowVecDict)\n",
    "\n",
    "close(outfile)"
   ]
  }
 ],
 "metadata": {
  "kernelspec": {
   "display_name": "Julia 0.5.1",
   "language": "julia",
   "name": "julia-0.5"
  },
  "language_info": {
   "file_extension": ".jl",
   "mimetype": "application/julia",
   "name": "julia",
   "version": "0.5.1"
  }
 },
 "nbformat": 4,
 "nbformat_minor": 0
}
