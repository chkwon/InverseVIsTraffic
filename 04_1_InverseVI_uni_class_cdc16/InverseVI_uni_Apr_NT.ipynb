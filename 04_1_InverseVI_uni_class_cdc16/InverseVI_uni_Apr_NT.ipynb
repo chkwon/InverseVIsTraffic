{
 "cells": [
  {
   "cell_type": "code",
   "execution_count": 1,
   "metadata": {},
   "outputs": [
    {
     "data": {
      "text/plain": [
       "Arc"
      ]
     },
     "execution_count": 1,
     "metadata": {},
     "output_type": "execute_result"
    }
   ],
   "source": [
    "#include(\"defArc.jl\")\n",
    "\n",
    "type Arc\n",
    "    initNode::Int \n",
    "    termNode::Int \n",
    "    capacity::Float64\n",
    "    freeflowtime::Float64\n",
    "    flow::Float64\n",
    "end\n",
    "\n",
    "Arc(initNode::Int, termNode::Int, capacity::Float64, freeflowtime::Float64) = \n",
    "    Arc(initNode, termNode, capacity, freeflowtime, 0.)"
   ]
  },
  {
   "cell_type": "code",
   "execution_count": 2,
   "metadata": {},
   "outputs": [
    {
     "name": "stderr",
     "output_type": "stream",
     "text": [
      "WARNING: Method definition (::Type{Graphs.KeyVertex})(Int64, #K<:Any) in module Graphs at /home/jzh/.julia/v0.5/Graphs/src/common.jl:12 overwritten at /home/jzh/.julia/v0.5/Graphs/src/common.jl:16.\n",
      "WARNING: Method definition (::Type{Graphs.Edge})(Int64, #V<:Any, #V<:Any) in module Graphs at /home/jzh/.julia/v0.5/Graphs/src/common.jl:54 overwritten at /home/jzh/.julia/v0.5/Graphs/src/common.jl:60.\n",
      "WARNING: Method definition (::Type{Graphs.ExEdge})(Int64, #V<:Any, #V<:Any, Base.Dict{String, Any}) in module Graphs at /home/jzh/.julia/v0.5/Graphs/src/common.jl:72 overwritten at /home/jzh/.julia/v0.5/Graphs/src/common.jl:83.\n",
      "WARNING: Method definition (::Type{Graphs.TargetIterator})(#G<:Graphs.AbstractGraph, #EList<:Any) in module Graphs at /home/jzh/.julia/v0.5/Graphs/src/common.jl:123 overwritten at /home/jzh/.julia/v0.5/Graphs/src/common.jl:127.\n",
      "WARNING: Method definition (::Type{Graphs.SourceIterator})(#G<:Graphs.AbstractGraph, #EList<:Any) in module Graphs at /home/jzh/.julia/v0.5/Graphs/src/common.jl:141 overwritten at /home/jzh/.julia/v0.5/Graphs/src/common.jl:145.\n",
      "WARNING: Method definition edge_property_requirement(Graphs.AbstractEdgePropertyInspector{#T<:Any}, Graphs.AbstractGraph{#V<:Any, E<:Any}) in module Graphs at /home/jzh/.julia/v0.5/Graphs/src/common.jl:164 overwritten at /home/jzh/.julia/v0.5/Graphs/src/common.jl:179.\n",
      "WARNING: Method definition vertex_index(#V<:Union{Graphs.KeyVertex, Graphs.ExVertex}, Graphs.GenericGraph{#V<:Union{Graphs.KeyVertex, Graphs.ExVertex}, E<:Any, VList<:Any, EList<:Any, IncList<:Any}) in module Graphs at /home/jzh/.julia/v0.5/Graphs/src/graph.jl:65 overwritten at /home/jzh/.julia/v0.5/Graphs/src/graph.jl:67.\n",
      "WARNING: Method definition (::Type{Graphs.GDistanceVisitor})(#G<:Graphs.AbstractGraph, #DMap<:Any) in module Graphs at /home/jzh/.julia/v0.5/Graphs/src/breadth_first_visit.jl:107 overwritten at /home/jzh/.julia/v0.5/Graphs/src/breadth_first_visit.jl:111.\n"
     ]
    },
    {
     "data": {
      "text/plain": [
       "bpacost (generic function with 3 methods)"
      ]
     },
     "execution_count": 2,
     "metadata": {},
     "output_type": "execute_result"
    }
   ],
   "source": [
    "#include(\"fitTraffic.jl\")\n",
    "\n",
    "## Solve an inverse tarffic problem over polynomials \n",
    "## of degree at most d\n",
    "## optionally use a regularizer from the poly kernel\n",
    "\n",
    "using JuMP\n",
    "using Gurobi\n",
    "using Graphs\n",
    "\n",
    "\n",
    "polyEval(coeffs, pt) = sum([coeffs[i] * pt^(i-1) for i = 1:length(coeffs)])  \n",
    "\n",
    "polyEval(coeffs::Array{Float64, 1}, pt) = sum([coeffs[i] * pt^(i-1) for i = 1:length(coeffs)]) \n",
    "\n",
    "bpacost(flow::Float64, capacity::Float64, freeflowtime::Float64) = freeflowtime*(1 + .15 * (flow/capacity)^4)\n",
    "bpacost(flow::Float64, arc) = bpacost(flow, arc.capacity, arc.freeflowtime)\n",
    "bpacost(arc::Arc) = bpacost(arc.flow, arc)"
   ]
  },
  {
   "cell_type": "code",
   "execution_count": 3,
   "metadata": {},
   "outputs": [
    {
     "data": {
      "text/plain": [
       "setUpFitting (generic function with 1 method)"
      ]
     },
     "execution_count": 3,
     "metadata": {},
     "output_type": "execute_result"
    }
   ],
   "source": [
    "function setUpFitting(deg::Int, c::Float64)\n",
    "\n",
    "\tm = Model(solver=GurobiSolver(OutputFlag=false))\n",
    "    \n",
    "\t@variable(m, coeffs[1:deg+1])\n",
    "\t@variable(m, Calphas[1:deg+1])\n",
    "\n",
    "\t#build the graham matrix; cf. Ref. [21] (Regularization Networks and Support Vector Machines), page 47\n",
    "\tsamples = linspace(0, 1, deg + 1)\n",
    "\tk(x,y) = (c + x*y)^deg\n",
    "\tK = [ k(x,y) for x = samples, y=samples]\n",
    "\tK = convert(Array{Float64, 2}, K)\n",
    "\t#assert(rank(K) == deg+1)\n",
    "    \n",
    "\tC = chol(K + 1e-6* eye(deg+1))\n",
    "\tfor i=1:deg + 1\n",
    "\t\t@constraint(m, polyEval(coeffs, samples[i]) == sum{C[j, i] * Calphas[j], j=1:deg+1})\n",
    "\tend\n",
    "    \n",
    "\t@variable(m, reg_term >= 0)\n",
    "\treg_term_ = QuadExpr(Calphas[:], Calphas[:], ones(deg+1), AffExpr())\n",
    "    \n",
    "\t@constraint(m, reg_term >= reg_term_)\n",
    "    \n",
    "\treturn m, coeffs, reg_term\n",
    "\n",
    "end"
   ]
  },
  {
   "cell_type": "code",
   "execution_count": 4,
   "metadata": {},
   "outputs": [
    {
     "data": {
      "text/plain": [
       "fixCoeffs (generic function with 1 method)"
      ]
     },
     "execution_count": 4,
     "metadata": {},
     "output_type": "execute_result"
    }
   ],
   "source": [
    "function fixCoeffs(m, fcoeffs, coeffs)\n",
    "\tfor (fc, c) in zip(fcoeffs, coeffs[:])\n",
    "\t\t@constraint(m, fc == c)\n",
    "\tend\n",
    "end"
   ]
  },
  {
   "cell_type": "code",
   "execution_count": 5,
   "metadata": {},
   "outputs": [
    {
     "data": {
      "text/plain": [
       "addResid (generic function with 1 method)"
      ]
     },
     "execution_count": 5,
     "metadata": {},
     "output_type": "execute_result"
    }
   ],
   "source": [
    "function addResid(m, coeffs, ys, demands, arcs, scaling)\n",
    "\t@variable(m, resid)\n",
    "\t@variable(m, dual_cost)\n",
    "\t@variable(m, primal_cost)\n",
    "\n",
    "\t@constraint(m, dual_cost == sum{demands[(s,t)] * (ys[(s,t), t] - ys[(s,t), s]), (s,t)=keys(demands)})  \n",
    "\t@constraint(m, primal_cost == sum{a.flow * a.freeflowtime * polyEval(coeffs, a.flow/a.capacity), a=values(arcs)})\n",
    "\n",
    "\t@constraint(m, resid >= (dual_cost - primal_cost) / scaling )\n",
    "\t@constraint(m, resid >= (primal_cost - dual_cost) / scaling )\n",
    "\treturn resid\n",
    "end"
   ]
  },
  {
   "cell_type": "code",
   "execution_count": 6,
   "metadata": {},
   "outputs": [
    {
     "data": {
      "text/plain": [
       "addIncreasingCnsts (generic function with 1 method)"
      ]
     },
     "execution_count": 6,
     "metadata": {},
     "output_type": "execute_result"
    }
   ],
   "source": [
    "function addIncreasingCnsts(m, coeffs, arcs; TOL=0.)\n",
    "\tsorted_flows = sort([a.flow / a.capacity for a in values(arcs)])\n",
    "\t@constraint(m, polyEval(coeffs, 0) <= polyEval(coeffs, sorted_flows[1]))\n",
    "\tfor i = 2:length(sorted_flows)\n",
    "\t\t@constraint(m, polyEval(coeffs, sorted_flows[i-1]) <= polyEval(coeffs, sorted_flows[i]) + TOL)\n",
    "\tend\n",
    "    @constraint(m, coeffs[1] == 1)  # enforce g(0) = 1\n",
    "end"
   ]
  },
  {
   "cell_type": "code",
   "execution_count": 7,
   "metadata": {},
   "outputs": [
    {
     "data": {
      "text/plain": [
       "normalize (generic function with 3 methods)"
      ]
     },
     "execution_count": 7,
     "metadata": {},
     "output_type": "execute_result"
    }
   ],
   "source": [
    "#equates the total cost of the network to the true total cost\n",
    "function normalize(m, coeffs, tot_true_cost::Float64, arcs)\n",
    "\t@constraint(m, \n",
    "\t\tsum{a.freeflowtime * a.flow * polyEval(coeffs, a.flow / a.capacity), a=values(arcs)} == tot_true_cost)\n",
    "end\n",
    "\n",
    "function normalize(m, coeffs, scaled_flow::Float64, cost::Float64)\n",
    "\t@constraint(m, polyEval(coeffs, scaled_flow) == cost)\n",
    "end\n",
    "\n",
    "function normalize(m, coeffs, scaled_flows::Array{Float64, 1}, avgCost::Float64)\n",
    "    @constraint(m, sum{polyEval(coeffs, f), f=scaled_flows} == avgCost * length(scaled_flows))\n",
    "end"
   ]
  },
  {
   "cell_type": "code",
   "execution_count": 8,
   "metadata": {},
   "outputs": [
    {
     "data": {
      "text/plain": [
       "addNetworkCnsts (generic function with 1 method)"
      ]
     },
     "execution_count": 8,
     "metadata": {},
     "output_type": "execute_result"
    }
   ],
   "source": [
    "function addNetworkCnsts(m, coeffs, demands, arcs, numNodes)\n",
    "\t@variable(m, ys[keys(demands), 1:numNodes])\n",
    "\tfor k = keys(arcs)\n",
    "\t\ta = arcs[k]\n",
    "\t\trhs = a.freeflowtime * polyEval(coeffs, a.flow/a.capacity)\n",
    "\t\tfor od in keys(demands)\n",
    "\t\t\t@constraint(m, ys[od, k[2]] - ys[od, k[1]] <= rhs)\n",
    "\t\tend\n",
    "\tend\n",
    "\treturn ys\n",
    "end"
   ]
  },
  {
   "cell_type": "code",
   "execution_count": 9,
   "metadata": {
    "collapsed": true
   },
   "outputs": [],
   "source": [
    "############\n",
    "#Read in demand data\n",
    "file = open(\"../temp_files/OD_demand_matrix_Apr_weekday_NT.txt\")\n",
    "demands = Dict()\n",
    "n = 8  # number of nodes\n",
    "for i = 1:n\n",
    "    demands[(i,i)] = 0.0\n",
    "end\n",
    "for line in eachline(file)\n",
    "    OD_demand = split(line, \",\")\n",
    "    key, value = (parse(Int, OD_demand[1]), parse(Int, OD_demand[2])), parse(Float64, split(OD_demand[3], \"\\n\")[1])\n",
    "    demands[key] = value\n",
    "end\n",
    "close(file)"
   ]
  },
  {
   "cell_type": "code",
   "execution_count": 10,
   "metadata": {},
   "outputs": [
    {
     "data": {
      "text/plain": [
       "Dict{Any,Any} with 64 entries:\n",
       "  (3,6) => 731.132\n",
       "  (4,4) => 0.0\n",
       "  (3,1) => 1072.83\n",
       "  (4,5) => 416.299\n",
       "  (2,4) => 1752.89\n",
       "  (6,5) => 224.9\n",
       "  (8,4) => 1716.2\n",
       "  (1,2) => 505.455\n",
       "  (5,1) => 692.972\n",
       "  (3,4) => 682.816\n",
       "  (8,2) => 257.554\n",
       "  (2,3) => 104.347\n",
       "  (2,6) => 107.3\n",
       "  (5,4) => 399.232\n",
       "  (2,1) => 712.685\n",
       "  (2,5) => 246.534\n",
       "  (8,5) => 200.688\n",
       "  (1,4) => 785.649\n",
       "  (2,8) => 365.751\n",
       "  (5,8) => 167.284\n",
       "  (4,8) => 1833.31\n",
       "  (7,8) => 400.698\n",
       "  (1,1) => 0.0\n",
       "  (7,7) => 0.0\n",
       "  (5,7) => 451.598\n",
       "  ⋮     => ⋮"
      ]
     },
     "execution_count": 10,
     "metadata": {},
     "output_type": "execute_result"
    }
   ],
   "source": [
    "demands"
   ]
  },
  {
   "cell_type": "code",
   "execution_count": 11,
   "metadata": {
    "collapsed": true
   },
   "outputs": [],
   "source": [
    "using JSON\n",
    "\n",
    "link_day_minute_Apr_dict = readstring(\"../temp_files/link_day_minute_Apr_dict_JSON_adjusted.json\");\n",
    "link_day_minute_Apr_dict = replace(link_day_minute_Apr_dict, \"NaN\", 0);\n",
    "\n",
    "link_day_minute_Apr_dict = JSON.parse(link_day_minute_Apr_dict);"
   ]
  },
  {
   "cell_type": "code",
   "execution_count": 12,
   "metadata": {
    "collapsed": true
   },
   "outputs": [],
   "source": [
    "# week_day_Apr_list = [2, 3, 4, 5, 6, 9, 10, 11, 12, 13, 16, 17, 18, 19, 20, 23, 24, 25, 26, 27, 30]\n",
    "\n",
    "# training set 1\n",
    "week_day_Apr_list_1 = [2, 3, 4, 5, 6, 9, 10, 11, 12, 13, 16, 17, 18, 19]\n",
    "\n",
    "# training set 2\n",
    "week_day_Apr_list_2 = [2, 3, 4, 5, 6, 9, 10, 20, 23, 24, 25, 26, 27, 30]\n",
    "\n",
    "# training set 3\n",
    "week_day_Apr_list_3 = [11, 12, 13, 16, 17, 18, 19, 20, 23, 24, 25, 26, 27, 30]\n",
    "\n",
    "arcs_1 = Dict[]\n",
    "for j in week_day_Apr_list_1\n",
    "    arcs_1_ = Dict()\n",
    "    for i = 0:23\n",
    "        key = \"link_$(i)_$(j)\"\n",
    "        initNode = link_day_minute_Apr_dict[key][\"init_node\"]\n",
    "        termNode = link_day_minute_Apr_dict[key][\"term_node\"]\n",
    "        capacity = link_day_minute_Apr_dict[key][\"NT_capac\"]\n",
    "        freeflowtime = link_day_minute_Apr_dict[key][\"free_flow_time\"]\n",
    "        flow = link_day_minute_Apr_dict[key][\"NT_flow\"]\n",
    "        arcs_1_[(initNode, termNode)] = Arc(initNode, termNode, capacity, freeflowtime, flow)\n",
    "    end\n",
    "    push!(arcs_1, arcs_1_)\n",
    "end\n",
    "\n",
    "arcs_2 = Dict[]\n",
    "for j in week_day_Apr_list_2\n",
    "    arcs_2_ = Dict()\n",
    "    for i = 0:23\n",
    "        key = \"link_$(i)_$(j)\"\n",
    "        initNode = link_day_minute_Apr_dict[key][\"init_node\"]\n",
    "        termNode = link_day_minute_Apr_dict[key][\"term_node\"]\n",
    "        capacity = link_day_minute_Apr_dict[key][\"NT_capac\"]\n",
    "        freeflowtime = link_day_minute_Apr_dict[key][\"free_flow_time\"]\n",
    "        flow = link_day_minute_Apr_dict[key][\"NT_flow\"]\n",
    "        arcs_2_[(initNode, termNode)] = Arc(initNode, termNode, capacity, freeflowtime, flow)\n",
    "    end\n",
    "    push!(arcs_2, arcs_2_)\n",
    "end\n",
    "\n",
    "arcs_3 = Dict[]\n",
    "for j in week_day_Apr_list_3\n",
    "    arcs_3_ = Dict()\n",
    "    for i = 0:23\n",
    "        key = \"link_$(i)_$(j)\"\n",
    "        initNode = link_day_minute_Apr_dict[key][\"init_node\"]\n",
    "        termNode = link_day_minute_Apr_dict[key][\"term_node\"]\n",
    "        capacity = link_day_minute_Apr_dict[key][\"NT_capac\"]\n",
    "        freeflowtime = link_day_minute_Apr_dict[key][\"free_flow_time\"]\n",
    "        flow = link_day_minute_Apr_dict[key][\"NT_flow\"]\n",
    "        arcs_3_[(initNode, termNode)] = Arc(initNode, termNode, capacity, freeflowtime, flow)\n",
    "    end\n",
    "    push!(arcs_3, arcs_3_)\n",
    "end"
   ]
  },
  {
   "cell_type": "code",
   "execution_count": 13,
   "metadata": {
    "collapsed": true
   },
   "outputs": [],
   "source": [
    "##########\n",
    "# Set up demand data and flow data\n",
    "##########\n",
    "numData = length(arcs_1); \n",
    "sigma = .0\n",
    "\n",
    "flow_data_1 = Array(Float64, length(arcs_1[1]), numData)\n",
    "\n",
    "demand_data = Dict()\n",
    "\n",
    "numNodes = maximum(map(pair->pair[1], keys(demands)))\n",
    "g = simple_inclist(numNodes, is_directed=true)\n",
    "vArcs = Arc[]\n",
    "for arc in values(arcs_1[1])\n",
    "    add_edge!(g, arc.initNode, arc.termNode) \n",
    "    push!(vArcs, arc)\n",
    "end\n",
    "\n",
    "\n",
    "for iRun = 1:numData\n",
    "    for odpair in keys(demands)\n",
    "        if ! haskey(demand_data, odpair)\n",
    "            demand_data[odpair] = [demands[odpair], ]\n",
    "        else\n",
    "            push!(demand_data[odpair], demands[odpair])\n",
    "        end\n",
    "    end\n",
    "\n",
    "    #flow_data[:, iRun] = [a.flow::Float64 for a in vArcs]\n",
    "    flow_data_1[:, iRun] = [a.flow::Float64 for a in values(arcs_1[iRun])]\n",
    "end"
   ]
  },
  {
   "cell_type": "code",
   "execution_count": 14,
   "metadata": {
    "collapsed": true
   },
   "outputs": [],
   "source": [
    "##########\n",
    "# Set up demand data and flow data\n",
    "##########\n",
    "numData = length(arcs_2); \n",
    "sigma = .0\n",
    "\n",
    "flow_data_2 = Array(Float64, length(arcs_2[1]), numData)\n",
    "\n",
    "demand_data = Dict()\n",
    "\n",
    "numNodes = maximum(map(pair->pair[1], keys(demands)))\n",
    "g = simple_inclist(numNodes, is_directed=true)\n",
    "vArcs = Arc[]\n",
    "for arc in values(arcs_2[1])\n",
    "    add_edge!(g, arc.initNode, arc.termNode) \n",
    "    push!(vArcs, arc)\n",
    "end\n",
    "\n",
    "\n",
    "for iRun = 1:numData\n",
    "    for odpair in keys(demands)\n",
    "        if ! haskey(demand_data, odpair)\n",
    "            demand_data[odpair] = [demands[odpair], ]\n",
    "        else\n",
    "            push!(demand_data[odpair], demands[odpair])\n",
    "        end\n",
    "    end\n",
    "\n",
    "    #flow_data[:, iRun] = [a.flow::Float64 for a in vArcs]\n",
    "    flow_data_2[:, iRun] = [a.flow::Float64 for a in values(arcs_2[iRun])]\n",
    "end"
   ]
  },
  {
   "cell_type": "code",
   "execution_count": 15,
   "metadata": {
    "collapsed": true
   },
   "outputs": [],
   "source": [
    "##########\n",
    "# Set up demand data and flow data\n",
    "##########\n",
    "numData = length(arcs_3); \n",
    "sigma = .0\n",
    "\n",
    "flow_data_3 = Array(Float64, length(arcs_3[1]), numData)\n",
    "\n",
    "demand_data = Dict()\n",
    "\n",
    "numNodes = maximum(map(pair->pair[1], keys(demands)))\n",
    "g = simple_inclist(numNodes, is_directed=true)\n",
    "vArcs = Arc[]\n",
    "for arc in values(arcs_3[1])\n",
    "    add_edge!(g, arc.initNode, arc.termNode) \n",
    "    push!(vArcs, arc)\n",
    "end\n",
    "\n",
    "\n",
    "for iRun = 1:numData\n",
    "    for odpair in keys(demands)\n",
    "        if ! haskey(demand_data, odpair)\n",
    "            demand_data[odpair] = [demands[odpair], ]\n",
    "        else\n",
    "            push!(demand_data[odpair], demands[odpair])\n",
    "        end\n",
    "    end\n",
    "\n",
    "    #flow_data[:, iRun] = [a.flow::Float64 for a in vArcs]\n",
    "    flow_data_3[:, iRun] = [a.flow::Float64 for a in values(arcs_3[iRun])]\n",
    "end"
   ]
  },
  {
   "cell_type": "code",
   "execution_count": 16,
   "metadata": {},
   "outputs": [
    {
     "data": {
      "text/plain": [
       "Dict{Any,Any} with 64 entries:\n",
       "  (3,6) => [731.132,731.132,731.132,731.132,731.132,731.132,731.132,731.132,731…\n",
       "  (4,4) => [0.0,0.0,0.0,0.0,0.0,0.0,0.0,0.0,0.0,0.0,0.0,0.0,0.0,0.0]\n",
       "  (3,1) => [1072.83,1072.83,1072.83,1072.83,1072.83,1072.83,1072.83,1072.83,107…\n",
       "  (4,5) => [416.299,416.299,416.299,416.299,416.299,416.299,416.299,416.299,416…\n",
       "  (2,4) => [1752.89,1752.89,1752.89,1752.89,1752.89,1752.89,1752.89,1752.89,175…\n",
       "  (6,5) => [224.9,224.9,224.9,224.9,224.9,224.9,224.9,224.9,224.9,224.9,224.9,2…\n",
       "  (8,4) => [1716.2,1716.2,1716.2,1716.2,1716.2,1716.2,1716.2,1716.2,1716.2,1716…\n",
       "  (1,2) => [505.455,505.455,505.455,505.455,505.455,505.455,505.455,505.455,505…\n",
       "  (5,1) => [692.972,692.972,692.972,692.972,692.972,692.972,692.972,692.972,692…\n",
       "  (3,4) => [682.816,682.816,682.816,682.816,682.816,682.816,682.816,682.816,682…\n",
       "  (8,2) => [257.554,257.554,257.554,257.554,257.554,257.554,257.554,257.554,257…\n",
       "  (2,3) => [104.347,104.347,104.347,104.347,104.347,104.347,104.347,104.347,104…\n",
       "  (2,6) => [107.3,107.3,107.3,107.3,107.3,107.3,107.3,107.3,107.3,107.3,107.3,1…\n",
       "  (5,4) => [399.232,399.232,399.232,399.232,399.232,399.232,399.232,399.232,399…\n",
       "  (2,1) => [712.685,712.685,712.685,712.685,712.685,712.685,712.685,712.685,712…\n",
       "  (2,5) => [246.534,246.534,246.534,246.534,246.534,246.534,246.534,246.534,246…\n",
       "  (8,5) => [200.688,200.688,200.688,200.688,200.688,200.688,200.688,200.688,200…\n",
       "  (1,4) => [785.649,785.649,785.649,785.649,785.649,785.649,785.649,785.649,785…\n",
       "  (2,8) => [365.751,365.751,365.751,365.751,365.751,365.751,365.751,365.751,365…\n",
       "  (5,8) => [167.284,167.284,167.284,167.284,167.284,167.284,167.284,167.284,167…\n",
       "  (4,8) => [1833.31,1833.31,1833.31,1833.31,1833.31,1833.31,1833.31,1833.31,183…\n",
       "  (7,8) => [400.698,400.698,400.698,400.698,400.698,400.698,400.698,400.698,400…\n",
       "  (1,1) => [0.0,0.0,0.0,0.0,0.0,0.0,0.0,0.0,0.0,0.0,0.0,0.0,0.0,0.0]\n",
       "  (7,7) => [0.0,0.0,0.0,0.0,0.0,0.0,0.0,0.0,0.0,0.0,0.0,0.0,0.0,0.0]\n",
       "  (5,7) => [451.598,451.598,451.598,451.598,451.598,451.598,451.598,451.598,451…\n",
       "  ⋮     => ⋮"
      ]
     },
     "execution_count": 16,
     "metadata": {},
     "output_type": "execute_result"
    }
   ],
   "source": [
    "demand_data"
   ]
  },
  {
   "cell_type": "code",
   "execution_count": 17,
   "metadata": {},
   "outputs": [
    {
     "data": {
      "text/plain": [
       "24×14 Array{Float64,2}:\n",
       " 4809.79  4300.33  4308.33  4120.52  5008.62  …  4812.05  3545.34  4282.23 \n",
       " 2384.89  3131.51  2642.63  2099.27  3193.84     3082.46  2167.14  2743.69 \n",
       " 4106.47  3571.61  3850.44  3582.26  3328.58     3215.12  2980.0   3085.13 \n",
       " 1590.37  1843.5   1892.91  2003.34  1581.72     1729.59  1197.76  1615.95 \n",
       " 2868.51  2366.83  1842.96  1480.77  3048.18     2428.02  2089.69  2396.72 \n",
       " 5405.72  4969.03  4791.13  4313.94  5553.32  …  5441.69  4492.07  5272.96 \n",
       " 2333.45  2856.29  3123.7   2497.82  2055.75     1732.93  1641.82  2134.98 \n",
       " 2973.61  3144.45  2786.65  2311.69  3190.74     2735.26  2059.58  2702.44 \n",
       " 4291.04  4722.17  3498.75  2898.73  4540.75     4763.92  1707.62  4728.43 \n",
       " 1313.96  2002.14  1771.15  2001.7   1029.42     1161.15  1278.88   897.536\n",
       " 4406.11  4352.72  4123.65  3382.39  4048.33  …  3795.38  3931.86  3675.75 \n",
       " 1400.25  2413.67  2003.63  1697.69  1209.0      1819.77  1327.02   911.277\n",
       " 4615.01  5206.05  3121.76  2490.09  6038.58     5933.95  2433.38  5080.04 \n",
       " 4460.61  5039.64  4508.27  3614.5   4057.9      4801.43  3854.81  5078.82 \n",
       " 2925.79  3448.32  2929.42  2474.9   2969.88     3037.65  1720.52  3629.65 \n",
       " 2510.96  3505.97  2793.3   2016.12  2458.28  …  3004.94  1988.39  2254.86 \n",
       " 3425.85  2955.29  3142.75  3271.62  2334.55     2993.59  1961.08  2874.87 \n",
       " 4545.3   4987.26  4733.16  3731.72  4507.22     4393.31  3927.0   4298.35 \n",
       " 2424.67  3094.44  2560.82  2320.13  2278.69     2346.33  1940.25  2241.12 \n",
       " 2228.35  2078.66  2180.01  1666.9   1913.2      1425.69  1671.94  1829.27 \n",
       " 5400.21  6188.74  5094.45  3868.53  5199.55  …  5304.78  3308.48  5580.04 \n",
       " 1335.82  1661.95  2113.24  1897.94  1260.12     1188.49  1872.03  1860.75 \n",
       " 4406.17  5071.06  4761.07  3484.99  4034.49     4085.27  4406.71  4801.87 \n",
       " 5432.12  5497.41  4688.43  3583.6   4848.27     5388.67  4521.04  5799.8  "
      ]
     },
     "execution_count": 17,
     "metadata": {},
     "output_type": "execute_result"
    }
   ],
   "source": [
    "flow_data_3"
   ]
  },
  {
   "cell_type": "code",
   "execution_count": 18,
   "metadata": {},
   "outputs": [
    {
     "data": {
      "text/plain": [
       "Dict{Any,Any} with 64 entries:\n",
       "  (3,6) => [731.132,731.132,731.132,731.132,731.132,731.132,731.132,731.132,731…\n",
       "  (4,4) => [0.0,0.0,0.0,0.0,0.0,0.0,0.0,0.0,0.0,0.0,0.0,0.0,0.0,0.0]\n",
       "  (3,1) => [1072.83,1072.83,1072.83,1072.83,1072.83,1072.83,1072.83,1072.83,107…\n",
       "  (4,5) => [416.299,416.299,416.299,416.299,416.299,416.299,416.299,416.299,416…\n",
       "  (2,4) => [1752.89,1752.89,1752.89,1752.89,1752.89,1752.89,1752.89,1752.89,175…\n",
       "  (6,5) => [224.9,224.9,224.9,224.9,224.9,224.9,224.9,224.9,224.9,224.9,224.9,2…\n",
       "  (8,4) => [1716.2,1716.2,1716.2,1716.2,1716.2,1716.2,1716.2,1716.2,1716.2,1716…\n",
       "  (1,2) => [505.455,505.455,505.455,505.455,505.455,505.455,505.455,505.455,505…\n",
       "  (5,1) => [692.972,692.972,692.972,692.972,692.972,692.972,692.972,692.972,692…\n",
       "  (3,4) => [682.816,682.816,682.816,682.816,682.816,682.816,682.816,682.816,682…\n",
       "  (8,2) => [257.554,257.554,257.554,257.554,257.554,257.554,257.554,257.554,257…\n",
       "  (2,3) => [104.347,104.347,104.347,104.347,104.347,104.347,104.347,104.347,104…\n",
       "  (2,6) => [107.3,107.3,107.3,107.3,107.3,107.3,107.3,107.3,107.3,107.3,107.3,1…\n",
       "  (5,4) => [399.232,399.232,399.232,399.232,399.232,399.232,399.232,399.232,399…\n",
       "  (2,1) => [712.685,712.685,712.685,712.685,712.685,712.685,712.685,712.685,712…\n",
       "  (2,5) => [246.534,246.534,246.534,246.534,246.534,246.534,246.534,246.534,246…\n",
       "  (8,5) => [200.688,200.688,200.688,200.688,200.688,200.688,200.688,200.688,200…\n",
       "  (1,4) => [785.649,785.649,785.649,785.649,785.649,785.649,785.649,785.649,785…\n",
       "  (2,8) => [365.751,365.751,365.751,365.751,365.751,365.751,365.751,365.751,365…\n",
       "  (5,8) => [167.284,167.284,167.284,167.284,167.284,167.284,167.284,167.284,167…\n",
       "  (4,8) => [1833.31,1833.31,1833.31,1833.31,1833.31,1833.31,1833.31,1833.31,183…\n",
       "  (7,8) => [400.698,400.698,400.698,400.698,400.698,400.698,400.698,400.698,400…\n",
       "  (1,1) => [0.0,0.0,0.0,0.0,0.0,0.0,0.0,0.0,0.0,0.0,0.0,0.0,0.0,0.0]\n",
       "  (7,7) => [0.0,0.0,0.0,0.0,0.0,0.0,0.0,0.0,0.0,0.0,0.0,0.0,0.0,0.0]\n",
       "  (5,7) => [451.598,451.598,451.598,451.598,451.598,451.598,451.598,451.598,451…\n",
       "  ⋮     => ⋮"
      ]
     },
     "execution_count": 18,
     "metadata": {},
     "output_type": "execute_result"
    }
   ],
   "source": [
    "demand_data"
   ]
  },
  {
   "cell_type": "code",
   "execution_count": 19,
   "metadata": {},
   "outputs": [
    {
     "data": {
      "text/plain": [
       "train (generic function with 1 method)"
      ]
     },
     "execution_count": 19,
     "metadata": {},
     "output_type": "execute_result"
    }
   ],
   "source": [
    "##########\n",
    "#Fitting Funcs\n",
    "##########\n",
    "\n",
    "function train(indices, lam::Float64, deg::Int, c::Float64, demand_data, flow_data, arcs; fcoeffs=nothing)\n",
    "    numNodes = maximum(map(pair->pair[1], keys(arcs)))\n",
    "    m, coeffs, reg_term = setUpFitting(deg, c)\n",
    "    \n",
    "    addIncreasingCnsts(m, coeffs, arcs, TOL=1e-8)  #uses the original obs flows\n",
    "\n",
    "    avgCost = mean( [bpacost(a.flow, a.capacity, 1.0) for a in values(arcs)] )\n",
    "    normalize(m, coeffs, [a.flow / a.capacity for a in values(arcs)], avgCost)\n",
    "\n",
    "\n",
    "    resids = Variable[]\n",
    "    \n",
    "    for i = indices\n",
    "        #copy the flow data over to the arcs, demand data to demands (slow)\n",
    "        for (ix, a) in enumerate(vArcs)\n",
    "            a.flow = flow_data[ix, i]\n",
    "        end\n",
    "        for odpair in keys(demands)\n",
    "            demands[odpair] = demand_data[odpair][i]\n",
    "        end\n",
    "    \n",
    "        #Dual Feasibility\n",
    "        ys = addNetworkCnsts(m, coeffs, demands, arcs, numNodes)\n",
    "        \n",
    "        #add the residual for this data point\n",
    "        push!(resids, addResid(m, coeffs, ys, demands, arcs, 1e6))\n",
    "    end\n",
    "\n",
    "    if fcoeffs != nothing\n",
    "        fixCoeffs(m, fcoeffs, coeffs)\n",
    "    end\n",
    "    @objective(m, Min, sum{resids[i], i = 1:length(resids)} + lam*reg_term)\n",
    "    solve(m)\n",
    "    #println(getObjectiveValue(m) - lam * getValue(reg_term) )\n",
    "    return [getvalue(coeffs[i]) for i =1:length(coeffs)]\n",
    "end"
   ]
  },
  {
   "cell_type": "code",
   "execution_count": 20,
   "metadata": {
    "collapsed": true
   },
   "outputs": [],
   "source": [
    "#include(\"trafficCval.jl\")\n",
    "\n",
    "coeffs_dict_Apr_NT = Dict()\n",
    "\n",
    "deg_grid = 4:8\n",
    "c_grid = .5:.5:3.\n",
    "lamb_grid = 10. .^(-3:4)\n",
    "\n",
    "# deg_grid = 6\n",
    "# c_grid = .5\n",
    "# lamb_grid = 10. .^(4)\n",
    "\n",
    "for deg in deg_grid\n",
    "    for c in c_grid\n",
    "        for lam in lamb_grid\n",
    "            coeffs_dict_Apr_NT[(deg, c, lam, 1)] = train(1:numData, lam, deg, c, demand_data, flow_data_1, arcs_1[1])\n",
    "            coeffs_dict_Apr_NT[(deg, c, lam, 2)] = train(1:numData, lam, deg, c, demand_data, flow_data_2, arcs_2[1])\n",
    "            coeffs_dict_Apr_NT[(deg, c, lam, 3)] = train(1:numData, lam, deg, c, demand_data, flow_data_3, arcs_3[1])\n",
    "        end\n",
    "    end\n",
    "end"
   ]
  },
  {
   "cell_type": "code",
   "execution_count": 21,
   "metadata": {
    "collapsed": true
   },
   "outputs": [],
   "source": [
    "outfile = open(\"../temp_files/coeffs_dict_Apr_NT.json\", \"w\")\n",
    "\n",
    "JSON.print(outfile, coeffs_dict_Apr_NT)\n",
    "\n",
    "close(outfile)"
   ]
  },
  {
   "cell_type": "code",
   "execution_count": 22,
   "metadata": {},
   "outputs": [
    {
     "data": {
      "text/plain": [
       "Dict{String,Any} with 720 entries:\n",
       "  \"(7,2.5,10000.0,3)\" => Any[1.0,0.0268586,0.0187275,0.00814429,0.00229094,0.00…\n",
       "  \"(5,0.5,100.0,3)\"   => Any[1.0,0.00910786,0.0241131,0.027091,0.0236782,0.0054…\n",
       "  \"(6,1.5,10.0,3)\"    => Any[1.0,0.0333408,0.0134221,0.00187536,-0.000238295,-0…\n",
       "  \"(6,2.0,0.1,2)\"     => Any[1.0,0.095284,-0.178849,0.107833,0.0160917,-0.01477…\n",
       "  \"(4,0.5,1000.0,1)\"  => Any[1.0,0.013184,0.0226978,0.0177792,0.00615213]\n",
       "  \"(6,2.0,0.01,1)\"    => Any[1.0,0.117705,-0.298991,0.309639,-0.0832287,-0.0283…\n",
       "  \"(8,1.5,0.01,1)\"    => Any[1.0,0.135101,-0.389156,0.355333,0.459104,-1.41431,…\n",
       "  \"(5,1.5,1.0,1)\"     => Any[1.0,0.0467721,-0.0183523,-0.0100467,0.000668633,0.…\n",
       "  \"(8,2.5,0.001,2)\"   => Any[1.0,0.175602,-0.699399,1.09652,0.405708,-3.99893,5…\n",
       "  \"(4,2.0,0.1,1)\"     => Any[1.0,0.0720489,-0.0902304,0.0280839,0.00948638]\n",
       "  \"(5,1.0,1000.0,2)\"  => Any[1.0,0.0174246,0.019511,0.0117967,0.00393987,0.0004…\n",
       "  \"(4,2.0,0.1,2)\"     => Any[1.0,0.0720489,-0.0902304,0.0280839,0.00948638]\n",
       "  \"(5,2.0,0.001,1)\"   => Any[1.0,0.124343,-0.343348,0.413448,-0.185273,0.005464…\n",
       "  \"(7,1.5,0.01,3)\"    => Any[1.0,0.15255,-0.370043,0.306874,0.132323,-0.365766,…\n",
       "  \"(6,2.0,1000.0,3)\"  => Any[1.0,0.0265637,0.0191356,0.0083918,0.00218618,0.000…\n",
       "  \"(4,0.5,0.1,3)\"     => Any[1.0,0.0323046,0.0191338,-0.0020104,-0.00334089]\n",
       "  \"(6,2.0,0.1,3)\"     => Any[1.0,0.120222,-0.215435,0.123738,0.0199213,-0.01758…\n",
       "  \"(4,1.5,1.0,1)\"     => Any[1.0,0.0426192,-0.0106793,-0.00888749,-0.00136865]\n",
       "  \"(8,2.0,10000.0,1)\" => Any[1.0,0.0186031,0.0177552,0.0105751,0.00433848,0.001…\n",
       "  \"(7,0.5,0.001,2)\"   => Any[1.0,0.0725944,-0.00257355,-0.459902,1.05963,-1.222…\n",
       "  \"(5,1.0,10000.0,2)\" => Any[1.0,0.0174232,0.0195131,0.0117973,0.00394004,0.000…\n",
       "  \"(8,3.0,0.01,1)\"    => Any[1.0,0.16545,-0.629854,1.04964,-0.403271,-1.09508,1…\n",
       "  \"(8,2.0,0.01,3)\"    => Any[1.0,0.192259,-0.621414,0.762789,0.267924,-1.77103,…\n",
       "  \"(5,3.0,100.0,3)\"   => Any[1.0,0.0369847,0.00776929,0.000920036,6.7199e-5,2.5…\n",
       "  \"(5,3.0,10000.0,3)\" => Any[1.0,0.032964,0.0130613,0.00288343,0.000338524,1.61…\n",
       "  ⋮                   => ⋮"
      ]
     },
     "execution_count": 22,
     "metadata": {},
     "output_type": "execute_result"
    }
   ],
   "source": [
    "coeffs_dict_Apr_NT_ = readstring(\"../temp_files/coeffs_dict_Apr_NT.json\")\n",
    "coeffs_dict_Apr_NT_ = JSON.parse(coeffs_dict_Apr_NT_)"
   ]
  },
  {
   "cell_type": "code",
   "execution_count": 23,
   "metadata": {},
   "outputs": [
    {
     "data": {
      "text/plain": [
       "7-element Array{Any,1}:\n",
       " 1.0       \n",
       " 0.00510751\n",
       " 0.022102  \n",
       " 0.013429  \n",
       " 0.0470379 \n",
       " 7.93832e-5\n",
       " 0.00757638"
      ]
     },
     "execution_count": 23,
     "metadata": {},
     "output_type": "execute_result"
    }
   ],
   "source": [
    "coeffs_dict_Apr_NT_[\"(6,0.5,10000.0,1)\"]"
   ]
  },
  {
   "cell_type": "code",
   "execution_count": 24,
   "metadata": {},
   "outputs": [
    {
     "data": {
      "image/png": "[encoded data removed]",
      "text/plain": [
       "PyPlot.Figure(PyObject <matplotlib.figure.Figure object at 0x7fdddc32b090>)"
      ]
     },
     "metadata": {},
     "output_type": "display_data"
    }
   ],
   "source": [
    "using PyPlot\n",
    "\n",
    "fcoeffs = coeffs_dict_Apr_NT_[\"(6,0.5,10000.0,3)\"]\n",
    "\n",
    "\n",
    "xs = linspace(0, 1.1, 30)\n",
    "ys = map(x->polyEval(fcoeffs, x), xs)\n",
    "\n",
    "PyPlot.plot(xs, ys, \"o-m\", label=\"Apr_NT\")\n",
    "\n",
    "#legend(loc=\"upper left\",fancybox=\"true\") \n",
    "\n",
    "grid(\"on\")\n",
    "xlim(-0.1, 1.05);\n",
    "ylim(0.99, 1.2);\n",
    "\n",
    "font1 = Dict(\"family\"=>\"serif\",\"color\"=>\"k\",\"weight\"=>\"normal\",\"size\"=>14)\n",
    "\n",
    "xlabel(\"Scaled Flow\", fontdict=font1)\n",
    "ylabel(\"Scaled Cost\", fontdict=font1)\n",
    "\n",
    "savefig(\"../temp_files/fitting_Apr_NT.pdf\")"
   ]
  },
  {
   "cell_type": "code",
   "execution_count": null,
   "metadata": {
    "collapsed": true
   },
   "outputs": [],
   "source": []
  }
 ],
 "metadata": {
  "kernelspec": {
   "display_name": "Julia 0.5.0",
   "language": "julia",
   "name": "julia-0.5"
  },
  "language_info": {
   "file_extension": ".jl",
   "mimetype": "application/julia",
   "name": "julia",
   "version": "0.5.0"
  }
 },
 "nbformat": 4,
 "nbformat_minor": 1
}
