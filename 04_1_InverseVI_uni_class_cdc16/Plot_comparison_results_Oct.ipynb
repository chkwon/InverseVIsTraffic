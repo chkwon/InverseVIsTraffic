{
 "cells": [
  {
   "cell_type": "code",
   "execution_count": 1,
   "metadata": {
    "collapsed": false
   },
   "outputs": [
    {
     "data": {
      "text/plain": [
       "polyEval (generic function with 1 method)"
      ]
     },
     "execution_count": 1,
     "metadata": {},
     "output_type": "execute_result"
    }
   ],
   "source": [
    "polyEval(coeffs, pt) = sum([coeffs[i] * pt^(i-1) for i = 1:length(coeffs)])  "
   ]
  },
  {
   "cell_type": "code",
   "execution_count": 2,
   "metadata": {
    "collapsed": false
   },
   "outputs": [
    {
     "name": "stderr",
     "output_type": "stream",
     "text": [
      "WARNING: readall is deprecated, use readstring instead.\n",
      " in depwarn(::String, ::Symbol) at ./deprecated.jl:64\n",
      " in readall(::String, ::Vararg{String,N}) at ./deprecated.jl:30\n",
      " in include_string(::String, ::String) at ./loading.jl:441\n",
      " in execute_request(::ZMQ.Socket, ::IJulia.Msg) at /home/jzh/.julia/v0.5/IJulia/src/execute_request.jl:169\n",
      " in eventloop(::ZMQ.Socket) at /home/jzh/.julia/v0.5/IJulia/src/eventloop.jl:8\n",
      " in (::IJulia.##9#15)() at ./task.jl:360\n",
      "while loading In[2], in expression starting on line 3\n"
     ]
    },
    {
     "data": {
      "text/plain": [
       "\"(6,2.5,10000.0,3)\""
      ]
     },
     "execution_count": 2,
     "metadata": {},
     "output_type": "execute_result"
    }
   ],
   "source": [
    "using JSON\n",
    "\n",
    "cross_validation_best_key_Oct_AM = readall(\"../temp_files/cross_validation_best_key_Oct_AM.json\")\n",
    "cross_validation_best_key_Oct_AM = JSON.parse(cross_validation_best_key_Oct_AM)\n",
    "\n",
    "cross_validation_best_key_Oct_MD = readall(\"../temp_files/cross_validation_best_key_Oct_MD.json\")\n",
    "cross_validation_best_key_Oct_MD = JSON.parse(cross_validation_best_key_Oct_MD)\n",
    "\n",
    "cross_validation_best_key_Oct_PM = readall(\"../temp_files/cross_validation_best_key_Oct_PM.json\")\n",
    "cross_validation_best_key_Oct_PM = JSON.parse(cross_validation_best_key_Oct_PM)\n",
    "\n",
    "cross_validation_best_key_Oct_NT = readall(\"../temp_files/cross_validation_best_key_Oct_NT.json\")\n",
    "cross_validation_best_key_Oct_NT = JSON.parse(cross_validation_best_key_Oct_NT)\n",
    "\n",
    "cross_validation_best_key_Oct_weekend = readall(\"../temp_files/cross_validation_best_key_Oct_weekend.json\")\n",
    "cross_validation_best_key_Oct_weekend = JSON.parse(cross_validation_best_key_Oct_weekend)"
   ]
  },
  {
   "cell_type": "code",
   "execution_count": 3,
   "metadata": {
    "collapsed": false
   },
   "outputs": [
    {
     "data": {
      "text/plain": [
       "7-element Array{Any,1}:\n",
       " 1.0        \n",
       " 0.0091877  \n",
       " 0.00374159 \n",
       " 0.000852463\n",
       " 0.000116198\n",
       " 7.66322e-6 \n",
       " 5.53157e-7 "
      ]
     },
     "execution_count": 3,
     "metadata": {},
     "output_type": "execute_result"
    }
   ],
   "source": [
    "coeffs_dict_Oct_AM = readall(\"../temp_files/coeffs_dict_Oct_AM.json\")\n",
    "coeffs_dict_Oct_AM = JSON.parse(coeffs_dict_Oct_AM)\n",
    "\n",
    "coeffs_dict_Oct_MD = readall(\"../temp_files/coeffs_dict_Oct_MD.json\")\n",
    "coeffs_dict_Oct_MD = JSON.parse(coeffs_dict_Oct_MD)\n",
    "\n",
    "coeffs_dict_Oct_PM = readall(\"../temp_files/coeffs_dict_Oct_PM.json\")\n",
    "coeffs_dict_Oct_PM = JSON.parse(coeffs_dict_Oct_PM)\n",
    "\n",
    "coeffs_dict_Oct_NT = readall(\"../temp_files/coeffs_dict_Oct_NT.json\")\n",
    "coeffs_dict_Oct_NT = JSON.parse(coeffs_dict_Oct_NT)\n",
    "\n",
    "coeffs_dict_Oct_weekend = readall(\"../temp_files/coeffs_dict_Oct_weekend.json\")\n",
    "coeffs_dict_Oct_weekend = JSON.parse(coeffs_dict_Oct_weekend)\n",
    "\n",
    "\n",
    "coeffs_best_Oct_AM = coeffs_dict_Oct_AM[cross_validation_best_key_Oct_AM]\n",
    "coeffs_best_Oct_MD = coeffs_dict_Oct_MD[cross_validation_best_key_Oct_MD]\n",
    "coeffs_best_Oct_PM = coeffs_dict_Oct_PM[cross_validation_best_key_Oct_PM]\n",
    "coeffs_best_Oct_NT = coeffs_dict_Oct_NT[cross_validation_best_key_Oct_NT]\n",
    "coeffs_best_Oct_weekend = coeffs_dict_Oct_weekend[cross_validation_best_key_Oct_weekend]"
   ]
  },
  {
   "cell_type": "code",
   "execution_count": 16,
   "metadata": {
    "collapsed": false
   },
   "outputs": [
    {
     "data": {
      "image/png": "[encoded data removed]",
      "text/plain": [
       "PyPlot.Figure(PyObject <matplotlib.figure.Figure object at 0x7fdf03497b10>)"
      ]
     },
     "metadata": {},
     "output_type": "display_data"
    }
   ],
   "source": [
    "using PyPlot\n",
    "\n",
    "xs = linspace(0, 1.3, 20)\n",
    "\n",
    "#true_coeffs = [1, 0, 0, 0, .15]\n",
    "#ys_true = map(x->polyEval(true_coeffs, x), xs)\n",
    "#plot(xs, ys_true, \"k\", label=\"True\")\n",
    "\n",
    "ys_Oct_AM = map(x->polyEval(coeffs_best_Oct_AM, x), xs)\n",
    "ys_Oct_MD = map(x->polyEval(coeffs_best_Oct_MD, x), xs)\n",
    "ys_Oct_PM = map(x->polyEval(coeffs_best_Oct_PM, x), xs)\n",
    "ys_Oct_NT = map(x->polyEval(coeffs_best_Oct_NT, x), xs)\n",
    "ys_Oct_weekend = map(x->polyEval(coeffs_best_Oct_weekend, x), xs)\n",
    "\n",
    "fig = figure(figsize=(7,2),)\n",
    "\n",
    "plot(xs, ys_Oct_AM, \"o-r\", label=\"AM\", linewidth=2)\n",
    "plot(xs, ys_Oct_MD, \"s-m\", label=\"MD\", linewidth=2)\n",
    "plot(xs, ys_Oct_PM, \"v-b\", label=\"PM\", linewidth=2)\n",
    "plot(xs, ys_Oct_NT, \"*-g\", label=\"NT\", linewidth=2)\n",
    "plot(xs, ys_Oct_weekend, \"--c\", label=\"WE\", linewidth=2)\n",
    "\n",
    "# legend(frameon=false, ncol=5, bbox_to_anchor=(0., 1.02, 1., .102), loc=3, mode=\"expand\", \n",
    "# borderaxespad=0.2, numpoints=1)\n",
    "\n",
    "# grid(\"on\")\n",
    "xlim(-0.1, 1.25);\n",
    "ylim(0.98, 1.5);\n",
    "\n",
    "font1 = Dict(\"family\"=>\"serif\",\"color\"=>\"k\",\"weight\"=>\"normal\",\"size\"=>14)\n",
    "\n",
    "xlabel(\"scaled flow\", fontdict=font1)\n",
    "ylabel(\"scaled cost\", fontdict=font1)\n",
    "\n",
    "savefig(\"../temp_files/fitting_comparison_Oct.pdf\")\n",
    "\n",
    "dire = \"/home/jzh/Dropbox/Research/Data-driven_estimation_inverse_optimization/\" * \n",
    "\"MA_traffic_IEEE_special_issue_18/imag/\"\n",
    "\n",
    "savefig(dire * \"fitting_comparison_Oct.pdf\", dpi=300, bbox_inches=\"tight\")"
   ]
  },
  {
   "cell_type": "code",
   "execution_count": 5,
   "metadata": {
    "collapsed": false
   },
   "outputs": [
    {
     "data": {
      "text/plain": [
       "\"(8,0.5,10000.0,3)\""
      ]
     },
     "execution_count": 5,
     "metadata": {},
     "output_type": "execute_result"
    }
   ],
   "source": [
    "cross_validation_best_key_Oct_AM"
   ]
  },
  {
   "cell_type": "code",
   "execution_count": 6,
   "metadata": {
    "collapsed": true
   },
   "outputs": [],
   "source": [
    "outfile = open(\"../temp_files/cost_func_Oct.txt\", \"w\")\n",
    "\n",
    "write(outfile,\"coeffs_Oct_AM: $(coeffs_best_Oct_AM) \\n \\\n",
    "coeffs_Oct_MD: $(coeffs_best_Oct_MD) \\n \\\n",
    "coeffs_Oct_PM: $(coeffs_best_Oct_PM) \\n \\\n",
    "coeffs_Oct_NT: $(coeffs_best_Oct_NT) \\n \\\n",
    "coeffs_Oct_weekend: $(coeffs_best_Oct_weekend) \\n\")\n",
    "\n",
    "close(outfile)"
   ]
  },
  {
   "cell_type": "code",
   "execution_count": null,
   "metadata": {
    "collapsed": true
   },
   "outputs": [],
   "source": []
  }
 ],
 "metadata": {
  "kernelspec": {
   "display_name": "Julia 0.5.0",
   "language": "julia",
   "name": "julia-0.5"
  },
  "language_info": {
   "file_extension": ".jl",
   "mimetype": "application/julia",
   "name": "julia",
   "version": "0.5.0"
  }
 },
 "nbformat": 4,
 "nbformat_minor": 0
}
