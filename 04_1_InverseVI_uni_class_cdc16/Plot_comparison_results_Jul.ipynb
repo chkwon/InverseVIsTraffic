{
 "cells": [
  {
   "cell_type": "code",
   "execution_count": 1,
   "metadata": {
    "collapsed": false
   },
   "outputs": [
    {
     "data": {
      "text/plain": [
       "polyEval (generic function with 1 method)"
      ]
     },
     "execution_count": 1,
     "metadata": {},
     "output_type": "execute_result"
    }
   ],
   "source": [
    "polyEval(coeffs, pt) = sum([coeffs[i] * pt^(i-1) for i = 1:length(coeffs)])  "
   ]
  },
  {
   "cell_type": "code",
   "execution_count": 2,
   "metadata": {
    "collapsed": false
   },
   "outputs": [
    {
     "name": "stderr",
     "output_type": "stream",
     "text": [
      "WARNING: readall is deprecated, use readstring instead.\n",
      " in depwarn(::String, ::Symbol) at ./deprecated.jl:64\n",
      " in readall(::String, ::Vararg{String,N}) at ./deprecated.jl:30\n",
      " in include_string(::String, ::String) at ./loading.jl:441\n",
      " in execute_request(::ZMQ.Socket, ::IJulia.Msg) at /home/jzh/.julia/v0.5/IJulia/src/execute_request.jl:169\n",
      " in eventloop(::ZMQ.Socket) at /home/jzh/.julia/v0.5/IJulia/src/eventloop.jl:8\n",
      " in (::IJulia.##9#15)() at ./task.jl:360\n",
      "while loading In[2], in expression starting on line 3\n"
     ]
    },
    {
     "data": {
      "text/plain": [
       "\"(5,2.5,10000.0,1)\""
      ]
     },
     "execution_count": 2,
     "metadata": {},
     "output_type": "execute_result"
    }
   ],
   "source": [
    "using JSON\n",
    "\n",
    "cross_validation_best_key_Jul_AM = readall(\"../temp_files/cross_validation_best_key_Jul_AM.json\")\n",
    "cross_validation_best_key_Jul_AM = JSON.parse(cross_validation_best_key_Jul_AM)\n",
    "\n",
    "cross_validation_best_key_Jul_MD = readall(\"../temp_files/cross_validation_best_key_Jul_MD.json\")\n",
    "cross_validation_best_key_Jul_MD = JSON.parse(cross_validation_best_key_Jul_MD)\n",
    "\n",
    "cross_validation_best_key_Jul_PM = readall(\"../temp_files/cross_validation_best_key_Jul_PM.json\")\n",
    "cross_validation_best_key_Jul_PM = JSON.parse(cross_validation_best_key_Jul_PM)\n",
    "\n",
    "cross_validation_best_key_Jul_NT = readall(\"../temp_files/cross_validation_best_key_Jul_NT.json\")\n",
    "cross_validation_best_key_Jul_NT = JSON.parse(cross_validation_best_key_Jul_NT)\n",
    "\n",
    "cross_validation_best_key_Jul_weekend = readall(\"../temp_files/cross_validation_best_key_Jul_weekend.json\")\n",
    "cross_validation_best_key_Jul_weekend = JSON.parse(cross_validation_best_key_Jul_weekend)"
   ]
  },
  {
   "cell_type": "code",
   "execution_count": 3,
   "metadata": {
    "collapsed": false
   },
   "outputs": [
    {
     "data": {
      "text/plain": [
       "6-element Array{Any,1}:\n",
       "  1.0        \n",
       "  0.00633423 \n",
       "  0.00162237 \n",
       "  0.000494663\n",
       "  5.96322e-5 \n",
       " -2.9654e-6  "
      ]
     },
     "execution_count": 3,
     "metadata": {},
     "output_type": "execute_result"
    }
   ],
   "source": [
    "coeffs_dict_Jul_AM = readall(\"../temp_files/coeffs_dict_Jul_AM.json\")\n",
    "coeffs_dict_Jul_AM = JSON.parse(coeffs_dict_Jul_AM)\n",
    "\n",
    "coeffs_dict_Jul_MD = readall(\"../temp_files/coeffs_dict_Jul_MD.json\")\n",
    "coeffs_dict_Jul_MD = JSON.parse(coeffs_dict_Jul_MD)\n",
    "\n",
    "coeffs_dict_Jul_PM = readall(\"../temp_files/coeffs_dict_Jul_PM.json\")\n",
    "coeffs_dict_Jul_PM = JSON.parse(coeffs_dict_Jul_PM)\n",
    "\n",
    "coeffs_dict_Jul_NT = readall(\"../temp_files/coeffs_dict_Jul_NT.json\")\n",
    "coeffs_dict_Jul_NT = JSON.parse(coeffs_dict_Jul_NT)\n",
    "\n",
    "coeffs_dict_Jul_weekend = readall(\"../temp_files/coeffs_dict_Jul_weekend.json\")\n",
    "coeffs_dict_Jul_weekend = JSON.parse(coeffs_dict_Jul_weekend)\n",
    "\n",
    "\n",
    "coeffs_best_Jul_AM = coeffs_dict_Jul_AM[cross_validation_best_key_Jul_AM]\n",
    "coeffs_best_Jul_MD = coeffs_dict_Jul_MD[cross_validation_best_key_Jul_MD]\n",
    "coeffs_best_Jul_PM = coeffs_dict_Jul_PM[cross_validation_best_key_Jul_PM]\n",
    "coeffs_best_Jul_NT = coeffs_dict_Jul_NT[cross_validation_best_key_Jul_NT]\n",
    "coeffs_best_Jul_weekend = coeffs_dict_Jul_weekend[cross_validation_best_key_Jul_weekend]"
   ]
  },
  {
   "cell_type": "code",
   "execution_count": 22,
   "metadata": {
    "collapsed": false
   },
   "outputs": [
    {
     "data": {
      "image/png": "[encoded data removed]",
      "text/plain": [
       "PyPlot.Figure(PyObject <matplotlib.figure.Figure object at 0x7f09c32ec090>)"
      ]
     },
     "metadata": {},
     "output_type": "display_data"
    }
   ],
   "source": [
    "using PyPlot\n",
    "\n",
    "xs = linspace(0, 1.3, 20)\n",
    "\n",
    "#true_coeffs = [1, 0, 0, 0, .15]\n",
    "#ys_true = map(x->polyEval(true_coeffs, x), xs)\n",
    "#plot(xs, ys_true, \"k\", label=\"True\")\n",
    "\n",
    "ys_Jul_AM = map(x->polyEval(coeffs_best_Jul_AM, x), xs)\n",
    "ys_Jul_MD = map(x->polyEval(coeffs_best_Jul_MD, x), xs)\n",
    "ys_Jul_PM = map(x->polyEval(coeffs_best_Jul_PM, x), xs)\n",
    "ys_Jul_NT = map(x->polyEval(coeffs_best_Jul_NT, x), xs)\n",
    "ys_Jul_weekend = map(x->polyEval(coeffs_best_Jul_weekend, x), xs)\n",
    "\n",
    "fig = figure(figsize=(7,2),)\n",
    "\n",
    "plot(xs, ys_Jul_AM, \"o-r\", label=\"AM\", linewidth=2)\n",
    "plot(xs, ys_Jul_MD, \"s-m\", label=\"MD\", linewidth=2)\n",
    "plot(xs, ys_Jul_PM, \"v-b\", label=\"PM\", linewidth=2)\n",
    "plot(xs, ys_Jul_NT, \"*-g\", label=\"NT\", linewidth=2)\n",
    "plot(xs, ys_Jul_weekend, \"--c\", label=\"WE\", linewidth=2)\n",
    "\n",
    "# legend(loc=\"upper left\", fontsize=15) \n",
    "\n",
    "# grid(\"on\")\n",
    "xlim(-0.1, 1.25);\n",
    "ylim(0.98, 1.5);\n",
    "\n",
    "font1 = Dict(\"family\"=>\"serif\",\"color\"=>\"k\",\"weight\"=>\"normal\",\"size\"=>14)\n",
    "\n",
    "xlabel(\"scaled flow\", fontdict=font1)\n",
    "ylabel(\"scaled cost\", fontdict=font1)\n",
    "\n",
    "savefig(\"../temp_files/fitting_comparison_Jul.pdf\")\n",
    "\n",
    "dire = \"/home/jzh/Dropbox/Research/Data-driven_estimation_inverse_optimization/\" * \n",
    "\"MA_traffic_IEEE_special_issue_18/imag/\"\n",
    "\n",
    "savefig(dire * \"fitting_comparison_Jul.pdf\", dpi=300, bbox_inches=\"tight\")"
   ]
  },
  {
   "cell_type": "code",
   "execution_count": 5,
   "metadata": {
    "collapsed": false
   },
   "outputs": [
    {
     "data": {
      "text/plain": [
       "\"(7,0.5,1000.0,3)\""
      ]
     },
     "execution_count": 5,
     "metadata": {},
     "output_type": "execute_result"
    }
   ],
   "source": [
    "cross_validation_best_key_Jul_MD"
   ]
  },
  {
   "cell_type": "code",
   "execution_count": 6,
   "metadata": {
    "collapsed": false
   },
   "outputs": [
    {
     "data": {
      "text/plain": [
       "9-element Array{Any,1}:\n",
       "  1.0       \n",
       " -0.00344067\n",
       "  0.0567471 \n",
       " -0.196177  \n",
       "  0.622468  \n",
       " -0.900772  \n",
       "  0.940503  \n",
       " -0.466635  \n",
       "  0.109029  "
      ]
     },
     "execution_count": 6,
     "metadata": {},
     "output_type": "execute_result"
    }
   ],
   "source": [
    "coeffs_best_Jul_AM"
   ]
  },
  {
   "cell_type": "code",
   "execution_count": 7,
   "metadata": {
    "collapsed": false
   },
   "outputs": [
    {
     "data": {
      "text/plain": [
       "8-element Array{Any,1}:\n",
       "  1.0       \n",
       "  0.00108759\n",
       "  0.0287137 \n",
       " -0.0315965 \n",
       "  0.157745  \n",
       " -0.103907  \n",
       "  0.100168  \n",
       " -0.0172884 "
      ]
     },
     "execution_count": 7,
     "metadata": {},
     "output_type": "execute_result"
    }
   ],
   "source": [
    "coeffs_best_Jul_MD"
   ]
  },
  {
   "cell_type": "code",
   "execution_count": 8,
   "metadata": {
    "collapsed": false
   },
   "outputs": [
    {
     "data": {
      "text/plain": [
       "9-element Array{Any,1}:\n",
       "  1.0       \n",
       " -0.00347186\n",
       "  0.0567223 \n",
       " -0.196848  \n",
       "  0.624653  \n",
       " -0.904773  \n",
       "  0.945761  \n",
       " -0.469278  \n",
       "  0.109827  "
      ]
     },
     "execution_count": 8,
     "metadata": {},
     "output_type": "execute_result"
    }
   ],
   "source": [
    "coeffs_best_Jul_PM"
   ]
  },
  {
   "cell_type": "code",
   "execution_count": 9,
   "metadata": {
    "collapsed": false
   },
   "outputs": [
    {
     "data": {
      "text/plain": [
       "8-element Array{Any,1}:\n",
       "  1.0       \n",
       "  0.00114833\n",
       "  0.028797  \n",
       " -0.0316211 \n",
       "  0.157652  \n",
       " -0.104198  \n",
       "  0.1001    \n",
       " -0.0173351 "
      ]
     },
     "execution_count": 9,
     "metadata": {},
     "output_type": "execute_result"
    }
   ],
   "source": [
    "coeffs_best_Jul_NT"
   ]
  },
  {
   "cell_type": "code",
   "execution_count": 10,
   "metadata": {
    "collapsed": false
   },
   "outputs": [
    {
     "data": {
      "text/plain": [
       "6-element Array{Any,1}:\n",
       "  1.0        \n",
       "  0.00633423 \n",
       "  0.00162237 \n",
       "  0.000494663\n",
       "  5.96322e-5 \n",
       " -2.9654e-6  "
      ]
     },
     "execution_count": 10,
     "metadata": {},
     "output_type": "execute_result"
    }
   ],
   "source": [
    "coeffs_best_Jul_weekend"
   ]
  },
  {
   "cell_type": "code",
   "execution_count": 11,
   "metadata": {
    "collapsed": true
   },
   "outputs": [],
   "source": [
    "outfile = open(\"../temp_files/cost_func_Jul.txt\", \"w\")\n",
    "\n",
    "write(outfile,\"coeffs_Jul_AM: $(coeffs_best_Jul_AM) \\n \\\n",
    "coeffs_Jul_MD: $(coeffs_best_Jul_MD) \\n \\\n",
    "coeffs_Jul_PM: $(coeffs_best_Jul_PM) \\n \\\n",
    "coeffs_Jul_NT: $(coeffs_best_Jul_NT) \\n \\\n",
    "coeffs_Jul_weekend: $(coeffs_best_Jul_weekend) \\n\")\n",
    "\n",
    "close(outfile)"
   ]
  },
  {
   "cell_type": "code",
   "execution_count": null,
   "metadata": {
    "collapsed": true
   },
   "outputs": [],
   "source": []
  }
 ],
 "metadata": {
  "kernelspec": {
   "display_name": "Julia 0.5.0",
   "language": "julia",
   "name": "julia-0.5"
  },
  "language_info": {
   "file_extension": ".jl",
   "mimetype": "application/julia",
   "name": "julia",
   "version": "0.5.0"
  }
 },
 "nbformat": 4,
 "nbformat_minor": 0
}
