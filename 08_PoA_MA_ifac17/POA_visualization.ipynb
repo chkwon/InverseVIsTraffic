{
 "cells": [
  {
   "cell_type": "code",
   "execution_count": 1,
   "metadata": {
    "collapsed": true
   },
   "outputs": [],
   "source": [
    "using JSON"
   ]
  },
  {
   "cell_type": "code",
   "execution_count": 2,
   "metadata": {
    "collapsed": true
   },
   "outputs": [],
   "source": [
    "poaDictAprPM = readstring(\"./results/poaDictAprPM.json\");\n",
    "poaDictAprPM = JSON.parse(poaDictAprPM);"
   ]
  },
  {
   "cell_type": "code",
   "execution_count": 3,
   "metadata": {
    "collapsed": true
   },
   "outputs": [],
   "source": [
    "poaDictAprWeekend = readstring(\"./results/poaDictAprWeekend.json\");\n",
    "poaDictAprWeekend = JSON.parse(poaDictAprWeekend);"
   ]
  },
  {
   "cell_type": "code",
   "execution_count": 4,
   "metadata": {},
   "outputs": [
    {
     "data": {
      "text/plain": [
       "Dict{String,Any} with 21 entries:\n",
       "  \"24\" => 1.95793\n",
       "  \"4\"  => 1.44167\n",
       "  \"12\" => 1.46379\n",
       "  \"20\" => 1.01136\n",
       "  \"2\"  => 1.52915\n",
       "  \"25\" => 1.95534\n",
       "  \"6\"  => 1.40174\n",
       "  \"23\" => 1.53419\n",
       "  \"11\" => 1.62226\n",
       "  \"13\" => 1.59363\n",
       "  \"5\"  => 1.78033\n",
       "  \"27\" => 1.15541\n",
       "  \"16\" => 1.48854\n",
       "  \"26\" => 1.93907\n",
       "  \"17\" => 1.52292\n",
       "  \"10\" => 2.33568\n",
       "  \"19\" => 1.43187\n",
       "  \"9\"  => 1.20244\n",
       "  \"18\" => 1.36852\n",
       "  \"30\" => 1.48607\n",
       "  \"3\"  => 1.49783"
      ]
     },
     "execution_count": 4,
     "metadata": {},
     "output_type": "execute_result"
    }
   ],
   "source": [
    "poaDictAprPM"
   ]
  },
  {
   "cell_type": "code",
   "execution_count": 5,
   "metadata": {},
   "outputs": [
    {
     "data": {
      "text/plain": [
       "Dict{String,Any} with 9 entries:\n",
       "  \"8\"  => 1.16695\n",
       "  \"29\" => 1.11215\n",
       "  \"1\"  => 1.18072\n",
       "  \"21\" => 1.1541\n",
       "  \"15\" => 1.15423\n",
       "  \"7\"  => 1.19958\n",
       "  \"22\" => 1.17927\n",
       "  \"28\" => 1.10901\n",
       "  \"14\" => 1.17237"
      ]
     },
     "execution_count": 5,
     "metadata": {},
     "output_type": "execute_result"
    }
   ],
   "source": [
    "poaDictAprWeekend"
   ]
  },
  {
   "cell_type": "code",
   "execution_count": 6,
   "metadata": {
    "collapsed": true
   },
   "outputs": [],
   "source": [
    "poaDictApr = Dict{}()\n",
    "\n",
    "for key in keys(poaDictAprPM)\n",
    "    poaDictApr[parse(Int, key)] = poaDictAprPM[key]\n",
    "end\n",
    "\n",
    "for key in keys(poaDictAprWeekend)\n",
    "    poaDictApr[parse(Int, key)] = poaDictAprWeekend[key]\n",
    "end"
   ]
  },
  {
   "cell_type": "code",
   "execution_count": 7,
   "metadata": {},
   "outputs": [
    {
     "data": {
      "text/plain": [
       "Dict{Any,Any} with 30 entries:\n",
       "  30 => 1.48607\n",
       "  1  => 1.18072\n",
       "  2  => 1.52915\n",
       "  16 => 1.48854\n",
       "  11 => 1.62226\n",
       "  21 => 1.1541\n",
       "  26 => 1.93907\n",
       "  9  => 1.20244\n",
       "  25 => 1.95534\n",
       "  10 => 2.33568\n",
       "  7  => 1.19958\n",
       "  29 => 1.11215\n",
       "  19 => 1.43187\n",
       "  17 => 1.52292\n",
       "  8  => 1.16695\n",
       "  22 => 1.17927\n",
       "  6  => 1.40174\n",
       "  24 => 1.95793\n",
       "  4  => 1.44167\n",
       "  3  => 1.49783\n",
       "  28 => 1.10901\n",
       "  5  => 1.78033\n",
       "  20 => 1.01136\n",
       "  23 => 1.53419\n",
       "  13 => 1.59363\n",
       "  ⋮  => ⋮"
      ]
     },
     "execution_count": 7,
     "metadata": {},
     "output_type": "execute_result"
    }
   ],
   "source": [
    "poaDictApr"
   ]
  },
  {
   "cell_type": "code",
   "execution_count": 10,
   "metadata": {},
   "outputs": [
    {
     "data": {
      "image/png": "[encoded data removed]",
      "text/plain": [
       "PyPlot.Figure(PyObject <matplotlib.figure.Figure object at 0x7f3928d07ed0>)"
      ]
     },
     "metadata": {},
     "output_type": "display_data"
    }
   ],
   "source": [
    "using PyPlot\n",
    "\n",
    "day = 1:30\n",
    "\n",
    "poa = map(day->poaDictApr[day], day)\n",
    "\n",
    "# plot(iterNum, objFun, \"s-g\", label=\"True\")\n",
    "\n",
    "fig = figure(figsize=(7,2))\n",
    "\n",
    "plot(day, poa, \"o-r\", linewidth=1, markerfacecolor=\"None\", markeredgecolor=\"r\", markeredgewidth=1)\n",
    "\n",
    "# legend(loc=\"upper right\",fancybox=\"true\") \n",
    "\n",
    "# grid(\"on\")\n",
    "\n",
    "xlim(0, 31)\n",
    "xticks(1:2:30)\n",
    "yticks(-0.2:0.2:2.4)\n",
    "ylim(minimum(poa)-.08, maximum(poa)+.08)\n",
    "\n",
    "font1 = Dict(\"family\"=>\"serif\", \"color\"=>\"k\", \"weight\"=>\"normal\", \"size\"=>14)\n",
    "\n",
    "xlabel(\"day of Apr. 2012 (PM period)\", fontdict=font1)\n",
    "ylabel(\"PoA\", fontdict=font1)\n",
    "\n",
    "# savefig(\"./results/POA_Apr_ext.pdf\", dpi=300, bbox_inches=\"tight\")\n",
    "\n",
    "dire = \"/home/jzh/Desktop/PIEEE_rev/imag/\"\n",
    "\n",
    "savefig(dire * \"POA_Apr_ext.pdf\", dpi=300, bbox_inches=\"tight\")"
   ]
  },
  {
   "cell_type": "code",
   "execution_count": null,
   "metadata": {
    "collapsed": true
   },
   "outputs": [],
   "source": []
  }
 ],
 "metadata": {
  "kernelspec": {
   "display_name": "Julia 0.5.0",
   "language": "julia",
   "name": "julia-0.5"
  },
  "language_info": {
   "file_extension": ".jl",
   "mimetype": "application/julia",
   "name": "julia",
   "version": "0.5.0"
  }
 },
 "nbformat": 4,
 "nbformat_minor": 1
}
