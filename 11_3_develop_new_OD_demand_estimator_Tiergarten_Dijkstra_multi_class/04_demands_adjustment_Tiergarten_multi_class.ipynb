{
 "cells": [
  {
   "cell_type": "code",
   "execution_count": 1,
   "metadata": {
    "collapsed": false
   },
   "outputs": [],
   "source": [
    "using PyCall\n",
    "unshift!(PyVector(pyimport(\"sys\")[\"path\"]), \"\");\n",
    "@pyimport Compute_Jacobian_Tiergarten_multi_class"
   ]
  },
  {
   "cell_type": "code",
   "execution_count": 2,
   "metadata": {
    "collapsed": false
   },
   "outputs": [],
   "source": [
    "numNodes = Compute_Jacobian_Tiergarten_multi_class.numNodes;\n",
    "numLinks = Compute_Jacobian_Tiergarten_multi_class.numLinks;\n",
    "numODpairs = Compute_Jacobian_Tiergarten_multi_class.numODpairs;\n",
    "numZones = Compute_Jacobian_Tiergarten_multi_class.numZones;\n",
    "od_pairs = Compute_Jacobian_Tiergarten_multi_class.od_pairs;\n",
    "link_list_js = Compute_Jacobian_Tiergarten_multi_class.link_list_js;\n",
    "link_length_list = Compute_Jacobian_Tiergarten_multi_class.link_length_list;"
   ]
  },
  {
   "cell_type": "code",
   "execution_count": 3,
   "metadata": {
    "collapsed": false
   },
   "outputs": [
    {
     "name": "stderr",
     "output_type": "stream",
     "text": [
      "WARNING: Method definition (::Type{Graphs.KeyVertex})(Int64, #K<:Any) in module Graphs at /home/jzh/.julia/v0.5/Graphs/src/common.jl:12 overwritten at /home/jzh/.julia/v0.5/Graphs/src/common.jl:16.\n",
      "WARNING: Method definition (::Type{Graphs.Edge})(Int64, #V<:Any, #V<:Any) in module Graphs at /home/jzh/.julia/v0.5/Graphs/src/common.jl:54 overwritten at /home/jzh/.julia/v0.5/Graphs/src/common.jl:60.\n",
      "WARNING: Method definition (::Type{Graphs.ExEdge})(Int64, #V<:Any, #V<:Any, Base.Dict{String, Any}) in module Graphs at /home/jzh/.julia/v0.5/Graphs/src/common.jl:72 overwritten at /home/jzh/.julia/v0.5/Graphs/src/common.jl:83.\n",
      "WARNING: Method definition (::Type{Graphs.TargetIterator})(#G<:Graphs.AbstractGraph, #EList<:Any) in module Graphs at /home/jzh/.julia/v0.5/Graphs/src/common.jl:123 overwritten at /home/jzh/.julia/v0.5/Graphs/src/common.jl:127.\n",
      "WARNING: Method definition (::Type{Graphs.SourceIterator})(#G<:Graphs.AbstractGraph, #EList<:Any) in module Graphs at /home/jzh/.julia/v0.5/Graphs/src/common.jl:141 overwritten at /home/jzh/.julia/v0.5/Graphs/src/common.jl:145.\n",
      "WARNING: Method definition edge_property_requirement(Graphs.AbstractEdgePropertyInspector{#T<:Any}, Graphs.AbstractGraph{#V<:Any, E<:Any}) in module Graphs at /home/jzh/.julia/v0.5/Graphs/src/common.jl:164 overwritten at /home/jzh/.julia/v0.5/Graphs/src/common.jl:179.\n",
      "WARNING: Method definition vertex_index(#V<:Union{Graphs.KeyVertex, Graphs.ExVertex}, Graphs.GenericGraph{#V<:Union{Graphs.KeyVertex, Graphs.ExVertex}, E<:Any, VList<:Any, EList<:Any, IncList<:Any}) in module Graphs at /home/jzh/.julia/v0.5/Graphs/src/graph.jl:65 overwritten at /home/jzh/.julia/v0.5/Graphs/src/graph.jl:67.\n",
      "WARNING: Method definition (::Type{Graphs.GDistanceVisitor})(#G<:Graphs.AbstractGraph, #DMap<:Any) in module Graphs at /home/jzh/.julia/v0.5/Graphs/src/breadth_first_visit.jl:107 overwritten at /home/jzh/.julia/v0.5/Graphs/src/breadth_first_visit.jl:111.\n"
     ]
    }
   ],
   "source": [
    "include(\"../Julia_files/initia_data.jl\");\n",
    "include(\"prepare_data_Tiergarten.jl\");\n",
    "include(\"extract_data_Tiergarten.jl\");\n",
    "include(\"../Julia_files/tap_MSA_multi_class.jl\");\n",
    "include(\"../Julia_files/inverseVI_multi_class.jl\");\n",
    "include(\"../Julia_files/demands_adjustment_gradi_multi_class.jl\");"
   ]
  },
  {
   "cell_type": "code",
   "execution_count": 4,
   "metadata": {
    "collapsed": false
   },
   "outputs": [],
   "source": [
    "demandsDictCar[0] = demandsDict[0][\"car\"];\n",
    "demandsDictCar[1] = demandsDict[1][\"car\"];\n",
    "demandsDictTruck[0] = demandsDict[0][\"truck\"];\n",
    "demandsDictTruck[1] = demandsDict[1][\"truck\"];"
   ]
  },
  {
   "cell_type": "code",
   "execution_count": 5,
   "metadata": {
    "collapsed": false
   },
   "outputs": [],
   "source": [
    "demandsDiffDictCar[1] = norm(demandsDicToVec(demandsDictCar[1]) - demandsDicToVec(demandsDictCar[0]))/\n",
    "norm(demandsDicToVec(demandsDictCar[0]));\n",
    "\n",
    "demandsDiffDictTruck[1] = norm(demandsDicToVec(demandsDictTruck[1]) - demandsDicToVec(demandsDictTruck[0]))/\n",
    "norm(demandsDicToVec(demandsDictTruck[0]));"
   ]
  },
  {
   "cell_type": "code",
   "execution_count": 6,
   "metadata": {
    "collapsed": false
   },
   "outputs": [],
   "source": [
    "demandsVecDictCar[0] = demandsDicToVec(demandsDictCar[0]);\n",
    "demandsVecDictTruck[0] = demandsDicToVec(demandsDictTruck[0]);"
   ]
  },
  {
   "cell_type": "code",
   "execution_count": 7,
   "metadata": {
    "collapsed": false
   },
   "outputs": [
    {
     "data": {
      "text/plain": [
       "Dict{Any,Any} with 1 entry:\n",
       "  0 => [18.072,14.656,17.456,12.176,2.984,0.08,0.248,0.976,0.416,0.168  …  5.99…"
      ]
     },
     "execution_count": 7,
     "metadata": {},
     "output_type": "execute_result"
    }
   ],
   "source": [
    "demandsVecDictCar"
   ]
  },
  {
   "cell_type": "code",
   "execution_count": 8,
   "metadata": {
    "collapsed": false
   },
   "outputs": [
    {
     "data": {
      "text/plain": [
       "Dict{Any,Any} with 1 entry:\n",
       "  0 => [4.518,3.664,4.364,3.044,0.746,0.02,0.062,0.244,0.104,0.042  …  1.498,2.…"
      ]
     },
     "execution_count": 8,
     "metadata": {},
     "output_type": "execute_result"
    }
   ],
   "source": [
    "demandsVecDictTruck"
   ]
  },
  {
   "cell_type": "code",
   "execution_count": 9,
   "metadata": {
    "collapsed": false
   },
   "outputs": [],
   "source": [
    "fcoeffs = [1, 0, 0, 0, 1];\n",
    "\n",
    "# get observed flow vector (corresponding to ground truth demands and ground truth costs)\n",
    "tapFlowDicDict[0], tapFlowVecDict[0] = tapMSA_Multi(demandsDictCar[0], demandsDictTruck[0], fcoeffs);"
   ]
  },
  {
   "cell_type": "code",
   "execution_count": 10,
   "metadata": {
    "collapsed": false
   },
   "outputs": [
    {
     "data": {
      "text/plain": [
       "Dict{Any,Any} with 2 entries:\n",
       "  \"car\"   => Dict{Any,Any}(Pair{Any,Any}((248,65),395.656),Pair{Any,Any}((137,1…\n",
       "  \"truck\" => Dict{Any,Any}(Pair{Any,Any}((248,65),98.914),Pair{Any,Any}((137,10…"
      ]
     },
     "execution_count": 10,
     "metadata": {},
     "output_type": "execute_result"
    }
   ],
   "source": [
    "tapFlowDicDict[0]"
   ]
  },
  {
   "cell_type": "code",
   "execution_count": 11,
   "metadata": {
    "collapsed": false
   },
   "outputs": [
    {
     "data": {
      "text/plain": [
       "2×766 Array{Float64,2}:\n",
       " 32.9041  118.439   612.298  0.0  547.093   …  3.17326   29.9437   58.9791\n",
       "  8.224    29.6097  152.431  0.0   97.4636     0.793226   7.48221  14.7385"
      ]
     },
     "execution_count": 11,
     "metadata": {},
     "output_type": "execute_result"
    }
   ],
   "source": [
    "tapFlowVecDict[0]"
   ]
  },
  {
   "cell_type": "code",
   "execution_count": 12,
   "metadata": {
    "collapsed": false
   },
   "outputs": [],
   "source": [
    "# get arcs data corresponding to ground truth demands and flows\n",
    "arcsDict[0] = observFlow(\"./benchmark_data/Tiergarten_net.txt\", tapFlowDicDict[0]);"
   ]
  },
  {
   "cell_type": "code",
   "execution_count": 13,
   "metadata": {
    "collapsed": false
   },
   "outputs": [
    {
     "data": {
      "text/plain": [
       "Dict{Any,Any} with 766 entries:\n",
       "  (248,65)  => Arc(248,65,900.0,17.0,593.484,395.656,98.914)\n",
       "  (137,106) => Arc(137,106,2800.0,1.66667,268.764,179.176,44.794)\n",
       "  (267,256) => Arc(267,256,2400.0,7.33333,104.42,69.6041,17.4079)\n",
       "  (354,353) => Arc(354,353,900.0,1.0,344.967,229.883,57.5423)\n",
       "  (56,55)   => Arc(56,55,600.0,0.333333,0.0,0.0,0.0)\n",
       "  (259,255) => Arc(259,255,2400.0,0.666667,0.0,0.0,0.0)\n",
       "  (125,177) => Arc(125,177,900.0,1.66667,0.0,0.0,0.0)\n",
       "  (36,35)   => Arc(36,35,2800.0,0.333333,23.5704,15.7155,3.92747)\n",
       "  (183,184) => Arc(183,184,900.0,0.333333,0.0,0.0,0.0)\n",
       "  (43,361)  => Arc(43,361,2800.0,12.6667,7.81583,5.21975,1.29804)\n",
       "  (16,277)  => Arc(16,277,999999.0,0.0,1833.91,1221.37,306.267)\n",
       "  (298,307) => Arc(298,307,2400.0,1.0,1799.71,1200.47,299.619)\n",
       "  (31,34)   => Arc(31,34,2800.0,0.666667,130.308,86.8762,21.7158)\n",
       "  (187,191) => Arc(187,191,600.0,0.666667,274.182,182.788,45.6969)\n",
       "  (241,244) => Arc(241,244,2400.0,0.333333,0.0,0.0,0.0)\n",
       "  (84,95)   => Arc(84,95,900.0,2.33333,0.0,0.0,0.0)\n",
       "  (221,2)   => Arc(221,2,999999.0,0.0,940.178,569.63,185.274)\n",
       "  (23,351)  => Arc(23,351,999999.0,0.0,0.0,0.0,0.0)\n",
       "  (159,200) => Arc(159,200,2400.0,12.6667,1.05114,1.05114,0.0)\n",
       "  (96,92)   => Arc(96,92,900.0,2.0,0.0,0.0,0.0)\n",
       "  (35,39)   => Arc(35,39,2800.0,0.333333,4.75971,3.17326,0.793226)\n",
       "  (24,243)  => Arc(24,243,999999.0,0.0,0.0,0.0,0.0)\n",
       "  (28,32)   => Arc(28,32,2800.0,3.66667,219.384,146.256,36.564)\n",
       "  (151,17)  => Arc(151,17,999999.0,0.0,1072.9,715.381,178.758)\n",
       "  (107,84)  => Arc(107,84,900.0,0.333333,155.909,103.939,25.9848)\n",
       "  ⋮         => ⋮"
      ]
     },
     "execution_count": 13,
     "metadata": {},
     "output_type": "execute_result"
    }
   ],
   "source": [
    "arcsDict[0]"
   ]
  },
  {
   "cell_type": "code",
   "execution_count": 14,
   "metadata": {
    "collapsed": false
   },
   "outputs": [],
   "source": [
    "deg = 7\n",
    "c = 1.5\n",
    "lam = 0.1\n",
    "\n",
    "coeffs_dict[(deg, c, lam, 1)], objInvVIDict[1] = train(lam, deg, c, demandsDictCar[1], demandsDictTruck[1], \n",
    "arcsDict[0]);"
   ]
  },
  {
   "cell_type": "code",
   "execution_count": 15,
   "metadata": {
    "collapsed": false
   },
   "outputs": [
    {
     "data": {
      "text/plain": [
       "1"
      ]
     },
     "execution_count": 15,
     "metadata": {},
     "output_type": "execute_result"
    }
   ],
   "source": [
    "# weight parameters\n",
    "gamma1 = 10 ^ 4\n",
    "gamma2 = 1"
   ]
  },
  {
   "cell_type": "code",
   "execution_count": 16,
   "metadata": {
    "collapsed": false
   },
   "outputs": [
    {
     "data": {
      "image/png": "[encoded data removed]",
      "text/plain": [
       "PyPlot.Figure(PyObject <matplotlib.figure.Figure object at 0x7f5ab6a34b90>)"
      ]
     },
     "metadata": {},
     "output_type": "display_data"
    }
   ],
   "source": [
    "using PyPlot\n",
    "\n",
    "iterN = 1\n",
    "\n",
    "true_coeffs = [1, 0, 0, 0, 1]\n",
    "# true_coeffs = [1, .2, .5, .8, .15]\n",
    "\n",
    "est_coeffs = coeffs_dict[(deg, c, lam, iterN)]\n",
    "\n",
    "xs = linspace(0, 2, 20)\n",
    "zs_true = map(x->polyEval(true_coeffs, x), xs)\n",
    "\n",
    "zs = map(x->polyEval(est_coeffs, x), xs)\n",
    "\n",
    "PyPlot.plot(xs, zs_true, \"^-g\", label=\"ground truth\")\n",
    "PyPlot.plot(xs, zs, \"<-r\", label=\"estimation\")\n",
    "\n",
    "legend(loc=\"upper left\",fancybox=\"true\") \n",
    "# PyPlot.plot(xs, ys, \"--b\")\n",
    "grid(\"on\")\n",
    "xlim(-0.1, 2.1);\n",
    "ylim(0.9, 3.5);\n",
    "\n",
    "font1 = Dict(\"family\"=>\"serif\",\"color\"=>\"k\",\"weight\"=>\"normal\",\"size\"=>14)\n",
    "xlabel(\"Scaled Flow\", fontdict=font1)\n",
    "ylabel(\"Scaled Cost\", fontdict=font1)\n",
    "\n",
    "savefig(\"./results/fitting_Tiergarten_iter_$(iterN)_multi_class_$(gamma1)_$(gamma2).pdf\")"
   ]
  },
  {
   "cell_type": "code",
   "execution_count": 17,
   "metadata": {
    "collapsed": false
   },
   "outputs": [],
   "source": [
    "demandsVecDictCar[1] = demandsDicToVec(demandsDictCar[1]);\n",
    "demandsVecDictTruck[1] = demandsDicToVec(demandsDictTruck[1]);\n",
    "\n",
    "objFunDict[1] = objF(gamma1, gamma2, demandsVecDictCar[1], demandsVecDictCar[0], demandsVecDictTruck[1], \n",
    "    demandsVecDictTruck[0], coeffs_dict[(deg, c, lam, 1)]);"
   ]
  },
  {
   "cell_type": "code",
   "execution_count": 18,
   "metadata": {
    "collapsed": false
   },
   "outputs": [],
   "source": [
    "# get initial flow vector (corresponding to initial demands)\n",
    "tapFlowDicDict[1], tapFlowVecDict[1] = tapMSA_Multi(demandsDictCar[1], demandsDictTruck[1], \n",
    "coeffs_dict[(deg, c, lam, 1)]);"
   ]
  },
  {
   "cell_type": "code",
   "execution_count": 19,
   "metadata": {
    "collapsed": false
   },
   "outputs": [
    {
     "data": {
      "text/plain": [
       "Dict{Any,Any} with 2 entries:\n",
       "  \"car\"   => Dict{Any,Any}(Pair{Any,Any}((248,65),410.026),Pair{Any,Any}((137,1…\n",
       "  \"truck\" => Dict{Any,Any}(Pair{Any,Any}((248,65),102.506),Pair{Any,Any}((137,1…"
      ]
     },
     "execution_count": 19,
     "metadata": {},
     "output_type": "execute_result"
    }
   ],
   "source": [
    "tapFlowDicDict[1]"
   ]
  },
  {
   "cell_type": "code",
   "execution_count": 20,
   "metadata": {
    "collapsed": false
   },
   "outputs": [
    {
     "data": {
      "text/plain": [
       "2×766 Array{Float64,2}:\n",
       " 32.1027   117.603   600.385  0.0  487.388   …  3.10928   30.1084   58.7823\n",
       "  8.02566   29.4453  145.237  0.0   90.7429     0.776946   7.52147  14.6975"
      ]
     },
     "execution_count": 20,
     "metadata": {},
     "output_type": "execute_result"
    }
   ],
   "source": [
    "tapFlowVecDict[1] "
   ]
  },
  {
   "cell_type": "code",
   "execution_count": 21,
   "metadata": {
    "collapsed": false
   },
   "outputs": [],
   "source": [
    "# get arcs data corresponding to initial demands and flows\n",
    "arcsDict[1] = observFlow(\"./benchmark_data/Tiergarten_net.txt\", tapFlowDicDict[1]);"
   ]
  },
  {
   "cell_type": "code",
   "execution_count": 22,
   "metadata": {
    "collapsed": false
   },
   "outputs": [],
   "source": [
    "linkCostDicDict[1] = tapFlowVecToLinkCostDict(tapFlowVecDict[1], coeffs_dict[(deg, c, lam, 1)]);"
   ]
  },
  {
   "cell_type": "code",
   "execution_count": 23,
   "metadata": {
    "collapsed": false
   },
   "outputs": [
    {
     "data": {
      "text/plain": [
       "Dict{Any,Any} with 766 entries:\n",
       "  \"1\"   => 0.0\n",
       "  \"519\" => 5.0\n",
       "  \"599\" => 0.0\n",
       "  \"491\" => 5.33333\n",
       "  \"228\" => 6.0\n",
       "  \"332\" => 15.3155\n",
       "  \"190\" => 7.33333\n",
       "  \"227\" => 0.0\n",
       "  \"297\" => 1.66667\n",
       "  \"605\" => 35.6667\n",
       "  \"24\"  => 0.0\n",
       "  \"204\" => 15.7672\n",
       "  \"416\" => 8.33333\n",
       "  \"23\"  => 0.0\n",
       "  \"160\" => 2.02874\n",
       "  \"561\" => 0.333333\n",
       "  \"253\" => 4.76916\n",
       "  \"39\"  => 0.0\n",
       "  \"112\" => 0.669255\n",
       "  \"372\" => 10.1322\n",
       "  \"34\"  => 0.0\n",
       "  \"137\" => 0.333333\n",
       "  \"590\" => 26.6667\n",
       "  \"55\"  => 0.0\n",
       "  \"323\" => 1.0\n",
       "  ⋮     => ⋮"
      ]
     },
     "execution_count": 23,
     "metadata": {},
     "output_type": "execute_result"
    }
   ],
   "source": [
    "linkCostDicDict[1][\"car\"]"
   ]
  },
  {
   "cell_type": "code",
   "execution_count": 24,
   "metadata": {
    "collapsed": false
   },
   "outputs": [
    {
     "data": {
      "text/plain": [
       "Dict{Any,Any} with 766 entries:\n",
       "  \"1\"   => 0.0\n",
       "  \"519\" => 5.5\n",
       "  \"599\" => 0.0\n",
       "  \"491\" => 5.86667\n",
       "  \"228\" => 6.6\n",
       "  \"332\" => 16.847\n",
       "  \"190\" => 8.06667\n",
       "  \"227\" => 0.0\n",
       "  \"297\" => 1.83333\n",
       "  \"605\" => 39.2333\n",
       "  \"24\"  => 0.0\n",
       "  \"204\" => 17.3439\n",
       "  \"416\" => 9.16667\n",
       "  \"23\"  => 0.0\n",
       "  \"160\" => 2.23161\n",
       "  \"561\" => 0.366666\n",
       "  \"253\" => 5.24607\n",
       "  \"39\"  => 0.0\n",
       "  \"112\" => 0.73618\n",
       "  \"372\" => 11.1454\n",
       "  \"34\"  => 0.0\n",
       "  \"137\" => 0.366666\n",
       "  \"590\" => 29.3333\n",
       "  \"55\"  => 0.0\n",
       "  \"323\" => 1.1\n",
       "  ⋮     => ⋮"
      ]
     },
     "execution_count": 24,
     "metadata": {},
     "output_type": "execute_result"
    }
   ],
   "source": [
    "linkCostDicDict[1][\"truck\"]"
   ]
  },
  {
   "cell_type": "code",
   "execution_count": 25,
   "metadata": {
    "collapsed": false
   },
   "outputs": [
    {
     "data": {
      "text/plain": [
       "766-element Array{Any,1}:\n",
       "   0.0\n",
       "   0.0\n",
       "   0.0\n",
       "   0.0\n",
       "   0.0\n",
       "   0.0\n",
       "   0.0\n",
       "   0.0\n",
       "   0.0\n",
       "   0.0\n",
       "   0.0\n",
       "   0.0\n",
       "   0.0\n",
       "   ⋮  \n",
       "  15.0\n",
       " 428.0\n",
       "   0.0\n",
       " 137.0\n",
       " 300.0\n",
       "  18.0\n",
       "  81.0\n",
       "  41.0\n",
       "  27.0\n",
       " 327.0\n",
       " 363.0\n",
       "  70.0"
      ]
     },
     "execution_count": 25,
     "metadata": {},
     "output_type": "execute_result"
    }
   ],
   "source": [
    "link_length_list"
   ]
  },
  {
   "cell_type": "code",
   "execution_count": 26,
   "metadata": {
    "collapsed": false
   },
   "outputs": [
    {
     "data": {
      "text/plain": [
       "Dict{Any,Any} with 2 entries:\n",
       "  0 => [0.0,0.0,0.0,0.0,0.0,0.0,0.0,0.0,0.0,0.0  …  0.0,3.66667,13.6681,0.33333…\n",
       "  1 => [0.0,0.0,0.0,0.0,0.0,0.0,0.0,0.0,0.0,0.0  …  0.0,4.03333,15.0349,0.36666…"
      ]
     },
     "execution_count": 26,
     "metadata": {},
     "output_type": "execute_result"
    }
   ],
   "source": [
    "link_length_list_car = [linkCostDicDict[1][\"car\"][\"$(i)\"] for i=0:numLinks-1]\n",
    "link_length_list_truck = [linkCostDicDict[1][\"truck\"][\"$(i)\"] for i=0:numLinks-1]\n",
    "\n",
    "link_length_list_dict[0] = link_length_list_car\n",
    "link_length_list_dict[1] = link_length_list_truck\n",
    "\n",
    "link_length_list_dict_dict[1] = link_length_list_dict"
   ]
  },
  {
   "cell_type": "code",
   "execution_count": 27,
   "metadata": {
    "collapsed": false
   },
   "outputs": [],
   "source": [
    "jacobiSpiessDict[1] = Compute_Jacobian_Tiergarten_multi_class.jacobianSpiess(numNodes, numLinks, \n",
    "    numODpairs, od_pairs, link_list_js, link_length_list_dict_dict[1]);"
   ]
  },
  {
   "cell_type": "code",
   "execution_count": 28,
   "metadata": {
    "collapsed": false
   },
   "outputs": [
    {
     "data": {
      "text/plain": [
       "650×766×2 Array{Float64,3}:\n",
       "[:, :, 1] =\n",
       " 0.0  1.0  0.0  0.0  0.0  0.0  0.0  0.0  …  0.0  0.0  0.0  0.0  0.0  0.0  0.0\n",
       " 0.0  0.0  1.0  0.0  0.0  0.0  0.0  0.0     0.0  0.0  0.0  0.0  0.0  0.0  0.0\n",
       " 0.0  0.0  1.0  0.0  0.0  0.0  0.0  0.0     0.0  0.0  0.0  0.0  0.0  0.0  0.0\n",
       " 0.0  0.0  1.0  0.0  0.0  0.0  0.0  0.0     0.0  0.0  0.0  0.0  0.0  0.0  0.0\n",
       " 0.0  0.0  1.0  0.0  0.0  0.0  0.0  0.0     0.0  0.0  0.0  0.0  0.0  0.0  0.0\n",
       " 0.0  0.0  1.0  0.0  0.0  0.0  0.0  0.0  …  0.0  0.0  0.0  0.0  0.0  0.0  0.0\n",
       " 0.0  0.0  1.0  0.0  0.0  0.0  0.0  0.0     0.0  0.0  1.0  0.0  0.0  0.0  0.0\n",
       " 0.0  0.0  1.0  0.0  0.0  0.0  0.0  0.0     0.0  0.0  0.0  1.0  0.0  0.0  0.0\n",
       " 0.0  0.0  1.0  0.0  0.0  0.0  0.0  0.0     0.0  0.0  0.0  0.0  0.0  0.0  0.0\n",
       " 0.0  0.0  1.0  0.0  0.0  0.0  0.0  0.0     0.0  0.0  0.0  0.0  0.0  0.0  0.0\n",
       " 0.0  0.0  1.0  0.0  0.0  0.0  0.0  0.0  …  0.0  0.0  1.0  0.0  0.0  0.0  0.0\n",
       " 0.0  1.0  0.0  0.0  0.0  0.0  0.0  0.0     0.0  0.0  0.0  0.0  0.0  0.0  0.0\n",
       " 0.0  0.0  1.0  0.0  0.0  0.0  0.0  0.0     0.0  0.0  0.0  0.0  0.0  0.0  0.0\n",
       " ⋮                        ⋮              ⋱       ⋮                        ⋮  \n",
       " 0.0  0.0  0.0  0.0  0.0  0.0  0.0  0.0     0.0  0.0  0.0  0.0  0.0  0.0  0.0\n",
       " 0.0  0.0  0.0  0.0  0.0  0.0  1.0  0.0     0.0  0.0  0.0  0.0  0.0  0.0  0.0\n",
       " 0.0  0.0  0.0  0.0  0.0  0.0  0.0  0.0  …  0.0  0.0  0.0  0.0  0.0  0.0  0.0\n",
       " 0.0  0.0  0.0  0.0  0.0  0.0  0.0  0.0     0.0  0.0  0.0  0.0  0.0  0.0  0.0\n",
       " 0.0  0.0  0.0  0.0  0.0  0.0  0.0  0.0     0.0  0.0  0.0  0.0  0.0  0.0  1.0\n",
       " 0.0  0.0  0.0  0.0  0.0  0.0  0.0  0.0     0.0  0.0  0.0  0.0  1.0  0.0  0.0\n",
       " 0.0  0.0  0.0  0.0  0.0  0.0  0.0  0.0     0.0  0.0  0.0  0.0  0.0  0.0  0.0\n",
       " 0.0  0.0  0.0  0.0  0.0  0.0  0.0  0.0  …  0.0  0.0  0.0  0.0  0.0  0.0  0.0\n",
       " 0.0  0.0  0.0  0.0  0.0  0.0  0.0  0.0     0.0  0.0  0.0  0.0  0.0  0.0  0.0\n",
       " 0.0  0.0  0.0  0.0  0.0  0.0  0.0  0.0     0.0  0.0  0.0  0.0  0.0  0.0  0.0\n",
       " 0.0  0.0  0.0  0.0  0.0  0.0  0.0  0.0     0.0  0.0  0.0  0.0  0.0  0.0  0.0\n",
       " 0.0  0.0  0.0  0.0  0.0  0.0  0.0  0.0     0.0  0.0  0.0  0.0  0.0  0.0  0.0\n",
       "\n",
       "[:, :, 2] =\n",
       " 0.0  1.0  0.0  0.0  0.0  0.0  0.0  0.0  …  0.0  0.0  0.0  0.0  0.0  0.0  0.0\n",
       " 0.0  0.0  1.0  0.0  0.0  0.0  0.0  0.0     0.0  0.0  0.0  0.0  0.0  0.0  0.0\n",
       " 0.0  0.0  1.0  0.0  0.0  0.0  0.0  0.0     0.0  0.0  0.0  0.0  0.0  0.0  0.0\n",
       " 0.0  0.0  1.0  0.0  0.0  0.0  0.0  0.0     0.0  0.0  0.0  0.0  0.0  0.0  0.0\n",
       " 0.0  0.0  1.0  0.0  0.0  0.0  0.0  0.0     0.0  0.0  0.0  0.0  0.0  0.0  0.0\n",
       " 0.0  0.0  1.0  0.0  0.0  0.0  0.0  0.0  …  0.0  0.0  0.0  0.0  0.0  0.0  0.0\n",
       " 0.0  0.0  1.0  0.0  0.0  0.0  0.0  0.0     0.0  0.0  1.0  0.0  0.0  0.0  0.0\n",
       " 0.0  0.0  1.0  0.0  0.0  0.0  0.0  0.0     0.0  0.0  0.0  1.0  0.0  0.0  0.0\n",
       " 0.0  0.0  1.0  0.0  0.0  0.0  0.0  0.0     0.0  0.0  0.0  0.0  0.0  0.0  0.0\n",
       " 0.0  0.0  1.0  0.0  0.0  0.0  0.0  0.0     0.0  0.0  0.0  0.0  0.0  0.0  0.0\n",
       " 0.0  0.0  1.0  0.0  0.0  0.0  0.0  0.0  …  0.0  0.0  1.0  0.0  0.0  0.0  0.0\n",
       " 0.0  1.0  0.0  0.0  0.0  0.0  0.0  0.0     0.0  0.0  0.0  0.0  0.0  0.0  0.0\n",
       " 0.0  0.0  1.0  0.0  0.0  0.0  0.0  0.0     0.0  0.0  0.0  0.0  0.0  0.0  0.0\n",
       " ⋮                        ⋮              ⋱       ⋮                        ⋮  \n",
       " 0.0  0.0  0.0  0.0  0.0  0.0  0.0  0.0     0.0  0.0  0.0  0.0  0.0  0.0  0.0\n",
       " 0.0  0.0  0.0  0.0  0.0  0.0  1.0  0.0     0.0  0.0  0.0  0.0  0.0  0.0  0.0\n",
       " 0.0  0.0  0.0  0.0  0.0  0.0  0.0  0.0  …  0.0  0.0  0.0  0.0  0.0  0.0  0.0\n",
       " 0.0  0.0  0.0  0.0  0.0  0.0  0.0  0.0     0.0  0.0  0.0  0.0  0.0  0.0  0.0\n",
       " 0.0  0.0  0.0  0.0  0.0  0.0  0.0  0.0     0.0  0.0  0.0  0.0  0.0  0.0  1.0\n",
       " 0.0  0.0  0.0  0.0  0.0  0.0  0.0  0.0     0.0  0.0  0.0  0.0  1.0  0.0  0.0\n",
       " 0.0  0.0  0.0  0.0  0.0  0.0  0.0  0.0     0.0  0.0  0.0  0.0  0.0  0.0  0.0\n",
       " 0.0  0.0  0.0  0.0  0.0  0.0  0.0  0.0  …  0.0  0.0  0.0  0.0  0.0  0.0  0.0\n",
       " 0.0  0.0  0.0  0.0  0.0  0.0  0.0  0.0     0.0  0.0  0.0  0.0  0.0  0.0  0.0\n",
       " 0.0  0.0  0.0  0.0  0.0  0.0  0.0  0.0     0.0  0.0  0.0  0.0  0.0  0.0  0.0\n",
       " 0.0  0.0  0.0  0.0  0.0  0.0  0.0  0.0     0.0  0.0  0.0  0.0  0.0  0.0  0.0\n",
       " 0.0  0.0  0.0  0.0  0.0  0.0  0.0  0.0     0.0  0.0  0.0  0.0  0.0  0.0  0.0"
      ]
     },
     "execution_count": 28,
     "metadata": {},
     "output_type": "execute_result"
    }
   ],
   "source": [
    "jacobiSpiessDict[1]"
   ]
  },
  {
   "cell_type": "code",
   "execution_count": 29,
   "metadata": {
    "collapsed": true
   },
   "outputs": [],
   "source": [
    "# maximum number of iterations\n",
    "N = 100;  \n",
    "\n",
    "# Armijo rule parameters\n",
    "rho = 2;\n",
    "M = 10;\n",
    "\n",
    "# search direction parameter\n",
    "epsilon_1 = 0;\n",
    "\n",
    "# stop criterion parameter\n",
    "epsilon_2 = 1e-8;"
   ]
  },
  {
   "cell_type": "code",
   "execution_count": null,
   "metadata": {
    "collapsed": false
   },
   "outputs": [],
   "source": [
    "for l = 1:N\n",
    "    \n",
    "    jacobDict[l] = jacobiSpiessDict[l]\n",
    "\n",
    "    demandsVecDictCar[l] = demandsDicToVec(demandsDictCar[l]);\n",
    "    demandsVecDictTruck[l] = demandsDicToVec(demandsDictTruck[l]);\n",
    "\n",
    "    descDirecDict[l] = descDirec(gamma1, gamma2, demandsVecDictCar[l], demandsVecDictCar[0],\n",
    "        demandsVecDictTruck[l], demandsVecDictTruck[0], \n",
    "        tapFlowVecDict[l], tapFlowVecDict[0], jacobDict[l], numODpairs, numLinks);\n",
    "    \n",
    "    searchDirecDict[l] = searchDirec(demandsVecDictCar[l], demandsVecDictTruck[l], descDirecDict[l], epsilon_1);\n",
    "    \n",
    "    thetaMaxDict[l] = thetaMax(demandsVecDictCar[l], demandsVecDictTruck[l], searchDirecDict[l]);\n",
    "    \n",
    "    demandsVecDictCar[l+1] = similar(demandsVecDictCar[0]);\n",
    "    demandsVecDictTruck[l+1] = similar(demandsVecDictTruck[0]);\n",
    "    \n",
    "    demandsVecDictCar[l+1], demandsVecDictTruck[l+1], objFunDict[l+1] = armijo(gamma1, gamma2, objFunDict[l], \n",
    "        demandsVecDictCar[l], demandsVecDictTruck[l], demandsVecDictCar[0], demandsVecDictTruck[0],\n",
    "        coeffs_dict[(deg, c, lam, l)], searchDirecDict[l], thetaMaxDict[l], rho, M);\n",
    "    \n",
    "    demandsDictCar[l+1] = demandsVecToDic(demandsVecDictCar[l+1]);\n",
    "    demandsDictTruck[l+1] = demandsVecToDic(demandsVecDictTruck[l+1]);\n",
    "    \n",
    "    tapFlowDicDict[l+1], tapFlowVecDict[l+1] = tapMSA_Multi(demandsDictCar[l+1], demandsDictTruck[l+1], \n",
    "    coeffs_dict[(deg, c, lam, l)]);\n",
    "        \n",
    "    arcsDict[l+1] = observFlow(\"./benchmark_data/Tiergarten_net.txt\", tapFlowDicDict[l+1]);\n",
    "        \n",
    "    coeffs_dict[(deg, c, lam, l+1)], objInvVIDict[l+1] = train(lam, deg, c, demandsDictCar[l+1], \n",
    "    demandsDictTruck[l+1], arcsDict[0]);\n",
    "        \n",
    "    objFunTmp = objF(gamma1, gamma2, demandsVecDictCar[l+1], demandsVecDictCar[0], \n",
    "        demandsVecDictTruck[l+1], demandsVecDictTruck[0], coeffs_dict[(deg, c, lam, l+1)])\n",
    "    \n",
    "    if objFunTmp > objFunDict[l+1]\n",
    "        coeffs_dict[(deg, c, lam, l+1)] = coeffs_dict[(deg, c, lam, l)]\n",
    "    end\n",
    "    \n",
    "    linkCostDicDict[l+1] = tapFlowVecToLinkCostDict(tapFlowVecDict[l+1], coeffs_dict[(deg, c, lam, l+1)]);\n",
    "        \n",
    "    #######################################\n",
    "    link_length_list_dict[0] = [linkCostDicDict[l+1][\"car\"][\"$(i)\"] for i=0:numLinks-1]\n",
    "    link_length_list_dict[1] = [linkCostDicDict[l+1][\"truck\"][\"$(i)\"] for i=0:numLinks-1]\n",
    "    link_length_list_dict_dict[l+1] = link_length_list_dict\n",
    "    #######################################\n",
    "    \n",
    "    jacobiSpiessDict[l+1] = Compute_Jacobian_Tiergarten_multi_class.jacobianSpiess(numNodes, numLinks, numODpairs, \n",
    "    od_pairs, link_list_js, link_length_list_dict_dict[l+1]);\n",
    "        \n",
    "    demandsDiffDictCar[l+1] = norm(demandsVecDictCar[l+1] - demandsVecDictCar[0]) / norm(demandsVecDictCar[0]);\n",
    "    demandsDiffDictTruck[l+1] = norm(demandsVecDictTruck[l+1] - demandsVecDictTruck[0]) / \n",
    "    norm(demandsVecDictTruck[0]);\n",
    "    \n",
    "    # stopping criterion\n",
    "    if (objFunDict[l] - objFunDict[l+1]) / objFunDict[1] < epsilon_2\n",
    "        break\n",
    "    end\n",
    "        \n",
    "end\n",
    "\n",
    "# normalize objective function value\n",
    "for l = 1:(length(objFunDict))\n",
    "    norObjFunDict[l] = objFunDict[l] / objFunDict[1];\n",
    "end"
   ]
  },
  {
   "cell_type": "code",
   "execution_count": 31,
   "metadata": {
    "collapsed": false
   },
   "outputs": [
    {
     "data": {
      "text/plain": [
       "Dict{Any,Any} with 5 entries:\n",
       "  0 => [18.072,14.656,17.456,12.176,2.984,0.08,0.248,0.976,0.416,0.168  …  5.99…\n",
       "  4 => [2.32703e-315,3.78454e-321,2.75224e-318,3.78454e-321,3.78454e-321,0.0,0.…\n",
       "  2 => [16.996,14.5822,18.0467,11.6433,3.10377,0.0754825,0.256019,1.0113,0.3953…\n",
       "  3 => [17.8088,14.6402,17.6021,12.0482,3.01841,0.0816064,0.250804,0.985313,0.4…\n",
       "  1 => [16.7082,14.5624,18.2035,11.5016,3.13454,0.0740047,0.259109,1.0219,0.391…"
      ]
     },
     "execution_count": 31,
     "metadata": {},
     "output_type": "execute_result"
    }
   ],
   "source": [
    "demandsVecDictCar"
   ]
  },
  {
   "cell_type": "code",
   "execution_count": 32,
   "metadata": {
    "collapsed": false
   },
   "outputs": [
    {
     "data": {
      "text/plain": [
       "Dict{Any,Any} with 5 entries:\n",
       "  0 => [4.518,3.664,4.364,3.044,0.746,0.02,0.062,0.244,0.104,0.042  …  1.498,2.…\n",
       "  4 => [0.0,0.0,0.0,0.0,0.0,0.0,0.0,0.0,0.0,0.0  …  0.0,0.0,0.0,0.0,94.3468,9.7…\n",
       "  2 => [4.24748,3.64605,4.51194,2.91135,0.776457,0.0193449,0.0645305,0.253351,0…\n",
       "  3 => [4.45373,3.66189,4.40155,3.01392,0.756453,0.0221686,0.0641875,0.247502,0…\n",
       "  1 => [4.17706,3.6406,4.55088,2.87539,0.783635,0.0185012,0.0647773,0.255474,0.…"
      ]
     },
     "execution_count": 32,
     "metadata": {},
     "output_type": "execute_result"
    }
   ],
   "source": [
    "demandsVecDictTruck"
   ]
  },
  {
   "cell_type": "code",
   "execution_count": 33,
   "metadata": {
    "collapsed": false
   },
   "outputs": [
    {
     "data": {
      "text/plain": [
       "Dict{Any,Any} with 0 entries"
      ]
     },
     "execution_count": 33,
     "metadata": {},
     "output_type": "execute_result"
    }
   ],
   "source": [
    "norObjFunDict"
   ]
  },
  {
   "cell_type": "code",
   "execution_count": 34,
   "metadata": {
    "collapsed": false
   },
   "outputs": [
    {
     "ename": "LoadError",
     "evalue": "LoadError: ArgumentError: reducing over an empty collection is not allowed\nwhile loading In[34], in expression starting on line 16",
     "output_type": "error",
     "traceback": [
      "LoadError: ArgumentError: reducing over an empty collection is not allowed\nwhile loading In[34], in expression starting on line 16",
      "",
      " in _mapreduce(::Base.#identity, ::Base.#scalarmin, ::Base.LinearFast, ::Array{Any,1}) at ./reduce.jl:148",
      " in minimum(::Array{Any,1}) at ./reduce.jl:317"
     ]
    }
   ],
   "source": [
    "using PyPlot\n",
    "\n",
    "iterNum = 1:(length(norObjFunDict))\n",
    "\n",
    "objFun = map(iterNum->norObjFunDict[iterNum], iterNum)\n",
    "\n",
    "# PyPlot.plot(iterNum, objFun, \"s-g\", label=\"True\")\n",
    "\n",
    "PyPlot.plot(iterNum, objFun, \"s-b\")\n",
    "\n",
    "# legend(loc=\"upper right\",fancybox=\"true\") \n",
    "\n",
    "grid(\"on\")\n",
    "\n",
    "xlim(.8, length(norObjFunDict) + 1 + .2)\n",
    "ylim(minimum(objFun)-.01, maximum(objFun)+.01)\n",
    "\n",
    "font1 = Dict(\"family\"=>\"serif\",\"color\"=>\"k\",\"weight\"=>\"normal\",\"size\"=>14)\n",
    "\n",
    "xlabel(\"Number of iterations\", fontdict=font1)\n",
    "ylabel(\"Normalized objective function value (biLev)\", fontdict=font1)\n",
    "\n",
    "savefig(\"./results/objFun_biLev_Tiergarten_$(gamma1)_$(gamma2).pdf\")"
   ]
  },
  {
   "cell_type": "code",
   "execution_count": 35,
   "metadata": {
    "collapsed": false
   },
   "outputs": [
    {
     "ename": "LoadError",
     "evalue": "LoadError: InterruptException:\nwhile loading In[35], in expression starting on line 9",
     "output_type": "error",
     "traceback": [
      "LoadError: InterruptException:\nwhile loading In[35], in expression starting on line 9",
      "",
      " in #_pycall#62(::Array{Any,1}, ::Function, ::PyCall.PyObject, ::UnitRange{Int64}, ::Vararg{Any,N}) at /home/jzh/.julia/v0.5/PyCall/src/PyCall.jl:556",
      " in _pycall(::PyCall.PyObject, ::UnitRange{Int64}, ::Vararg{Any,N}) at /home/jzh/.julia/v0.5/PyCall/src/PyCall.jl:534",
      " in #pycall#66(::Array{Any,1}, ::Function, ::PyCall.PyObject, ::Type{PyCall.PyAny}, ::UnitRange{Int64}, ::Vararg{Any,N}) at /home/jzh/.julia/v0.5/PyCall/src/PyCall.jl:568",
      " in pycall(::PyCall.PyObject, ::Type{PyCall.PyAny}, ::UnitRange{Int64}, ::Vararg{Any,N}) at /home/jzh/.julia/v0.5/PyCall/src/PyCall.jl:568",
      " in #plot#85(::Array{Any,1}, ::Function, ::UnitRange{Int64}, ::Vararg{Any,N}) at /home/jzh/.julia/v0.5/PyPlot/src/PyPlot.jl:399",
      " in plot(::UnitRange{Int64}, ::Vararg{Any,N}) at /home/jzh/.julia/v0.5/PyPlot/src/PyPlot.jl:396"
     ]
    }
   ],
   "source": [
    "using PyPlot\n",
    "\n",
    "iterNum = 1:(length(demandsDiffDictCar))\n",
    "\n",
    "demandsDiff = map(iterNum->demandsDiffDictCar[iterNum], iterNum)\n",
    "\n",
    "# PyPlot.plot(iterNum, objFun, \"s-g\", label=\"True\")\n",
    "\n",
    "PyPlot.plot(iterNum, demandsDiff, \"o-g\")\n",
    "\n",
    "# legend(loc=\"upper right\",fancybox=\"true\") \n",
    "\n",
    "grid(\"on\")\n",
    "\n",
    "xlim(.8, length(demandsDiffDictCar) + 1 + .2)\n",
    "ylim(minimum(demandsDiff)-.0005, maximum(demandsDiff)+.0005)\n",
    "\n",
    "font1 = Dict(\"family\"=>\"serif\",\"color\"=>\"k\",\"weight\"=>\"normal\",\"size\"=>14)\n",
    "\n",
    "xlabel(\"Number of iterations\", fontdict=font1)\n",
    "ylabel(\"Normalized demand difference\", fontdict=font1)\n",
    "\n",
    "savefig(\"./results/demandsDiff_biLev_Tiergarten_car_$(gamma1)_$(gamma2).pdf\")"
   ]
  },
  {
   "cell_type": "code",
   "execution_count": 36,
   "metadata": {
    "collapsed": false
   },
   "outputs": [
    {
     "ename": "LoadError",
     "evalue": "LoadError: InterruptException:\nwhile loading In[36], in expression starting on line 9",
     "output_type": "error",
     "traceback": [
      "LoadError: InterruptException:\nwhile loading In[36], in expression starting on line 9",
      "",
      " in #_pycall#62(::Array{Any,1}, ::Function, ::PyCall.PyObject, ::UnitRange{Int64}, ::Vararg{Any,N}) at /home/jzh/.julia/v0.5/PyCall/src/PyCall.jl:556",
      " in _pycall(::PyCall.PyObject, ::UnitRange{Int64}, ::Vararg{Any,N}) at /home/jzh/.julia/v0.5/PyCall/src/PyCall.jl:534",
      " in #pycall#66(::Array{Any,1}, ::Function, ::PyCall.PyObject, ::Type{PyCall.PyAny}, ::UnitRange{Int64}, ::Vararg{Any,N}) at /home/jzh/.julia/v0.5/PyCall/src/PyCall.jl:568",
      " in pycall(::PyCall.PyObject, ::Type{PyCall.PyAny}, ::UnitRange{Int64}, ::Vararg{Any,N}) at /home/jzh/.julia/v0.5/PyCall/src/PyCall.jl:568",
      " in #plot#85(::Array{Any,1}, ::Function, ::UnitRange{Int64}, ::Vararg{Any,N}) at /home/jzh/.julia/v0.5/PyPlot/src/PyPlot.jl:399",
      " in plot(::UnitRange{Int64}, ::Vararg{Any,N}) at /home/jzh/.julia/v0.5/PyPlot/src/PyPlot.jl:396"
     ]
    }
   ],
   "source": [
    "using PyPlot\n",
    "\n",
    "iterNum = 1:(length(demandsDiffDictTruck))\n",
    "\n",
    "demandsDiff = map(iterNum->demandsDiffDictTruck[iterNum], iterNum)\n",
    "\n",
    "# PyPlot.plot(iterNum, objFun, \"s-g\", label=\"True\")\n",
    "\n",
    "PyPlot.plot(iterNum, demandsDiff, \"o-g\")\n",
    "\n",
    "# legend(loc=\"upper right\",fancybox=\"true\") \n",
    "\n",
    "grid(\"on\")\n",
    "\n",
    "xlim(.8, length(demandsDiffDictTruck) + 1 + .2)\n",
    "ylim(minimum(demandsDiff)-.0005, maximum(demandsDiff)+.0005)\n",
    "\n",
    "font1 = Dict(\"family\"=>\"serif\",\"color\"=>\"k\",\"weight\"=>\"normal\",\"size\"=>14)\n",
    "\n",
    "xlabel(\"Number of iterations\", fontdict=font1)\n",
    "ylabel(\"Normalized demand difference\", fontdict=font1)\n",
    "\n",
    "savefig(\"./results/demandsDiff_biLev_Tiergarten_truck_$(gamma1)_$(gamma2).pdf\")"
   ]
  },
  {
   "cell_type": "code",
   "execution_count": 37,
   "metadata": {
    "collapsed": false
   },
   "outputs": [
    {
     "ename": "InterruptException",
     "evalue": "InterruptException:",
     "output_type": "error",
     "traceback": [
      "InterruptException:",
      "",
      " in #_pycall#62(::Array{Any,1}, ::Function, ::PyCall.PyObject, ::IOContext{Base64EncodePipe}, ::Vararg{IOContext{Base64EncodePipe},N}) at /home/jzh/.julia/v0.5/PyCall/src/PyCall.jl:556",
      " in (::PyCall.#kw##_pycall)(::Array{Any,1}, ::PyCall.#_pycall, ::PyCall.PyObject, ::IOContext{Base64EncodePipe}, ::Vararg{IOContext{Base64EncodePipe},N}) at ./<missing>:0",
      " in #pycall#66(::Array{Any,1}, ::Function, ::PyCall.PyObject, ::Type{PyCall.PyAny}, ::IOContext{Base64EncodePipe}, ::Vararg{IOContext{Base64EncodePipe},N}) at /home/jzh/.julia/v0.5/PyCall/src/PyCall.jl:568",
      " in (::PyCall.#kw##pycall)(::Array{Any,1}, ::PyCall.#pycall, ::PyCall.PyObject, ::Type{PyCall.PyAny}, ::IOContext{Base64EncodePipe}, ::Vararg{IOContext{Base64EncodePipe},N}) at ./<missing>:0",
      " in #call#67(::Array{Any,1}, ::PyCall.PyObject, ::IOContext{Base64EncodePipe}, ::Vararg{IOContext{Base64EncodePipe},N}) at /home/jzh/.julia/v0.5/PyCall/src/PyCall.jl:571",
      " in (::PyCall.#kw#PyObject)(::Array{Any,1}, ::PyCall.PyObject, ::IOContext{Base64EncodePipe}, ::Vararg{IOContext{Base64EncodePipe},N}) at ./<missing>:0",
      " in show(::IOContext{Base64EncodePipe}, ::MIME{Symbol(\"image/png\")}, ::PyPlot.Figure) at /home/jzh/.julia/v0.5/PyPlot/src/PyPlot.jl:306",
      " in limitstringmime(::MIME{Symbol(\"image/png\")}, ::PyPlot.Figure) at /home/jzh/.julia/v0.5/IJulia/src/execute_request.jl:34",
      " in display_dict(::PyPlot.Figure) at /home/jzh/.julia/v0.5/IJulia/src/execute_request.jl:51",
      " in display(::IJulia.InlineDisplay, ::PyPlot.Figure) at /home/jzh/.julia/v0.5/IJulia/src/inline.jl:31",
      " in display(::PyPlot.Figure) at ./multimedia.jl:143",
      " in display_figs() at /home/jzh/.julia/v0.5/PyPlot/src/PyPlot.jl:342",
      " in execute_request(::ZMQ.Socket, ::IJulia.Msg) at /home/jzh/.julia/v0.5/IJulia/src/execute_request.jl:188",
      " in eventloop(::ZMQ.Socket) at /home/jzh/.julia/v0.5/IJulia/src/eventloop.jl:8",
      " in (::IJulia.##9#15)() at ./task.jl:360"
     ]
    }
   ],
   "source": [
    "using PyPlot\n",
    "\n",
    "iterNum = 1:(length(objInvVIDict))\n",
    "\n",
    "objFun = map(iterNum->objInvVIDict[iterNum], iterNum)\n",
    "\n",
    "# PyPlot.plot(iterNum, objFun, \"s-g\", label=\"True\")\n",
    "\n",
    "PyPlot.plot(iterNum, objFun, \"p-r\")\n",
    "\n",
    "# legend(loc=\"upper right\",fancybox=\"true\") \n",
    "\n",
    "grid(\"on\")\n",
    "\n",
    "xlim(0.8, length(objInvVIDict) + 1 + .2)\n",
    "# ylim(0.9, 2.0)\n",
    "\n",
    "font1 = Dict(\"family\"=>\"serif\",\"color\"=>\"k\",\"weight\"=>\"normal\",\"size\"=>14)\n",
    "\n",
    "xlabel(\"Number of iterations\", fontdict=font1)\n",
    "ylabel(\"Objective function value (invVI)\", fontdict=font1)\n",
    "\n",
    "savefig(\"./results/objFun_invVI_Tiergarten_$(gamma1)_$(gamma2).pdf\")"
   ]
  },
  {
   "cell_type": "code",
   "execution_count": 38,
   "metadata": {
    "collapsed": false
   },
   "outputs": [
    {
     "ename": "InterruptException",
     "evalue": "InterruptException:",
     "output_type": "error",
     "traceback": [
      "InterruptException:",
      "",
      " in #sprint#304(::IOContext{Base.AbstractIOBuffer{Array{UInt8,1}}}, ::Function, ::Int64, ::Function, ::Tuple{Int64,Float64,Float64,Int64}, ::Vararg{Tuple{Int64,Float64,Float64,Int64},N}) at ./strings/io.jl:35",
      " in (::Base.#kw##sprint)(::Array{Any,1}, ::Base.#sprint, ::Int64, ::Function, ::Tuple{Int64,Float64,Float64,Int64}, ::Vararg{Tuple{Int64,Float64,Float64,Int64},N}) at ./<missing>:0",
      " in show(::IOContext{Base.AbstractIOBuffer{Array{UInt8,1}}}, ::MIME{Symbol(\"text/plain\")}, ::Dict{Any,Any}) at ./replutil.jl:64",
      " in limitstringmime(::MIME{Symbol(\"text/plain\")}, ::Dict{Any,Any}) at /home/jzh/.julia/v0.5/IJulia/src/execute_request.jl:31",
      " in display_dict(::Dict{Any,Any}) at /home/jzh/.julia/v0.5/IJulia/src/execute_request.jl:46",
      " in execute_request(::ZMQ.Socket, ::IJulia.Msg) at /home/jzh/.julia/v0.5/IJulia/src/execute_request.jl:200",
      " in eventloop(::ZMQ.Socket) at /home/jzh/.julia/v0.5/IJulia/src/eventloop.jl:8",
      " in (::IJulia.##9#15)() at ./task.jl:360"
     ]
    }
   ],
   "source": [
    "coeffs_dict"
   ]
  },
  {
   "cell_type": "code",
   "execution_count": 39,
   "metadata": {
    "collapsed": false
   },
   "outputs": [
    {
     "ename": "LoadError",
     "evalue": "LoadError: InterruptException:\nwhile loading In[39], in expression starting on line 13",
     "output_type": "error",
     "traceback": [
      "LoadError: InterruptException:\nwhile loading In[39], in expression starting on line 13",
      "",
      " in map(::Function, ::LinSpace{Float64}) at ./abstractarray.jl:1683"
     ]
    }
   ],
   "source": [
    "using PyPlot\n",
    "\n",
    "iterN = 2\n",
    "\n",
    "true_coeffs = [1, 0, 0, 0, 1]\n",
    "# true_coeffs = [1, .2, .5, .8, .15]\n",
    "\n",
    "est_coeffs = coeffs_dict[(deg, c, lam, iterN)]\n",
    "\n",
    "xs = linspace(0, 2, 20)\n",
    "zs_true = map(x->polyEval(true_coeffs, x), xs)\n",
    "\n",
    "zs = map(x->polyEval(est_coeffs, x), xs)\n",
    "\n",
    "PyPlot.plot(xs, zs_true, \"^-g\", label=\"ground truth\")\n",
    "PyPlot.plot(xs, zs, \"<-r\", label=\"estimation\")\n",
    "\n",
    "legend(loc=\"upper left\",fancybox=\"true\") \n",
    "# PyPlot.plot(xs, ys, \"--b\")\n",
    "grid(\"on\")\n",
    "xlim(-0.1, 2.1);\n",
    "ylim(0.9, 3.5);\n",
    "\n",
    "font1 = Dict(\"family\"=>\"serif\",\"color\"=>\"k\",\"weight\"=>\"normal\",\"size\"=>14)\n",
    "xlabel(\"Scaled Flow\", fontdict=font1)\n",
    "ylabel(\"Scaled Cost\", fontdict=font1)\n",
    "\n",
    "savefig(\"./results/fitting_Tiergarten_iter_$(iterN)_multi_class_$(gamma1)_$(gamma2).pdf\")"
   ]
  },
  {
   "cell_type": "code",
   "execution_count": 40,
   "metadata": {
    "collapsed": false
   },
   "outputs": [
    {
     "ename": "LoadError",
     "evalue": "LoadError: InterruptException:\nwhile loading In[40], in expression starting on line 28",
     "output_type": "error",
     "traceback": [
      "LoadError: InterruptException:\nwhile loading In[40], in expression starting on line 28",
      "",
      " in #_pycall#62(::Array{Any,1}, ::Function, ::PyCall.PyObject, ::String, ::Vararg{String,N}) at /home/jzh/.julia/v0.5/PyCall/src/PyCall.jl:556",
      " in _pycall(::PyCall.PyObject, ::String, ::Vararg{String,N}) at /home/jzh/.julia/v0.5/PyCall/src/PyCall.jl:534",
      " in #pycall#66(::Array{Any,1}, ::Function, ::PyCall.PyObject, ::Type{PyCall.PyAny}, ::String, ::Vararg{String,N}) at /home/jzh/.julia/v0.5/PyCall/src/PyCall.jl:568",
      " in pycall(::PyCall.PyObject, ::Type{PyCall.PyAny}, ::String, ::Vararg{String,N}) at /home/jzh/.julia/v0.5/PyCall/src/PyCall.jl:568",
      " in #savefig#97(::Array{Any,1}, ::Function, ::String, ::Vararg{String,N}) at /home/jzh/.julia/v0.5/PyPlot/src/PyPlot.jl:399",
      " in savefig(::String, ::Vararg{String,N}) at /home/jzh/.julia/v0.5/PyPlot/src/PyPlot.jl:396"
     ]
    }
   ],
   "source": [
    "using PyPlot\n",
    "\n",
    "iterN = 3\n",
    "\n",
    "true_coeffs = [1, 0, 0, 0, 1]\n",
    "# true_coeffs = [1, .2, .5, .8, .15]\n",
    "\n",
    "est_coeffs = coeffs_dict[(deg, c, lam, iterN)]\n",
    "\n",
    "xs = linspace(0, 2, 20)\n",
    "zs_true = map(x->polyEval(true_coeffs, x), xs)\n",
    "\n",
    "zs = map(x->polyEval(est_coeffs, x), xs)\n",
    "\n",
    "PyPlot.plot(xs, zs_true, \"^-g\", label=\"ground truth\")\n",
    "PyPlot.plot(xs, zs, \"<-r\", label=\"estimation\")\n",
    "\n",
    "legend(loc=\"upper left\",fancybox=\"true\") \n",
    "# PyPlot.plot(xs, ys, \"--b\")\n",
    "grid(\"on\")\n",
    "xlim(-0.1, 2.1);\n",
    "ylim(0.9, 3.5);\n",
    "\n",
    "font1 = Dict(\"family\"=>\"serif\",\"color\"=>\"k\",\"weight\"=>\"normal\",\"size\"=>14)\n",
    "xlabel(\"Scaled Flow\", fontdict=font1)\n",
    "ylabel(\"Scaled Cost\", fontdict=font1)\n",
    "\n",
    "savefig(\"./results/fitting_Tiergarten_iter_$(iterN)_multi_class_$(gamma1)_$(gamma2).pdf\")"
   ]
  },
  {
   "cell_type": "code",
   "execution_count": 41,
   "metadata": {
    "collapsed": false
   },
   "outputs": [
    {
     "ename": "LoadError",
     "evalue": "LoadError: InterruptException:\nwhile loading In[41], in expression starting on line 15",
     "output_type": "error",
     "traceback": [
      "LoadError: InterruptException:\nwhile loading In[41], in expression starting on line 15",
      "",
      " in #_pycall#62(::Array{Any,1}, ::Function, ::PyCall.PyObject, ::LinSpace{Float64}, ::Vararg{Any,N}) at /home/jzh/.julia/v0.5/PyCall/src/PyCall.jl:556",
      " in (::PyCall.#kw##_pycall)(::Array{Any,1}, ::PyCall.#_pycall, ::PyCall.PyObject, ::LinSpace{Float64}, ::Vararg{Any,N}) at ./<missing>:0",
      " in #pycall#66(::Array{Any,1}, ::Function, ::PyCall.PyObject, ::Type{PyCall.PyAny}, ::LinSpace{Float64}, ::Vararg{Any,N}) at /home/jzh/.julia/v0.5/PyCall/src/PyCall.jl:568",
      " in (::PyCall.#kw##pycall)(::Array{Any,1}, ::PyCall.#pycall, ::PyCall.PyObject, ::Type{PyCall.PyAny}, ::LinSpace{Float64}, ::Vararg{Any,N}) at ./<missing>:0",
      " in #plot#85(::Array{Any,1}, ::Function, ::LinSpace{Float64}, ::Vararg{Any,N}) at /home/jzh/.julia/v0.5/PyPlot/src/PyPlot.jl:399",
      " in (::PyPlot.#kw##plot)(::Array{Any,1}, ::PyPlot.#plot, ::LinSpace{Float64}, ::Vararg{Any,N}) at ./<missing>:0"
     ]
    }
   ],
   "source": [
    "using PyPlot\n",
    "\n",
    "iterN = length(coeffs_dict)\n",
    "\n",
    "true_coeffs = [1, 0, 0, 0, 1]\n",
    "# true_coeffs = [1, .2, .5, .8, .15]\n",
    "\n",
    "est_coeffs = coeffs_dict[(deg, c, lam, iterN)]\n",
    "\n",
    "xs = linspace(0, 2, 20)\n",
    "zs_true = map(x->polyEval(true_coeffs, x), xs)\n",
    "\n",
    "zs = map(x->polyEval(est_coeffs, x), xs)\n",
    "\n",
    "PyPlot.plot(xs, zs_true, \"^-g\", label=\"ground truth\")\n",
    "PyPlot.plot(xs, zs, \"<-r\", label=\"estimation\")\n",
    "\n",
    "legend(loc=\"upper left\",fancybox=\"true\") \n",
    "# PyPlot.plot(xs, ys, \"--b\")\n",
    "grid(\"on\")\n",
    "xlim(-0.1, 2.1);\n",
    "ylim(0.9, 3.5);\n",
    "\n",
    "font1 = Dict(\"family\"=>\"serif\",\"color\"=>\"k\",\"weight\"=>\"normal\",\"size\"=>14)\n",
    "xlabel(\"Scaled Flow\", fontdict=font1)\n",
    "ylabel(\"Scaled Cost\", fontdict=font1)\n",
    "\n",
    "savefig(\"./results/fitting_Tiergarten_iter_$(iterN)_multi_class_$(gamma1)_$(gamma2).pdf\")"
   ]
  },
  {
   "cell_type": "code",
   "execution_count": 42,
   "metadata": {
    "collapsed": false
   },
   "outputs": [],
   "source": [
    "outfile = open(\"./results/norObjFunDict_$(gamma1)_$(gamma2).json\", \"w\")\n",
    "\n",
    "JSON.print(outfile, norObjFunDict)\n",
    "\n",
    "close(outfile)"
   ]
  },
  {
   "cell_type": "code",
   "execution_count": 43,
   "metadata": {
    "collapsed": false
   },
   "outputs": [],
   "source": [
    "outfile = open(\"./results/demandsDiffDictCar_$(gamma1)_$(gamma2).json\", \"w\")\n",
    "\n",
    "JSON.print(outfile, demandsDiffDictCar)\n",
    "\n",
    "close(outfile)"
   ]
  },
  {
   "cell_type": "code",
   "execution_count": 44,
   "metadata": {
    "collapsed": true
   },
   "outputs": [],
   "source": [
    "outfile = open(\"./results/demandsDiffDictTruck_$(gamma1)_$(gamma2).json\", \"w\")\n",
    "\n",
    "JSON.print(outfile, demandsDiffDictTruck)\n",
    "\n",
    "close(outfile)"
   ]
  },
  {
   "cell_type": "code",
   "execution_count": 45,
   "metadata": {
    "collapsed": false
   },
   "outputs": [],
   "source": [
    "outfile = open(\"./results/objInvVIDict_$(gamma1)_$(gamma2).json\", \"w\")\n",
    "\n",
    "JSON.print(outfile, objInvVIDict)\n",
    "\n",
    "close(outfile)"
   ]
  },
  {
   "cell_type": "code",
   "execution_count": 46,
   "metadata": {
    "collapsed": false
   },
   "outputs": [
    {
     "ename": "LoadError",
     "evalue": "LoadError: InterruptException:\nwhile loading In[46], in expression starting on line 3",
     "output_type": "error",
     "traceback": [
      "LoadError: InterruptException:\nwhile loading In[46], in expression starting on line 3",
      "",
      " in _writejson(::IOStream, ::JSON.State{false}, ::Dict{Any,Any}) at /home/jzh/.julia/v0.5/JSON/src/JSON.jl:191",
      " in print(::IOStream, ::Dict{Any,Any}, ::Int64) at /home/jzh/.julia/v0.5/JSON/src/JSON.jl:264 (repeats 2 times)"
     ]
    }
   ],
   "source": [
    "outfile = open(\"./results/coeffs_dict_$(gamma1)_$(gamma2).json\", \"w\")\n",
    "\n",
    "JSON.print(outfile, coeffs_dict)\n",
    "\n",
    "close(outfile)"
   ]
  },
  {
   "cell_type": "code",
   "execution_count": 47,
   "metadata": {
    "collapsed": false
   },
   "outputs": [],
   "source": [
    "outfile = open(\"./results/demandsVecDictCar_$(gamma1)_$(gamma2).json\", \"w\")\n",
    "\n",
    "JSON.print(outfile, demandsVecDictCar)\n",
    "\n",
    "close(outfile)"
   ]
  },
  {
   "cell_type": "code",
   "execution_count": 48,
   "metadata": {
    "collapsed": true
   },
   "outputs": [],
   "source": [
    "outfile = open(\"./results/demandsVecDictTruck_$(gamma1)_$(gamma2).json\", \"w\")\n",
    "\n",
    "JSON.print(outfile, demandsVecDictTruck)\n",
    "\n",
    "close(outfile)"
   ]
  },
  {
   "cell_type": "code",
   "execution_count": 49,
   "metadata": {
    "collapsed": false
   },
   "outputs": [],
   "source": [
    "outfile = open(\"./results/demandsDictCar_$(gamma1)_$(gamma2).json\", \"w\")\n",
    "\n",
    "JSON.print(outfile, demandsDictCar)\n",
    "\n",
    "close(outfile)"
   ]
  },
  {
   "cell_type": "code",
   "execution_count": 50,
   "metadata": {
    "collapsed": true
   },
   "outputs": [],
   "source": [
    "outfile = open(\"./results/demandsDictTruck_$(gamma1)_$(gamma2).json\", \"w\")\n",
    "\n",
    "JSON.print(outfile, demandsDictTruck)\n",
    "\n",
    "close(outfile)"
   ]
  },
  {
   "cell_type": "code",
   "execution_count": 51,
   "metadata": {
    "collapsed": false
   },
   "outputs": [],
   "source": [
    "outfile = open(\"./results/tapFlowDicDict_$(gamma1)_$(gamma2).json\", \"w\")\n",
    "\n",
    "JSON.print(outfile, tapFlowDicDict)\n",
    "\n",
    "close(outfile)"
   ]
  },
  {
   "cell_type": "code",
   "execution_count": 52,
   "metadata": {
    "collapsed": false
   },
   "outputs": [],
   "source": [
    "outfile = open(\"./results/tapFlowVecDict_$(gamma1)_$(gamma2).json\", \"w\")\n",
    "\n",
    "JSON.print(outfile, tapFlowVecDict)\n",
    "\n",
    "close(outfile)"
   ]
  }
 ],
 "metadata": {
  "kernelspec": {
   "display_name": "Julia 0.5.0",
   "language": "julia",
   "name": "julia-0.5"
  },
  "language_info": {
   "file_extension": ".jl",
   "mimetype": "application/julia",
   "name": "julia",
   "version": "0.5.0"
  }
 },
 "nbformat": 4,
 "nbformat_minor": 0
}
